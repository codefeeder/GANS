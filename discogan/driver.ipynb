{
 "cells": [
  {
   "cell_type": "code",
   "execution_count": 4,
   "metadata": {},
   "outputs": [],
   "source": [
    "import os\n",
    "import argparse\n",
    "from itertools import chain\n",
    "import torch\n",
    "import torch.nn as nn\n",
    "import torch.nn.functional as F\n",
    "import torch.optim as optim\n",
    "from torch.autograd import Variable\n",
    "import scipy\n",
    "from progressbar import ETA, Bar, Percentage, ProgressBar\n",
    "import cv2\n",
    "import numpy as np\n",
    "import pandas as pd\n",
    "from scipy import resize\n",
    "import scipy.io\n",
    "import ipdb"
   ]
  },
  {
   "cell_type": "markdown",
   "metadata": {},
   "source": [
    "## Dataset Manipulation"
   ]
  },
  {
   "cell_type": "code",
   "execution_count": 12,
   "metadata": {},
   "outputs": [],
   "source": [
    "dataset_path = '../datasets/'\n",
    "handbag_path = os.path.join(dataset_path, 'edges2handbags')\n",
    "shoe_path = os.path.join(dataset_path, 'edges2shoes')\n",
    "\n",
    "def shuffle_data(da, db):\n",
    "    a_in = list(range(len(da)))\n",
    "    np.random.shuffle(a_in)\n",
    "    \n",
    "    b_in = list(range(len(db)))\n",
    "    np.random.shuffle(b_in)\n",
    "    \n",
    "    shuffled_da = np.array(da)[np.array(a_in)]\n",
    "    shuffled_db = np.array(db)[np.array(b_in)]\n",
    "    \n",
    "    return shuffled_da, shuffled_db\n",
    "\n",
    "def read_images(filenames, domain=None, image_size=64):\n",
    "#     print(filenames)\n",
    "    images = []\n",
    "    for fn in filenames:\n",
    "#         print(fn)\n",
    "        image = cv2.imread(fn)\n",
    "        if image is None:\n",
    "            continue\n",
    "        if domain == 'A':\n",
    "            kernel = np.ones((3,3), np.uint8)\n",
    "            image = image[:, :256, :]\n",
    "            image = 255. - image\n",
    "            image = cv2.dilate(image, kernel, iterations=1)\n",
    "            image = 255. - image\n",
    "        elif domain == 'B':\n",
    "            image = image[:, 256:, :]\n",
    "            \n",
    "        image = cv2.resize(image, (image_size, image_size))\n",
    "        image = image.astype(np.float32) / 255.\n",
    "        image = image.transpose(2,0,1)\n",
    "        images.append(image)\n",
    "        \n",
    "    images = np.stack(images)\n",
    "    return images\n",
    "\n",
    "def read_attr(attr_path, image_dir):\n",
    "    f = open(attr_path)\n",
    "    lines = f.readlines()\n",
    "    lines = map(lambda line: line.strip(), lines)\n",
    "    columns = ['image_path'] + lines[1].split()\n",
    "    lines = lines[2:]\n",
    "    \n",
    "    items = map(lambda line: line.split(), lines)\n",
    "    df = pd.DataFrame(item, columns=columns)\n",
    "    df['image_path'] = df['image_path'].map( lambda x: os.path.join( image_dir, x ) )\n",
    "\n",
    "    return df\n",
    "\n",
    "def get_edge2photo_files(item='edges2handbags', test=False):\n",
    "    if item == 'edges2handbags':\n",
    "        item_path = handbag_path\n",
    "    elif item == 'edges2shoes':\n",
    "        item_path = shoe_path\n",
    "\n",
    "    if test == True:\n",
    "        item_path = os.path.join( item_path, 'val' )\n",
    "    else:\n",
    "        item_path = os.path.join( item_path, 'train' )\n",
    "\n",
    "    image_paths = map(lambda x: os.path.join( item_path, x ), os.listdir( item_path ))\n",
    "    \n",
    "#     print (image_paths)\n",
    "    image_paths = list(image_paths)\n",
    "#     print (image_paths)\n",
    "    if test == True:\n",
    "        return [image_paths, image_paths]\n",
    "    else:\n",
    "        n_images = len(image_paths)\n",
    "        return [image_paths[:int(n_images/2)], image_paths[int(n_images/2):]]"
   ]
  },
  {
   "cell_type": "markdown",
   "metadata": {},
   "source": [
    "## Model"
   ]
  },
  {
   "cell_type": "code",
   "execution_count": 16,
   "metadata": {},
   "outputs": [],
   "source": [
    "kernel_sizes = [4,3,3]\n",
    "strides = [2,2,1]\n",
    "paddings = [0,0,1]\n",
    "\n",
    "latent_dim = 300\n",
    "\n",
    "\n",
    "class Discriminator(nn.Module):\n",
    "    def __init__(self,):\n",
    "        super(Discriminator, self).__init__()\n",
    "        self.conv1 = nn.Conv2d(3, 64, 4, 2, 1, bias=False)\n",
    "        self.relu1 = nn.LeakyReLU(0.2, inplace=True)\n",
    "        \n",
    "        self.conv2 = nn.Conv2d(64, 2*64, 4, 2, 1, bias=False)\n",
    "        self.bn2 = nn.BatchNorm2d(64*2)\n",
    "        self.relu2 = nn.LeakyReLU(0.2, inplace=True)\n",
    "        \n",
    "        self.conv3 = nn.Conv2d(64*2, 64*4, 4, 2, 1, bias=False)\n",
    "        self.bn3 = nn.BatchNorm2d(64*4)\n",
    "        self.relu3 = nn.LeakyReLU(0.2, inplace=True)\n",
    "        \n",
    "        self.conv4 = nn.Conv2d(64*4, 64*8, 4, 2, 1, bias=False)\n",
    "        self.bn4 = nn.BatchNorm2d(64*8)\n",
    "        self.relu4 = nn.LeakyReLU(0.2, inplace=True)\n",
    "        \n",
    "        self.conv5 = nn.Conv2d(64*8, 1, 4, 1, 0, bias=False)\n",
    "        \n",
    "    def forward(self, input):\n",
    "        conv1 = self.conv1(input)\n",
    "        relu1 = self.relu1(conv1)\n",
    "        \n",
    "        conv2 = self.conv2(relu1)\n",
    "        bn2 = self.bn2(conv2)\n",
    "        relu2 = self.relu2(bn2)\n",
    "        \n",
    "        conv3 = self.conv3(relu2)\n",
    "        bn3 = self.bn3(conv3)\n",
    "        relu3 = self.relu3(bn3)\n",
    "        \n",
    "        conv4 = self.conv4(relu3)\n",
    "        bn4 = self.bn4(conv4)\n",
    "        relu4 = self.relu4(bn4)\n",
    "        \n",
    "        conv5 = self.conv5(relu4)\n",
    "        \n",
    "        return torch.sigmoid(conv5), [relu2,relu3, relu4]\n",
    "    \n",
    "class Generator(nn.Module):\n",
    "    def __init__(self, extra_layers=False):\n",
    "        super(Generator, self).__init__()\n",
    "        if extra_layers == True:\n",
    "            self.main = nn.Sequential(\n",
    "                nn.Conv2d(3, 64, 4, 2, 1, bias=False),\n",
    "                nn.LeakyReLU(0.2, inplace=True),\n",
    "                nn.Conv2d(64, 64 * 2, 4, 2, 1, bias=False),\n",
    "                nn.BatchNorm2d(64 * 2),\n",
    "                nn.LeakyReLU(0.2, inplace=True),\n",
    "                nn.Conv2d(64 * 2, 64 * 4, 4, 2, 1, bias=False),\n",
    "                nn.BatchNorm2d(64 * 4),\n",
    "                nn.LeakyReLU(0.2, inplace=True),\n",
    "                nn.Conv2d(64 * 4, 64 * 8, 4, 2, 1, bias=False),\n",
    "                nn.BatchNorm2d(64 * 8),\n",
    "                nn.LeakyReLU(0.2, inplace=True),\n",
    "                nn.Conv2d(64 * 8, 100, 4, 1, 0, bias=False),\n",
    "                nn.BatchNorm2d(100),\n",
    "                nn.LeakyReLU(0.2, inplace=True),\n",
    "                \n",
    "                nn.ConvTranspose2d(100, 64 * 8, 4, 1, 0, bias=False),\n",
    "                nn.BatchNorm2d(64 * 8),\n",
    "                nn.ReLU(True),\n",
    "                nn.ConvTranspose2d(64 * 8, 64 * 4, 4, 2, 1, bias=False),\n",
    "                nn.BatchNorm2d(64 * 4),\n",
    "                nn.ReLU(True),\n",
    "                nn.ConvTranspose2d(64 * 4, 64 * 2, 4, 2, 1, bias=False),\n",
    "                nn.BatchNorm2d(64 * 2),\n",
    "                nn.ReLU(True),\n",
    "                nn.ConvTranspose2d(64 * 2,     64, 4, 2, 1, bias=False),\n",
    "                nn.BatchNorm2d(64),\n",
    "                nn.ReLU(True),\n",
    "                nn.ConvTranspose2d(    64,      3, 4, 2, 1, bias=False),\n",
    "                nn.Sigmoid()\n",
    "            )\n",
    "            \n",
    "        if extra_layers == False:\n",
    "            self.main = nn.Sequential(\n",
    "                nn.Conv2d(3, 64, 4, 2, 1, bias=False),\n",
    "                nn.LeakyReLU(0.2, inplace=True),\n",
    "                nn.Conv2d(64, 64 * 2, 4, 2, 1, bias=False),\n",
    "                nn.BatchNorm2d(64 * 2),\n",
    "                nn.LeakyReLU(0.2, inplace=True),\n",
    "                nn.Conv2d(64 * 2, 64 * 4, 4, 2, 1, bias=False),\n",
    "                nn.BatchNorm2d(64 * 4),\n",
    "                nn.LeakyReLU(0.2, inplace=True),\n",
    "                nn.Conv2d(64 * 4, 64 * 8, 4, 2, 1, bias=False),\n",
    "                nn.BatchNorm2d(64 * 8),\n",
    "                nn.LeakyReLU(0.2, inplace=True),\n",
    "\n",
    "                nn.ConvTranspose2d(64 * 8, 64 * 4, 4, 2, 1, bias=False),\n",
    "                nn.BatchNorm2d(64 * 4),\n",
    "                nn.ReLU(True),\n",
    "                nn.ConvTranspose2d(64 * 4, 64 * 2, 4, 2, 1, bias=False),\n",
    "                nn.BatchNorm2d(64 * 2),\n",
    "                nn.ReLU(True),\n",
    "                nn.ConvTranspose2d(64 * 2,     64, 4, 2, 1, bias=False),\n",
    "                nn.BatchNorm2d(64),\n",
    "                nn.ReLU(True),\n",
    "                nn.ConvTranspose2d(    64,      3, 4, 2, 1, bias=False),\n",
    "                nn.Sigmoid()\n",
    "            )\n",
    "        \n",
    "    def forward(self, input):\n",
    "        return self.main(input)\n",
    "        \n",
    "#         super(GeneratorCNN, self).__init__()\n",
    "#         self.num_gpu = num_gpu\n",
    "#         self.layers = []\n",
    "\n",
    "#         prev_dim = conv_dims[0]\n",
    "#         self.layers.append(nn.Conv2d(input_channel, prev_dim, 4, 2, 1, bias=False))\n",
    "#         self.layers.append(nn.LeakyReLU(0.2, inplace=True))\n",
    "\n",
    "#         for out_dim in conv_dims[1:]:\n",
    "#             self.layers.append(nn.Conv2d(prev_dim, out_dim, 4, 2, 1, bias=False))\n",
    "#             self.layers.append(nn.BatchNorm2d(out_dim))\n",
    "#             self.layers.append(nn.LeakyReLU(0.2, inplace=True))\n",
    "#             prev_dim = out_dim\n",
    "\n",
    "#         for out_dim in deconv_dims:\n",
    "#             self.layers.append(nn.ConvTranspose2d(prev_dim, out_dim, 4, 2, 1, bias=False))\n",
    "#             self.layers.append(nn.BatchNorm2d(out_dim))\n",
    "#             self.layers.append(nn.ReLU(True))\n",
    "#             prev_dim = out_dim\n",
    "\n",
    "#         self.layers.append(nn.ConvTranspose2d(prev_dim, output_channel, 4, 2, 1, bias=False))\n",
    "#         self.layers.append(nn.Tanh())\n",
    "\n",
    "#         self.layer_module = nn.ModuleList(self.layers)\n",
    "\n",
    "#     def main(self, x):\n",
    "#         out = x\n",
    "#         for layer in self.layer_module:\n",
    "#             out = layer(out)\n",
    "#         return out\n",
    "\n",
    "#     def forward(self, x):\n",
    "#         return self.main(x)\n"
   ]
  },
  {
   "cell_type": "markdown",
   "metadata": {},
   "source": [
    "## Helper"
   ]
  },
  {
   "cell_type": "code",
   "execution_count": 7,
   "metadata": {},
   "outputs": [],
   "source": [
    "def as_np(data):\n",
    "    return data.cpu().data.numpy()\n",
    "\n",
    "def get_data():\n",
    "    data_A_1, data_A_2 = get_edge2photo_files( item='edges2handbags', test=False )\n",
    "    test_A_1, test_A_2 = get_edge2photo_files( item='edges2handbags', test=True )\n",
    "\n",
    "    data_A = np.hstack( [data_A_1, data_A_2] )\n",
    "    test_A = np.hstack( [test_A_1, test_A_2] )\n",
    "\n",
    "    data_B_1, data_B_2 = get_edge2photo_files( item='edges2shoes', test=False )\n",
    "    test_B_1, test_B_2 = get_edge2photo_files( item='edges2shoes', test=True )\n",
    "\n",
    "    data_B = np.hstack( [data_B_1, data_B_2] )\n",
    "    test_B = np.hstack( [test_B_1, test_B_2] )\n",
    "\n",
    "    \n",
    "    return data_A, data_B, test_A, test_B\n",
    "\n",
    "def get_fm_loss(real_feats, fake_feats, criterion):\n",
    "    losses = 0\n",
    "    for real_feat, fake_feat in zip(real_feats, fake_feats):\n",
    "        l2 = (real_feat.mean(0) - fake_feat.mean(0)) * (real_feat.mean(0) - fake_feat.mean(0))\n",
    "        loss = criterion( l2, Variable( torch.ones( l2.size() ) ).cuda() )\n",
    "        losses += loss\n",
    "\n",
    "    return losses\n",
    "\n",
    "def get_gan_loss(dis_real, dis_fake, criterion, cuda):\n",
    "    labels_dis_real = Variable(torch.ones( [dis_real.size()[0], 1] ))\n",
    "    labels_dis_fake = Variable(torch.zeros([dis_fake.size()[0], 1] ))\n",
    "    labels_gen = Variable(torch.ones([dis_fake.size()[0], 1]))\n",
    "\n",
    "    if cuda:\n",
    "        labels_dis_real = labels_dis_real.cuda()\n",
    "        labels_dis_fake = labels_dis_fake.cuda()\n",
    "        labels_gen = labels_gen.cuda()\n",
    "\n",
    "    dis_loss = criterion( dis_real, labels_dis_real ) * 0.5 + criterion( dis_fake, labels_dis_fake ) * 0.5\n",
    "    gen_loss = criterion( dis_fake, labels_gen )\n",
    "\n",
    "    return dis_loss, gen_loss\n",
    "    "
   ]
  },
  {
   "cell_type": "markdown",
   "metadata": {},
   "source": [
    "## Driver"
   ]
  },
  {
   "cell_type": "code",
   "execution_count": null,
   "metadata": {},
   "outputs": [
    {
     "name": "stderr",
     "output_type": "stream",
     "text": [
      "/opt/anaconda3/envs/tengpu/lib/python3.6/site-packages/ipykernel_launcher.py:15: UserWarning: volatile was removed and now has no effect. Use `with torch.no_grad():` instead.\n",
      "  from ipykernel import kernelapp as app\n",
      "/opt/anaconda3/envs/tengpu/lib/python3.6/site-packages/ipykernel_launcher.py:16: UserWarning: volatile was removed and now has no effect. Use `with torch.no_grad():` instead.\n",
      "  app.launch_new_instance()\n",
      "epoch #0|  0%|                                                  |ETA:  --:--:--\r"
     ]
    },
    {
     "name": "stdout",
     "output_type": "stream",
     "text": [
      "---------------------\n",
      "GEN Loss: 0.68547785 0.60867894\n",
      "Feature Matching Loss: 0.18831362 0.1691957\n",
      "RECON Loss: 0.17518532 0.20073049\n",
      "DIS Loss: 0.6554173 0.7332457\n"
     ]
    },
    {
     "name": "stderr",
     "output_type": "stream",
     "text": [
      "/opt/anaconda3/envs/tengpu/lib/python3.6/site-packages/ipykernel_launcher.py:160: DeprecationWarning: `imsave` is deprecated!\n",
      "`imsave` is deprecated in SciPy 1.0.0, and will be removed in 1.2.0.\n",
      "Use ``imageio.imwrite`` instead.\n",
      "/opt/anaconda3/envs/tengpu/lib/python3.6/site-packages/ipykernel_launcher.py:161: DeprecationWarning: `imsave` is deprecated!\n",
      "`imsave` is deprecated in SciPy 1.0.0, and will be removed in 1.2.0.\n",
      "Use ``imageio.imwrite`` instead.\n",
      "/opt/anaconda3/envs/tengpu/lib/python3.6/site-packages/ipykernel_launcher.py:162: DeprecationWarning: `imsave` is deprecated!\n",
      "`imsave` is deprecated in SciPy 1.0.0, and will be removed in 1.2.0.\n",
      "Use ``imageio.imwrite`` instead.\n",
      "/opt/anaconda3/envs/tengpu/lib/python3.6/site-packages/ipykernel_launcher.py:163: DeprecationWarning: `imsave` is deprecated!\n",
      "`imsave` is deprecated in SciPy 1.0.0, and will be removed in 1.2.0.\n",
      "Use ``imageio.imwrite`` instead.\n",
      "/opt/anaconda3/envs/tengpu/lib/python3.6/site-packages/ipykernel_launcher.py:164: DeprecationWarning: `imsave` is deprecated!\n",
      "`imsave` is deprecated in SciPy 1.0.0, and will be removed in 1.2.0.\n",
      "Use ``imageio.imwrite`` instead.\n",
      "/opt/anaconda3/envs/tengpu/lib/python3.6/site-packages/ipykernel_launcher.py:165: DeprecationWarning: `imsave` is deprecated!\n",
      "`imsave` is deprecated in SciPy 1.0.0, and will be removed in 1.2.0.\n",
      "Use ``imageio.imwrite`` instead.\n",
      "epoch #0|  6%|###                                                |ETA:  0:05:13\r"
     ]
    },
    {
     "name": "stdout",
     "output_type": "stream",
     "text": [
      "---------------------\n",
      "GEN Loss: 4.1272526 1.2591856\n",
      "Feature Matching Loss: 0.030108843 0.028684862\n",
      "RECON Loss: 0.12977698 0.14205839\n",
      "DIS Loss: 1.1856214 0.62592477\n"
     ]
    },
    {
     "name": "stderr",
     "output_type": "stream",
     "text": [
      "epoch #0| 12%|######                                             |ETA:  0:04:37\r"
     ]
    },
    {
     "name": "stdout",
     "output_type": "stream",
     "text": [
      "---------------------\n",
      "GEN Loss: 1.3293315 1.0535858\n",
      "Feature Matching Loss: 0.03770527 0.018339686\n",
      "RECON Loss: 0.11474195 0.11863279\n",
      "DIS Loss: 0.43238777 0.5302632\n"
     ]
    },
    {
     "name": "stderr",
     "output_type": "stream",
     "text": [
      "epoch #0| 19%|#########                                          |ETA:  0:04:13\r"
     ]
    },
    {
     "name": "stdout",
     "output_type": "stream",
     "text": [
      "---------------------\n",
      "GEN Loss: 1.0875235 0.6309233\n",
      "Feature Matching Loss: 0.058151275 0.016450115\n",
      "RECON Loss: 0.101059504 0.10966145\n",
      "DIS Loss: 0.70708567 0.6976043\n"
     ]
    },
    {
     "name": "stderr",
     "output_type": "stream",
     "text": [
      "epoch #0| 25%|#############                                      |ETA:  0:03:51\r"
     ]
    },
    {
     "name": "stdout",
     "output_type": "stream",
     "text": [
      "---------------------\n",
      "GEN Loss: 0.73046714 0.8475652\n",
      "Feature Matching Loss: 0.022587603 0.017341949\n",
      "RECON Loss: 0.098169394 0.09916159\n",
      "DIS Loss: 0.63817406 0.6578713\n"
     ]
    },
    {
     "name": "stderr",
     "output_type": "stream",
     "text": [
      "epoch #0| 32%|################                                   |ETA:  0:03:30\r"
     ]
    },
    {
     "name": "stdout",
     "output_type": "stream",
     "text": [
      "---------------------\n",
      "GEN Loss: 0.95547426 0.8066535\n",
      "Feature Matching Loss: 0.024264596 0.02570099\n",
      "RECON Loss: 0.09205592 0.081481405\n",
      "DIS Loss: 0.56119335 0.62004614\n"
     ]
    },
    {
     "name": "stderr",
     "output_type": "stream",
     "text": [
      "epoch #0| 38%|###################                                |ETA:  0:03:09\r"
     ]
    },
    {
     "name": "stdout",
     "output_type": "stream",
     "text": [
      "---------------------\n",
      "GEN Loss: 0.6888657 0.7258808\n",
      "Feature Matching Loss: 0.019400354 0.015928388\n",
      "RECON Loss: 0.07405335 0.07314756\n",
      "DIS Loss: 0.7487527 0.6382594\n"
     ]
    },
    {
     "name": "stderr",
     "output_type": "stream",
     "text": [
      "epoch #0| 44%|######################                             |ETA:  0:02:50\r"
     ]
    },
    {
     "name": "stdout",
     "output_type": "stream",
     "text": [
      "---------------------\n",
      "GEN Loss: 0.7309978 0.77673054\n",
      "Feature Matching Loss: 0.01983041 0.015057886\n",
      "RECON Loss: 0.071671896 0.07164467\n",
      "DIS Loss: 0.698506 0.68816\n"
     ]
    },
    {
     "name": "stderr",
     "output_type": "stream",
     "text": [
      "epoch #0| 51%|##########################                         |ETA:  0:02:29\r"
     ]
    },
    {
     "name": "stdout",
     "output_type": "stream",
     "text": [
      "---------------------\n",
      "GEN Loss: 1.0223814 0.76990104\n",
      "Feature Matching Loss: 0.015271812 0.0115162805\n",
      "RECON Loss: 0.052718952 0.05890131\n",
      "DIS Loss: 0.6529713 0.64338565\n"
     ]
    },
    {
     "name": "stderr",
     "output_type": "stream",
     "text": [
      "epoch #0| 57%|#############################                      |ETA:  0:02:09\r"
     ]
    },
    {
     "name": "stdout",
     "output_type": "stream",
     "text": [
      "---------------------\n",
      "GEN Loss: 0.78122103 0.6131463\n",
      "Feature Matching Loss: 0.016590815 0.015328785\n",
      "RECON Loss: 0.049375266 0.052392263\n",
      "DIS Loss: 0.67552537 0.6958432\n"
     ]
    },
    {
     "name": "stderr",
     "output_type": "stream",
     "text": [
      "epoch #0| 64%|################################                   |ETA:  0:01:50\r"
     ]
    },
    {
     "name": "stdout",
     "output_type": "stream",
     "text": [
      "---------------------\n",
      "GEN Loss: 0.55404973 0.6927454\n",
      "Feature Matching Loss: 0.014531509 0.010540123\n",
      "RECON Loss: 0.050562393 0.04296398\n",
      "DIS Loss: 0.70892036 0.65565765\n"
     ]
    },
    {
     "name": "stderr",
     "output_type": "stream",
     "text": [
      "epoch #0| 70%|####################################               |ETA:  0:01:30\r"
     ]
    },
    {
     "name": "stdout",
     "output_type": "stream",
     "text": [
      "---------------------\n",
      "GEN Loss: 0.7842766 0.8419962\n",
      "Feature Matching Loss: 0.020036548 0.017680377\n",
      "RECON Loss: 0.046612907 0.04444756\n",
      "DIS Loss: 0.6325343 0.6355398\n"
     ]
    },
    {
     "name": "stderr",
     "output_type": "stream",
     "text": [
      "epoch #0| 77%|#######################################            |ETA:  0:01:10\r"
     ]
    },
    {
     "name": "stdout",
     "output_type": "stream",
     "text": [
      "---------------------\n",
      "GEN Loss: 0.6843084 0.7110275\n",
      "Feature Matching Loss: 0.019196916 0.011046364\n",
      "RECON Loss: 0.04687825 0.037832294\n",
      "DIS Loss: 0.68068755 0.6702081\n"
     ]
    },
    {
     "name": "stderr",
     "output_type": "stream",
     "text": [
      "epoch #0| 83%|##########################################         |ETA:  0:00:50\r"
     ]
    },
    {
     "name": "stdout",
     "output_type": "stream",
     "text": [
      "---------------------\n",
      "GEN Loss: 0.65197456 0.7558241\n",
      "Feature Matching Loss: 0.014038231 0.011481497\n",
      "RECON Loss: 0.044494603 0.032671843\n",
      "DIS Loss: 0.67570245 0.6729382\n"
     ]
    },
    {
     "name": "stderr",
     "output_type": "stream",
     "text": [
      "epoch #0| 89%|#############################################      |ETA:  0:00:30\r"
     ]
    },
    {
     "name": "stdout",
     "output_type": "stream",
     "text": [
      "---------------------\n",
      "GEN Loss: 1.021141 1.2966542\n",
      "Feature Matching Loss: 0.010239486 0.009888768\n",
      "RECON Loss: 0.037060827 0.033283237\n",
      "DIS Loss: 0.6778307 0.72792995\n"
     ]
    },
    {
     "name": "stderr",
     "output_type": "stream",
     "text": [
      "epoch #0| 96%|#################################################  |ETA:  0:00:10\r"
     ]
    },
    {
     "name": "stdout",
     "output_type": "stream",
     "text": [
      "---------------------\n",
      "GEN Loss: 0.9207012 0.79058284\n",
      "Feature Matching Loss: 0.014035935 0.009802846\n",
      "RECON Loss: 0.037604246 0.030354554\n",
      "DIS Loss: 0.6956023 0.69195044\n"
     ]
    },
    {
     "name": "stderr",
     "output_type": "stream",
     "text": [
      "epoch #1|  2%|#                                                  |ETA:  0:04:56\r"
     ]
    },
    {
     "name": "stdout",
     "output_type": "stream",
     "text": [
      "---------------------\n",
      "GEN Loss: 0.79754674 0.72683674\n",
      "Feature Matching Loss: 0.0105694495 0.011036062\n",
      "RECON Loss: 0.04119001 0.028343424\n",
      "DIS Loss: 0.6418468 0.65600586\n"
     ]
    },
    {
     "name": "stderr",
     "output_type": "stream",
     "text": [
      "epoch #1|  9%|####                                               |ETA:  0:04:37\r"
     ]
    },
    {
     "name": "stdout",
     "output_type": "stream",
     "text": [
      "---------------------\n",
      "GEN Loss: 0.50694954 0.97194546\n",
      "Feature Matching Loss: 0.013718668 0.01083927\n",
      "RECON Loss: 0.03687837 0.025452795\n",
      "DIS Loss: 0.6833135 0.63504523\n"
     ]
    },
    {
     "name": "stderr",
     "output_type": "stream",
     "text": [
      "epoch #1| 15%|########                                           |ETA:  0:04:19\r"
     ]
    },
    {
     "name": "stdout",
     "output_type": "stream",
     "text": [
      "---------------------\n",
      "GEN Loss: 0.68973076 0.6527171\n",
      "Feature Matching Loss: 0.011171132 0.0102125155\n",
      "RECON Loss: 0.036857855 0.022602886\n",
      "DIS Loss: 0.65599096 0.6779797\n"
     ]
    },
    {
     "name": "stderr",
     "output_type": "stream",
     "text": [
      "epoch #1| 21%|###########                                        |ETA:  0:03:59\r"
     ]
    },
    {
     "name": "stdout",
     "output_type": "stream",
     "text": [
      "---------------------\n",
      "GEN Loss: 0.7391305 0.6566332\n",
      "Feature Matching Loss: 0.0094020255 0.009632401\n",
      "RECON Loss: 0.033690035 0.02400223\n",
      "DIS Loss: 0.6630106 0.63648796\n"
     ]
    },
    {
     "name": "stderr",
     "output_type": "stream",
     "text": [
      "epoch #1| 28%|##############                                     |ETA:  0:03:39\r"
     ]
    },
    {
     "name": "stdout",
     "output_type": "stream",
     "text": [
      "---------------------\n",
      "GEN Loss: 0.842045 0.7379118\n",
      "Feature Matching Loss: 0.014649598 0.012428779\n",
      "RECON Loss: 0.032571334 0.023599224\n",
      "DIS Loss: 0.6219414 0.62981856\n"
     ]
    },
    {
     "name": "stderr",
     "output_type": "stream",
     "text": [
      "epoch #1| 34%|#################                                  |ETA:  0:03:23\r"
     ]
    },
    {
     "name": "stdout",
     "output_type": "stream",
     "text": [
      "---------------------\n",
      "GEN Loss: 0.86736757 0.79562175\n",
      "Feature Matching Loss: 0.011975262 0.010903184\n",
      "RECON Loss: 0.033808097 0.023686223\n",
      "DIS Loss: 0.6845435 0.6875155\n"
     ]
    },
    {
     "name": "stderr",
     "output_type": "stream",
     "text": [
      "epoch #1| 41%|#####################                              |ETA:  0:03:02\r"
     ]
    },
    {
     "name": "stdout",
     "output_type": "stream",
     "text": [
      "---------------------\n",
      "GEN Loss: 1.0063477 0.62675333\n",
      "Feature Matching Loss: 0.022259185 0.014724644\n",
      "RECON Loss: 0.032277424 0.022623302\n",
      "DIS Loss: 0.6986266 0.65556777\n"
     ]
    },
    {
     "name": "stderr",
     "output_type": "stream",
     "text": [
      "epoch #1| 47%|########################                           |ETA:  0:02:41\r"
     ]
    },
    {
     "name": "stdout",
     "output_type": "stream",
     "text": [
      "---------------------\n",
      "GEN Loss: 0.5613716 0.93390894\n",
      "Feature Matching Loss: 0.011061484 0.01049661\n",
      "RECON Loss: 0.029944262 0.019317081\n",
      "DIS Loss: 0.6612041 0.65025723\n"
     ]
    },
    {
     "name": "stderr",
     "output_type": "stream",
     "text": [
      "epoch #1| 54%|###########################                        |ETA:  0:02:22\r"
     ]
    },
    {
     "name": "stdout",
     "output_type": "stream",
     "text": [
      "---------------------\n",
      "GEN Loss: 0.63317204 0.6654873\n",
      "Feature Matching Loss: 0.010974574 0.01002777\n",
      "RECON Loss: 0.02918373 0.020368248\n",
      "DIS Loss: 0.68420124 0.6766685\n"
     ]
    },
    {
     "name": "stderr",
     "output_type": "stream",
     "text": [
      "epoch #1| 60%|##############################                     |ETA:  0:02:01\r"
     ]
    },
    {
     "name": "stdout",
     "output_type": "stream",
     "text": [
      "---------------------\n",
      "GEN Loss: 0.9292027 0.83778596\n",
      "Feature Matching Loss: 0.011892008 0.014530608\n",
      "RECON Loss: 0.025154583 0.021795733\n",
      "DIS Loss: 0.677942 0.6659905\n"
     ]
    },
    {
     "name": "stderr",
     "output_type": "stream",
     "text": [
      "epoch #1| 67%|##################################                 |ETA:  0:01:41\r"
     ]
    },
    {
     "name": "stdout",
     "output_type": "stream",
     "text": [
      "---------------------\n",
      "GEN Loss: 0.7899778 0.92364895\n",
      "Feature Matching Loss: 0.011065454 0.009960342\n",
      "RECON Loss: 0.029401526 0.020143343\n",
      "DIS Loss: 0.63741577 0.62499326\n"
     ]
    },
    {
     "name": "stderr",
     "output_type": "stream",
     "text": [
      "epoch #1| 73%|#####################################              |ETA:  0:01:22\r"
     ]
    },
    {
     "name": "stdout",
     "output_type": "stream",
     "text": [
      "---------------------\n",
      "GEN Loss: 0.4059873 0.79518825\n",
      "Feature Matching Loss: 0.009964058 0.012413321\n",
      "RECON Loss: 0.027281186 0.02011701\n",
      "DIS Loss: 0.7384753 0.6499796\n"
     ]
    },
    {
     "name": "stderr",
     "output_type": "stream",
     "text": [
      "epoch #1| 79%|########################################           |ETA:  0:01:02\r"
     ]
    },
    {
     "name": "stdout",
     "output_type": "stream",
     "text": [
      "---------------------\n",
      "GEN Loss: 0.5104636 0.8229882\n",
      "Feature Matching Loss: 0.009979147 0.012390993\n",
      "RECON Loss: 0.026135683 0.020296222\n",
      "DIS Loss: 0.6899755 0.6447127\n"
     ]
    },
    {
     "name": "stderr",
     "output_type": "stream",
     "text": [
      "epoch #1| 86%|############################################       |ETA:  0:00:41\r"
     ]
    },
    {
     "name": "stdout",
     "output_type": "stream",
     "text": [
      "---------------------\n",
      "GEN Loss: 0.39298362 0.963777\n",
      "Feature Matching Loss: 0.009977569 0.009477533\n",
      "RECON Loss: 0.027244525 0.018660957\n",
      "DIS Loss: 0.7215783 0.6816163\n"
     ]
    },
    {
     "name": "stderr",
     "output_type": "stream",
     "text": [
      "epoch #1| 92%|###############################################    |ETA:  0:00:22\r"
     ]
    },
    {
     "name": "stdout",
     "output_type": "stream",
     "text": [
      "---------------------\n",
      "GEN Loss: 0.47606865 0.7083489\n",
      "Feature Matching Loss: 0.014818396 0.017493824\n",
      "RECON Loss: 0.028455881 0.01975925\n",
      "DIS Loss: 0.70273036 0.6747631\n"
     ]
    },
    {
     "name": "stderr",
     "output_type": "stream",
     "text": [
      "epoch #1| 99%|################################################## |ETA:  0:00:02\r"
     ]
    },
    {
     "name": "stdout",
     "output_type": "stream",
     "text": [
      "---------------------\n",
      "GEN Loss: 0.79741985 0.70272887\n",
      "Feature Matching Loss: 0.010283515 0.012561602\n",
      "RECON Loss: 0.024691368 0.020081226\n",
      "DIS Loss: 0.6795513 0.6788235\n"
     ]
    },
    {
     "name": "stderr",
     "output_type": "stream",
     "text": [
      "epoch #2|  5%|##                                                 |ETA:  0:04:49\r"
     ]
    },
    {
     "name": "stdout",
     "output_type": "stream",
     "text": [
      "---------------------\n",
      "GEN Loss: 0.71877277 0.7046375\n",
      "Feature Matching Loss: 0.014621658 0.017599806\n",
      "RECON Loss: 0.025618592 0.018262347\n",
      "DIS Loss: 0.6226617 0.6285562\n"
     ]
    },
    {
     "name": "stderr",
     "output_type": "stream",
     "text": [
      "epoch #2| 11%|######                                             |ETA:  0:04:29\r"
     ]
    },
    {
     "name": "stdout",
     "output_type": "stream",
     "text": [
      "---------------------\n",
      "GEN Loss: 0.78225917 0.6200214\n",
      "Feature Matching Loss: 0.011259519 0.01146167\n",
      "RECON Loss: 0.027224923 0.018610941\n",
      "DIS Loss: 0.65909517 0.66618824\n"
     ]
    },
    {
     "name": "stderr",
     "output_type": "stream",
     "text": [
      "epoch #2| 18%|#########                                          |ETA:  0:04:10\r"
     ]
    },
    {
     "name": "stdout",
     "output_type": "stream",
     "text": [
      "---------------------\n",
      "GEN Loss: 0.802968 0.77159804\n",
      "Feature Matching Loss: 0.012104134 0.012365671\n",
      "RECON Loss: 0.026055774 0.017659532\n",
      "DIS Loss: 0.67770064 0.6441737\n"
     ]
    },
    {
     "name": "stderr",
     "output_type": "stream",
     "text": [
      "epoch #2| 25%|############                                       |ETA:  0:03:50\r"
     ]
    },
    {
     "name": "stdout",
     "output_type": "stream",
     "text": [
      "---------------------\n",
      "GEN Loss: 0.7178216 0.7817009\n",
      "Feature Matching Loss: 0.013264453 0.012903585\n",
      "RECON Loss: 0.029476335 0.017369596\n",
      "DIS Loss: 0.6121317 0.58897483\n"
     ]
    },
    {
     "name": "stderr",
     "output_type": "stream",
     "text": [
      "epoch #2| 31%|###############                                    |ETA:  0:03:31\r"
     ]
    },
    {
     "name": "stdout",
     "output_type": "stream",
     "text": [
      "---------------------\n",
      "GEN Loss: 0.668928 0.9661516\n",
      "Feature Matching Loss: 0.012765608 0.013854084\n",
      "RECON Loss: 0.027201278 0.018274745\n",
      "DIS Loss: 0.68703485 0.70143664\n"
     ]
    },
    {
     "name": "stderr",
     "output_type": "stream",
     "text": [
      "epoch #2| 37%|###################                                |ETA:  0:03:11\r"
     ]
    },
    {
     "name": "stdout",
     "output_type": "stream",
     "text": [
      "---------------------\n",
      "GEN Loss: 0.5612813 1.1842079\n",
      "Feature Matching Loss: 0.012766235 0.012628352\n",
      "RECON Loss: 0.029524216 0.018101022\n",
      "DIS Loss: 0.6418111 0.68968487\n"
     ]
    },
    {
     "name": "stderr",
     "output_type": "stream",
     "text": [
      "epoch #2| 44%|######################                             |ETA:  0:02:51\r"
     ]
    },
    {
     "name": "stdout",
     "output_type": "stream",
     "text": [
      "---------------------\n",
      "GEN Loss: 0.92144716 0.44131762\n",
      "Feature Matching Loss: 0.011128304 0.018216465\n",
      "RECON Loss: 0.027353538 0.026945114\n",
      "DIS Loss: 0.6492441 0.6927886\n"
     ]
    },
    {
     "name": "stderr",
     "output_type": "stream",
     "text": [
      "epoch #2| 50%|#########################                          |ETA:  0:02:32\r"
     ]
    },
    {
     "name": "stdout",
     "output_type": "stream",
     "text": [
      "---------------------\n",
      "GEN Loss: 0.66165143 0.6034201\n",
      "Feature Matching Loss: 0.012334092 0.010437639\n",
      "RECON Loss: 0.02908659 0.020223506\n",
      "DIS Loss: 0.6725105 0.65753853\n"
     ]
    },
    {
     "name": "stderr",
     "output_type": "stream",
     "text": [
      "epoch #2| 57%|#############################                      |ETA:  0:02:12\r"
     ]
    },
    {
     "name": "stdout",
     "output_type": "stream",
     "text": [
      "---------------------\n",
      "GEN Loss: 0.7519982 0.82076097\n",
      "Feature Matching Loss: 0.011745007 0.011619486\n",
      "RECON Loss: 0.029627485 0.019152878\n",
      "DIS Loss: 0.63567865 0.6249739\n"
     ]
    },
    {
     "name": "stderr",
     "output_type": "stream",
     "text": [
      "epoch #2| 63%|################################                   |ETA:  0:01:53\r"
     ]
    },
    {
     "name": "stdout",
     "output_type": "stream",
     "text": [
      "---------------------\n",
      "GEN Loss: 0.7582865 0.8363255\n",
      "Feature Matching Loss: 0.017448558 0.0146251\n",
      "RECON Loss: 0.026317924 0.018764528\n",
      "DIS Loss: 0.6428963 0.6066539\n"
     ]
    },
    {
     "name": "stderr",
     "output_type": "stream",
     "text": [
      "epoch #2| 69%|###################################                |ETA:  0:01:33\r"
     ]
    },
    {
     "name": "stdout",
     "output_type": "stream",
     "text": [
      "---------------------\n",
      "GEN Loss: 0.45983633 0.7614031\n",
      "Feature Matching Loss: 0.010450864 0.010409236\n",
      "RECON Loss: 0.024874097 0.01743289\n",
      "DIS Loss: 0.7093203 0.6574724\n"
     ]
    },
    {
     "name": "stderr",
     "output_type": "stream",
     "text": [
      "epoch #2| 76%|#######################################            |ETA:  0:01:12\r"
     ]
    },
    {
     "name": "stdout",
     "output_type": "stream",
     "text": [
      "---------------------\n",
      "GEN Loss: 0.5820608 1.1802361\n",
      "Feature Matching Loss: 0.012342713 0.00963364\n",
      "RECON Loss: 0.023093158 0.018109253\n",
      "DIS Loss: 0.70438665 0.7044728\n"
     ]
    },
    {
     "name": "stderr",
     "output_type": "stream",
     "text": [
      "epoch #2| 82%|##########################################         |ETA:  0:00:53\r"
     ]
    },
    {
     "name": "stdout",
     "output_type": "stream",
     "text": [
      "---------------------\n",
      "GEN Loss: 1.2137101 1.1382726\n",
      "Feature Matching Loss: 0.010244049 0.011793265\n",
      "RECON Loss: 0.02209798 0.01666277\n",
      "DIS Loss: 0.64389586 0.61213124\n"
     ]
    },
    {
     "name": "stderr",
     "output_type": "stream",
     "text": [
      "epoch #2| 89%|#############################################      |ETA:  0:00:33\r"
     ]
    },
    {
     "name": "stdout",
     "output_type": "stream",
     "text": [
      "---------------------\n",
      "GEN Loss: 0.62970483 0.37158492\n",
      "Feature Matching Loss: 0.017910283 0.016141078\n",
      "RECON Loss: 0.024636239 0.018514266\n",
      "DIS Loss: 0.6331725 0.7429645\n"
     ]
    },
    {
     "name": "stderr",
     "output_type": "stream",
     "text": [
      "epoch #2| 95%|################################################   |ETA:  0:00:13\r"
     ]
    },
    {
     "name": "stdout",
     "output_type": "stream",
     "text": [
      "---------------------\n",
      "GEN Loss: 1.0057642 0.7232313\n",
      "Feature Matching Loss: 0.011147756 0.010611086\n",
      "RECON Loss: 0.02438314 0.01780466\n",
      "DIS Loss: 0.6632083 0.6510689\n"
     ]
    },
    {
     "name": "stderr",
     "output_type": "stream",
     "text": [
      "epoch #3|  1%|                                                   |ETA:  0:05:00\r"
     ]
    },
    {
     "name": "stdout",
     "output_type": "stream",
     "text": [
      "---------------------\n",
      "GEN Loss: 0.7804061 0.78054315\n",
      "Feature Matching Loss: 0.01613205 0.013014304\n",
      "RECON Loss: 0.025464484 0.015073887\n",
      "DIS Loss: 0.6554922 0.59104764\n"
     ]
    },
    {
     "name": "stderr",
     "output_type": "stream",
     "text": [
      "epoch #3|  8%|####                                               |ETA:  0:04:41\r"
     ]
    },
    {
     "name": "stdout",
     "output_type": "stream",
     "text": [
      "---------------------\n",
      "GEN Loss: 0.764585 1.1306692\n",
      "Feature Matching Loss: 0.010540437 0.012862358\n",
      "RECON Loss: 0.028891832 0.017497966\n",
      "DIS Loss: 0.6491244 0.7677181\n"
     ]
    },
    {
     "name": "stderr",
     "output_type": "stream",
     "text": [
      "epoch #3| 15%|#######                                            |ETA:  0:04:21\r"
     ]
    },
    {
     "name": "stdout",
     "output_type": "stream",
     "text": [
      "---------------------\n",
      "GEN Loss: 0.7951094 0.5535746\n",
      "Feature Matching Loss: 0.013144713 0.01130627\n",
      "RECON Loss: 0.024423769 0.016165858\n",
      "DIS Loss: 0.63858575 0.66081953\n"
     ]
    },
    {
     "name": "stderr",
     "output_type": "stream",
     "text": [
      "epoch #3| 21%|##########                                         |ETA:  0:04:02\r"
     ]
    },
    {
     "name": "stdout",
     "output_type": "stream",
     "text": [
      "---------------------\n",
      "GEN Loss: 0.6601402 0.80089927\n",
      "Feature Matching Loss: 0.012725966 0.008414577\n",
      "RECON Loss: 0.025890091 0.019404972\n",
      "DIS Loss: 0.6058008 0.61580366\n"
     ]
    },
    {
     "name": "stderr",
     "output_type": "stream",
     "text": [
      "epoch #3| 27%|##############                                     |ETA:  0:03:42\r"
     ]
    },
    {
     "name": "stdout",
     "output_type": "stream",
     "text": [
      "---------------------\n",
      "GEN Loss: 0.43623105 0.5848795\n",
      "Feature Matching Loss: 0.01110779 0.010697838\n",
      "RECON Loss: 0.022778051 0.0148370685\n",
      "DIS Loss: 0.7093121 0.6683315\n"
     ]
    },
    {
     "name": "stderr",
     "output_type": "stream",
     "text": [
      "epoch #3| 34%|#################                                  |ETA:  0:03:22\r"
     ]
    },
    {
     "name": "stdout",
     "output_type": "stream",
     "text": [
      "---------------------\n",
      "GEN Loss: 0.7691171 0.7511524\n",
      "Feature Matching Loss: 0.010507373 0.011524648\n",
      "RECON Loss: 0.02242366 0.016659494\n",
      "DIS Loss: 0.639763 0.65225416\n"
     ]
    },
    {
     "name": "stderr",
     "output_type": "stream",
     "text": [
      "epoch #3| 40%|####################                               |ETA:  0:03:03\r"
     ]
    },
    {
     "name": "stdout",
     "output_type": "stream",
     "text": [
      "---------------------\n",
      "GEN Loss: 0.8420073 0.84490126\n",
      "Feature Matching Loss: 0.014671471 0.00939642\n",
      "RECON Loss: 0.022984939 0.014500153\n",
      "DIS Loss: 0.61806667 0.6049653\n"
     ]
    },
    {
     "name": "stderr",
     "output_type": "stream",
     "text": [
      "epoch #3| 47%|#######################                            |ETA:  0:02:43\r"
     ]
    },
    {
     "name": "stdout",
     "output_type": "stream",
     "text": [
      "---------------------\n",
      "GEN Loss: 0.53823936 0.78592944\n",
      "Feature Matching Loss: 0.010645374 0.01313068\n",
      "RECON Loss: 0.02522091 0.017063556\n",
      "DIS Loss: 0.6746934 0.6284573\n"
     ]
    },
    {
     "name": "stderr",
     "output_type": "stream",
     "text": [
      "epoch #3| 53%|###########################                        |ETA:  0:02:22\r"
     ]
    },
    {
     "name": "stdout",
     "output_type": "stream",
     "text": [
      "---------------------\n",
      "GEN Loss: 0.8974024 0.7378948\n",
      "Feature Matching Loss: 0.010231642 0.010474443\n",
      "RECON Loss: 0.023774281 0.015361925\n",
      "DIS Loss: 0.67640877 0.6165727\n"
     ]
    },
    {
     "name": "stderr",
     "output_type": "stream",
     "text": [
      "epoch #3| 59%|##############################                     |ETA:  0:02:03\r"
     ]
    },
    {
     "name": "stdout",
     "output_type": "stream",
     "text": [
      "---------------------\n",
      "GEN Loss: 0.8271487 0.8623901\n",
      "Feature Matching Loss: 0.011607754 0.012333302\n",
      "RECON Loss: 0.021613196 0.017339215\n",
      "DIS Loss: 0.6085179 0.6408348\n"
     ]
    },
    {
     "name": "stderr",
     "output_type": "stream",
     "text": [
      "epoch #3| 66%|#################################                  |ETA:  0:01:43\r"
     ]
    },
    {
     "name": "stdout",
     "output_type": "stream",
     "text": [
      "---------------------\n",
      "GEN Loss: 0.8863682 0.54908854\n",
      "Feature Matching Loss: 0.011765018 0.010991341\n",
      "RECON Loss: 0.02235479 0.018401055\n",
      "DIS Loss: 0.6459116 0.67880684\n"
     ]
    },
    {
     "name": "stderr",
     "output_type": "stream",
     "text": [
      "epoch #3| 72%|#####################################              |ETA:  0:01:23\r"
     ]
    },
    {
     "name": "stdout",
     "output_type": "stream",
     "text": [
      "---------------------\n",
      "GEN Loss: 0.5536871 0.89609444\n",
      "Feature Matching Loss: 0.0115434285 0.009899474\n",
      "RECON Loss: 0.022505388 0.017852893\n",
      "DIS Loss: 0.6670995 0.67871726\n"
     ]
    },
    {
     "name": "stderr",
     "output_type": "stream",
     "text": [
      "epoch #3| 79%|########################################           |ETA:  0:01:04\r"
     ]
    },
    {
     "name": "stdout",
     "output_type": "stream",
     "text": [
      "---------------------\n",
      "GEN Loss: 0.6924105 0.89161265\n",
      "Feature Matching Loss: 0.012940392 0.010216435\n",
      "RECON Loss: 0.022491053 0.017483206\n",
      "DIS Loss: 0.62068176 0.5832133\n"
     ]
    },
    {
     "name": "stderr",
     "output_type": "stream",
     "text": [
      "epoch #3| 85%|###########################################        |ETA:  0:00:44\r"
     ]
    },
    {
     "name": "stdout",
     "output_type": "stream",
     "text": [
      "---------------------\n",
      "GEN Loss: 0.44063693 0.72058725\n",
      "Feature Matching Loss: 0.014526985 0.014626476\n",
      "RECON Loss: 0.02123657 0.019134589\n",
      "DIS Loss: 0.7204098 0.68882585\n"
     ]
    },
    {
     "name": "stderr",
     "output_type": "stream",
     "text": [
      "epoch #3| 91%|##############################################     |ETA:  0:00:25\r"
     ]
    },
    {
     "name": "stdout",
     "output_type": "stream",
     "text": [
      "---------------------\n",
      "GEN Loss: 0.7417469 1.026642\n",
      "Feature Matching Loss: 0.008595026 0.009722003\n",
      "RECON Loss: 0.023120029 0.015656574\n",
      "DIS Loss: 0.6246525 0.6617545\n"
     ]
    },
    {
     "name": "stderr",
     "output_type": "stream",
     "text": [
      "epoch #3| 98%|################################################## |ETA:  0:00:04\r"
     ]
    },
    {
     "name": "stdout",
     "output_type": "stream",
     "text": [
      "---------------------\n",
      "GEN Loss: 1.0180964 0.5042784\n",
      "Feature Matching Loss: 0.011455866 0.014779838\n",
      "RECON Loss: 0.023980051 0.01651053\n",
      "DIS Loss: 0.61056244 0.6468557\n"
     ]
    },
    {
     "name": "stderr",
     "output_type": "stream",
     "text": [
      "epoch #4|  5%|##                                                 |ETA:  0:04:50\r"
     ]
    },
    {
     "name": "stdout",
     "output_type": "stream",
     "text": [
      "---------------------\n",
      "GEN Loss: 1.0299301 0.91943437\n",
      "Feature Matching Loss: 0.013096184 0.013382398\n",
      "RECON Loss: 0.024991503 0.018889524\n",
      "DIS Loss: 0.709057 0.657879\n"
     ]
    },
    {
     "name": "stderr",
     "output_type": "stream",
     "text": [
      "epoch #4| 11%|#####                                              |ETA:  0:04:31\r"
     ]
    },
    {
     "name": "stdout",
     "output_type": "stream",
     "text": [
      "---------------------\n",
      "GEN Loss: 0.6880269 0.80110955\n",
      "Feature Matching Loss: 0.010996932 0.010755272\n",
      "RECON Loss: 0.021506652 0.015814872\n",
      "DIS Loss: 0.6618997 0.6601029\n"
     ]
    },
    {
     "name": "stderr",
     "output_type": "stream",
     "text": [
      "epoch #4| 17%|#########                                          |ETA:  0:04:12\r"
     ]
    },
    {
     "name": "stdout",
     "output_type": "stream",
     "text": [
      "---------------------\n",
      "GEN Loss: 0.89285815 0.7672312\n",
      "Feature Matching Loss: 0.015301254 0.013867531\n",
      "RECON Loss: 0.024302041 0.01602108\n",
      "DIS Loss: 0.6059109 0.5881108\n"
     ]
    },
    {
     "name": "stderr",
     "output_type": "stream",
     "text": [
      "epoch #4| 24%|############                                       |ETA:  0:03:52\r"
     ]
    },
    {
     "name": "stdout",
     "output_type": "stream",
     "text": [
      "---------------------\n",
      "GEN Loss: 0.8412211 0.7933824\n",
      "Feature Matching Loss: 0.013598735 0.016913678\n",
      "RECON Loss: 0.023517555 0.022175198\n",
      "DIS Loss: 0.7096007 0.6822512\n"
     ]
    },
    {
     "name": "stderr",
     "output_type": "stream",
     "text": [
      "epoch #4| 30%|###############                                    |ETA:  0:03:33\r"
     ]
    },
    {
     "name": "stdout",
     "output_type": "stream",
     "text": [
      "---------------------\n",
      "GEN Loss: 0.77939713 0.6294657\n",
      "Feature Matching Loss: 0.009845938 0.010196484\n",
      "RECON Loss: 0.024360364 0.016650574\n",
      "DIS Loss: 0.6579457 0.6191068\n"
     ]
    },
    {
     "name": "stderr",
     "output_type": "stream",
     "text": [
      "epoch #4| 37%|##################                                 |ETA:  0:03:13\r"
     ]
    },
    {
     "name": "stdout",
     "output_type": "stream",
     "text": [
      "---------------------\n",
      "GEN Loss: 0.9276048 0.7072855\n",
      "Feature Matching Loss: 0.012289608 0.01362518\n",
      "RECON Loss: 0.025789596 0.015146789\n",
      "DIS Loss: 0.6186114 0.634599\n"
     ]
    },
    {
     "name": "stderr",
     "output_type": "stream",
     "text": [
      "epoch #4| 43%|######################                             |ETA:  0:02:53\r"
     ]
    },
    {
     "name": "stdout",
     "output_type": "stream",
     "text": [
      "---------------------\n",
      "GEN Loss: 0.6837648 0.78185725\n",
      "Feature Matching Loss: 0.010743225 0.010658385\n",
      "RECON Loss: 0.020313306 0.017505318\n",
      "DIS Loss: 0.65864015 0.6460583\n"
     ]
    },
    {
     "name": "stderr",
     "output_type": "stream",
     "text": [
      "epoch #4| 49%|#########################                          |ETA:  0:02:34\r"
     ]
    },
    {
     "name": "stdout",
     "output_type": "stream",
     "text": [
      "---------------------\n",
      "GEN Loss: 0.8938566 0.90242875\n",
      "Feature Matching Loss: 0.012202362 0.010485547\n",
      "RECON Loss: 0.025317078 0.016573463\n",
      "DIS Loss: 0.6216377 0.63295156\n"
     ]
    },
    {
     "name": "stderr",
     "output_type": "stream",
     "text": [
      "epoch #4| 56%|############################                       |ETA:  0:02:14\r"
     ]
    },
    {
     "name": "stdout",
     "output_type": "stream",
     "text": [
      "---------------------\n",
      "GEN Loss: 0.675259 0.73714596\n",
      "Feature Matching Loss: 0.013059957 0.011149963\n",
      "RECON Loss: 0.023927948 0.015068603\n",
      "DIS Loss: 0.57961816 0.62608147\n"
     ]
    },
    {
     "name": "stderr",
     "output_type": "stream",
     "text": [
      "epoch #4| 62%|################################                   |ETA:  0:01:54\r"
     ]
    },
    {
     "name": "stdout",
     "output_type": "stream",
     "text": [
      "---------------------\n",
      "GEN Loss: 0.5991937 0.8934771\n",
      "Feature Matching Loss: 0.017191732 0.012833299\n",
      "RECON Loss: 0.024706058 0.016629927\n",
      "DIS Loss: 0.67007226 0.64340913\n"
     ]
    },
    {
     "name": "stderr",
     "output_type": "stream",
     "text": [
      "epoch #4| 69%|###################################                |ETA:  0:01:35\r"
     ]
    },
    {
     "name": "stdout",
     "output_type": "stream",
     "text": [
      "---------------------\n",
      "GEN Loss: 1.0847242 0.763922\n",
      "Feature Matching Loss: 0.013103124 0.011936218\n",
      "RECON Loss: 0.025049299 0.016495084\n",
      "DIS Loss: 0.6577786 0.62453914\n"
     ]
    },
    {
     "name": "stderr",
     "output_type": "stream",
     "text": [
      "epoch #4| 75%|######################################             |ETA:  0:01:15\r"
     ]
    },
    {
     "name": "stdout",
     "output_type": "stream",
     "text": [
      "---------------------\n",
      "GEN Loss: 1.4193531 0.8681105\n",
      "Feature Matching Loss: 0.012964239 0.012264399\n",
      "RECON Loss: 0.02262324 0.015895301\n",
      "DIS Loss: 0.6464268 0.6298187\n"
     ]
    },
    {
     "name": "stderr",
     "output_type": "stream",
     "text": [
      "epoch #4| 82%|#########################################          |ETA:  0:00:54\r"
     ]
    },
    {
     "name": "stdout",
     "output_type": "stream",
     "text": [
      "---------------------\n",
      "GEN Loss: 0.6631252 0.68161273\n",
      "Feature Matching Loss: 0.013915166 0.011700839\n",
      "RECON Loss: 0.023173785 0.01598849\n",
      "DIS Loss: 0.6804709 0.667137\n"
     ]
    },
    {
     "name": "stderr",
     "output_type": "stream",
     "text": [
      "epoch #4| 88%|#############################################      |ETA:  0:00:35\r"
     ]
    },
    {
     "name": "stdout",
     "output_type": "stream",
     "text": [
      "---------------------\n",
      "GEN Loss: 0.73731935 0.8021331\n",
      "Feature Matching Loss: 0.010524372 0.008580861\n",
      "RECON Loss: 0.024873948 0.017111866\n",
      "DIS Loss: 0.6189559 0.5996123\n"
     ]
    },
    {
     "name": "stderr",
     "output_type": "stream",
     "text": [
      "epoch #4| 94%|################################################   |ETA:  0:00:15\r"
     ]
    },
    {
     "name": "stdout",
     "output_type": "stream",
     "text": [
      "---------------------\n",
      "GEN Loss: 0.7191909 0.7902638\n",
      "Feature Matching Loss: 0.014774071 0.009882044\n",
      "RECON Loss: 0.025544891 0.015956389\n",
      "DIS Loss: 0.55912566 0.5880717\n"
     ]
    },
    {
     "name": "stderr",
     "output_type": "stream",
     "text": [
      "epoch #5|  1%|                                                   |ETA:  0:05:05\r"
     ]
    },
    {
     "name": "stdout",
     "output_type": "stream",
     "text": [
      "---------------------\n",
      "GEN Loss: 0.6302241 1.1460538\n",
      "Feature Matching Loss: 0.014899127 0.011717334\n",
      "RECON Loss: 0.024582574 0.017389031\n",
      "DIS Loss: 0.65593153 0.7183831\n"
     ]
    },
    {
     "name": "stderr",
     "output_type": "stream",
     "text": [
      "epoch #5|  7%|###                                                |ETA:  0:04:42\r"
     ]
    },
    {
     "name": "stdout",
     "output_type": "stream",
     "text": [
      "---------------------\n",
      "GEN Loss: 0.9265293 0.8842761\n",
      "Feature Matching Loss: 0.011342887 0.012112979\n",
      "RECON Loss: 0.023011522 0.01695376\n",
      "DIS Loss: 0.6507611 0.6482693\n"
     ]
    },
    {
     "name": "stderr",
     "output_type": "stream",
     "text": [
      "epoch #5| 13%|#######                                            |ETA:  0:04:24\r"
     ]
    },
    {
     "name": "stdout",
     "output_type": "stream",
     "text": [
      "---------------------\n",
      "GEN Loss: 1.0248481 0.77474546\n",
      "Feature Matching Loss: 0.013135508 0.0091563435\n",
      "RECON Loss: 0.02355495 0.017724318\n",
      "DIS Loss: 0.59342384 0.6368228\n"
     ]
    },
    {
     "name": "stderr",
     "output_type": "stream",
     "text": [
      "epoch #5| 20%|##########                                         |ETA:  0:04:10\r"
     ]
    },
    {
     "name": "stdout",
     "output_type": "stream",
     "text": [
      "---------------------\n",
      "GEN Loss: 0.6712664 0.96446013\n",
      "Feature Matching Loss: 0.013923143 0.011025795\n",
      "RECON Loss: 0.021539263 0.015899511\n",
      "DIS Loss: 0.66934586 0.6601189\n"
     ]
    },
    {
     "name": "stderr",
     "output_type": "stream",
     "text": [
      "epoch #5| 26%|#############                                      |ETA:  0:03:48\r"
     ]
    },
    {
     "name": "stdout",
     "output_type": "stream",
     "text": [
      "---------------------\n",
      "GEN Loss: 0.82977235 0.9915323\n",
      "Feature Matching Loss: 0.012365023 0.010888774\n",
      "RECON Loss: 0.023814434 0.017160831\n",
      "DIS Loss: 0.6448703 0.6631937\n"
     ]
    },
    {
     "name": "stderr",
     "output_type": "stream",
     "text": [
      "epoch #5| 33%|#################                                  |ETA:  0:03:27\r"
     ]
    },
    {
     "name": "stdout",
     "output_type": "stream",
     "text": [
      "---------------------\n",
      "GEN Loss: 0.92389274 0.7733841\n",
      "Feature Matching Loss: 0.012604225 0.009672228\n",
      "RECON Loss: 0.024962114 0.016678054\n",
      "DIS Loss: 0.6417849 0.6426419\n"
     ]
    },
    {
     "name": "stderr",
     "output_type": "stream",
     "text": [
      "epoch #5| 39%|####################                               |ETA:  0:03:07\r"
     ]
    },
    {
     "name": "stdout",
     "output_type": "stream",
     "text": [
      "---------------------\n",
      "GEN Loss: 0.72941464 1.3240312\n",
      "Feature Matching Loss: 0.011357349 0.011575437\n",
      "RECON Loss: 0.02236919 0.017603694\n",
      "DIS Loss: 0.6666601 0.7769793\n"
     ]
    },
    {
     "name": "stderr",
     "output_type": "stream",
     "text": [
      "epoch #5| 46%|#######################                            |ETA:  0:02:46\r"
     ]
    },
    {
     "name": "stdout",
     "output_type": "stream",
     "text": [
      "---------------------\n",
      "GEN Loss: 0.7826994 0.80621004\n",
      "Feature Matching Loss: 0.010634568 0.00995521\n",
      "RECON Loss: 0.022650817 0.01574481\n",
      "DIS Loss: 0.6327992 0.6283015\n"
     ]
    },
    {
     "name": "stderr",
     "output_type": "stream",
     "text": [
      "epoch #5| 52%|##########################                         |ETA:  0:02:26\r"
     ]
    },
    {
     "name": "stdout",
     "output_type": "stream",
     "text": [
      "---------------------\n",
      "GEN Loss: 0.88066304 0.6396711\n",
      "Feature Matching Loss: 0.01157527 0.013185462\n",
      "RECON Loss: 0.024765233 0.020008085\n",
      "DIS Loss: 0.6434774 0.6066708\n"
     ]
    },
    {
     "name": "stderr",
     "output_type": "stream",
     "text": [
      "epoch #5| 58%|##############################                     |ETA:  0:02:07\r"
     ]
    },
    {
     "name": "stdout",
     "output_type": "stream",
     "text": [
      "---------------------\n",
      "GEN Loss: 0.67154163 0.6227066\n",
      "Feature Matching Loss: 0.012075886 0.009442881\n",
      "RECON Loss: 0.023251345 0.01649193\n",
      "DIS Loss: 0.65051854 0.63867307\n"
     ]
    },
    {
     "name": "stderr",
     "output_type": "stream",
     "text": [
      "epoch #5| 65%|#################################                  |ETA:  0:01:46\r"
     ]
    },
    {
     "name": "stdout",
     "output_type": "stream",
     "text": [
      "---------------------\n",
      "GEN Loss: 0.6405091 0.75735927\n",
      "Feature Matching Loss: 0.010817612 0.009618871\n",
      "RECON Loss: 0.025708726 0.015280484\n",
      "DIS Loss: 0.617073 0.6479095\n"
     ]
    },
    {
     "name": "stderr",
     "output_type": "stream",
     "text": [
      "epoch #5| 72%|####################################               |ETA:  0:01:26\r"
     ]
    },
    {
     "name": "stdout",
     "output_type": "stream",
     "text": [
      "---------------------\n",
      "GEN Loss: 0.6941043 1.061748\n",
      "Feature Matching Loss: 0.015141199 0.012008163\n",
      "RECON Loss: 0.022112755 0.017037746\n",
      "DIS Loss: 0.6399448 0.63344365\n"
     ]
    },
    {
     "name": "stderr",
     "output_type": "stream",
     "text": [
      "epoch #5| 78%|#######################################            |ETA:  0:01:07\r"
     ]
    },
    {
     "name": "stdout",
     "output_type": "stream",
     "text": [
      "---------------------\n",
      "GEN Loss: 0.99615073 0.6984359\n",
      "Feature Matching Loss: 0.009037148 0.010258794\n",
      "RECON Loss: 0.022662552 0.015830116\n",
      "DIS Loss: 0.62087476 0.6554518\n"
     ]
    },
    {
     "name": "stderr",
     "output_type": "stream",
     "text": [
      "epoch #5| 84%|###########################################        |ETA:  0:00:46\r"
     ]
    },
    {
     "name": "stdout",
     "output_type": "stream",
     "text": [
      "---------------------\n",
      "GEN Loss: 0.8840747 0.8298929\n",
      "Feature Matching Loss: 0.010802723 0.008813895\n",
      "RECON Loss: 0.021916056 0.018739376\n",
      "DIS Loss: 0.6423014 0.64525986\n"
     ]
    },
    {
     "name": "stderr",
     "output_type": "stream",
     "text": [
      "epoch #5| 91%|##############################################     |ETA:  0:00:26\r"
     ]
    },
    {
     "name": "stdout",
     "output_type": "stream",
     "text": [
      "---------------------\n",
      "GEN Loss: 0.80725944 0.81082857\n",
      "Feature Matching Loss: 0.013671339 0.01752802\n",
      "RECON Loss: 0.02214857 0.017882088\n",
      "DIS Loss: 0.6040324 0.65083194\n"
     ]
    },
    {
     "name": "stderr",
     "output_type": "stream",
     "text": [
      "epoch #5| 97%|#################################################  |ETA:  0:00:07\r"
     ]
    },
    {
     "name": "stdout",
     "output_type": "stream",
     "text": [
      "---------------------\n",
      "GEN Loss: 1.0828855 0.6139716\n",
      "Feature Matching Loss: 0.011254331 0.011309379\n",
      "RECON Loss: 0.023234757 0.022068605\n",
      "DIS Loss: 0.6894139 0.6558709\n"
     ]
    },
    {
     "name": "stderr",
     "output_type": "stream",
     "text": [
      "epoch #6|  4%|##                                                 |ETA:  0:04:54\r"
     ]
    },
    {
     "name": "stdout",
     "output_type": "stream",
     "text": [
      "---------------------\n",
      "GEN Loss: 0.90711963 0.5489918\n",
      "Feature Matching Loss: 0.0102587445 0.013054618\n",
      "RECON Loss: 0.023642862 0.015083757\n",
      "DIS Loss: 0.6361016 0.65999675\n"
     ]
    },
    {
     "name": "stderr",
     "output_type": "stream",
     "text": [
      "epoch #6| 10%|#####                                              |ETA:  0:04:34\r"
     ]
    },
    {
     "name": "stdout",
     "output_type": "stream",
     "text": [
      "---------------------\n",
      "GEN Loss: 1.2453938 0.6212456\n",
      "Feature Matching Loss: 0.011982181 0.011295675\n",
      "RECON Loss: 0.022794165 0.015710054\n",
      "DIS Loss: 0.6499536 0.62710077\n"
     ]
    },
    {
     "name": "stderr",
     "output_type": "stream",
     "text": [
      "epoch #6| 16%|########                                           |ETA:  0:04:14\r"
     ]
    },
    {
     "name": "stdout",
     "output_type": "stream",
     "text": [
      "---------------------\n",
      "GEN Loss: 0.72213304 0.89377546\n",
      "Feature Matching Loss: 0.012670346 0.009667773\n",
      "RECON Loss: 0.018755542 0.016608348\n",
      "DIS Loss: 0.6860798 0.658302\n"
     ]
    },
    {
     "name": "stderr",
     "output_type": "stream",
     "text": [
      "epoch #6| 23%|###########                                        |ETA:  0:03:54\r"
     ]
    },
    {
     "name": "stdout",
     "output_type": "stream",
     "text": [
      "---------------------\n",
      "GEN Loss: 0.84963214 0.44640005\n",
      "Feature Matching Loss: 0.012921611 0.013602825\n",
      "RECON Loss: 0.021534262 0.015426979\n",
      "DIS Loss: 0.6522465 0.72381055\n"
     ]
    },
    {
     "name": "stderr",
     "output_type": "stream",
     "text": [
      "epoch #6| 29%|###############                                    |ETA:  0:03:35\r"
     ]
    },
    {
     "name": "stdout",
     "output_type": "stream",
     "text": [
      "---------------------\n",
      "GEN Loss: 0.61422837 0.7926475\n",
      "Feature Matching Loss: 0.015490357 0.011921143\n",
      "RECON Loss: 0.024057971 0.018133873\n",
      "DIS Loss: 0.62179184 0.56848115\n"
     ]
    },
    {
     "name": "stderr",
     "output_type": "stream",
     "text": [
      "epoch #6| 36%|##################                                 |ETA:  0:03:15\r"
     ]
    },
    {
     "name": "stdout",
     "output_type": "stream",
     "text": [
      "---------------------\n",
      "GEN Loss: 0.8070372 0.7378611\n",
      "Feature Matching Loss: 0.01174491 0.012176972\n",
      "RECON Loss: 0.022272533 0.01759096\n",
      "DIS Loss: 0.6505039 0.6545295\n"
     ]
    },
    {
     "name": "stderr",
     "output_type": "stream",
     "text": [
      "epoch #6| 42%|#####################                              |ETA:  0:02:56\r"
     ]
    },
    {
     "name": "stdout",
     "output_type": "stream",
     "text": [
      "---------------------\n",
      "GEN Loss: 1.2387067 0.65092623\n",
      "Feature Matching Loss: 0.01051976 0.010892686\n",
      "RECON Loss: 0.025831074 0.017381815\n",
      "DIS Loss: 0.69821733 0.62592435\n"
     ]
    },
    {
     "name": "stderr",
     "output_type": "stream",
     "text": [
      "epoch #6| 48%|########################                           |ETA:  0:02:38\r"
     ]
    },
    {
     "name": "stdout",
     "output_type": "stream",
     "text": [
      "---------------------\n",
      "GEN Loss: 0.8796295 0.77626646\n",
      "Feature Matching Loss: 0.015681447 0.0141285965\n",
      "RECON Loss: 0.023781082 0.019678297\n",
      "DIS Loss: 0.5659478 0.58317244\n"
     ]
    },
    {
     "name": "stderr",
     "output_type": "stream",
     "text": [
      "epoch #6| 55%|############################                       |ETA:  0:02:17\r"
     ]
    },
    {
     "name": "stdout",
     "output_type": "stream",
     "text": [
      "---------------------\n",
      "GEN Loss: 0.8099484 0.7316525\n",
      "Feature Matching Loss: 0.013197592 0.012306315\n",
      "RECON Loss: 0.021519544 0.017715598\n",
      "DIS Loss: 0.6597043 0.685462\n"
     ]
    },
    {
     "name": "stderr",
     "output_type": "stream",
     "text": [
      "epoch #6| 62%|###############################                    |ETA:  0:01:57\r"
     ]
    },
    {
     "name": "stdout",
     "output_type": "stream",
     "text": [
      "---------------------\n",
      "GEN Loss: 0.83213294 0.8162308\n",
      "Feature Matching Loss: 0.012333784 0.012085696\n",
      "RECON Loss: 0.022130458 0.018346176\n",
      "DIS Loss: 0.6443123 0.6280365\n"
     ]
    },
    {
     "name": "stderr",
     "output_type": "stream",
     "text": [
      "epoch #6| 68%|##################################                 |ETA:  0:01:38\r"
     ]
    },
    {
     "name": "stdout",
     "output_type": "stream",
     "text": [
      "---------------------\n",
      "GEN Loss: 0.9382055 0.8502319\n",
      "Feature Matching Loss: 0.013140622 0.010073788\n",
      "RECON Loss: 0.023311349 0.015099344\n",
      "DIS Loss: 0.6047503 0.60470897\n"
     ]
    },
    {
     "name": "stderr",
     "output_type": "stream",
     "text": [
      "epoch #6| 74%|######################################             |ETA:  0:01:17\r"
     ]
    },
    {
     "name": "stdout",
     "output_type": "stream",
     "text": [
      "---------------------\n",
      "GEN Loss: 0.45542505 1.0049043\n",
      "Feature Matching Loss: 0.011932591 0.009712093\n",
      "RECON Loss: 0.02262189 0.015232771\n",
      "DIS Loss: 0.70748097 0.68313104\n"
     ]
    },
    {
     "name": "stderr",
     "output_type": "stream",
     "text": [
      "epoch #6| 81%|#########################################          |ETA:  0:00:57\r"
     ]
    },
    {
     "name": "stdout",
     "output_type": "stream",
     "text": [
      "---------------------\n",
      "GEN Loss: 0.9631709 0.86365104\n",
      "Feature Matching Loss: 0.011812041 0.008849543\n",
      "RECON Loss: 0.021239186 0.017199745\n",
      "DIS Loss: 0.64224 0.6461838\n"
     ]
    },
    {
     "name": "stderr",
     "output_type": "stream",
     "text": [
      "epoch #6| 87%|############################################       |ETA:  0:00:38\r"
     ]
    },
    {
     "name": "stdout",
     "output_type": "stream",
     "text": [
      "---------------------\n",
      "GEN Loss: 0.714597 0.963696\n",
      "Feature Matching Loss: 0.011453649 0.010617875\n",
      "RECON Loss: 0.023441842 0.017041812\n",
      "DIS Loss: 0.58772737 0.60998553\n"
     ]
    },
    {
     "name": "stderr",
     "output_type": "stream",
     "text": [
      "epoch #6| 94%|###############################################    |ETA:  0:00:18\r"
     ]
    },
    {
     "name": "stdout",
     "output_type": "stream",
     "text": [
      "---------------------\n",
      "GEN Loss: 1.0548103 0.9774946\n",
      "Feature Matching Loss: 0.012104092 0.013002328\n",
      "RECON Loss: 0.026088616 0.015714599\n",
      "DIS Loss: 0.6280117 0.66902536\n"
     ]
    },
    {
     "name": "stderr",
     "output_type": "stream",
     "text": [
      "epoch #7|  0%|                                                   |ETA:  0:05:01\r"
     ]
    },
    {
     "name": "stdout",
     "output_type": "stream",
     "text": [
      "---------------------\n",
      "GEN Loss: 0.855024 0.6878183\n",
      "Feature Matching Loss: 0.012638508 0.014222639\n",
      "RECON Loss: 0.023973927 0.016708374\n",
      "DIS Loss: 0.6104816 0.66409063\n"
     ]
    },
    {
     "name": "stderr",
     "output_type": "stream",
     "text": [
      "epoch #7|  6%|###                                                |ETA:  0:04:45\r"
     ]
    },
    {
     "name": "stdout",
     "output_type": "stream",
     "text": [
      "---------------------\n",
      "GEN Loss: 0.81046116 0.87644506\n",
      "Feature Matching Loss: 0.008585435 0.009661181\n",
      "RECON Loss: 0.023788104 0.016702848\n",
      "DIS Loss: 0.5775049 0.6238632\n"
     ]
    },
    {
     "name": "stderr",
     "output_type": "stream",
     "text": [
      "epoch #7| 13%|######                                             |ETA:  0:04:26\r"
     ]
    },
    {
     "name": "stdout",
     "output_type": "stream",
     "text": [
      "---------------------\n",
      "GEN Loss: 0.78751576 0.68560374\n",
      "Feature Matching Loss: 0.01109652 0.009332118\n",
      "RECON Loss: 0.024983117 0.016355315\n",
      "DIS Loss: 0.6359917 0.6748659\n"
     ]
    },
    {
     "name": "stderr",
     "output_type": "stream",
     "text": [
      "epoch #7| 19%|##########                                         |ETA:  0:04:06\r"
     ]
    },
    {
     "name": "stdout",
     "output_type": "stream",
     "text": [
      "---------------------\n",
      "GEN Loss: 0.9043346 0.59257865\n",
      "Feature Matching Loss: 0.008627845 0.011803\n",
      "RECON Loss: 0.023154737 0.015741011\n",
      "DIS Loss: 0.6213324 0.656902\n"
     ]
    },
    {
     "name": "stderr",
     "output_type": "stream",
     "text": [
      "epoch #7| 26%|#############                                      |ETA:  0:03:46\r"
     ]
    },
    {
     "name": "stdout",
     "output_type": "stream",
     "text": [
      "---------------------\n",
      "GEN Loss: 0.84672034 0.7155595\n",
      "Feature Matching Loss: 0.010251498 0.008537697\n",
      "RECON Loss: 0.024163216 0.01588615\n",
      "DIS Loss: 0.6119328 0.62750626\n"
     ]
    },
    {
     "name": "stderr",
     "output_type": "stream",
     "text": [
      "epoch #7| 32%|################                                   |ETA:  0:03:26\r"
     ]
    },
    {
     "name": "stdout",
     "output_type": "stream",
     "text": [
      "---------------------\n",
      "GEN Loss: 0.63686 1.2047727\n",
      "Feature Matching Loss: 0.011810105 0.008598013\n",
      "RECON Loss: 0.022647003 0.016237503\n",
      "DIS Loss: 0.6636029 0.687557\n"
     ]
    },
    {
     "name": "stderr",
     "output_type": "stream",
     "text": [
      "epoch #7| 38%|###################                                |ETA:  0:03:07\r"
     ]
    },
    {
     "name": "stdout",
     "output_type": "stream",
     "text": [
      "---------------------\n",
      "GEN Loss: 0.7531329 0.8784975\n",
      "Feature Matching Loss: 0.0101345545 0.0111302445\n",
      "RECON Loss: 0.022770673 0.016298428\n",
      "DIS Loss: 0.63485414 0.60176593\n"
     ]
    },
    {
     "name": "stderr",
     "output_type": "stream",
     "text": [
      "epoch #7| 45%|#######################                            |ETA:  0:02:47\r"
     ]
    },
    {
     "name": "stdout",
     "output_type": "stream",
     "text": [
      "---------------------\n",
      "GEN Loss: 0.75021386 0.6703317\n",
      "Feature Matching Loss: 0.012642954 0.013849457\n",
      "RECON Loss: 0.022034995 0.014217451\n",
      "DIS Loss: 0.6010592 0.62095904\n"
     ]
    },
    {
     "name": "stderr",
     "output_type": "stream",
     "text": [
      "epoch #7| 52%|##########################                         |ETA:  0:02:27\r"
     ]
    },
    {
     "name": "stdout",
     "output_type": "stream",
     "text": [
      "---------------------\n",
      "GEN Loss: 1.0417693 1.1225543\n",
      "Feature Matching Loss: 0.013104142 0.010356633\n",
      "RECON Loss: 0.025344769 0.015937105\n",
      "DIS Loss: 0.7120707 0.6601069\n"
     ]
    },
    {
     "name": "stderr",
     "output_type": "stream",
     "text": [
      "epoch #7| 58%|#############################                      |ETA:  0:02:08\r"
     ]
    },
    {
     "name": "stdout",
     "output_type": "stream",
     "text": [
      "---------------------\n",
      "GEN Loss: 0.882068 0.7885984\n",
      "Feature Matching Loss: 0.011257792 0.009829756\n",
      "RECON Loss: 0.02301027 0.016116781\n",
      "DIS Loss: 0.6902857 0.6508342\n"
     ]
    },
    {
     "name": "stderr",
     "output_type": "stream",
     "text": [
      "epoch #7| 64%|#################################                  |ETA:  0:01:48\r"
     ]
    },
    {
     "name": "stdout",
     "output_type": "stream",
     "text": [
      "---------------------\n",
      "GEN Loss: 0.73812664 0.90690684\n",
      "Feature Matching Loss: 0.010144006 0.010443676\n",
      "RECON Loss: 0.02042487 0.017668432\n",
      "DIS Loss: 0.65045875 0.5493599\n"
     ]
    },
    {
     "name": "stderr",
     "output_type": "stream",
     "text": [
      "epoch #7| 70%|####################################               |ETA:  0:01:29\r"
     ]
    },
    {
     "name": "stdout",
     "output_type": "stream",
     "text": [
      "---------------------\n",
      "GEN Loss: 1.0384946 0.6427628\n",
      "Feature Matching Loss: 0.009185414 0.014735229\n",
      "RECON Loss: 0.023334742 0.017964387\n",
      "DIS Loss: 0.6817064 0.68730986\n"
     ]
    },
    {
     "name": "stderr",
     "output_type": "stream",
     "text": [
      "epoch #7| 77%|#######################################            |ETA:  0:01:09\r"
     ]
    },
    {
     "name": "stdout",
     "output_type": "stream",
     "text": [
      "---------------------\n",
      "GEN Loss: 0.6402185 0.9970131\n",
      "Feature Matching Loss: 0.010601735 0.011057276\n",
      "RECON Loss: 0.02491343 0.015323994\n",
      "DIS Loss: 0.61930555 0.62325585\n"
     ]
    },
    {
     "name": "stderr",
     "output_type": "stream",
     "text": [
      "epoch #7| 84%|##########################################         |ETA:  0:00:49\r"
     ]
    },
    {
     "name": "stdout",
     "output_type": "stream",
     "text": [
      "---------------------\n",
      "GEN Loss: 1.164467 0.6427106\n",
      "Feature Matching Loss: 0.010100946 0.009628311\n",
      "RECON Loss: 0.024830857 0.01779877\n",
      "DIS Loss: 0.64435786 0.6275833\n"
     ]
    },
    {
     "name": "stderr",
     "output_type": "stream",
     "text": [
      "epoch #7| 90%|##############################################     |ETA:  0:00:29\r"
     ]
    },
    {
     "name": "stdout",
     "output_type": "stream",
     "text": [
      "---------------------\n",
      "GEN Loss: 0.89983064 0.67984134\n",
      "Feature Matching Loss: 0.010041303 0.010799607\n",
      "RECON Loss: 0.02328678 0.019909358\n",
      "DIS Loss: 0.67086774 0.6336317\n"
     ]
    },
    {
     "name": "stderr",
     "output_type": "stream",
     "text": [
      "epoch #7| 96%|#################################################  |ETA:  0:00:09\r"
     ]
    },
    {
     "name": "stdout",
     "output_type": "stream",
     "text": [
      "---------------------\n",
      "GEN Loss: 0.684546 1.0102184\n",
      "Feature Matching Loss: 0.013419513 0.011884364\n",
      "RECON Loss: 0.024907306 0.016765257\n",
      "DIS Loss: 0.62627745 0.62208843\n"
     ]
    },
    {
     "name": "stderr",
     "output_type": "stream",
     "text": [
      "epoch #8|  3%|#                                                  |ETA:  0:04:58\r"
     ]
    },
    {
     "name": "stdout",
     "output_type": "stream",
     "text": [
      "---------------------\n",
      "GEN Loss: 0.72967356 0.6707957\n",
      "Feature Matching Loss: 0.012446627 0.013489355\n",
      "RECON Loss: 0.025529081 0.016660646\n",
      "DIS Loss: 0.6303972 0.5885713\n"
     ]
    },
    {
     "name": "stderr",
     "output_type": "stream",
     "text": [
      "epoch #8|  9%|####                                               |ETA:  0:04:36\r"
     ]
    },
    {
     "name": "stdout",
     "output_type": "stream",
     "text": [
      "---------------------\n",
      "GEN Loss: 0.821371 0.8353425\n",
      "Feature Matching Loss: 0.012780342 0.011115664\n",
      "RECON Loss: 0.023138339 0.015538924\n",
      "DIS Loss: 0.5955745 0.6218058\n"
     ]
    },
    {
     "name": "stderr",
     "output_type": "stream",
     "text": [
      "epoch #8| 16%|########                                           |ETA:  0:04:17\r"
     ]
    },
    {
     "name": "stdout",
     "output_type": "stream",
     "text": [
      "---------------------\n",
      "GEN Loss: 0.8344687 0.88737166\n",
      "Feature Matching Loss: 0.010576814 0.011036631\n",
      "RECON Loss: 0.023973843 0.018075755\n",
      "DIS Loss: 0.5769381 0.6209061\n"
     ]
    },
    {
     "name": "stderr",
     "output_type": "stream",
     "text": [
      "epoch #8| 22%|###########                                        |ETA:  0:03:57\r"
     ]
    },
    {
     "name": "stdout",
     "output_type": "stream",
     "text": [
      "---------------------\n",
      "GEN Loss: 1.0084823 0.98828274\n",
      "Feature Matching Loss: 0.012935634 0.010404784\n",
      "RECON Loss: 0.023735091 0.015512512\n",
      "DIS Loss: 0.65108454 0.5944954\n"
     ]
    },
    {
     "name": "stderr",
     "output_type": "stream",
     "text": [
      "epoch #8| 28%|##############                                     |ETA:  0:03:38\r"
     ]
    },
    {
     "name": "stdout",
     "output_type": "stream",
     "text": [
      "---------------------\n",
      "GEN Loss: 0.91875136 0.43145406\n",
      "Feature Matching Loss: 0.013576276 0.011955259\n",
      "RECON Loss: 0.022822106 0.018010408\n",
      "DIS Loss: 0.6730758 0.7239704\n"
     ]
    },
    {
     "name": "stderr",
     "output_type": "stream",
     "text": [
      "epoch #8| 35%|##################                                 |ETA:  0:03:18\r"
     ]
    },
    {
     "name": "stdout",
     "output_type": "stream",
     "text": [
      "---------------------\n",
      "GEN Loss: 0.7652023 0.9602719\n",
      "Feature Matching Loss: 0.010913911 0.010521797\n",
      "RECON Loss: 0.02554824 0.017058318\n",
      "DIS Loss: 0.6803168 0.59972817\n"
     ]
    },
    {
     "name": "stderr",
     "output_type": "stream",
     "text": [
      "epoch #8| 42%|#####################                              |ETA:  0:02:58\r"
     ]
    },
    {
     "name": "stdout",
     "output_type": "stream",
     "text": [
      "---------------------\n",
      "GEN Loss: 0.879176 1.1877425\n",
      "Feature Matching Loss: 0.0140691325 0.0128557915\n",
      "RECON Loss: 0.021511292 0.017579926\n",
      "DIS Loss: 0.61458325 0.5647619\n"
     ]
    },
    {
     "name": "stderr",
     "output_type": "stream",
     "text": [
      "epoch #8| 48%|########################                           |ETA:  0:02:39\r"
     ]
    },
    {
     "name": "stdout",
     "output_type": "stream",
     "text": [
      "---------------------\n",
      "GEN Loss: 0.7058995 0.8244498\n",
      "Feature Matching Loss: 0.009987598 0.01041477\n",
      "RECON Loss: 0.021695657 0.016777704\n",
      "DIS Loss: 0.6592181 0.64152974\n"
     ]
    },
    {
     "name": "stderr",
     "output_type": "stream",
     "text": [
      "epoch #8| 54%|###########################                        |ETA:  0:02:19\r"
     ]
    },
    {
     "name": "stdout",
     "output_type": "stream",
     "text": [
      "---------------------\n",
      "GEN Loss: 0.854555 0.85024357\n",
      "Feature Matching Loss: 0.009365711 0.009295494\n",
      "RECON Loss: 0.023110593 0.01750247\n",
      "DIS Loss: 0.64197636 0.6480963\n"
     ]
    },
    {
     "name": "stderr",
     "output_type": "stream",
     "text": [
      "epoch #8| 61%|###############################                    |ETA:  0:01:59\r"
     ]
    },
    {
     "name": "stdout",
     "output_type": "stream",
     "text": [
      "---------------------\n",
      "GEN Loss: 0.66280425 1.3746624\n",
      "Feature Matching Loss: 0.010950657 0.011217916\n",
      "RECON Loss: 0.022750119 0.016516812\n",
      "DIS Loss: 0.6766009 0.6260004\n"
     ]
    },
    {
     "name": "stderr",
     "output_type": "stream",
     "text": [
      "epoch #8| 67%|##################################                 |ETA:  0:01:40\r"
     ]
    },
    {
     "name": "stdout",
     "output_type": "stream",
     "text": [
      "---------------------\n",
      "GEN Loss: 0.788943 0.616449\n",
      "Feature Matching Loss: 0.010026258 0.010135957\n",
      "RECON Loss: 0.027515115 0.017418908\n",
      "DIS Loss: 0.65961623 0.6547173\n"
     ]
    },
    {
     "name": "stderr",
     "output_type": "stream",
     "text": [
      "epoch #8| 74%|#####################################              |ETA:  0:01:19\r"
     ]
    },
    {
     "name": "stdout",
     "output_type": "stream",
     "text": [
      "---------------------\n",
      "GEN Loss: 0.88296247 0.944394\n",
      "Feature Matching Loss: 0.008917767 0.010844567\n",
      "RECON Loss: 0.023006052 0.017777057\n",
      "DIS Loss: 0.63410556 0.6326419\n"
     ]
    },
    {
     "name": "stderr",
     "output_type": "stream",
     "text": [
      "epoch #8| 80%|#########################################          |ETA:  0:00:59\r"
     ]
    },
    {
     "name": "stdout",
     "output_type": "stream",
     "text": [
      "---------------------\n",
      "GEN Loss: 0.83510256 0.73503673\n",
      "Feature Matching Loss: 0.014063506 0.01354857\n",
      "RECON Loss: 0.027267857 0.01743758\n",
      "DIS Loss: 0.6373341 0.5861539\n"
     ]
    },
    {
     "name": "stderr",
     "output_type": "stream",
     "text": [
      "epoch #8| 86%|############################################       |ETA:  0:00:40\r"
     ]
    },
    {
     "name": "stdout",
     "output_type": "stream",
     "text": [
      "---------------------\n",
      "GEN Loss: 0.66227597 0.81109023\n",
      "Feature Matching Loss: 0.010667149 0.011637326\n",
      "RECON Loss: 0.024268636 0.017676463\n",
      "DIS Loss: 0.68510264 0.6331921\n"
     ]
    },
    {
     "name": "stderr",
     "output_type": "stream",
     "text": [
      "epoch #8| 93%|###############################################    |ETA:  0:00:20\r"
     ]
    },
    {
     "name": "stdout",
     "output_type": "stream",
     "text": [
      "---------------------\n",
      "GEN Loss: 0.88812494 0.926136\n",
      "Feature Matching Loss: 0.011090502 0.012326155\n",
      "RECON Loss: 0.0223999 0.02061866\n",
      "DIS Loss: 0.6970619 0.64054257\n"
     ]
    },
    {
     "name": "stderr",
     "output_type": "stream",
     "text": [
      "epoch #8| 99%|################################################## |ETA:  0:00:01\r"
     ]
    },
    {
     "name": "stdout",
     "output_type": "stream",
     "text": [
      "---------------------\n",
      "GEN Loss: 0.8192879 0.96036893\n",
      "Feature Matching Loss: 0.011531289 0.012538392\n",
      "RECON Loss: 0.021549804 0.01976747\n",
      "DIS Loss: 0.59958446 0.5551206\n"
     ]
    },
    {
     "name": "stderr",
     "output_type": "stream",
     "text": [
      "epoch #9|  6%|###                                                |ETA:  0:04:45\r"
     ]
    },
    {
     "name": "stdout",
     "output_type": "stream",
     "text": [
      "---------------------\n",
      "GEN Loss: 0.8691921 0.71671116\n",
      "Feature Matching Loss: 0.012527451 0.012454028\n",
      "RECON Loss: 0.022651196 0.016818395\n",
      "DIS Loss: 0.60225165 0.65979993\n"
     ]
    },
    {
     "name": "stderr",
     "output_type": "stream",
     "text": [
      "epoch #9| 12%|######                                             |ETA:  0:04:28\r"
     ]
    },
    {
     "name": "stdout",
     "output_type": "stream",
     "text": [
      "---------------------\n",
      "GEN Loss: 0.7971997 0.6785923\n",
      "Feature Matching Loss: 0.0107059125 0.010098609\n",
      "RECON Loss: 0.025215372 0.014424197\n",
      "DIS Loss: 0.65490025 0.6100582\n"
     ]
    },
    {
     "name": "stderr",
     "output_type": "stream",
     "text": [
      "epoch #9| 18%|#########                                          |ETA:  0:04:08\r"
     ]
    },
    {
     "name": "stdout",
     "output_type": "stream",
     "text": [
      "---------------------\n",
      "GEN Loss: 1.1258204 1.0060904\n",
      "Feature Matching Loss: 0.011288977 0.014115488\n",
      "RECON Loss: 0.028109588 0.017729029\n",
      "DIS Loss: 0.53355765 0.5765071\n"
     ]
    },
    {
     "name": "stderr",
     "output_type": "stream",
     "text": [
      "epoch #9| 25%|############                                       |ETA:  0:03:48\r"
     ]
    },
    {
     "name": "stdout",
     "output_type": "stream",
     "text": [
      "---------------------\n",
      "GEN Loss: 0.9943552 0.7174599\n",
      "Feature Matching Loss: 0.010953481 0.008473195\n",
      "RECON Loss: 0.025689619 0.0151576875\n",
      "DIS Loss: 0.6658672 0.62061644\n"
     ]
    },
    {
     "name": "stderr",
     "output_type": "stream",
     "text": [
      "epoch #9| 32%|################                                   |ETA:  0:03:29\r"
     ]
    },
    {
     "name": "stdout",
     "output_type": "stream",
     "text": [
      "---------------------\n",
      "GEN Loss: 1.0071068 0.9612358\n",
      "Feature Matching Loss: 0.009246806 0.012709521\n",
      "RECON Loss: 0.024701053 0.019755471\n",
      "DIS Loss: 0.65255576 0.64661527\n"
     ]
    },
    {
     "name": "stderr",
     "output_type": "stream",
     "text": [
      "epoch #9| 38%|###################                                |ETA:  0:03:09\r"
     ]
    },
    {
     "name": "stdout",
     "output_type": "stream",
     "text": [
      "---------------------\n",
      "GEN Loss: 0.89450526 0.9786819\n",
      "Feature Matching Loss: 0.012148514 0.010506924\n",
      "RECON Loss: 0.024069553 0.017385988\n",
      "DIS Loss: 0.5766829 0.61377805\n"
     ]
    },
    {
     "name": "stderr",
     "output_type": "stream",
     "text": [
      "epoch #9| 44%|######################                             |ETA:  0:02:49\r"
     ]
    },
    {
     "name": "stdout",
     "output_type": "stream",
     "text": [
      "---------------------\n",
      "GEN Loss: 0.9248316 0.83246785\n",
      "Feature Matching Loss: 0.01414958 0.0118570905\n",
      "RECON Loss: 0.025908701 0.017087808\n",
      "DIS Loss: 0.7304801 0.63581747\n"
     ]
    },
    {
     "name": "stderr",
     "output_type": "stream",
     "text": [
      "epoch #9| 51%|##########################                         |ETA:  0:02:29\r"
     ]
    },
    {
     "name": "stdout",
     "output_type": "stream",
     "text": [
      "---------------------\n",
      "GEN Loss: 1.0437893 0.8255199\n",
      "Feature Matching Loss: 0.010798661 0.010739073\n",
      "RECON Loss: 0.022551782 0.017855307\n",
      "DIS Loss: 0.6764937 0.5951314\n"
     ]
    },
    {
     "name": "stderr",
     "output_type": "stream",
     "text": [
      "epoch #9| 57%|#############################                      |ETA:  0:02:10\r"
     ]
    },
    {
     "name": "stdout",
     "output_type": "stream",
     "text": [
      "---------------------\n",
      "GEN Loss: 0.9402493 0.824291\n",
      "Feature Matching Loss: 0.011881327 0.008590678\n",
      "RECON Loss: 0.025152372 0.01636579\n",
      "DIS Loss: 0.53671443 0.59749156\n"
     ]
    },
    {
     "name": "stderr",
     "output_type": "stream",
     "text": [
      "epoch #9| 64%|################################                   |ETA:  0:01:50\r"
     ]
    },
    {
     "name": "stdout",
     "output_type": "stream",
     "text": [
      "---------------------\n",
      "GEN Loss: 0.6201412 0.59035295\n",
      "Feature Matching Loss: 0.012195576 0.010411452\n",
      "RECON Loss: 0.021465786 0.017011689\n",
      "DIS Loss: 0.6351672 0.6627308\n"
     ]
    },
    {
     "name": "stderr",
     "output_type": "stream",
     "text": [
      "epoch #9| 70%|###################################                |ETA:  0:01:30\r"
     ]
    },
    {
     "name": "stdout",
     "output_type": "stream",
     "text": [
      "---------------------\n",
      "GEN Loss: 0.70134366 0.92489344\n",
      "Feature Matching Loss: 0.014646509 0.011744123\n",
      "RECON Loss: 0.02540914 0.015949255\n",
      "DIS Loss: 0.6118151 0.6413275\n"
     ]
    },
    {
     "name": "stderr",
     "output_type": "stream",
     "text": [
      "epoch #9| 76%|#######################################            |ETA:  0:01:11\r"
     ]
    },
    {
     "name": "stdout",
     "output_type": "stream",
     "text": [
      "---------------------\n",
      "GEN Loss: 1.0279905 1.0149319\n",
      "Feature Matching Loss: 0.009575697 0.00983244\n",
      "RECON Loss: 0.023119152 0.01858451\n",
      "DIS Loss: 0.61478746 0.5692916\n"
     ]
    },
    {
     "name": "stderr",
     "output_type": "stream",
     "text": [
      "epoch #9| 83%|##########################################         |ETA:  0:00:51\r"
     ]
    },
    {
     "name": "stdout",
     "output_type": "stream",
     "text": [
      "---------------------\n",
      "GEN Loss: 0.52106977 0.8728218\n",
      "Feature Matching Loss: 0.012618832 0.01009036\n",
      "RECON Loss: 0.027004242 0.018150544\n",
      "DIS Loss: 0.7045324 0.63240397\n"
     ]
    },
    {
     "name": "stderr",
     "output_type": "stream",
     "text": [
      "epoch #9| 89%|#############################################      |ETA:  0:00:31\r"
     ]
    },
    {
     "name": "stdout",
     "output_type": "stream",
     "text": [
      "---------------------\n",
      "GEN Loss: 0.9495956 0.86276054\n",
      "Feature Matching Loss: 0.012635888 0.009940758\n",
      "RECON Loss: 0.024356058 0.020979123\n",
      "DIS Loss: 0.5340985 0.6006477\n"
     ]
    },
    {
     "name": "stderr",
     "output_type": "stream",
     "text": [
      "epoch #9| 96%|################################################   |ETA:  0:00:12\r"
     ]
    },
    {
     "name": "stdout",
     "output_type": "stream",
     "text": [
      "---------------------\n",
      "GEN Loss: 0.8909757 0.773504\n",
      "Feature Matching Loss: 0.0116506815 0.009409286\n",
      "RECON Loss: 0.023661643 0.016703688\n",
      "DIS Loss: 0.5857488 0.58083427\n"
     ]
    },
    {
     "name": "stderr",
     "output_type": "stream",
     "text": [
      "epoch #10|  2%|#                                                 |ETA:  0:05:00\r"
     ]
    },
    {
     "name": "stdout",
     "output_type": "stream",
     "text": [
      "---------------------\n",
      "GEN Loss: 0.71877706 0.562352\n",
      "Feature Matching Loss: 0.011278074 0.013184966\n",
      "RECON Loss: 0.023782333 0.01733276\n",
      "DIS Loss: 0.6415968 0.6738915\n"
     ]
    },
    {
     "name": "stderr",
     "output_type": "stream",
     "text": [
      "epoch #10|  8%|####                                              |ETA:  0:04:38\r"
     ]
    },
    {
     "name": "stdout",
     "output_type": "stream",
     "text": [
      "---------------------\n",
      "GEN Loss: 0.957354 0.6651602\n",
      "Feature Matching Loss: 0.010111228 0.010772459\n",
      "RECON Loss: 0.022850746 0.016904626\n",
      "DIS Loss: 0.5916617 0.6133702\n"
     ]
    },
    {
     "name": "stderr",
     "output_type": "stream",
     "text": [
      "epoch #10| 15%|#######                                           |ETA:  0:04:19\r"
     ]
    },
    {
     "name": "stdout",
     "output_type": "stream",
     "text": [
      "---------------------\n",
      "GEN Loss: 0.6333225 1.0313151\n",
      "Feature Matching Loss: 0.011387057 0.0097795185\n",
      "RECON Loss: 0.02355156 0.01713857\n",
      "DIS Loss: 0.6117883 0.5533619\n"
     ]
    },
    {
     "name": "stderr",
     "output_type": "stream",
     "text": [
      "epoch #10| 21%|##########                                        |ETA:  0:03:59\r"
     ]
    },
    {
     "name": "stdout",
     "output_type": "stream",
     "text": [
      "---------------------\n",
      "GEN Loss: 0.7837312 0.6347893\n",
      "Feature Matching Loss: 0.0144480225 0.009998541\n",
      "RECON Loss: 0.024306158 0.017341277\n",
      "DIS Loss: 0.6140975 0.67683214\n"
     ]
    },
    {
     "name": "stderr",
     "output_type": "stream",
     "text": [
      "epoch #10| 28%|##############                                    |ETA:  0:03:40\r"
     ]
    },
    {
     "name": "stdout",
     "output_type": "stream",
     "text": [
      "---------------------\n",
      "GEN Loss: 0.57532555 0.9317071\n",
      "Feature Matching Loss: 0.012986613 0.011619747\n",
      "RECON Loss: 0.026265211 0.01698211\n",
      "DIS Loss: 0.75697696 0.5594673\n"
     ]
    },
    {
     "name": "stderr",
     "output_type": "stream",
     "text": [
      "epoch #10| 34%|#################                                 |ETA:  0:03:23\r"
     ]
    },
    {
     "name": "stdout",
     "output_type": "stream",
     "text": [
      "---------------------\n",
      "GEN Loss: 0.9882591 0.8338528\n",
      "Feature Matching Loss: 0.011215869 0.011705555\n",
      "RECON Loss: 0.023317993 0.016765734\n",
      "DIS Loss: 0.61460507 0.5362432\n"
     ]
    },
    {
     "name": "stderr",
     "output_type": "stream",
     "text": [
      "epoch #10| 41%|####################                              |ETA:  0:03:03\r"
     ]
    },
    {
     "name": "stdout",
     "output_type": "stream",
     "text": [
      "---------------------\n",
      "GEN Loss: 0.601302 0.7912868\n",
      "Feature Matching Loss: 0.012598692 0.010750389\n",
      "RECON Loss: 0.023647731 0.018645907\n",
      "DIS Loss: 0.64509517 0.6113957\n"
     ]
    },
    {
     "name": "stderr",
     "output_type": "stream",
     "text": [
      "epoch #10| 47%|#######################                           |ETA:  0:02:42\r"
     ]
    },
    {
     "name": "stdout",
     "output_type": "stream",
     "text": [
      "---------------------\n",
      "GEN Loss: 0.6772357 0.9154216\n",
      "Feature Matching Loss: 0.013460143 0.010613789\n",
      "RECON Loss: 0.025860174 0.016707653\n",
      "DIS Loss: 0.58973324 0.6532588\n"
     ]
    },
    {
     "name": "stderr",
     "output_type": "stream",
     "text": [
      "epoch #10| 53%|##########################                        |ETA:  0:02:23\r"
     ]
    },
    {
     "name": "stdout",
     "output_type": "stream",
     "text": [
      "---------------------\n",
      "GEN Loss: 0.70502394 0.94894016\n",
      "Feature Matching Loss: 0.01215308 0.010446276\n",
      "RECON Loss: 0.023897095 0.017482901\n",
      "DIS Loss: 0.55909336 0.5461954\n"
     ]
    },
    {
     "name": "stderr",
     "output_type": "stream",
     "text": [
      "epoch #10| 60%|##############################                    |ETA:  0:02:02\r"
     ]
    },
    {
     "name": "stdout",
     "output_type": "stream",
     "text": [
      "---------------------\n",
      "GEN Loss: 0.8047639 0.6112711\n",
      "Feature Matching Loss: 0.015049865 0.013620505\n",
      "RECON Loss: 0.024204403 0.016518509\n",
      "DIS Loss: 0.6590364 0.66563916\n"
     ]
    },
    {
     "name": "stderr",
     "output_type": "stream",
     "text": [
      "epoch #10| 66%|#################################                 |ETA:  0:01:42\r"
     ]
    },
    {
     "name": "stdout",
     "output_type": "stream",
     "text": [
      "---------------------\n",
      "GEN Loss: 0.63017166 1.0908606\n",
      "Feature Matching Loss: 0.013898566 0.013021821\n",
      "RECON Loss: 0.025008142 0.016197318\n",
      "DIS Loss: 0.65414906 0.5694959\n"
     ]
    },
    {
     "name": "stderr",
     "output_type": "stream",
     "text": [
      "epoch #10| 73%|####################################              |ETA:  0:01:23\r"
     ]
    },
    {
     "name": "stdout",
     "output_type": "stream",
     "text": [
      "---------------------\n",
      "GEN Loss: 1.0875611 0.9309517\n",
      "Feature Matching Loss: 0.010393255 0.012137154\n",
      "RECON Loss: 0.022433108 0.017002707\n",
      "DIS Loss: 0.58076084 0.54041064\n"
     ]
    },
    {
     "name": "stderr",
     "output_type": "stream",
     "text": [
      "epoch #10| 79%|#######################################           |ETA:  0:01:02\r"
     ]
    },
    {
     "name": "stdout",
     "output_type": "stream",
     "text": [
      "---------------------\n",
      "GEN Loss: 0.7547755 0.8217292\n",
      "Feature Matching Loss: 0.010272679 0.011053905\n",
      "RECON Loss: 0.02481381 0.016896171\n",
      "DIS Loss: 0.6638174 0.6293262\n"
     ]
    },
    {
     "name": "stderr",
     "output_type": "stream",
     "text": [
      "epoch #10| 86%|###########################################       |ETA:  0:00:42\r"
     ]
    },
    {
     "name": "stdout",
     "output_type": "stream",
     "text": [
      "---------------------\n",
      "GEN Loss: 0.9518072 0.52649754\n",
      "Feature Matching Loss: 0.012732154 0.012549514\n",
      "RECON Loss: 0.026616426 0.01734053\n",
      "DIS Loss: 0.57272583 0.6659794\n"
     ]
    },
    {
     "name": "stderr",
     "output_type": "stream",
     "text": [
      "epoch #10| 92%|##############################################    |ETA:  0:00:23\r"
     ]
    },
    {
     "name": "stdout",
     "output_type": "stream",
     "text": [
      "---------------------\n",
      "GEN Loss: 1.0438025 1.0965766\n",
      "Feature Matching Loss: 0.011235467 0.013557491\n",
      "RECON Loss: 0.023599997 0.019585766\n",
      "DIS Loss: 0.5482069 0.5170836\n"
     ]
    },
    {
     "name": "stderr",
     "output_type": "stream",
     "text": [
      "epoch #10| 98%|################################################# |ETA:  0:00:03\r"
     ]
    },
    {
     "name": "stdout",
     "output_type": "stream",
     "text": [
      "---------------------\n",
      "GEN Loss: 1.0772108 0.87372667\n",
      "Feature Matching Loss: 0.010909104 0.011087603\n",
      "RECON Loss: 0.024967847 0.017326076\n",
      "DIS Loss: 0.6884205 0.62461483\n"
     ]
    },
    {
     "name": "stderr",
     "output_type": "stream",
     "text": [
      "epoch #11|  5%|##                                                |ETA:  0:04:48\r"
     ]
    },
    {
     "name": "stdout",
     "output_type": "stream",
     "text": [
      "---------------------\n",
      "GEN Loss: 0.8012342 1.1679435\n",
      "Feature Matching Loss: 0.013716394 0.011351647\n",
      "RECON Loss: 0.024654401 0.021405943\n",
      "DIS Loss: 0.6869149 0.591201\n"
     ]
    },
    {
     "name": "stderr",
     "output_type": "stream",
     "text": [
      "epoch #11| 11%|#####                                             |ETA:  0:04:30\r"
     ]
    },
    {
     "name": "stdout",
     "output_type": "stream",
     "text": [
      "---------------------\n",
      "GEN Loss: 1.1176578 0.7103656\n",
      "Feature Matching Loss: 0.009991007 0.010981372\n",
      "RECON Loss: 0.022382764 0.016884811\n",
      "DIS Loss: 0.5071049 0.56896806\n"
     ]
    },
    {
     "name": "stderr",
     "output_type": "stream",
     "text": [
      "epoch #11| 18%|#########                                         |ETA:  0:04:10\r"
     ]
    },
    {
     "name": "stdout",
     "output_type": "stream",
     "text": [
      "---------------------\n",
      "GEN Loss: 0.78074926 0.7330286\n",
      "Feature Matching Loss: 0.010613016 0.011037864\n",
      "RECON Loss: 0.025045455 0.016852366\n",
      "DIS Loss: 0.6125355 0.64908516\n"
     ]
    },
    {
     "name": "stderr",
     "output_type": "stream",
     "text": [
      "epoch #11| 24%|############                                      |ETA:  0:03:50\r"
     ]
    },
    {
     "name": "stdout",
     "output_type": "stream",
     "text": [
      "---------------------\n",
      "GEN Loss: 0.924794 1.359348\n",
      "Feature Matching Loss: 0.013490187 0.010249475\n",
      "RECON Loss: 0.030818343 0.018189592\n",
      "DIS Loss: 0.61893415 0.65460557\n"
     ]
    },
    {
     "name": "stderr",
     "output_type": "stream",
     "text": [
      "epoch #11| 31%|###############                                   |ETA:  0:03:31\r"
     ]
    },
    {
     "name": "stdout",
     "output_type": "stream",
     "text": [
      "---------------------\n",
      "GEN Loss: 0.9128409 1.2971048\n",
      "Feature Matching Loss: 0.013329418 0.011214485\n",
      "RECON Loss: 0.023391947 0.020660108\n",
      "DIS Loss: 0.6665392 0.65828556\n"
     ]
    },
    {
     "name": "stderr",
     "output_type": "stream",
     "text": [
      "epoch #11| 37%|##################                                |ETA:  0:03:12\r"
     ]
    },
    {
     "name": "stdout",
     "output_type": "stream",
     "text": [
      "---------------------\n",
      "GEN Loss: 0.50565875 0.9280856\n",
      "Feature Matching Loss: 0.01321234 0.010658786\n",
      "RECON Loss: 0.02459267 0.01776605\n",
      "DIS Loss: 0.74355775 0.6203357\n"
     ]
    },
    {
     "name": "stderr",
     "output_type": "stream",
     "text": [
      "epoch #11| 43%|#####################                             |ETA:  0:02:51\r"
     ]
    },
    {
     "name": "stdout",
     "output_type": "stream",
     "text": [
      "---------------------\n",
      "GEN Loss: 1.2526085 0.5817583\n",
      "Feature Matching Loss: 0.0112347705 0.009411231\n",
      "RECON Loss: 0.024720008 0.019276604\n",
      "DIS Loss: 0.63167095 0.6193962\n"
     ]
    },
    {
     "name": "stderr",
     "output_type": "stream",
     "text": [
      "epoch #11| 50%|#########################                         |ETA:  0:02:32\r"
     ]
    },
    {
     "name": "stdout",
     "output_type": "stream",
     "text": [
      "---------------------\n",
      "GEN Loss: 1.4532332 1.1043887\n",
      "Feature Matching Loss: 0.013366739 0.01110611\n",
      "RECON Loss: 0.026241207 0.019178944\n",
      "DIS Loss: 0.5919163 0.55921245\n"
     ]
    },
    {
     "name": "stderr",
     "output_type": "stream",
     "text": [
      "epoch #11| 56%|############################                      |ETA:  0:02:13\r"
     ]
    },
    {
     "name": "stdout",
     "output_type": "stream",
     "text": [
      "---------------------\n",
      "GEN Loss: 0.7709322 0.6873766\n",
      "Feature Matching Loss: 0.010405145 0.010483809\n",
      "RECON Loss: 0.026071569 0.018317997\n",
      "DIS Loss: 0.62351173 0.62807304\n"
     ]
    },
    {
     "name": "stderr",
     "output_type": "stream",
     "text": [
      "epoch #11| 63%|###############################                   |ETA:  0:01:54\r"
     ]
    },
    {
     "name": "stdout",
     "output_type": "stream",
     "text": [
      "---------------------\n",
      "GEN Loss: 0.8667044 0.8180023\n",
      "Feature Matching Loss: 0.011121597 0.010436986\n",
      "RECON Loss: 0.024154276 0.017520031\n",
      "DIS Loss: 0.60173416 0.56594193\n"
     ]
    },
    {
     "name": "stderr",
     "output_type": "stream",
     "text": [
      "epoch #11| 69%|##################################                |ETA:  0:01:33\r"
     ]
    },
    {
     "name": "stdout",
     "output_type": "stream",
     "text": [
      "---------------------\n",
      "GEN Loss: 0.97986877 0.9579656\n",
      "Feature Matching Loss: 0.009332922 0.012767514\n",
      "RECON Loss: 0.025125042 0.017415294\n",
      "DIS Loss: 0.6165806 0.51978743\n"
     ]
    },
    {
     "name": "stderr",
     "output_type": "stream",
     "text": [
      "epoch #11| 76%|######################################            |ETA:  0:01:13\r"
     ]
    },
    {
     "name": "stdout",
     "output_type": "stream",
     "text": [
      "---------------------\n",
      "GEN Loss: 0.7166049 0.9421473\n",
      "Feature Matching Loss: 0.011077048 0.010530853\n",
      "RECON Loss: 0.026065202 0.019856973\n",
      "DIS Loss: 0.6041093 0.6241485\n"
     ]
    },
    {
     "name": "stderr",
     "output_type": "stream",
     "text": [
      "epoch #11| 82%|#########################################         |ETA:  0:00:54\r"
     ]
    },
    {
     "name": "stdout",
     "output_type": "stream",
     "text": [
      "---------------------\n",
      "GEN Loss: 0.9417368 0.40621904\n",
      "Feature Matching Loss: 0.013074793 0.012013617\n",
      "RECON Loss: 0.02553395 0.0172917\n",
      "DIS Loss: 0.57361895 0.71815443\n"
     ]
    },
    {
     "name": "stderr",
     "output_type": "stream",
     "text": [
      "epoch #11| 88%|############################################      |ETA:  0:00:34\r"
     ]
    },
    {
     "name": "stdout",
     "output_type": "stream",
     "text": [
      "---------------------\n",
      "GEN Loss: 1.0140214 0.85012877\n",
      "Feature Matching Loss: 0.012764886 0.01236547\n",
      "RECON Loss: 0.023026915 0.017313434\n",
      "DIS Loss: 0.5813091 0.51493454\n"
     ]
    },
    {
     "name": "stderr",
     "output_type": "stream",
     "text": [
      "epoch #11| 95%|###############################################   |ETA:  0:00:13\r"
     ]
    },
    {
     "name": "stdout",
     "output_type": "stream",
     "text": [
      "---------------------\n",
      "GEN Loss: 0.72147644 0.7673565\n",
      "Feature Matching Loss: 0.010817098 0.015419106\n",
      "RECON Loss: 0.026582077 0.017931623\n",
      "DIS Loss: 0.63284266 0.6414742\n"
     ]
    },
    {
     "name": "stderr",
     "output_type": "stream",
     "text": [
      "epoch #12|  1%|                                                  |ETA:  0:05:06\r"
     ]
    },
    {
     "name": "stdout",
     "output_type": "stream",
     "text": [
      "---------------------\n",
      "GEN Loss: 0.7710216 0.9150225\n",
      "Feature Matching Loss: 0.009775024 0.008981285\n",
      "RECON Loss: 0.025019446 0.018237112\n",
      "DIS Loss: 0.5827604 0.5685437\n"
     ]
    },
    {
     "name": "stderr",
     "output_type": "stream",
     "text": [
      "epoch #12|  8%|####                                              |ETA:  0:04:42\r"
     ]
    },
    {
     "name": "stdout",
     "output_type": "stream",
     "text": [
      "---------------------\n",
      "GEN Loss: 1.1575453 1.2063289\n",
      "Feature Matching Loss: 0.008581754 0.0101665575\n",
      "RECON Loss: 0.028254637 0.018002264\n",
      "DIS Loss: 0.64767337 0.5209696\n"
     ]
    },
    {
     "name": "stderr",
     "output_type": "stream",
     "text": [
      "epoch #12| 14%|#######                                           |ETA:  0:04:21\r"
     ]
    },
    {
     "name": "stdout",
     "output_type": "stream",
     "text": [
      "---------------------\n",
      "GEN Loss: 0.8314636 0.82528424\n",
      "Feature Matching Loss: 0.012362782 0.012428041\n",
      "RECON Loss: 0.023095375 0.018743554\n",
      "DIS Loss: 0.7423191 0.5778762\n"
     ]
    },
    {
     "name": "stderr",
     "output_type": "stream",
     "text": [
      "epoch #12| 21%|##########                                        |ETA:  0:04:02\r"
     ]
    },
    {
     "name": "stdout",
     "output_type": "stream",
     "text": [
      "---------------------\n",
      "GEN Loss: 0.6832732 0.6581154\n",
      "Feature Matching Loss: 0.012769407 0.01276819\n",
      "RECON Loss: 0.024160257 0.017473238\n",
      "DIS Loss: 0.52296805 0.5980762\n"
     ]
    },
    {
     "name": "stderr",
     "output_type": "stream",
     "text": [
      "epoch #12| 27%|#############                                     |ETA:  0:03:42\r"
     ]
    },
    {
     "name": "stdout",
     "output_type": "stream",
     "text": [
      "---------------------\n",
      "GEN Loss: 1.0256951 0.97868323\n",
      "Feature Matching Loss: 0.0122218495 0.012997349\n",
      "RECON Loss: 0.027344683 0.0207723\n",
      "DIS Loss: 0.5086807 0.5688693\n"
     ]
    },
    {
     "name": "stderr",
     "output_type": "stream",
     "text": [
      "epoch #12| 33%|################                                  |ETA:  0:03:22\r"
     ]
    },
    {
     "name": "stdout",
     "output_type": "stream",
     "text": [
      "---------------------\n",
      "GEN Loss: 0.71297085 0.69874734\n",
      "Feature Matching Loss: 0.01018418 0.012520672\n",
      "RECON Loss: 0.023715302 0.020340087\n",
      "DIS Loss: 0.642023 0.65480626\n"
     ]
    },
    {
     "name": "stderr",
     "output_type": "stream",
     "text": [
      "epoch #12| 40%|####################                              |ETA:  0:03:02\r"
     ]
    },
    {
     "name": "stdout",
     "output_type": "stream",
     "text": [
      "---------------------\n",
      "GEN Loss: 1.0560657 0.93127346\n",
      "Feature Matching Loss: 0.011660069 0.0085800085\n",
      "RECON Loss: 0.024668254 0.020415204\n",
      "DIS Loss: 0.6349124 0.5643547\n"
     ]
    },
    {
     "name": "stderr",
     "output_type": "stream",
     "text": [
      "epoch #12| 46%|#######################                           |ETA:  0:02:43\r"
     ]
    },
    {
     "name": "stdout",
     "output_type": "stream",
     "text": [
      "---------------------\n",
      "GEN Loss: 0.8373754 0.88200134\n",
      "Feature Matching Loss: 0.011392077 0.010841382\n",
      "RECON Loss: 0.023745527 0.019088073\n",
      "DIS Loss: 0.5638382 0.537128\n"
     ]
    },
    {
     "name": "stderr",
     "output_type": "stream",
     "text": [
      "epoch #12| 53%|##########################                        |ETA:  0:02:23\r"
     ]
    },
    {
     "name": "stdout",
     "output_type": "stream",
     "text": [
      "---------------------\n",
      "GEN Loss: 0.73737323 0.87023175\n",
      "Feature Matching Loss: 0.011581928 0.009069922\n",
      "RECON Loss: 0.0253407 0.018297179\n",
      "DIS Loss: 0.64730906 0.6191953\n"
     ]
    },
    {
     "name": "stderr",
     "output_type": "stream",
     "text": [
      "epoch #12| 59%|#############################                     |ETA:  0:02:03\r"
     ]
    },
    {
     "name": "stdout",
     "output_type": "stream",
     "text": [
      "---------------------\n",
      "GEN Loss: 0.8551104 1.0390885\n",
      "Feature Matching Loss: 0.010665773 0.008433044\n",
      "RECON Loss: 0.028105788 0.01811909\n",
      "DIS Loss: 0.567798 0.5529984\n"
     ]
    },
    {
     "name": "stderr",
     "output_type": "stream",
     "text": [
      "epoch #12| 65%|################################                  |ETA:  0:01:44\r"
     ]
    },
    {
     "name": "stdout",
     "output_type": "stream",
     "text": [
      "---------------------\n",
      "GEN Loss: 0.95391405 1.5839937\n",
      "Feature Matching Loss: 0.010821185 0.009746632\n",
      "RECON Loss: 0.026849529 0.018302346\n",
      "DIS Loss: 0.562181 0.6405899\n"
     ]
    },
    {
     "name": "stderr",
     "output_type": "stream",
     "text": [
      "epoch #12| 72%|####################################              |ETA:  0:01:24\r"
     ]
    },
    {
     "name": "stdout",
     "output_type": "stream",
     "text": [
      "---------------------\n",
      "GEN Loss: 0.92742604 1.1734084\n",
      "Feature Matching Loss: 0.010558616 0.010777596\n",
      "RECON Loss: 0.028425222 0.018633436\n",
      "DIS Loss: 0.55400205 0.5430828\n"
     ]
    },
    {
     "name": "stderr",
     "output_type": "stream",
     "text": [
      "epoch #12| 79%|#######################################           |ETA:  0:01:04\r"
     ]
    },
    {
     "name": "stdout",
     "output_type": "stream",
     "text": [
      "---------------------\n",
      "GEN Loss: 1.0870376 0.35285646\n",
      "Feature Matching Loss: 0.010326936 0.013256859\n",
      "RECON Loss: 0.025534943 0.018884517\n",
      "DIS Loss: 0.5969386 0.7327949\n"
     ]
    },
    {
     "name": "stderr",
     "output_type": "stream",
     "text": [
      "epoch #12| 85%|##########################################        |ETA:  0:00:45\r"
     ]
    },
    {
     "name": "stdout",
     "output_type": "stream",
     "text": [
      "---------------------\n",
      "GEN Loss: 0.7593696 1.2896683\n",
      "Feature Matching Loss: 0.009942958 0.011113563\n",
      "RECON Loss: 0.027632857 0.01878985\n",
      "DIS Loss: 0.6536313 0.5559094\n"
     ]
    },
    {
     "name": "stderr",
     "output_type": "stream",
     "text": [
      "epoch #12| 91%|#############################################     |ETA:  0:00:25\r"
     ]
    },
    {
     "name": "stdout",
     "output_type": "stream",
     "text": [
      "---------------------\n",
      "GEN Loss: 0.7358844 0.87236774\n",
      "Feature Matching Loss: 0.013649482 0.012966883\n",
      "RECON Loss: 0.02503152 0.020028563\n",
      "DIS Loss: 0.6190641 0.6121844\n"
     ]
    },
    {
     "name": "stderr",
     "output_type": "stream",
     "text": [
      "epoch #12| 98%|################################################# |ETA:  0:00:05\r"
     ]
    },
    {
     "name": "stdout",
     "output_type": "stream",
     "text": [
      "---------------------\n",
      "GEN Loss: 0.7514415 0.8131008\n",
      "Feature Matching Loss: 0.011760017 0.010802645\n",
      "RECON Loss: 0.023748435 0.019509532\n",
      "DIS Loss: 0.6115998 0.5764836\n"
     ]
    },
    {
     "name": "stderr",
     "output_type": "stream",
     "text": [
      "epoch #13|  4%|##                                                |ETA:  0:04:50\r"
     ]
    },
    {
     "name": "stdout",
     "output_type": "stream",
     "text": [
      "---------------------\n",
      "GEN Loss: 1.1932744 1.0082624\n",
      "Feature Matching Loss: 0.011874304 0.01159275\n",
      "RECON Loss: 0.026690299 0.019862236\n",
      "DIS Loss: 0.54045874 0.526762\n"
     ]
    },
    {
     "name": "stderr",
     "output_type": "stream",
     "text": [
      "epoch #13| 11%|#####                                             |ETA:  0:04:32\r"
     ]
    },
    {
     "name": "stdout",
     "output_type": "stream",
     "text": [
      "---------------------\n",
      "GEN Loss: 0.5731598 0.7438314\n",
      "Feature Matching Loss: 0.011942924 0.010148308\n",
      "RECON Loss: 0.024026917 0.01851931\n",
      "DIS Loss: 0.7176086 0.6284262\n"
     ]
    },
    {
     "name": "stderr",
     "output_type": "stream",
     "text": [
      "epoch #13| 17%|########                                          |ETA:  0:04:13\r"
     ]
    },
    {
     "name": "stdout",
     "output_type": "stream",
     "text": [
      "---------------------\n",
      "GEN Loss: 1.2084613 1.0213946\n",
      "Feature Matching Loss: 0.010902869 0.009407502\n",
      "RECON Loss: 0.025037289 0.01888133\n",
      "DIS Loss: 0.44668624 0.5410992\n"
     ]
    },
    {
     "name": "stderr",
     "output_type": "stream",
     "text": [
      "epoch #13| 23%|###########                                       |ETA:  0:03:53\r"
     ]
    },
    {
     "name": "stdout",
     "output_type": "stream",
     "text": [
      "---------------------\n",
      "GEN Loss: 1.0788944 0.8638725\n",
      "Feature Matching Loss: 0.011947641 0.011835548\n",
      "RECON Loss: 0.025015526 0.021164728\n",
      "DIS Loss: 0.5882139 0.50491905\n"
     ]
    },
    {
     "name": "stderr",
     "output_type": "stream",
     "text": [
      "epoch #13| 30%|###############                                   |ETA:  0:03:33\r"
     ]
    },
    {
     "name": "stdout",
     "output_type": "stream",
     "text": [
      "---------------------\n",
      "GEN Loss: 0.7112547 0.9551724\n",
      "Feature Matching Loss: 0.0117797265 0.012307765\n",
      "RECON Loss: 0.023913495 0.016246403\n",
      "DIS Loss: 0.6122377 0.57453585\n"
     ]
    },
    {
     "name": "stderr",
     "output_type": "stream",
     "text": [
      "epoch #13| 36%|##################                                |ETA:  0:03:14\r"
     ]
    },
    {
     "name": "stdout",
     "output_type": "stream",
     "text": [
      "---------------------\n",
      "GEN Loss: 0.9545629 0.7447954\n",
      "Feature Matching Loss: 0.014309561 0.012148315\n",
      "RECON Loss: 0.024476213 0.020706361\n",
      "DIS Loss: 0.46503934 0.563066\n"
     ]
    },
    {
     "name": "stderr",
     "output_type": "stream",
     "text": [
      "epoch #13| 43%|#####################                             |ETA:  0:02:54\r"
     ]
    },
    {
     "name": "stdout",
     "output_type": "stream",
     "text": [
      "---------------------\n",
      "GEN Loss: 1.5847577 0.9956545\n",
      "Feature Matching Loss: 0.014366328 0.012944531\n",
      "RECON Loss: 0.025735514 0.017415522\n",
      "DIS Loss: 0.49501854 0.52079093\n"
     ]
    },
    {
     "name": "stderr",
     "output_type": "stream",
     "text": [
      "epoch #13| 49%|########################                          |ETA:  0:02:34\r"
     ]
    },
    {
     "name": "stdout",
     "output_type": "stream",
     "text": [
      "---------------------\n",
      "GEN Loss: 1.1653206 0.88470614\n",
      "Feature Matching Loss: 0.010767709 0.014344583\n",
      "RECON Loss: 0.026493996 0.019023309\n",
      "DIS Loss: 0.45381296 0.61047053\n"
     ]
    },
    {
     "name": "stderr",
     "output_type": "stream",
     "text": [
      "epoch #13| 55%|###########################                       |ETA:  0:02:15\r"
     ]
    },
    {
     "name": "stdout",
     "output_type": "stream",
     "text": [
      "---------------------\n",
      "GEN Loss: 0.8804145 0.71505606\n",
      "Feature Matching Loss: 0.010431075 0.011833562\n",
      "RECON Loss: 0.02544788 0.019917948\n",
      "DIS Loss: 0.6547417 0.62052864\n"
     ]
    },
    {
     "name": "stderr",
     "output_type": "stream",
     "text": [
      "epoch #13| 62%|###############################                   |ETA:  0:01:55\r"
     ]
    },
    {
     "name": "stdout",
     "output_type": "stream",
     "text": [
      "---------------------\n",
      "GEN Loss: 1.0791824 1.4070928\n",
      "Feature Matching Loss: 0.012017598 0.012137612\n",
      "RECON Loss: 0.024564778 0.018414268\n",
      "DIS Loss: 0.6394449 0.50513506\n"
     ]
    },
    {
     "name": "stderr",
     "output_type": "stream",
     "text": [
      "epoch #13| 69%|##################################                |ETA:  0:01:35\r"
     ]
    },
    {
     "name": "stdout",
     "output_type": "stream",
     "text": [
      "---------------------\n",
      "GEN Loss: 0.90987855 0.76882505\n",
      "Feature Matching Loss: 0.011280732 0.010760972\n",
      "RECON Loss: 0.024799144 0.019605128\n",
      "DIS Loss: 0.61671317 0.585681\n"
     ]
    },
    {
     "name": "stderr",
     "output_type": "stream",
     "text": [
      "epoch #13| 75%|#####################################             |ETA:  0:01:16\r"
     ]
    },
    {
     "name": "stdout",
     "output_type": "stream",
     "text": [
      "---------------------\n",
      "GEN Loss: 0.78449327 1.0167133\n",
      "Feature Matching Loss: 0.014269432 0.010662296\n",
      "RECON Loss: 0.02639495 0.01869739\n",
      "DIS Loss: 0.55416775 0.54388475\n"
     ]
    },
    {
     "name": "stderr",
     "output_type": "stream",
     "text": [
      "epoch #13| 81%|########################################          |ETA:  0:00:56\r"
     ]
    },
    {
     "name": "stdout",
     "output_type": "stream",
     "text": [
      "---------------------\n",
      "GEN Loss: 0.9752938 1.1427598\n",
      "Feature Matching Loss: 0.0131662935 0.011721062\n",
      "RECON Loss: 0.025814207 0.018780762\n",
      "DIS Loss: 0.5861585 0.5120219\n"
     ]
    },
    {
     "name": "stderr",
     "output_type": "stream",
     "text": [
      "epoch #13| 88%|############################################      |ETA:  0:00:35\r"
     ]
    },
    {
     "name": "stdout",
     "output_type": "stream",
     "text": [
      "---------------------\n",
      "GEN Loss: 0.8253748 1.0942602\n",
      "Feature Matching Loss: 0.011473011 0.011203699\n",
      "RECON Loss: 0.026521714 0.01843358\n",
      "DIS Loss: 0.6699436 0.5513391\n"
     ]
    },
    {
     "name": "stderr",
     "output_type": "stream",
     "text": [
      "epoch #13| 94%|###############################################   |ETA:  0:00:16\r"
     ]
    },
    {
     "name": "stdout",
     "output_type": "stream",
     "text": [
      "---------------------\n",
      "GEN Loss: 0.68741167 1.1219621\n",
      "Feature Matching Loss: 0.010809759 0.0110084945\n",
      "RECON Loss: 0.025615945 0.019383397\n",
      "DIS Loss: 0.5230993 0.5374055\n"
     ]
    },
    {
     "name": "stderr",
     "output_type": "stream",
     "text": [
      "epoch #14|  1%|                                                  |ETA:  0:05:09\r"
     ]
    },
    {
     "name": "stdout",
     "output_type": "stream",
     "text": [
      "---------------------\n",
      "GEN Loss: 0.7202635 0.55407095\n",
      "Feature Matching Loss: 0.011828277 0.013559962\n",
      "RECON Loss: 0.027076164 0.020456709\n",
      "DIS Loss: 0.61489546 0.60930765\n"
     ]
    },
    {
     "name": "stderr",
     "output_type": "stream",
     "text": [
      "epoch #14|  7%|###                                               |ETA:  0:04:44\r"
     ]
    },
    {
     "name": "stdout",
     "output_type": "stream",
     "text": [
      "---------------------\n",
      "GEN Loss: 1.1479288 0.69654816\n",
      "Feature Matching Loss: 0.00995673 0.009529408\n",
      "RECON Loss: 0.028278455 0.018680872\n",
      "DIS Loss: 0.58209276 0.55432826\n"
     ]
    },
    {
     "name": "stderr",
     "output_type": "stream",
     "text": [
      "epoch #14| 13%|######                                            |ETA:  0:04:24\r"
     ]
    },
    {
     "name": "stdout",
     "output_type": "stream",
     "text": [
      "---------------------\n",
      "GEN Loss: 0.82720006 0.7595825\n",
      "Feature Matching Loss: 0.011269842 0.011148099\n",
      "RECON Loss: 0.025438251 0.017975565\n",
      "DIS Loss: 0.621802 0.57785606\n"
     ]
    },
    {
     "name": "stderr",
     "output_type": "stream",
     "text": [
      "epoch #14| 20%|##########                                        |ETA:  0:04:11\r"
     ]
    },
    {
     "name": "stdout",
     "output_type": "stream",
     "text": [
      "---------------------\n",
      "GEN Loss: 1.0957675 1.2435598\n",
      "Feature Matching Loss: 0.015068586 0.011873932\n",
      "RECON Loss: 0.028046764 0.01784089\n",
      "DIS Loss: 0.59371334 0.4604287\n"
     ]
    },
    {
     "name": "stderr",
     "output_type": "stream",
     "text": [
      "epoch #14| 26%|#############                                     |ETA:  0:03:49\r"
     ]
    },
    {
     "name": "stdout",
     "output_type": "stream",
     "text": [
      "---------------------\n",
      "GEN Loss: 0.68078417 0.98153174\n",
      "Feature Matching Loss: 0.012323752 0.011379736\n",
      "RECON Loss: 0.02746983 0.017025143\n",
      "DIS Loss: 0.6292306 0.6066289\n"
     ]
    },
    {
     "name": "stderr",
     "output_type": "stream",
     "text": [
      "epoch #14| 33%|################                                  |ETA:  0:03:28\r"
     ]
    },
    {
     "name": "stdout",
     "output_type": "stream",
     "text": [
      "---------------------\n",
      "GEN Loss: 0.83539313 0.92839205\n",
      "Feature Matching Loss: 0.010379515 0.011150608\n",
      "RECON Loss: 0.024557592 0.020890556\n",
      "DIS Loss: 0.6287888 0.50439143\n"
     ]
    },
    {
     "name": "stderr",
     "output_type": "stream",
     "text": [
      "epoch #14| 39%|###################                               |ETA:  0:03:08\r"
     ]
    },
    {
     "name": "stdout",
     "output_type": "stream",
     "text": [
      "---------------------\n",
      "GEN Loss: 1.321271 1.1576823\n",
      "Feature Matching Loss: 0.012169207 0.013354164\n",
      "RECON Loss: 0.026261447 0.017306931\n",
      "DIS Loss: 0.50923824 0.5458776\n"
     ]
    },
    {
     "name": "stderr",
     "output_type": "stream",
     "text": [
      "epoch #14| 46%|#######################                           |ETA:  0:02:47\r"
     ]
    },
    {
     "name": "stdout",
     "output_type": "stream",
     "text": [
      "---------------------\n",
      "GEN Loss: 0.9389136 1.0492618\n",
      "Feature Matching Loss: 0.011676562 0.009934308\n",
      "RECON Loss: 0.027107378 0.0186823\n",
      "DIS Loss: 0.58529276 0.5693338\n"
     ]
    },
    {
     "name": "stderr",
     "output_type": "stream",
     "text": [
      "epoch #14| 52%|##########################                        |ETA:  0:02:27\r"
     ]
    },
    {
     "name": "stdout",
     "output_type": "stream",
     "text": [
      "---------------------\n",
      "GEN Loss: 1.118533 1.2427278\n",
      "Feature Matching Loss: 0.008341974 0.011087654\n",
      "RECON Loss: 0.025061594 0.018640803\n",
      "DIS Loss: 0.61481136 0.54506123\n"
     ]
    },
    {
     "name": "stderr",
     "output_type": "stream",
     "text": [
      "epoch #14| 58%|#############################                     |ETA:  0:02:07\r"
     ]
    },
    {
     "name": "stdout",
     "output_type": "stream",
     "text": [
      "---------------------\n",
      "GEN Loss: 0.89836764 1.2649627\n",
      "Feature Matching Loss: 0.013319027 0.011763948\n",
      "RECON Loss: 0.029158572 0.017743958\n",
      "DIS Loss: 0.56269485 0.51852083\n"
     ]
    },
    {
     "name": "stderr",
     "output_type": "stream",
     "text": [
      "epoch #14| 65%|################################                  |ETA:  0:01:47\r"
     ]
    },
    {
     "name": "stdout",
     "output_type": "stream",
     "text": [
      "---------------------\n",
      "GEN Loss: 0.7472352 0.5037253\n",
      "Feature Matching Loss: 0.011226748 0.010740826\n",
      "RECON Loss: 0.023749167 0.01876083\n",
      "DIS Loss: 0.6327585 0.6421319\n"
     ]
    },
    {
     "name": "stderr",
     "output_type": "stream",
     "text": [
      "epoch #14| 71%|###################################               |ETA:  0:01:27\r"
     ]
    },
    {
     "name": "stdout",
     "output_type": "stream",
     "text": [
      "---------------------\n",
      "GEN Loss: 0.79541916 1.4384389\n",
      "Feature Matching Loss: 0.011120133 0.011130708\n",
      "RECON Loss: 0.025154918 0.019306174\n",
      "DIS Loss: 0.640211 0.5355103\n"
     ]
    },
    {
     "name": "stderr",
     "output_type": "stream",
     "text": [
      "epoch #14| 78%|#######################################           |ETA:  0:01:08\r"
     ]
    },
    {
     "name": "stdout",
     "output_type": "stream",
     "text": [
      "---------------------\n",
      "GEN Loss: 0.9137053 1.4308754\n",
      "Feature Matching Loss: 0.015250296 0.010656828\n",
      "RECON Loss: 0.027105585 0.020135382\n",
      "DIS Loss: 0.47256824 0.46204522\n"
     ]
    },
    {
     "name": "stderr",
     "output_type": "stream",
     "text": [
      "epoch #14| 84%|##########################################        |ETA:  0:00:47\r"
     ]
    },
    {
     "name": "stdout",
     "output_type": "stream",
     "text": [
      "---------------------\n",
      "GEN Loss: 0.88490117 1.071507\n",
      "Feature Matching Loss: 0.012326757 0.009967708\n",
      "RECON Loss: 0.031014973 0.02044172\n",
      "DIS Loss: 0.5241231 0.5767952\n"
     ]
    },
    {
     "name": "stderr",
     "output_type": "stream",
     "text": [
      "epoch #14| 91%|#############################################     |ETA:  0:00:27\r"
     ]
    },
    {
     "name": "stdout",
     "output_type": "stream",
     "text": [
      "---------------------\n",
      "GEN Loss: 0.8835967 1.3684391\n",
      "Feature Matching Loss: 0.0124687655 0.010808861\n",
      "RECON Loss: 0.027501985 0.018891608\n",
      "DIS Loss: 0.55410826 0.56262\n"
     ]
    },
    {
     "name": "stderr",
     "output_type": "stream",
     "text": [
      "epoch #14| 97%|################################################  |ETA:  0:00:08\r"
     ]
    },
    {
     "name": "stdout",
     "output_type": "stream",
     "text": [
      "---------------------\n",
      "GEN Loss: 1.0183384 1.3570889\n",
      "Feature Matching Loss: 0.011447959 0.010873351\n",
      "RECON Loss: 0.0250341 0.020259345\n",
      "DIS Loss: 0.5586517 0.4512485\n"
     ]
    },
    {
     "name": "stderr",
     "output_type": "stream",
     "text": [
      "epoch #15|  3%|#                                                 |ETA:  0:04:52\r"
     ]
    },
    {
     "name": "stdout",
     "output_type": "stream",
     "text": [
      "---------------------\n",
      "GEN Loss: 0.8534577 0.9632202\n",
      "Feature Matching Loss: 0.011327871 0.015145802\n",
      "RECON Loss: 0.024554895 0.020142088\n",
      "DIS Loss: 0.52741563 0.6141209\n"
     ]
    },
    {
     "name": "stderr",
     "output_type": "stream",
     "text": [
      "epoch #15| 10%|#####                                             |ETA:  0:04:34\r"
     ]
    },
    {
     "name": "stdout",
     "output_type": "stream",
     "text": [
      "---------------------\n",
      "GEN Loss: 0.625937 0.7888675\n",
      "Feature Matching Loss: 0.009713013 0.011347022\n",
      "RECON Loss: 0.025588378 0.018340297\n",
      "DIS Loss: 0.70877206 0.55753076\n"
     ]
    },
    {
     "name": "stderr",
     "output_type": "stream",
     "text": [
      "epoch #15| 16%|########                                          |ETA:  0:04:15\r"
     ]
    },
    {
     "name": "stdout",
     "output_type": "stream",
     "text": [
      "---------------------\n",
      "GEN Loss: 0.8003702 1.6002731\n",
      "Feature Matching Loss: 0.01132234 0.012269231\n",
      "RECON Loss: 0.023785004 0.019699575\n",
      "DIS Loss: 0.5426458 0.47671485\n"
     ]
    },
    {
     "name": "stderr",
     "output_type": "stream",
     "text": [
      "epoch #15| 23%|###########                                       |ETA:  0:03:55\r"
     ]
    },
    {
     "name": "stdout",
     "output_type": "stream",
     "text": [
      "---------------------\n",
      "GEN Loss: 0.72207296 0.7801906\n",
      "Feature Matching Loss: 0.0132252965 0.012317972\n",
      "RECON Loss: 0.030437732 0.02085643\n",
      "DIS Loss: 0.56082916 0.54919946\n"
     ]
    },
    {
     "name": "stderr",
     "output_type": "stream",
     "text": [
      "epoch #15| 29%|##############                                    |ETA:  0:03:35\r"
     ]
    },
    {
     "name": "stdout",
     "output_type": "stream",
     "text": [
      "---------------------\n",
      "GEN Loss: 1.122184 0.91495824\n",
      "Feature Matching Loss: 0.011793111 0.01115428\n",
      "RECON Loss: 0.02550173 0.019346813\n",
      "DIS Loss: 0.6651776 0.6208607\n"
     ]
    },
    {
     "name": "stderr",
     "output_type": "stream",
     "text": [
      "epoch #15| 35%|#################                                 |ETA:  0:03:16\r"
     ]
    },
    {
     "name": "stdout",
     "output_type": "stream",
     "text": [
      "---------------------\n",
      "GEN Loss: 0.95911443 0.80129737\n",
      "Feature Matching Loss: 0.009850409 0.011950791\n",
      "RECON Loss: 0.029870877 0.01850155\n",
      "DIS Loss: 0.57964706 0.51728106\n"
     ]
    },
    {
     "name": "stderr",
     "output_type": "stream",
     "text": [
      "epoch #15| 42%|#####################                             |ETA:  0:02:56\r"
     ]
    },
    {
     "name": "stdout",
     "output_type": "stream",
     "text": [
      "---------------------\n",
      "GEN Loss: 0.82571006 1.2025056\n",
      "Feature Matching Loss: 0.010533167 0.010281232\n",
      "RECON Loss: 0.021680346 0.01886898\n",
      "DIS Loss: 0.5450057 0.6071473\n"
     ]
    },
    {
     "name": "stderr",
     "output_type": "stream",
     "text": [
      "epoch #15| 48%|########################                          |ETA:  0:02:38\r"
     ]
    },
    {
     "name": "stdout",
     "output_type": "stream",
     "text": [
      "---------------------\n",
      "GEN Loss: 0.5396486 1.1078701\n",
      "Feature Matching Loss: 0.0130164735 0.010628628\n",
      "RECON Loss: 0.02318193 0.022010237\n",
      "DIS Loss: 0.6876919 0.57583034\n"
     ]
    },
    {
     "name": "stderr",
     "output_type": "stream",
     "text": [
      "epoch #15| 55%|###########################                       |ETA:  0:02:18\r"
     ]
    },
    {
     "name": "stdout",
     "output_type": "stream",
     "text": [
      "---------------------\n",
      "GEN Loss: 0.9027505 1.4544463\n",
      "Feature Matching Loss: 0.012313152 0.009623765\n",
      "RECON Loss: 0.026203847 0.019594828\n",
      "DIS Loss: 0.56031173 0.4190996\n"
     ]
    },
    {
     "name": "stderr",
     "output_type": "stream",
     "text": [
      "epoch #15| 61%|##############################                    |ETA:  0:01:58\r"
     ]
    },
    {
     "name": "stdout",
     "output_type": "stream",
     "text": [
      "---------------------\n",
      "GEN Loss: 1.2834463 1.0382729\n",
      "Feature Matching Loss: 0.010550177 0.011769491\n",
      "RECON Loss: 0.024559326 0.022016697\n",
      "DIS Loss: 0.6561729 0.5150682\n"
     ]
    },
    {
     "name": "stderr",
     "output_type": "stream",
     "text": [
      "epoch #15| 67%|#################################                 |ETA:  0:01:38\r"
     ]
    },
    {
     "name": "stdout",
     "output_type": "stream",
     "text": [
      "---------------------\n",
      "GEN Loss: 0.7310515 0.5663501\n",
      "Feature Matching Loss: 0.007822014 0.012493957\n",
      "RECON Loss: 0.02472362 0.018441638\n",
      "DIS Loss: 0.60137343 0.6111506\n"
     ]
    },
    {
     "name": "stderr",
     "output_type": "stream",
     "text": [
      "epoch #15| 74%|#####################################             |ETA:  0:01:18\r"
     ]
    },
    {
     "name": "stdout",
     "output_type": "stream",
     "text": [
      "---------------------\n",
      "GEN Loss: 1.171465 0.9679601\n",
      "Feature Matching Loss: 0.012102507 0.013074147\n",
      "RECON Loss: 0.027839458 0.019716574\n",
      "DIS Loss: 0.47465 0.49907905\n"
     ]
    },
    {
     "name": "stderr",
     "output_type": "stream",
     "text": [
      "epoch #15| 81%|########################################          |ETA:  0:00:58\r"
     ]
    },
    {
     "name": "stdout",
     "output_type": "stream",
     "text": [
      "---------------------\n",
      "GEN Loss: 1.1930254 0.8646135\n",
      "Feature Matching Loss: 0.012374697 0.014696191\n",
      "RECON Loss: 0.025780777 0.01933979\n",
      "DIS Loss: 0.6916418 0.53518224\n"
     ]
    },
    {
     "name": "stderr",
     "output_type": "stream",
     "text": [
      "epoch #15| 87%|###########################################       |ETA:  0:00:39\r"
     ]
    },
    {
     "name": "stdout",
     "output_type": "stream",
     "text": [
      "---------------------\n",
      "GEN Loss: 0.875023 1.0550942\n",
      "Feature Matching Loss: 0.010429738 0.009497424\n",
      "RECON Loss: 0.024370477 0.018801356\n",
      "DIS Loss: 0.43107608 0.56181586\n"
     ]
    },
    {
     "name": "stderr",
     "output_type": "stream",
     "text": [
      "epoch #15| 93%|##############################################    |ETA:  0:00:19\r"
     ]
    },
    {
     "name": "stdout",
     "output_type": "stream",
     "text": [
      "---------------------\n",
      "GEN Loss: 1.0992763 1.4332001\n",
      "Feature Matching Loss: 0.011269163 0.008361603\n",
      "RECON Loss: 0.025108032 0.020241132\n",
      "DIS Loss: 0.5892961 0.5139145\n"
     ]
    },
    {
     "name": "stderr",
     "output_type": "stream",
     "text": [
      "epoch #16|  0%|                                                  |ETA:  0:05:26\r"
     ]
    },
    {
     "name": "stdout",
     "output_type": "stream",
     "text": [
      "---------------------\n",
      "GEN Loss: 0.68600905 0.5966969\n",
      "Feature Matching Loss: 0.016499173 0.016380183\n",
      "RECON Loss: 0.02651093 0.022590214\n",
      "DIS Loss: 0.6925479 0.5971687\n"
     ]
    },
    {
     "name": "stderr",
     "output_type": "stream",
     "text": [
      "epoch #16|  6%|###                                               |ETA:  0:04:44\r"
     ]
    },
    {
     "name": "stdout",
     "output_type": "stream",
     "text": [
      "---------------------\n",
      "GEN Loss: 0.70306957 0.9238713\n",
      "Feature Matching Loss: 0.011604404 0.009458396\n",
      "RECON Loss: 0.025090279 0.01987495\n",
      "DIS Loss: 0.6383691 0.4695662\n"
     ]
    },
    {
     "name": "stderr",
     "output_type": "stream",
     "text": [
      "epoch #16| 13%|######                                            |ETA:  0:04:25\r"
     ]
    },
    {
     "name": "stdout",
     "output_type": "stream",
     "text": [
      "---------------------\n",
      "GEN Loss: 1.641105 1.0452626\n",
      "Feature Matching Loss: 0.013261478 0.011544288\n",
      "RECON Loss: 0.0266729 0.022918133\n",
      "DIS Loss: 0.36962944 0.4813505\n"
     ]
    },
    {
     "name": "stderr",
     "output_type": "stream",
     "text": [
      "epoch #16| 19%|#########                                         |ETA:  0:04:06\r"
     ]
    },
    {
     "name": "stdout",
     "output_type": "stream",
     "text": [
      "---------------------\n",
      "GEN Loss: 0.8026099 0.95516485\n",
      "Feature Matching Loss: 0.012816866 0.0103048785\n",
      "RECON Loss: 0.026348004 0.02117777\n",
      "DIS Loss: 0.57088745 0.56192523\n"
     ]
    },
    {
     "name": "stderr",
     "output_type": "stream",
     "text": [
      "epoch #16| 25%|############                                      |ETA:  0:03:46\r"
     ]
    },
    {
     "name": "stdout",
     "output_type": "stream",
     "text": [
      "---------------------\n",
      "GEN Loss: 1.1856582 1.3971976\n",
      "Feature Matching Loss: 0.014822995 0.011172593\n",
      "RECON Loss: 0.025772236 0.018711409\n",
      "DIS Loss: 0.4713323 0.5431806\n"
     ]
    },
    {
     "name": "stderr",
     "output_type": "stream",
     "text": [
      "epoch #16| 32%|################                                  |ETA:  0:03:26\r"
     ]
    },
    {
     "name": "stdout",
     "output_type": "stream",
     "text": [
      "---------------------\n",
      "GEN Loss: 1.4796181 1.3678782\n",
      "Feature Matching Loss: 0.015215846 0.013668181\n",
      "RECON Loss: 0.030665496 0.020783138\n",
      "DIS Loss: 0.52392626 0.43367767\n"
     ]
    },
    {
     "name": "stderr",
     "output_type": "stream",
     "text": [
      "epoch #16| 38%|###################                               |ETA:  0:03:06\r"
     ]
    },
    {
     "name": "stdout",
     "output_type": "stream",
     "text": [
      "---------------------\n",
      "GEN Loss: 0.36845264 1.0084968\n",
      "Feature Matching Loss: 0.012993624 0.010534851\n",
      "RECON Loss: 0.026194202 0.01992841\n",
      "DIS Loss: 0.91307366 0.6194098\n"
     ]
    },
    {
     "name": "stderr",
     "output_type": "stream",
     "text": [
      "epoch #16| 45%|######################                            |ETA:  0:02:48\r"
     ]
    },
    {
     "name": "stdout",
     "output_type": "stream",
     "text": [
      "---------------------\n",
      "GEN Loss: 1.3922704 1.2326622\n",
      "Feature Matching Loss: 0.010771521 0.008259112\n",
      "RECON Loss: 0.03008842 0.020460712\n",
      "DIS Loss: 0.6276891 0.45384338\n"
     ]
    },
    {
     "name": "stderr",
     "output_type": "stream",
     "text": [
      "epoch #16| 51%|#########################                         |ETA:  0:02:28\r"
     ]
    },
    {
     "name": "stdout",
     "output_type": "stream",
     "text": [
      "---------------------\n",
      "GEN Loss: 0.9969214 1.4368119\n",
      "Feature Matching Loss: 0.0121335145 0.011284468\n",
      "RECON Loss: 0.026374942 0.02089172\n",
      "DIS Loss: 0.64013445 0.41664934\n"
     ]
    },
    {
     "name": "stderr",
     "output_type": "stream",
     "text": [
      "epoch #16| 58%|#############################                     |ETA:  0:02:08\r"
     ]
    },
    {
     "name": "stdout",
     "output_type": "stream",
     "text": [
      "---------------------\n",
      "GEN Loss: 1.3065835 0.7492189\n",
      "Feature Matching Loss: 0.011069763 0.0102441665\n",
      "RECON Loss: 0.025162661 0.020223398\n",
      "DIS Loss: 0.6098467 0.57883394\n"
     ]
    },
    {
     "name": "stderr",
     "output_type": "stream",
     "text": [
      "epoch #16| 64%|################################                  |ETA:  0:01:49\r"
     ]
    },
    {
     "name": "stdout",
     "output_type": "stream",
     "text": [
      "---------------------\n",
      "GEN Loss: 0.8960769 0.77551013\n",
      "Feature Matching Loss: 0.010084901 0.010691495\n",
      "RECON Loss: 0.027549088 0.019245164\n",
      "DIS Loss: 0.570059 0.5509003\n"
     ]
    },
    {
     "name": "stderr",
     "output_type": "stream",
     "text": [
      "epoch #16| 70%|###################################               |ETA:  0:01:29\r"
     ]
    },
    {
     "name": "stdout",
     "output_type": "stream",
     "text": [
      "---------------------\n",
      "GEN Loss: 1.1280046 1.6197405\n",
      "Feature Matching Loss: 0.011972791 0.009404043\n",
      "RECON Loss: 0.025607713 0.019044602\n",
      "DIS Loss: 0.5660416 0.46739745\n"
     ]
    },
    {
     "name": "stderr",
     "output_type": "stream",
     "text": [
      "epoch #16| 77%|######################################            |ETA:  0:01:10\r"
     ]
    },
    {
     "name": "stdout",
     "output_type": "stream",
     "text": [
      "---------------------\n",
      "GEN Loss: 0.89252025 0.5824407\n",
      "Feature Matching Loss: 0.020465167 0.0153050395\n",
      "RECON Loss: 0.025973363 0.02079278\n",
      "DIS Loss: 0.76964265 0.6016791\n"
     ]
    },
    {
     "name": "stderr",
     "output_type": "stream",
     "text": [
      "epoch #16| 83%|#########################################         |ETA:  0:00:49\r"
     ]
    },
    {
     "name": "stdout",
     "output_type": "stream",
     "text": [
      "---------------------\n",
      "GEN Loss: 0.7942973 0.97925323\n",
      "Feature Matching Loss: 0.014650661 0.010631232\n",
      "RECON Loss: 0.02362316 0.019665333\n",
      "DIS Loss: 0.5646401 0.54393554\n"
     ]
    },
    {
     "name": "stderr",
     "output_type": "stream",
     "text": [
      "epoch #16| 90%|#############################################     |ETA:  0:00:29\r"
     ]
    },
    {
     "name": "stdout",
     "output_type": "stream",
     "text": [
      "---------------------\n",
      "GEN Loss: 1.1255207 1.0544534\n",
      "Feature Matching Loss: 0.015044288 0.011246979\n",
      "RECON Loss: 0.029048322 0.021238342\n",
      "DIS Loss: 0.5942524 0.48769847\n"
     ]
    },
    {
     "name": "stderr",
     "output_type": "stream",
     "text": [
      "epoch #16| 96%|################################################  |ETA:  0:00:10\r"
     ]
    },
    {
     "name": "stdout",
     "output_type": "stream",
     "text": [
      "---------------------\n",
      "GEN Loss: 0.88585424 1.1674504\n",
      "Feature Matching Loss: 0.012017675 0.010879884\n",
      "RECON Loss: 0.03194255 0.021519102\n",
      "DIS Loss: 0.47886842 0.5158747\n"
     ]
    },
    {
     "name": "stderr",
     "output_type": "stream",
     "text": [
      "epoch #17|  3%|#                                                 |ETA:  0:04:53\r"
     ]
    },
    {
     "name": "stdout",
     "output_type": "stream",
     "text": [
      "---------------------\n",
      "GEN Loss: 0.8139969 1.371335\n",
      "Feature Matching Loss: 0.010912202 0.01204746\n",
      "RECON Loss: 0.026260523 0.020571684\n",
      "DIS Loss: 0.6032592 0.53135306\n"
     ]
    },
    {
     "name": "stderr",
     "output_type": "stream",
     "text": [
      "epoch #17|  9%|####                                              |ETA:  0:04:36\r"
     ]
    },
    {
     "name": "stdout",
     "output_type": "stream",
     "text": [
      "---------------------\n",
      "GEN Loss: 1.0127232 0.93473387\n",
      "Feature Matching Loss: 0.01070649 0.009915603\n",
      "RECON Loss: 0.027641067 0.019095117\n",
      "DIS Loss: 0.5495995 0.46993524\n"
     ]
    },
    {
     "name": "stderr",
     "output_type": "stream",
     "text": [
      "epoch #17| 15%|#######                                           |ETA:  0:04:17\r"
     ]
    },
    {
     "name": "stdout",
     "output_type": "stream",
     "text": [
      "---------------------\n",
      "GEN Loss: 0.9908315 0.9744387\n",
      "Feature Matching Loss: 0.012287439 0.013542079\n",
      "RECON Loss: 0.030691715 0.02074471\n",
      "DIS Loss: 0.66185546 0.5399596\n"
     ]
    },
    {
     "name": "stderr",
     "output_type": "stream",
     "text": [
      "epoch #17| 22%|###########                                       |ETA:  0:03:57\r"
     ]
    },
    {
     "name": "stdout",
     "output_type": "stream",
     "text": [
      "---------------------\n",
      "GEN Loss: 1.2346903 1.559274\n",
      "Feature Matching Loss: 0.010462873 0.010778571\n",
      "RECON Loss: 0.028698811 0.020855814\n",
      "DIS Loss: 0.5350181 0.5018767\n"
     ]
    },
    {
     "name": "stderr",
     "output_type": "stream",
     "text": [
      "epoch #17| 28%|##############                                    |ETA:  0:03:37\r"
     ]
    },
    {
     "name": "stdout",
     "output_type": "stream",
     "text": [
      "---------------------\n",
      "GEN Loss: 0.64409703 1.1873835\n",
      "Feature Matching Loss: 0.010092653 0.010422889\n",
      "RECON Loss: 0.026898926 0.023211828\n",
      "DIS Loss: 0.68685323 0.42906094\n"
     ]
    },
    {
     "name": "stderr",
     "output_type": "stream",
     "text": [
      "epoch #17| 35%|#################                                 |ETA:  0:03:18\r"
     ]
    },
    {
     "name": "stdout",
     "output_type": "stream",
     "text": [
      "---------------------\n",
      "GEN Loss: 0.61465573 0.9974944\n",
      "Feature Matching Loss: 0.012110602 0.011566526\n",
      "RECON Loss: 0.028811133 0.022363454\n",
      "DIS Loss: 0.5183102 0.5622054\n"
     ]
    },
    {
     "name": "stderr",
     "output_type": "stream",
     "text": [
      "epoch #17| 41%|####################                              |ETA:  0:02:58\r"
     ]
    },
    {
     "name": "stdout",
     "output_type": "stream",
     "text": [
      "---------------------\n",
      "GEN Loss: 1.1827576 0.6772229\n",
      "Feature Matching Loss: 0.011106534 0.011701104\n",
      "RECON Loss: 0.027589634 0.019799935\n",
      "DIS Loss: 0.6567209 0.48414844\n"
     ]
    },
    {
     "name": "stderr",
     "output_type": "stream",
     "text": [
      "epoch #17| 48%|########################                          |ETA:  0:02:38\r"
     ]
    },
    {
     "name": "stdout",
     "output_type": "stream",
     "text": [
      "---------------------\n",
      "GEN Loss: 1.0051205 1.0736762\n",
      "Feature Matching Loss: 0.010393762 0.011941752\n",
      "RECON Loss: 0.02492438 0.021092026\n",
      "DIS Loss: 0.60095036 0.4848358\n"
     ]
    },
    {
     "name": "stderr",
     "output_type": "stream",
     "text": [
      "epoch #17| 54%|###########################                       |ETA:  0:02:19\r"
     ]
    },
    {
     "name": "stdout",
     "output_type": "stream",
     "text": [
      "---------------------\n",
      "GEN Loss: 0.6762264 0.9034109\n",
      "Feature Matching Loss: 0.012068406 0.010862334\n",
      "RECON Loss: 0.028621122 0.021076271\n",
      "DIS Loss: 0.59775364 0.49238732\n"
     ]
    },
    {
     "name": "stderr",
     "output_type": "stream",
     "text": [
      "epoch #17| 60%|##############################                    |ETA:  0:01:59\r"
     ]
    },
    {
     "name": "stdout",
     "output_type": "stream",
     "text": [
      "---------------------\n",
      "GEN Loss: 1.4708425 1.6619997\n",
      "Feature Matching Loss: 0.010799751 0.01002775\n",
      "RECON Loss: 0.02766378 0.019301428\n",
      "DIS Loss: 0.6665621 0.514079\n"
     ]
    },
    {
     "name": "stderr",
     "output_type": "stream",
     "text": [
      "epoch #17| 67%|#################################                 |ETA:  0:01:39\r"
     ]
    },
    {
     "name": "stdout",
     "output_type": "stream",
     "text": [
      "---------------------\n",
      "GEN Loss: 1.1018269 0.6672799\n",
      "Feature Matching Loss: 0.011250356 0.012740685\n",
      "RECON Loss: 0.029019186 0.0219737\n",
      "DIS Loss: 0.5021496 0.5610684\n"
     ]
    },
    {
     "name": "stderr",
     "output_type": "stream",
     "text": [
      "epoch #17| 73%|####################################              |ETA:  0:01:20\r"
     ]
    },
    {
     "name": "stdout",
     "output_type": "stream",
     "text": [
      "---------------------\n",
      "GEN Loss: 0.7601859 0.89763194\n",
      "Feature Matching Loss: 0.011049686 0.010457303\n",
      "RECON Loss: 0.032373697 0.020678757\n",
      "DIS Loss: 0.532326 0.5143119\n"
     ]
    },
    {
     "name": "stderr",
     "output_type": "stream",
     "text": [
      "epoch #17| 80%|########################################          |ETA:  0:01:00\r"
     ]
    },
    {
     "name": "stdout",
     "output_type": "stream",
     "text": [
      "---------------------\n",
      "GEN Loss: 0.70388675 0.85049355\n",
      "Feature Matching Loss: 0.012741744 0.010363803\n",
      "RECON Loss: 0.023993863 0.020502409\n",
      "DIS Loss: 0.58652675 0.5391031\n"
     ]
    },
    {
     "name": "stderr",
     "output_type": "stream",
     "text": [
      "epoch #17| 86%|###########################################       |ETA:  0:00:40\r"
     ]
    },
    {
     "name": "stdout",
     "output_type": "stream",
     "text": [
      "---------------------\n",
      "GEN Loss: 1.5905514 1.1668434\n",
      "Feature Matching Loss: 0.008933218 0.014107076\n",
      "RECON Loss: 0.023771992 0.019583251\n",
      "DIS Loss: 0.6076748 0.52592194\n"
     ]
    },
    {
     "name": "stderr",
     "output_type": "stream",
     "text": [
      "epoch #17| 92%|##############################################    |ETA:  0:00:21\r"
     ]
    },
    {
     "name": "stdout",
     "output_type": "stream",
     "text": [
      "---------------------\n",
      "GEN Loss: 0.53756475 1.2183192\n",
      "Feature Matching Loss: 0.010726225 0.0114859035\n",
      "RECON Loss: 0.028704964 0.02279356\n",
      "DIS Loss: 0.722045 0.48120925\n"
     ]
    },
    {
     "name": "stderr",
     "output_type": "stream",
     "text": [
      "epoch #17| 99%|################################################# |ETA:  0:00:01\r"
     ]
    },
    {
     "name": "stdout",
     "output_type": "stream",
     "text": [
      "---------------------\n",
      "GEN Loss: 1.0404568 1.526052\n",
      "Feature Matching Loss: 0.010218694 0.0104616815\n",
      "RECON Loss: 0.023992935 0.021106087\n",
      "DIS Loss: 0.58152586 0.5192051\n"
     ]
    },
    {
     "name": "stderr",
     "output_type": "stream",
     "text": [
      "epoch #18|  5%|##                                                |ETA:  0:04:48\r"
     ]
    },
    {
     "name": "stdout",
     "output_type": "stream",
     "text": [
      "---------------------\n",
      "GEN Loss: 0.9801855 1.7147024\n",
      "Feature Matching Loss: 0.0120521765 0.011680783\n",
      "RECON Loss: 0.029731154 0.01969895\n",
      "DIS Loss: 0.39857376 0.51369303\n"
     ]
    },
    {
     "name": "stderr",
     "output_type": "stream",
     "text": [
      "epoch #18| 12%|######                                            |ETA:  0:04:28\r"
     ]
    },
    {
     "name": "stdout",
     "output_type": "stream",
     "text": [
      "---------------------\n",
      "GEN Loss: 1.034186 0.81481415\n",
      "Feature Matching Loss: 0.011348572 0.012602554\n",
      "RECON Loss: 0.028186733 0.019684829\n",
      "DIS Loss: 0.53607345 0.55732334\n"
     ]
    },
    {
     "name": "stderr",
     "output_type": "stream",
     "text": [
      "epoch #18| 18%|#########                                         |ETA:  0:04:08\r"
     ]
    },
    {
     "name": "stdout",
     "output_type": "stream",
     "text": [
      "---------------------\n",
      "GEN Loss: 0.79061174 1.6876049\n",
      "Feature Matching Loss: 0.013319543 0.010242088\n",
      "RECON Loss: 0.027377145 0.025468424\n",
      "DIS Loss: 0.5835155 0.51798576\n"
     ]
    },
    {
     "name": "stderr",
     "output_type": "stream",
     "text": [
      "epoch #18| 25%|############                                      |ETA:  0:03:49\r"
     ]
    },
    {
     "name": "stdout",
     "output_type": "stream",
     "text": [
      "---------------------\n",
      "GEN Loss: 1.4194386 1.362261\n",
      "Feature Matching Loss: 0.011822615 0.017569479\n",
      "RECON Loss: 0.027120696 0.0222987\n",
      "DIS Loss: 0.46192724 0.3839512\n"
     ]
    },
    {
     "name": "stderr",
     "output_type": "stream",
     "text": [
      "epoch #18| 31%|###############                                   |ETA:  0:03:29\r"
     ]
    },
    {
     "name": "stdout",
     "output_type": "stream",
     "text": [
      "---------------------\n",
      "GEN Loss: 0.76392764 1.3641362\n",
      "Feature Matching Loss: 0.01040684 0.008984767\n",
      "RECON Loss: 0.029552156 0.02046189\n",
      "DIS Loss: 0.5122831 0.5014144\n"
     ]
    },
    {
     "name": "stderr",
     "output_type": "stream",
     "text": [
      "epoch #18| 38%|###################                               |ETA:  0:03:09\r"
     ]
    },
    {
     "name": "stdout",
     "output_type": "stream",
     "text": [
      "---------------------\n",
      "GEN Loss: 1.6434104 0.7476123\n",
      "Feature Matching Loss: 0.009005312 0.010250113\n",
      "RECON Loss: 0.028321123 0.02397121\n",
      "DIS Loss: 0.678239 0.5253394\n"
     ]
    },
    {
     "name": "stderr",
     "output_type": "stream",
     "text": [
      "epoch #18| 44%|######################                            |ETA:  0:02:50\r"
     ]
    },
    {
     "name": "stdout",
     "output_type": "stream",
     "text": [
      "---------------------\n",
      "GEN Loss: 0.70098567 1.4572909\n",
      "Feature Matching Loss: 0.0140165035 0.01196377\n",
      "RECON Loss: 0.026123827 0.021946033\n",
      "DIS Loss: 0.5177102 0.422413\n"
     ]
    },
    {
     "name": "stderr",
     "output_type": "stream",
     "text": [
      "epoch #18| 50%|#########################                         |ETA:  0:02:30\r"
     ]
    },
    {
     "name": "stdout",
     "output_type": "stream",
     "text": [
      "---------------------\n",
      "GEN Loss: 0.71379626 1.1837306\n",
      "Feature Matching Loss: 0.016394086 0.01102922\n",
      "RECON Loss: 0.03242826 0.020986952\n",
      "DIS Loss: 0.581408 0.5315398\n"
     ]
    },
    {
     "name": "stderr",
     "output_type": "stream",
     "text": [
      "epoch #18| 57%|############################                      |ETA:  0:02:10\r"
     ]
    },
    {
     "name": "stdout",
     "output_type": "stream",
     "text": [
      "---------------------\n",
      "GEN Loss: 0.97338927 1.5226359\n",
      "Feature Matching Loss: 0.01623363 0.011665006\n",
      "RECON Loss: 0.027366847 0.023284325\n",
      "DIS Loss: 0.5657224 0.37422997\n"
     ]
    },
    {
     "name": "stderr",
     "output_type": "stream",
     "text": [
      "epoch #18| 63%|###############################                   |ETA:  0:01:51\r"
     ]
    },
    {
     "name": "stdout",
     "output_type": "stream",
     "text": [
      "---------------------\n",
      "GEN Loss: 1.3982865 1.0811155\n",
      "Feature Matching Loss: 0.013658165 0.010532881\n",
      "RECON Loss: 0.03215386 0.021920888\n",
      "DIS Loss: 0.6837712 0.45293453\n"
     ]
    },
    {
     "name": "stderr",
     "output_type": "stream",
     "text": [
      "epoch #18| 70%|###################################               |ETA:  0:01:31\r"
     ]
    },
    {
     "name": "stdout",
     "output_type": "stream",
     "text": [
      "---------------------\n",
      "GEN Loss: 1.1825917 0.68051755\n",
      "Feature Matching Loss: 0.012272644 0.0094120465\n",
      "RECON Loss: 0.026488503 0.020703692\n",
      "DIS Loss: 0.62380326 0.5455343\n"
     ]
    },
    {
     "name": "stderr",
     "output_type": "stream",
     "text": [
      "epoch #18| 76%|######################################            |ETA:  0:01:11\r"
     ]
    },
    {
     "name": "stdout",
     "output_type": "stream",
     "text": [
      "---------------------\n",
      "GEN Loss: 1.335106 1.3867211\n",
      "Feature Matching Loss: 0.011717838 0.0093527995\n",
      "RECON Loss: 0.030585952 0.020335767\n",
      "DIS Loss: 0.52686536 0.47908208\n"
     ]
    },
    {
     "name": "stderr",
     "output_type": "stream",
     "text": [
      "epoch #18| 82%|#########################################         |ETA:  0:00:52\r"
     ]
    },
    {
     "name": "stdout",
     "output_type": "stream",
     "text": [
      "---------------------\n",
      "GEN Loss: 1.0170414 1.8111031\n",
      "Feature Matching Loss: 0.01089788 0.010106276\n",
      "RECON Loss: 0.028270716 0.019391974\n",
      "DIS Loss: 0.48433217 0.54127717\n"
     ]
    },
    {
     "name": "stderr",
     "output_type": "stream",
     "text": [
      "epoch #18| 89%|############################################      |ETA:  0:00:32\r"
     ]
    },
    {
     "name": "stdout",
     "output_type": "stream",
     "text": [
      "---------------------\n",
      "GEN Loss: 0.8972004 0.90743065\n",
      "Feature Matching Loss: 0.010698289 0.010409614\n",
      "RECON Loss: 0.029230675 0.021339344\n",
      "DIS Loss: 0.5517742 0.46816373\n"
     ]
    },
    {
     "name": "stderr",
     "output_type": "stream",
     "text": [
      "epoch #18| 96%|################################################  |ETA:  0:00:12\r"
     ]
    },
    {
     "name": "stdout",
     "output_type": "stream",
     "text": [
      "---------------------\n",
      "GEN Loss: 0.8955891 1.4682508\n",
      "Feature Matching Loss: 0.014101339 0.009752877\n",
      "RECON Loss: 0.027091859 0.021343142\n",
      "DIS Loss: 0.61303043 0.47752234\n"
     ]
    },
    {
     "name": "stderr",
     "output_type": "stream",
     "text": [
      "epoch #19|  2%|#                                                 |ETA:  0:04:58\r"
     ]
    },
    {
     "name": "stdout",
     "output_type": "stream",
     "text": [
      "---------------------\n",
      "GEN Loss: 1.1188618 0.676938\n",
      "Feature Matching Loss: 0.011359298 0.009876316\n",
      "RECON Loss: 0.02943713 0.021533633\n",
      "DIS Loss: 0.40674838 0.5126663\n"
     ]
    },
    {
     "name": "stderr",
     "output_type": "stream",
     "text": [
      "epoch #19|  8%|####                                              |ETA:  0:04:40\r"
     ]
    },
    {
     "name": "stdout",
     "output_type": "stream",
     "text": [
      "---------------------\n",
      "GEN Loss: 0.8649452 1.014646\n",
      "Feature Matching Loss: 0.010428218 0.01154498\n",
      "RECON Loss: 0.027473288 0.021369407\n",
      "DIS Loss: 0.6083267 0.4709957\n"
     ]
    },
    {
     "name": "stderr",
     "output_type": "stream",
     "text": [
      "epoch #19| 15%|#######                                           |ETA:  0:04:20\r"
     ]
    },
    {
     "name": "stdout",
     "output_type": "stream",
     "text": [
      "---------------------\n",
      "GEN Loss: 0.96809936 1.2937546\n",
      "Feature Matching Loss: 0.016272258 0.01031578\n",
      "RECON Loss: 0.028340241 0.023389554\n",
      "DIS Loss: 0.55114174 0.41254535\n"
     ]
    },
    {
     "name": "stderr",
     "output_type": "stream",
     "text": [
      "epoch #19| 21%|##########                                        |ETA:  0:04:00\r"
     ]
    },
    {
     "name": "stdout",
     "output_type": "stream",
     "text": [
      "---------------------\n",
      "GEN Loss: 0.98233885 1.6179006\n",
      "Feature Matching Loss: 0.01032022 0.010191478\n",
      "RECON Loss: 0.027925506 0.02089405\n",
      "DIS Loss: 0.41525418 0.4425648\n"
     ]
    },
    {
     "name": "stderr",
     "output_type": "stream",
     "text": [
      "epoch #19| 27%|#############                                     |ETA:  0:03:41\r"
     ]
    },
    {
     "name": "stdout",
     "output_type": "stream",
     "text": [
      "---------------------\n",
      "GEN Loss: 1.0095074 0.75456905\n",
      "Feature Matching Loss: 0.011114014 0.0111035\n",
      "RECON Loss: 0.02832315 0.02021289\n",
      "DIS Loss: 0.6533526 0.51286966\n"
     ]
    },
    {
     "name": "stderr",
     "output_type": "stream",
     "text": [
      "epoch #19| 34%|#################                                 |ETA:  0:03:25\r"
     ]
    },
    {
     "name": "stdout",
     "output_type": "stream",
     "text": [
      "---------------------\n",
      "GEN Loss: 1.3446298 1.7921035\n",
      "Feature Matching Loss: 0.009028956 0.010389561\n",
      "RECON Loss: 0.027803639 0.020014297\n",
      "DIS Loss: 0.49025375 0.4522736\n"
     ]
    },
    {
     "name": "stderr",
     "output_type": "stream",
     "text": [
      "epoch #19| 40%|####################                              |ETA:  0:03:04\r"
     ]
    },
    {
     "name": "stdout",
     "output_type": "stream",
     "text": [
      "---------------------\n",
      "GEN Loss: 1.1922541 2.2036493\n",
      "Feature Matching Loss: 0.014174687 0.012131065\n",
      "RECON Loss: 0.028590845 0.022049481\n",
      "DIS Loss: 0.5567175 0.48664042\n"
     ]
    },
    {
     "name": "stderr",
     "output_type": "stream",
     "text": [
      "epoch #19| 47%|#######################                           |ETA:  0:02:43\r"
     ]
    },
    {
     "name": "stdout",
     "output_type": "stream",
     "text": [
      "---------------------\n",
      "GEN Loss: 0.9476619 1.0529438\n",
      "Feature Matching Loss: 0.014173685 0.010102049\n",
      "RECON Loss: 0.029229471 0.022543536\n",
      "DIS Loss: 0.5487381 0.49454397\n"
     ]
    },
    {
     "name": "stderr",
     "output_type": "stream",
     "text": [
      "epoch #19| 53%|##########################                        |ETA:  0:02:24\r"
     ]
    },
    {
     "name": "stdout",
     "output_type": "stream",
     "text": [
      "---------------------\n",
      "GEN Loss: 0.8248289 1.2843534\n",
      "Feature Matching Loss: 0.012183661 0.01129173\n",
      "RECON Loss: 0.029676327 0.021005956\n",
      "DIS Loss: 0.42220312 0.43367285\n"
     ]
    },
    {
     "name": "stderr",
     "output_type": "stream",
     "text": [
      "epoch #19| 60%|##############################                    |ETA:  0:02:03\r"
     ]
    },
    {
     "name": "stdout",
     "output_type": "stream",
     "text": [
      "---------------------\n",
      "GEN Loss: 1.1168163 0.9930855\n",
      "Feature Matching Loss: 0.009455746 0.009418307\n",
      "RECON Loss: 0.025197454 0.020192655\n",
      "DIS Loss: 0.55488205 0.48165375\n"
     ]
    },
    {
     "name": "stderr",
     "output_type": "stream",
     "text": [
      "epoch #19| 66%|#################################                 |ETA:  0:01:43\r"
     ]
    },
    {
     "name": "stdout",
     "output_type": "stream",
     "text": [
      "---------------------\n",
      "GEN Loss: 1.5512516 0.98707616\n",
      "Feature Matching Loss: 0.010210918 0.010020137\n",
      "RECON Loss: 0.028540358 0.021065554\n",
      "DIS Loss: 0.6605147 0.55048317\n"
     ]
    },
    {
     "name": "stderr",
     "output_type": "stream",
     "text": [
      "epoch #19| 72%|####################################              |ETA:  0:01:23\r"
     ]
    },
    {
     "name": "stdout",
     "output_type": "stream",
     "text": [
      "---------------------\n",
      "GEN Loss: 1.6572132 0.56939054\n",
      "Feature Matching Loss: 0.014364357 0.009026241\n",
      "RECON Loss: 0.027693324 0.021464929\n",
      "DIS Loss: 0.5514142 0.5801194\n"
     ]
    },
    {
     "name": "stderr",
     "output_type": "stream",
     "text": [
      "epoch #19| 79%|#######################################           |ETA:  0:01:03\r"
     ]
    },
    {
     "name": "stdout",
     "output_type": "stream",
     "text": [
      "---------------------\n",
      "GEN Loss: 1.1820302 2.206142\n",
      "Feature Matching Loss: 0.01221483 0.010498357\n",
      "RECON Loss: 0.029001156 0.01974309\n",
      "DIS Loss: 0.4225219 0.52480793\n"
     ]
    },
    {
     "name": "stderr",
     "output_type": "stream",
     "text": [
      "epoch #19| 85%|##########################################        |ETA:  0:00:43\r"
     ]
    },
    {
     "name": "stdout",
     "output_type": "stream",
     "text": [
      "---------------------\n",
      "GEN Loss: 0.86024916 1.1130586\n",
      "Feature Matching Loss: 0.0151010435 0.008804454\n",
      "RECON Loss: 0.027882373 0.022043496\n",
      "DIS Loss: 0.76170695 0.50522536\n"
     ]
    },
    {
     "name": "stderr",
     "output_type": "stream",
     "text": [
      "epoch #19| 92%|##############################################    |ETA:  0:00:24\r"
     ]
    },
    {
     "name": "stdout",
     "output_type": "stream",
     "text": [
      "---------------------\n",
      "GEN Loss: 0.9068008 1.7316415\n",
      "Feature Matching Loss: 0.012509787 0.011404181\n",
      "RECON Loss: 0.029151052 0.020650653\n",
      "DIS Loss: 0.48834002 0.52365834\n"
     ]
    },
    {
     "name": "stderr",
     "output_type": "stream",
     "text": [
      "epoch #19| 98%|################################################# |ETA:  0:00:03\r"
     ]
    },
    {
     "name": "stdout",
     "output_type": "stream",
     "text": [
      "---------------------\n",
      "GEN Loss: 1.3092756 1.1201422\n",
      "Feature Matching Loss: 0.010819062 0.009144778\n",
      "RECON Loss: 0.029765308 0.021941511\n",
      "DIS Loss: 0.47221208 0.42878973\n"
     ]
    },
    {
     "name": "stderr",
     "output_type": "stream",
     "text": [
      "epoch #20|  5%|##                                                |ETA:  0:04:48\r"
     ]
    },
    {
     "name": "stdout",
     "output_type": "stream",
     "text": [
      "---------------------\n",
      "GEN Loss: 1.4690707 1.1920196\n",
      "Feature Matching Loss: 0.011872895 0.0113249775\n",
      "RECON Loss: 0.02760266 0.020648686\n",
      "DIS Loss: 0.50261235 0.41261226\n"
     ]
    },
    {
     "name": "stderr",
     "output_type": "stream",
     "text": [
      "epoch #20| 11%|#####                                             |ETA:  0:04:30\r"
     ]
    },
    {
     "name": "stdout",
     "output_type": "stream",
     "text": [
      "---------------------\n",
      "GEN Loss: 1.5527747 1.1541216\n",
      "Feature Matching Loss: 0.011306978 0.011932405\n",
      "RECON Loss: 0.028216293 0.019603068\n",
      "DIS Loss: 0.5970493 0.39892098\n"
     ]
    },
    {
     "name": "stderr",
     "output_type": "stream",
     "text": [
      "epoch #20| 18%|#########                                         |ETA:  0:04:11\r"
     ]
    },
    {
     "name": "stdout",
     "output_type": "stream",
     "text": [
      "---------------------\n",
      "GEN Loss: 0.7717355 1.093708\n",
      "Feature Matching Loss: 0.0111276135 0.010874363\n",
      "RECON Loss: 0.028497314 0.021453394\n",
      "DIS Loss: 0.56038094 0.40614092\n"
     ]
    },
    {
     "name": "stderr",
     "output_type": "stream",
     "text": [
      "epoch #20| 24%|############                                      |ETA:  0:03:51\r"
     ]
    },
    {
     "name": "stdout",
     "output_type": "stream",
     "text": [
      "---------------------\n",
      "GEN Loss: 0.73886037 1.3897426\n",
      "Feature Matching Loss: 0.011041697 0.008978342\n",
      "RECON Loss: 0.030245272 0.020168537\n",
      "DIS Loss: 0.5926399 0.5438832\n"
     ]
    },
    {
     "name": "stderr",
     "output_type": "stream",
     "text": [
      "epoch #20| 30%|###############                                   |ETA:  0:03:31\r"
     ]
    },
    {
     "name": "stdout",
     "output_type": "stream",
     "text": [
      "---------------------\n",
      "GEN Loss: 0.9793314 1.2168891\n",
      "Feature Matching Loss: 0.012196687 0.011394175\n",
      "RECON Loss: 0.02553066 0.019619102\n",
      "DIS Loss: 0.52879417 0.4279276\n"
     ]
    },
    {
     "name": "stderr",
     "output_type": "stream",
     "text": [
      "epoch #20| 37%|##################                                |ETA:  0:03:12\r"
     ]
    },
    {
     "name": "stdout",
     "output_type": "stream",
     "text": [
      "---------------------\n",
      "GEN Loss: 1.7496829 0.77359617\n",
      "Feature Matching Loss: 0.014158673 0.01149676\n",
      "RECON Loss: 0.030422688 0.022209542\n",
      "DIS Loss: 0.591937 0.50647414\n"
     ]
    },
    {
     "name": "stderr",
     "output_type": "stream",
     "text": [
      "epoch #20| 43%|#####################                             |ETA:  0:02:53\r"
     ]
    },
    {
     "name": "stdout",
     "output_type": "stream",
     "text": [
      "---------------------\n",
      "GEN Loss: 1.0684097 0.7945179\n",
      "Feature Matching Loss: 0.013884979 0.011577692\n",
      "RECON Loss: 0.025303148 0.02150754\n",
      "DIS Loss: 0.6533171 0.50429994\n"
     ]
    },
    {
     "name": "stderr",
     "output_type": "stream",
     "text": [
      "epoch #20| 50%|#########################                         |ETA:  0:02:32\r"
     ]
    },
    {
     "name": "stdout",
     "output_type": "stream",
     "text": [
      "---------------------\n",
      "GEN Loss: 0.92907083 1.1934371\n",
      "Feature Matching Loss: 0.011830733 0.009676215\n",
      "RECON Loss: 0.028502934 0.020111904\n",
      "DIS Loss: 0.44562522 0.4810904\n"
     ]
    },
    {
     "name": "stderr",
     "output_type": "stream",
     "text": [
      "epoch #20| 56%|############################                      |ETA:  0:02:14\r"
     ]
    },
    {
     "name": "stdout",
     "output_type": "stream",
     "text": [
      "---------------------\n",
      "GEN Loss: 1.6697855 1.6257658\n",
      "Feature Matching Loss: 0.011338331 0.010813741\n",
      "RECON Loss: 0.02927768 0.019070914\n",
      "DIS Loss: 0.6060158 0.41944945\n"
     ]
    },
    {
     "name": "stderr",
     "output_type": "stream",
     "text": [
      "epoch #20| 62%|###############################                   |ETA:  0:01:55\r"
     ]
    },
    {
     "name": "stdout",
     "output_type": "stream",
     "text": [
      "---------------------\n",
      "GEN Loss: 0.6503097 0.4963356\n",
      "Feature Matching Loss: 0.010574311 0.011587668\n",
      "RECON Loss: 0.028212024 0.021516882\n",
      "DIS Loss: 0.5150608 0.654015\n"
     ]
    },
    {
     "name": "stderr",
     "output_type": "stream",
     "text": [
      "epoch #20| 69%|##################################                |ETA:  0:01:34\r"
     ]
    },
    {
     "name": "stdout",
     "output_type": "stream",
     "text": [
      "---------------------\n",
      "GEN Loss: 1.5287275 1.5618339\n",
      "Feature Matching Loss: 0.009980814 0.009471576\n",
      "RECON Loss: 0.027171964 0.02109339\n",
      "DIS Loss: 0.63529295 0.41193953\n"
     ]
    },
    {
     "name": "stderr",
     "output_type": "stream",
     "text": [
      "epoch #20| 75%|#####################################             |ETA:  0:01:14\r"
     ]
    },
    {
     "name": "stdout",
     "output_type": "stream",
     "text": [
      "---------------------\n",
      "GEN Loss: 1.5502226 1.2356324\n",
      "Feature Matching Loss: 0.010473516 0.013964439\n",
      "RECON Loss: 0.033527743 0.020649098\n",
      "DIS Loss: 0.56859875 0.4029597\n"
     ]
    },
    {
     "name": "stderr",
     "output_type": "stream",
     "text": [
      "epoch #20| 82%|#########################################         |ETA:  0:00:55\r"
     ]
    },
    {
     "name": "stdout",
     "output_type": "stream",
     "text": [
      "---------------------\n",
      "GEN Loss: 1.1197641 1.4945669\n",
      "Feature Matching Loss: 0.012849282 0.008415531\n",
      "RECON Loss: 0.031646762 0.02133097\n",
      "DIS Loss: 0.63027275 0.580023\n"
     ]
    },
    {
     "name": "stderr",
     "output_type": "stream",
     "text": [
      "epoch #20| 88%|############################################      |ETA:  0:00:34\r"
     ]
    },
    {
     "name": "stdout",
     "output_type": "stream",
     "text": [
      "---------------------\n",
      "GEN Loss: 1.1038331 1.1777892\n",
      "Feature Matching Loss: 0.010547031 0.010769387\n",
      "RECON Loss: 0.029057063 0.020912893\n",
      "DIS Loss: 0.51625174 0.4356817\n"
     ]
    },
    {
     "name": "stderr",
     "output_type": "stream",
     "text": [
      "epoch #20| 95%|###############################################   |ETA:  0:00:14\r"
     ]
    },
    {
     "name": "stdout",
     "output_type": "stream",
     "text": [
      "---------------------\n",
      "GEN Loss: 0.80499876 1.3053001\n",
      "Feature Matching Loss: 0.012781198 0.012160297\n",
      "RECON Loss: 0.030009588 0.02167852\n",
      "DIS Loss: 0.5505057 0.36854246\n"
     ]
    },
    {
     "name": "stderr",
     "output_type": "stream",
     "text": [
      "epoch #21|  1%|                                                  |ETA:  0:05:03\r"
     ]
    },
    {
     "name": "stdout",
     "output_type": "stream",
     "text": [
      "---------------------\n",
      "GEN Loss: 0.87862444 1.0940243\n",
      "Feature Matching Loss: 0.014229931 0.009979165\n",
      "RECON Loss: 0.029690081 0.021987299\n",
      "DIS Loss: 0.51826584 0.5371371\n"
     ]
    },
    {
     "name": "stderr",
     "output_type": "stream",
     "text": [
      "epoch #21|  8%|####                                              |ETA:  0:04:42\r"
     ]
    },
    {
     "name": "stdout",
     "output_type": "stream",
     "text": [
      "---------------------\n",
      "GEN Loss: 1.1577647 1.327691\n",
      "Feature Matching Loss: 0.011827555 0.010439648\n",
      "RECON Loss: 0.028557578 0.018897051\n",
      "DIS Loss: 0.5114098 0.4567771\n"
     ]
    },
    {
     "name": "stderr",
     "output_type": "stream",
     "text": [
      "epoch #21| 14%|#######                                           |ETA:  0:04:22\r"
     ]
    },
    {
     "name": "stdout",
     "output_type": "stream",
     "text": [
      "---------------------\n",
      "GEN Loss: 1.7992554 1.1569235\n",
      "Feature Matching Loss: 0.011032463 0.00938759\n",
      "RECON Loss: 0.03057676 0.020258792\n",
      "DIS Loss: 0.2716864 0.5195666\n"
     ]
    },
    {
     "name": "stderr",
     "output_type": "stream",
     "text": [
      "epoch #21| 20%|##########                                        |ETA:  0:04:02\r"
     ]
    },
    {
     "name": "stdout",
     "output_type": "stream",
     "text": [
      "---------------------\n",
      "GEN Loss: 0.74785835 1.3815956\n",
      "Feature Matching Loss: 0.009827595 0.009798389\n",
      "RECON Loss: 0.02901721 0.021534786\n",
      "DIS Loss: 0.62802577 0.4349587\n"
     ]
    },
    {
     "name": "stderr",
     "output_type": "stream",
     "text": [
      "epoch #21| 27%|#############                                     |ETA:  0:03:42\r"
     ]
    },
    {
     "name": "stdout",
     "output_type": "stream",
     "text": [
      "---------------------\n",
      "GEN Loss: 0.88421 1.8621796\n",
      "Feature Matching Loss: 0.010031549 0.010103758\n",
      "RECON Loss: 0.029337382 0.023960771\n",
      "DIS Loss: 0.38342077 0.4042796\n"
     ]
    },
    {
     "name": "stderr",
     "output_type": "stream",
     "text": [
      "epoch #21| 33%|################                                  |ETA:  0:03:23\r"
     ]
    },
    {
     "name": "stdout",
     "output_type": "stream",
     "text": [
      "---------------------\n",
      "GEN Loss: 1.0435463 1.3300372\n",
      "Feature Matching Loss: 0.011746045 0.00808234\n",
      "RECON Loss: 0.03223687 0.022333698\n",
      "DIS Loss: 0.40797347 0.5275307\n"
     ]
    },
    {
     "name": "stderr",
     "output_type": "stream",
     "text": [
      "epoch #21| 40%|####################                              |ETA:  0:03:03\r"
     ]
    },
    {
     "name": "stdout",
     "output_type": "stream",
     "text": [
      "---------------------\n",
      "GEN Loss: 1.0077565 0.76740205\n",
      "Feature Matching Loss: 0.012140616 0.009373912\n",
      "RECON Loss: 0.029309554 0.021098616\n",
      "DIS Loss: 0.5345743 0.50527537\n"
     ]
    },
    {
     "name": "stderr",
     "output_type": "stream",
     "text": [
      "epoch #21| 46%|#######################                           |ETA:  0:02:43\r"
     ]
    },
    {
     "name": "stdout",
     "output_type": "stream",
     "text": [
      "---------------------\n",
      "GEN Loss: 1.3266789 0.8315059\n",
      "Feature Matching Loss: 0.019119225 0.010288346\n",
      "RECON Loss: 0.026864579 0.02126283\n",
      "DIS Loss: 0.60531926 0.48217887\n"
     ]
    },
    {
     "name": "stderr",
     "output_type": "stream",
     "text": [
      "epoch #21| 52%|##########################                        |ETA:  0:02:24\r"
     ]
    },
    {
     "name": "stdout",
     "output_type": "stream",
     "text": [
      "---------------------\n",
      "GEN Loss: 0.6257986 1.4424036\n",
      "Feature Matching Loss: 0.012173001 0.01077313\n",
      "RECON Loss: 0.029349817 0.022361994\n",
      "DIS Loss: 0.588537 0.37491524\n"
     ]
    },
    {
     "name": "stderr",
     "output_type": "stream",
     "text": [
      "epoch #21| 59%|#############################                     |ETA:  0:02:04\r"
     ]
    },
    {
     "name": "stdout",
     "output_type": "stream",
     "text": [
      "---------------------\n",
      "GEN Loss: 0.7436372 0.7683047\n",
      "Feature Matching Loss: 0.014380116 0.011414591\n",
      "RECON Loss: 0.031964928 0.021126479\n",
      "DIS Loss: 0.46601635 0.48299706\n"
     ]
    },
    {
     "name": "stderr",
     "output_type": "stream",
     "text": [
      "epoch #21| 65%|################################                  |ETA:  0:01:44\r"
     ]
    },
    {
     "name": "stdout",
     "output_type": "stream",
     "text": [
      "---------------------\n",
      "GEN Loss: 0.55485594 0.7247139\n",
      "Feature Matching Loss: 0.009909846 0.012878541\n",
      "RECON Loss: 0.027987698 0.024407802\n",
      "DIS Loss: 0.69279206 0.5286513\n"
     ]
    },
    {
     "name": "stderr",
     "output_type": "stream",
     "text": [
      "epoch #21| 72%|####################################              |ETA:  0:01:25\r"
     ]
    },
    {
     "name": "stdout",
     "output_type": "stream",
     "text": [
      "---------------------\n",
      "GEN Loss: 1.5443223 1.4740726\n",
      "Feature Matching Loss: 0.014509071 0.010612474\n",
      "RECON Loss: 0.029834246 0.022775112\n",
      "DIS Loss: 0.61912054 0.36898696\n"
     ]
    },
    {
     "name": "stderr",
     "output_type": "stream",
     "text": [
      "epoch #21| 78%|#######################################           |ETA:  0:01:05\r"
     ]
    },
    {
     "name": "stdout",
     "output_type": "stream",
     "text": [
      "---------------------\n",
      "GEN Loss: 0.81433004 1.5394281\n",
      "Feature Matching Loss: 0.01123656 0.011493083\n",
      "RECON Loss: 0.033900682 0.026152274\n",
      "DIS Loss: 0.6983192 0.44345778\n"
     ]
    },
    {
     "name": "stderr",
     "output_type": "stream",
     "text": [
      "epoch #21| 84%|##########################################        |ETA:  0:00:46\r"
     ]
    },
    {
     "name": "stdout",
     "output_type": "stream",
     "text": [
      "---------------------\n",
      "GEN Loss: 1.3664769 1.5599287\n",
      "Feature Matching Loss: 0.0117961075 0.0084841745\n",
      "RECON Loss: 0.029752402 0.02120114\n",
      "DIS Loss: 0.40339524 0.51198995\n"
     ]
    },
    {
     "name": "stderr",
     "output_type": "stream",
     "text": [
      "epoch #21| 91%|#############################################     |ETA:  0:00:26\r"
     ]
    },
    {
     "name": "stdout",
     "output_type": "stream",
     "text": [
      "---------------------\n",
      "GEN Loss: 0.93298906 1.6170981\n",
      "Feature Matching Loss: 0.011088225 0.00972291\n",
      "RECON Loss: 0.029229665 0.022533847\n",
      "DIS Loss: 0.47673148 0.35293972\n"
     ]
    },
    {
     "name": "stderr",
     "output_type": "stream",
     "text": [
      "epoch #21| 97%|################################################  |ETA:  0:00:06\r"
     ]
    },
    {
     "name": "stdout",
     "output_type": "stream",
     "text": [
      "---------------------\n",
      "GEN Loss: 1.0741103 1.2132057\n",
      "Feature Matching Loss: 0.014246661 0.01253434\n",
      "RECON Loss: 0.03408604 0.030590246\n",
      "DIS Loss: 0.47540504 0.43752527\n"
     ]
    },
    {
     "name": "stderr",
     "output_type": "stream",
     "text": [
      "epoch #22|  4%|##                                                |ETA:  0:04:51\r"
     ]
    },
    {
     "name": "stdout",
     "output_type": "stream",
     "text": [
      "---------------------\n",
      "GEN Loss: 1.6753876 1.5635748\n",
      "Feature Matching Loss: 0.011094523 0.009799896\n",
      "RECON Loss: 0.029703707 0.023299873\n",
      "DIS Loss: 0.57751715 0.37575293\n"
     ]
    },
    {
     "name": "stderr",
     "output_type": "stream",
     "text": [
      "epoch #22| 10%|#####                                             |ETA:  0:04:32\r"
     ]
    },
    {
     "name": "stdout",
     "output_type": "stream",
     "text": [
      "---------------------\n",
      "GEN Loss: 0.97001624 0.9972648\n",
      "Feature Matching Loss: 0.018307239 0.011408794\n",
      "RECON Loss: 0.032284364 0.023396708\n",
      "DIS Loss: 0.42454365 0.4166131\n"
     ]
    },
    {
     "name": "stderr",
     "output_type": "stream",
     "text": [
      "epoch #22| 17%|########                                          |ETA:  0:04:13\r"
     ]
    },
    {
     "name": "stdout",
     "output_type": "stream",
     "text": [
      "---------------------\n",
      "GEN Loss: 0.5827969 0.96164465\n",
      "Feature Matching Loss: 0.013847068 0.011428791\n",
      "RECON Loss: 0.03243882 0.02063393\n",
      "DIS Loss: 0.5827709 0.48494148\n"
     ]
    },
    {
     "name": "stderr",
     "output_type": "stream",
     "text": [
      "epoch #22| 23%|###########                                       |ETA:  0:03:54\r"
     ]
    },
    {
     "name": "stdout",
     "output_type": "stream",
     "text": [
      "---------------------\n",
      "GEN Loss: 0.7740588 1.325854\n",
      "Feature Matching Loss: 0.012798152 0.0103371665\n",
      "RECON Loss: 0.031221032 0.022438778\n",
      "DIS Loss: 0.5174998 0.43352786\n"
     ]
    },
    {
     "name": "stderr",
     "output_type": "stream",
     "text": [
      "epoch #22| 30%|###############                                   |ETA:  0:03:34\r"
     ]
    },
    {
     "name": "stdout",
     "output_type": "stream",
     "text": [
      "---------------------\n",
      "GEN Loss: 1.3377771 1.653568\n",
      "Feature Matching Loss: 0.011092845 0.011391577\n",
      "RECON Loss: 0.032143753 0.022455528\n",
      "DIS Loss: 0.44867814 0.32052854\n"
     ]
    },
    {
     "name": "stderr",
     "output_type": "stream",
     "text": [
      "epoch #22| 36%|##################                                |ETA:  0:03:14\r"
     ]
    },
    {
     "name": "stdout",
     "output_type": "stream",
     "text": [
      "---------------------\n",
      "GEN Loss: 0.9971003 0.52271956\n",
      "Feature Matching Loss: 0.01141218 0.011746302\n",
      "RECON Loss: 0.031390402 0.02068809\n",
      "DIS Loss: 0.5242278 0.67812943\n"
     ]
    },
    {
     "name": "stderr",
     "output_type": "stream",
     "text": [
      "epoch #22| 42%|#####################                             |ETA:  0:02:55\r"
     ]
    },
    {
     "name": "stdout",
     "output_type": "stream",
     "text": [
      "---------------------\n",
      "GEN Loss: 0.9803859 1.7586563\n",
      "Feature Matching Loss: 0.00994044 0.012151757\n",
      "RECON Loss: 0.02788885 0.020714233\n",
      "DIS Loss: 0.46907 0.44641697\n"
     ]
    },
    {
     "name": "stderr",
     "output_type": "stream",
     "text": [
      "epoch #22| 49%|########################                          |ETA:  0:02:35\r"
     ]
    },
    {
     "name": "stdout",
     "output_type": "stream",
     "text": [
      "---------------------\n",
      "GEN Loss: 2.0045242 1.5049363\n",
      "Feature Matching Loss: 0.010759818 0.009907829\n",
      "RECON Loss: 0.031013565 0.023068458\n",
      "DIS Loss: 0.4607689 0.38149285\n"
     ]
    },
    {
     "name": "stderr",
     "output_type": "stream",
     "text": [
      "epoch #22| 55%|###########################                       |ETA:  0:02:15\r"
     ]
    },
    {
     "name": "stdout",
     "output_type": "stream",
     "text": [
      "---------------------\n",
      "GEN Loss: 1.0501478 1.2965865\n",
      "Feature Matching Loss: 0.010078844 0.011405736\n",
      "RECON Loss: 0.030914722 0.022830704\n",
      "DIS Loss: 0.55054194 0.3821277\n"
     ]
    },
    {
     "name": "stderr",
     "output_type": "stream",
     "text": [
      "epoch #22| 62%|###############################                   |ETA:  0:01:56\r"
     ]
    },
    {
     "name": "stdout",
     "output_type": "stream",
     "text": [
      "---------------------\n",
      "GEN Loss: 0.739603 1.5211493\n",
      "Feature Matching Loss: 0.009187687 0.008891006\n",
      "RECON Loss: 0.032217097 0.023249097\n",
      "DIS Loss: 0.44247732 0.43648657\n"
     ]
    },
    {
     "name": "stderr",
     "output_type": "stream",
     "text": [
      "epoch #22| 68%|##################################                |ETA:  0:01:36\r"
     ]
    },
    {
     "name": "stdout",
     "output_type": "stream",
     "text": [
      "---------------------\n",
      "GEN Loss: 0.92559934 2.2496538\n",
      "Feature Matching Loss: 0.0117272455 0.01251035\n",
      "RECON Loss: 0.030937217 0.020440252\n",
      "DIS Loss: 0.44509703 0.4047972\n"
     ]
    },
    {
     "name": "stderr",
     "output_type": "stream",
     "text": [
      "epoch #22| 75%|#####################################             |ETA:  0:01:16\r"
     ]
    },
    {
     "name": "stdout",
     "output_type": "stream",
     "text": [
      "---------------------\n",
      "GEN Loss: 1.1636896 2.1612153\n",
      "Feature Matching Loss: 0.010226268 0.010028692\n",
      "RECON Loss: 0.026253691 0.022882283\n",
      "DIS Loss: 0.5301516 0.6065035\n"
     ]
    },
    {
     "name": "stderr",
     "output_type": "stream",
     "text": [
      "epoch #22| 81%|########################################          |ETA:  0:00:57\r"
     ]
    },
    {
     "name": "stdout",
     "output_type": "stream",
     "text": [
      "---------------------\n",
      "GEN Loss: 1.6042166 1.5287004\n",
      "Feature Matching Loss: 0.01038859 0.010369373\n",
      "RECON Loss: 0.02804213 0.022575045\n",
      "DIS Loss: 0.649583 0.5131035\n"
     ]
    },
    {
     "name": "stderr",
     "output_type": "stream",
     "text": [
      "epoch #22| 87%|###########################################       |ETA:  0:00:37\r"
     ]
    },
    {
     "name": "stdout",
     "output_type": "stream",
     "text": [
      "---------------------\n",
      "GEN Loss: 1.375165 1.326144\n",
      "Feature Matching Loss: 0.009500556 0.010401323\n",
      "RECON Loss: 0.02743741 0.02048412\n",
      "DIS Loss: 0.49008697 0.34772032\n"
     ]
    },
    {
     "name": "stderr",
     "output_type": "stream",
     "text": [
      "epoch #22| 94%|###############################################   |ETA:  0:00:16\r"
     ]
    },
    {
     "name": "stdout",
     "output_type": "stream",
     "text": [
      "---------------------\n",
      "GEN Loss: 0.7830492 1.0665624\n",
      "Feature Matching Loss: 0.012672812 0.008649552\n",
      "RECON Loss: 0.031289604 0.022386542\n",
      "DIS Loss: 0.42914152 0.45807883\n"
     ]
    },
    {
     "name": "stderr",
     "output_type": "stream",
     "text": [
      "epoch #23|  0%|                                                  |ETA:  0:05:01\r"
     ]
    },
    {
     "name": "stdout",
     "output_type": "stream",
     "text": [
      "---------------------\n",
      "GEN Loss: 1.6200266 1.1504381\n",
      "Feature Matching Loss: 0.010374668 0.011613978\n",
      "RECON Loss: 0.033450913 0.023701342\n",
      "DIS Loss: 0.33122152 0.3760875\n"
     ]
    },
    {
     "name": "stderr",
     "output_type": "stream",
     "text": [
      "epoch #23|  7%|###                                               |ETA:  0:04:44\r"
     ]
    },
    {
     "name": "stdout",
     "output_type": "stream",
     "text": [
      "---------------------\n",
      "GEN Loss: 1.1202371 0.9857916\n",
      "Feature Matching Loss: 0.017091215 0.013317268\n",
      "RECON Loss: 0.034786772 0.024156915\n",
      "DIS Loss: 0.46616805 0.41875818\n"
     ]
    },
    {
     "name": "stderr",
     "output_type": "stream",
     "text": [
      "epoch #23| 13%|######                                            |ETA:  0:04:24\r"
     ]
    },
    {
     "name": "stdout",
     "output_type": "stream",
     "text": [
      "---------------------\n",
      "GEN Loss: 1.3281186 1.7303417\n",
      "Feature Matching Loss: 0.01091433 0.012415324\n",
      "RECON Loss: 0.030736566 0.027812207\n",
      "DIS Loss: 0.39523593 0.4395251\n"
     ]
    },
    {
     "name": "stderr",
     "output_type": "stream",
     "text": [
      "epoch #23| 19%|#########                                         |ETA:  0:04:11\r"
     ]
    },
    {
     "name": "stdout",
     "output_type": "stream",
     "text": [
      "---------------------\n",
      "GEN Loss: 2.0180676 1.4123137\n",
      "Feature Matching Loss: 0.010011479 0.009951855\n",
      "RECON Loss: 0.031057382 0.025562799\n",
      "DIS Loss: 0.6591254 0.41637418\n"
     ]
    },
    {
     "name": "stderr",
     "output_type": "stream",
     "text": [
      "epoch #23| 26%|#############                                     |ETA:  0:03:49\r"
     ]
    },
    {
     "name": "stdout",
     "output_type": "stream",
     "text": [
      "---------------------\n",
      "GEN Loss: 1.5935185 0.9479449\n",
      "Feature Matching Loss: 0.008885121 0.008781841\n",
      "RECON Loss: 0.03192157 0.024439514\n",
      "DIS Loss: 0.4520275 0.39654082\n"
     ]
    },
    {
     "name": "stderr",
     "output_type": "stream",
     "text": [
      "epoch #23| 33%|################                                  |ETA:  0:03:28\r"
     ]
    },
    {
     "name": "stdout",
     "output_type": "stream",
     "text": [
      "---------------------\n",
      "GEN Loss: 0.6784241 0.68843937\n",
      "Feature Matching Loss: 0.011280022 0.010127055\n",
      "RECON Loss: 0.030419556 0.026327485\n",
      "DIS Loss: 0.41957194 0.5430377\n"
     ]
    },
    {
     "name": "stderr",
     "output_type": "stream",
     "text": [
      "epoch #23| 39%|###################                               |ETA:  0:03:08\r"
     ]
    },
    {
     "name": "stdout",
     "output_type": "stream",
     "text": [
      "---------------------\n",
      "GEN Loss: 0.50150394 1.6647195\n",
      "Feature Matching Loss: 0.012076413 0.008901576\n",
      "RECON Loss: 0.029910678 0.022204662\n",
      "DIS Loss: 0.56526893 0.43532437\n"
     ]
    },
    {
     "name": "stderr",
     "output_type": "stream",
     "text": [
      "epoch #23| 45%|######################                            |ETA:  0:02:48\r"
     ]
    },
    {
     "name": "stdout",
     "output_type": "stream",
     "text": [
      "---------------------\n",
      "GEN Loss: 0.81257814 0.8147744\n",
      "Feature Matching Loss: 0.014205752 0.009572364\n",
      "RECON Loss: 0.034862842 0.024034157\n",
      "DIS Loss: 0.4293028 0.4919442\n"
     ]
    },
    {
     "name": "stderr",
     "output_type": "stream",
     "text": [
      "epoch #23| 52%|##########################                        |ETA:  0:02:27\r"
     ]
    },
    {
     "name": "stdout",
     "output_type": "stream",
     "text": [
      "---------------------\n",
      "GEN Loss: 1.189938 1.6355945\n",
      "Feature Matching Loss: 0.014647268 0.010935236\n",
      "RECON Loss: 0.032202724 0.023380527\n",
      "DIS Loss: 0.5668175 0.4917847\n"
     ]
    },
    {
     "name": "stderr",
     "output_type": "stream",
     "text": [
      "epoch #23| 58%|#############################                     |ETA:  0:02:08\r"
     ]
    },
    {
     "name": "stdout",
     "output_type": "stream",
     "text": [
      "---------------------\n",
      "GEN Loss: 1.0418923 1.2077584\n",
      "Feature Matching Loss: 0.010675507 0.009577004\n",
      "RECON Loss: 0.030970355 0.023349114\n",
      "DIS Loss: 0.45909277 0.45365766\n"
     ]
    },
    {
     "name": "stderr",
     "output_type": "stream",
     "text": [
      "epoch #23| 65%|################################                  |ETA:  0:01:48\r"
     ]
    },
    {
     "name": "stdout",
     "output_type": "stream",
     "text": [
      "---------------------\n",
      "GEN Loss: 1.2064682 1.3638945\n",
      "Feature Matching Loss: 0.012170712 0.010201578\n",
      "RECON Loss: 0.030180322 0.02430398\n",
      "DIS Loss: 0.5034926 0.36524397\n"
     ]
    },
    {
     "name": "stderr",
     "output_type": "stream",
     "text": [
      "epoch #23| 71%|###################################               |ETA:  0:01:27\r"
     ]
    },
    {
     "name": "stdout",
     "output_type": "stream",
     "text": [
      "---------------------\n",
      "GEN Loss: 0.5671846 0.63632685\n",
      "Feature Matching Loss: 0.01736785 0.009006649\n",
      "RECON Loss: 0.03168951 0.022273002\n",
      "DIS Loss: 0.5816573 0.5293105\n"
     ]
    },
    {
     "name": "stderr",
     "output_type": "stream",
     "text": [
      "epoch #23| 77%|######################################            |ETA:  0:01:08\r"
     ]
    },
    {
     "name": "stdout",
     "output_type": "stream",
     "text": [
      "---------------------\n",
      "GEN Loss: 1.364072 1.9306319\n",
      "Feature Matching Loss: 0.00959485 0.009191354\n",
      "RECON Loss: 0.02922565 0.024242679\n",
      "DIS Loss: 0.6370714 0.36739406\n"
     ]
    },
    {
     "name": "stderr",
     "output_type": "stream",
     "text": [
      "epoch #23| 84%|##########################################        |ETA:  0:00:48\r"
     ]
    },
    {
     "name": "stdout",
     "output_type": "stream",
     "text": [
      "---------------------\n",
      "GEN Loss: 1.1930455 1.5561792\n",
      "Feature Matching Loss: 0.009739538 0.009057332\n",
      "RECON Loss: 0.029406318 0.021879943\n",
      "DIS Loss: 0.5368185 0.4173643\n"
     ]
    },
    {
     "name": "stderr",
     "output_type": "stream",
     "text": [
      "epoch #23| 90%|#############################################     |ETA:  0:00:28\r"
     ]
    },
    {
     "name": "stdout",
     "output_type": "stream",
     "text": [
      "---------------------\n",
      "GEN Loss: 0.62783575 0.5877341\n",
      "Feature Matching Loss: 0.011580573 0.011527857\n",
      "RECON Loss: 0.029440746 0.020366117\n",
      "DIS Loss: 0.60109115 0.5938984\n"
     ]
    },
    {
     "name": "stderr",
     "output_type": "stream",
     "text": [
      "epoch #23| 97%|################################################  |ETA:  0:00:09\r"
     ]
    },
    {
     "name": "stdout",
     "output_type": "stream",
     "text": [
      "---------------------\n",
      "GEN Loss: 1.5379554 1.1376377\n",
      "Feature Matching Loss: 0.011124579 0.01149714\n",
      "RECON Loss: 0.028126389 0.025677457\n",
      "DIS Loss: 0.579494 0.36689386\n"
     ]
    },
    {
     "name": "stderr",
     "output_type": "stream",
     "text": [
      "epoch #24|  3%|#                                                 |ETA:  0:04:54\r"
     ]
    },
    {
     "name": "stdout",
     "output_type": "stream",
     "text": [
      "---------------------\n",
      "GEN Loss: 0.8114843 1.4966977\n",
      "Feature Matching Loss: 0.010105117 0.009160011\n",
      "RECON Loss: 0.032680366 0.022014337\n",
      "DIS Loss: 0.4572327 0.29266983\n"
     ]
    },
    {
     "name": "stderr",
     "output_type": "stream",
     "text": [
      "epoch #24| 10%|#####                                             |ETA:  0:04:35\r"
     ]
    },
    {
     "name": "stdout",
     "output_type": "stream",
     "text": [
      "---------------------\n",
      "GEN Loss: 0.3330894 1.1200922\n",
      "Feature Matching Loss: 0.011557381 0.009881603\n",
      "RECON Loss: 0.028821848 0.02466098\n",
      "DIS Loss: 0.9274534 0.48123989\n"
     ]
    },
    {
     "name": "stderr",
     "output_type": "stream",
     "text": [
      "epoch #24| 16%|########                                          |ETA:  0:04:15\r"
     ]
    },
    {
     "name": "stdout",
     "output_type": "stream",
     "text": [
      "---------------------\n",
      "GEN Loss: 0.8485415 1.0505792\n",
      "Feature Matching Loss: 0.010781877 0.00909767\n",
      "RECON Loss: 0.028648673 0.021613942\n",
      "DIS Loss: 0.45369133 0.4420889\n"
     ]
    },
    {
     "name": "stderr",
     "output_type": "stream",
     "text": [
      "epoch #24| 22%|###########                                       |ETA:  0:03:56\r"
     ]
    },
    {
     "name": "stdout",
     "output_type": "stream",
     "text": [
      "---------------------\n",
      "GEN Loss: 2.2451677 1.4961648\n",
      "Feature Matching Loss: 0.011160878 0.009498093\n",
      "RECON Loss: 0.027674971 0.024203232\n",
      "DIS Loss: 0.557709 0.38685095\n"
     ]
    },
    {
     "name": "stderr",
     "output_type": "stream",
     "text": [
      "epoch #24| 29%|##############                                    |ETA:  0:03:36\r"
     ]
    },
    {
     "name": "stdout",
     "output_type": "stream",
     "text": [
      "---------------------\n",
      "GEN Loss: 0.68455386 1.4345894\n",
      "Feature Matching Loss: 0.009219906 0.009137442\n",
      "RECON Loss: 0.033552524 0.023240602\n",
      "DIS Loss: 0.6723338 0.4671477\n"
     ]
    },
    {
     "name": "stderr",
     "output_type": "stream",
     "text": [
      "epoch #24| 35%|#################                                 |ETA:  0:03:16\r"
     ]
    },
    {
     "name": "stdout",
     "output_type": "stream",
     "text": [
      "---------------------\n",
      "GEN Loss: 1.0318768 1.3717828\n",
      "Feature Matching Loss: 0.013694656 0.010732554\n",
      "RECON Loss: 0.033723447 0.026894169\n",
      "DIS Loss: 0.42441106 0.44346923\n"
     ]
    },
    {
     "name": "stderr",
     "output_type": "stream",
     "text": [
      "epoch #24| 42%|#####################                             |ETA:  0:02:57\r"
     ]
    },
    {
     "name": "stdout",
     "output_type": "stream",
     "text": [
      "---------------------\n",
      "GEN Loss: 1.2682848 1.5593525\n",
      "Feature Matching Loss: 0.011513097 0.010173336\n",
      "RECON Loss: 0.028042318 0.025616745\n",
      "DIS Loss: 0.5318576 0.26770025\n"
     ]
    },
    {
     "name": "stderr",
     "output_type": "stream",
     "text": [
      "epoch #24| 48%|########################                          |ETA:  0:02:39\r"
     ]
    },
    {
     "name": "stdout",
     "output_type": "stream",
     "text": [
      "---------------------\n",
      "GEN Loss: 0.9910003 0.830125\n",
      "Feature Matching Loss: 0.01001871 0.009295348\n",
      "RECON Loss: 0.028236842 0.022819703\n",
      "DIS Loss: 0.5460206 0.4347968\n"
     ]
    },
    {
     "name": "stderr",
     "output_type": "stream",
     "text": [
      "epoch #24| 55%|###########################                       |ETA:  0:02:19\r"
     ]
    },
    {
     "name": "stdout",
     "output_type": "stream",
     "text": [
      "---------------------\n",
      "GEN Loss: 1.9943192 1.5036135\n",
      "Feature Matching Loss: 0.008944174 0.011470603\n",
      "RECON Loss: 0.029066047 0.02249047\n",
      "DIS Loss: 0.6000284 0.36379176\n"
     ]
    },
    {
     "name": "stderr",
     "output_type": "stream",
     "text": [
      "epoch #24| 61%|##############################                    |ETA:  0:01:58\r"
     ]
    },
    {
     "name": "stdout",
     "output_type": "stream",
     "text": [
      "---------------------\n",
      "GEN Loss: 1.3096876 2.7655778\n",
      "Feature Matching Loss: 0.013921285 0.011272188\n",
      "RECON Loss: 0.026948666 0.022792684\n",
      "DIS Loss: 0.43815386 0.49291694\n"
     ]
    },
    {
     "name": "stderr",
     "output_type": "stream",
     "text": [
      "epoch #24| 67%|#################################                 |ETA:  0:01:39\r"
     ]
    },
    {
     "name": "stdout",
     "output_type": "stream",
     "text": [
      "---------------------\n",
      "GEN Loss: 1.334389 1.1658465\n",
      "Feature Matching Loss: 0.010719691 0.008553527\n",
      "RECON Loss: 0.029812882 0.025438989\n",
      "DIS Loss: 0.34959483 0.4137378\n"
     ]
    },
    {
     "name": "stderr",
     "output_type": "stream",
     "text": [
      "epoch #24| 74%|#####################################             |ETA:  0:01:19\r"
     ]
    },
    {
     "name": "stdout",
     "output_type": "stream",
     "text": [
      "---------------------\n",
      "GEN Loss: 1.0951395 1.253069\n",
      "Feature Matching Loss: 0.012558417 0.011064207\n",
      "RECON Loss: 0.02933292 0.027064433\n",
      "DIS Loss: 0.5477098 0.33285522\n"
     ]
    },
    {
     "name": "stderr",
     "output_type": "stream",
     "text": [
      "epoch #24| 80%|########################################          |ETA:  0:00:59\r"
     ]
    },
    {
     "name": "stdout",
     "output_type": "stream",
     "text": [
      "---------------------\n",
      "GEN Loss: 1.0310419 1.5586957\n",
      "Feature Matching Loss: 0.011877303 0.008964803\n",
      "RECON Loss: 0.03182739 0.022822\n",
      "DIS Loss: 0.48465872 0.37447053\n"
     ]
    },
    {
     "name": "stderr",
     "output_type": "stream",
     "text": [
      "epoch #24| 87%|###########################################       |ETA:  0:00:40\r"
     ]
    },
    {
     "name": "stdout",
     "output_type": "stream",
     "text": [
      "---------------------\n",
      "GEN Loss: 1.103745 1.4891522\n",
      "Feature Matching Loss: 0.010732165 0.0102047995\n",
      "RECON Loss: 0.030915573 0.025562279\n",
      "DIS Loss: 0.48321474 0.41365173\n"
     ]
    },
    {
     "name": "stderr",
     "output_type": "stream",
     "text": [
      "epoch #24| 93%|##############################################    |ETA:  0:00:19\r"
     ]
    },
    {
     "name": "stdout",
     "output_type": "stream",
     "text": [
      "---------------------\n",
      "GEN Loss: 0.90851307 2.2164533\n",
      "Feature Matching Loss: 0.009867316 0.009511842\n",
      "RECON Loss: 0.031499323 0.022590235\n",
      "DIS Loss: 0.56889933 0.4881021\n"
     ]
    },
    {
     "name": "stderr",
     "output_type": "stream",
     "text": [
      "epoch #25|  0%|                                                 |ETA:  --:--:--\r"
     ]
    },
    {
     "name": "stdout",
     "output_type": "stream",
     "text": [
      "---------------------\n",
      "GEN Loss: 1.5977806 0.95680046\n",
      "Feature Matching Loss: 0.0130821485 0.010187497\n",
      "RECON Loss: 0.029501757 0.025684977\n",
      "DIS Loss: 0.37049046 0.3732705\n"
     ]
    },
    {
     "name": "stderr",
     "output_type": "stream",
     "text": [
      "epoch #25|  6%|###                                               |ETA:  0:04:48\r"
     ]
    },
    {
     "name": "stdout",
     "output_type": "stream",
     "text": [
      "---------------------\n",
      "GEN Loss: 1.1450789 0.92256886\n",
      "Feature Matching Loss: 0.01218752 0.009205889\n",
      "RECON Loss: 0.028562272 0.022350298\n",
      "DIS Loss: 0.55379605 0.42527738\n"
     ]
    },
    {
     "name": "stderr",
     "output_type": "stream",
     "text": [
      "epoch #25| 12%|######                                            |ETA:  0:04:27\r"
     ]
    },
    {
     "name": "stdout",
     "output_type": "stream",
     "text": [
      "---------------------\n",
      "GEN Loss: 1.3063235 0.73225015\n",
      "Feature Matching Loss: 0.011076523 0.009654099\n",
      "RECON Loss: 0.031046184 0.027737053\n",
      "DIS Loss: 0.48578864 0.4535525\n"
     ]
    },
    {
     "name": "stderr",
     "output_type": "stream",
     "text": [
      "epoch #25| 19%|#########                                         |ETA:  0:04:07\r"
     ]
    },
    {
     "name": "stdout",
     "output_type": "stream",
     "text": [
      "---------------------\n",
      "GEN Loss: 1.8680968 2.0299082\n",
      "Feature Matching Loss: 0.009289731 0.011352482\n",
      "RECON Loss: 0.032850508 0.021607973\n",
      "DIS Loss: 0.43293154 0.4045029\n"
     ]
    },
    {
     "name": "stderr",
     "output_type": "stream",
     "text": [
      "epoch #25| 25%|############                                      |ETA:  0:03:47\r"
     ]
    },
    {
     "name": "stdout",
     "output_type": "stream",
     "text": [
      "---------------------\n",
      "GEN Loss: 1.6424797 1.4629341\n",
      "Feature Matching Loss: 0.015142481 0.010428669\n",
      "RECON Loss: 0.029795775 0.025309404\n",
      "DIS Loss: 0.38155347 0.38724208\n"
     ]
    },
    {
     "name": "stderr",
     "output_type": "stream",
     "text": [
      "epoch #25| 32%|################                                  |ETA:  0:03:28\r"
     ]
    },
    {
     "name": "stdout",
     "output_type": "stream",
     "text": [
      "---------------------\n",
      "GEN Loss: 0.99613225 1.3261982\n",
      "Feature Matching Loss: 0.010314418 0.011166418\n",
      "RECON Loss: 0.028865866 0.022450758\n",
      "DIS Loss: 0.5234156 0.40752107\n"
     ]
    },
    {
     "name": "stderr",
     "output_type": "stream",
     "text": [
      "epoch #25| 38%|###################                               |ETA:  0:03:08\r"
     ]
    },
    {
     "name": "stdout",
     "output_type": "stream",
     "text": [
      "---------------------\n",
      "GEN Loss: 1.3527138 1.5154133\n",
      "Feature Matching Loss: 0.012905478 0.009888478\n",
      "RECON Loss: 0.029331805 0.025535455\n",
      "DIS Loss: 0.71511215 0.3454579\n"
     ]
    },
    {
     "name": "stderr",
     "output_type": "stream",
     "text": [
      "epoch #25| 45%|######################                            |ETA:  0:02:48\r"
     ]
    },
    {
     "name": "stdout",
     "output_type": "stream",
     "text": [
      "---------------------\n",
      "GEN Loss: 1.281672 1.0433733\n",
      "Feature Matching Loss: 0.010549852 0.010752771\n",
      "RECON Loss: 0.027755752 0.02222105\n",
      "DIS Loss: 0.57288325 0.39445004\n"
     ]
    },
    {
     "name": "stderr",
     "output_type": "stream",
     "text": [
      "epoch #25| 51%|#########################                         |ETA:  0:02:29\r"
     ]
    },
    {
     "name": "stdout",
     "output_type": "stream",
     "text": [
      "---------------------\n",
      "GEN Loss: 0.8980415 1.9737184\n",
      "Feature Matching Loss: 0.011055344 0.010100706\n",
      "RECON Loss: 0.028947754 0.023671426\n",
      "DIS Loss: 0.37451175 0.5440779\n"
     ]
    },
    {
     "name": "stderr",
     "output_type": "stream",
     "text": [
      "epoch #25| 57%|############################                      |ETA:  0:02:09\r"
     ]
    },
    {
     "name": "stdout",
     "output_type": "stream",
     "text": [
      "---------------------\n",
      "GEN Loss: 0.9804269 1.828185\n",
      "Feature Matching Loss: 0.013267579 0.011214716\n",
      "RECON Loss: 0.029833784 0.02420406\n",
      "DIS Loss: 0.56119275 0.33574978\n"
     ]
    },
    {
     "name": "stderr",
     "output_type": "stream",
     "text": [
      "epoch #25| 64%|################################                  |ETA:  0:01:49\r"
     ]
    },
    {
     "name": "stdout",
     "output_type": "stream",
     "text": [
      "---------------------\n",
      "GEN Loss: 1.0429585 1.2811182\n",
      "Feature Matching Loss: 0.012177563 0.0097107785\n",
      "RECON Loss: 0.02920802 0.025972439\n",
      "DIS Loss: 0.8436125 0.42675683\n"
     ]
    },
    {
     "name": "stderr",
     "output_type": "stream",
     "text": [
      "epoch #25| 70%|###################################               |ETA:  0:01:30\r"
     ]
    },
    {
     "name": "stdout",
     "output_type": "stream",
     "text": [
      "---------------------\n",
      "GEN Loss: 2.1055284 2.3526244\n",
      "Feature Matching Loss: 0.010454522 0.010035418\n",
      "RECON Loss: 0.031481758 0.025106298\n",
      "DIS Loss: 0.761904 0.50630045\n"
     ]
    },
    {
     "name": "stderr",
     "output_type": "stream",
     "text": [
      "epoch #25| 76%|######################################            |ETA:  0:01:11\r"
     ]
    },
    {
     "name": "stdout",
     "output_type": "stream",
     "text": [
      "---------------------\n",
      "GEN Loss: 2.0233734 1.7215513\n",
      "Feature Matching Loss: 0.01218802 0.009646205\n",
      "RECON Loss: 0.029265901 0.025758514\n",
      "DIS Loss: 0.70368373 0.42260355\n"
     ]
    },
    {
     "name": "stderr",
     "output_type": "stream",
     "text": [
      "epoch #25| 83%|#########################################         |ETA:  0:00:50\r"
     ]
    },
    {
     "name": "stdout",
     "output_type": "stream",
     "text": [
      "---------------------\n",
      "GEN Loss: 0.93931 0.56877124\n",
      "Feature Matching Loss: 0.012722967 0.007882375\n",
      "RECON Loss: 0.032216694 0.025043583\n",
      "DIS Loss: 0.35346946 0.6150312\n"
     ]
    },
    {
     "name": "stderr",
     "output_type": "stream",
     "text": [
      "epoch #25| 90%|#############################################     |ETA:  0:00:30\r"
     ]
    },
    {
     "name": "stdout",
     "output_type": "stream",
     "text": [
      "---------------------\n",
      "GEN Loss: 1.31514 1.0847902\n",
      "Feature Matching Loss: 0.012500791 0.009528108\n",
      "RECON Loss: 0.027787521 0.02480323\n",
      "DIS Loss: 0.5295163 0.36358744\n"
     ]
    },
    {
     "name": "stderr",
     "output_type": "stream",
     "text": [
      "epoch #25| 96%|################################################  |ETA:  0:00:11\r"
     ]
    },
    {
     "name": "stdout",
     "output_type": "stream",
     "text": [
      "---------------------\n",
      "GEN Loss: 1.0995371 3.3910282\n",
      "Feature Matching Loss: 0.009881163 0.009422638\n",
      "RECON Loss: 0.027482182 0.022912541\n",
      "DIS Loss: 0.30687508 0.72142977\n"
     ]
    },
    {
     "name": "stderr",
     "output_type": "stream",
     "text": [
      "epoch #26|  2%|#                                                 |ETA:  0:04:56\r"
     ]
    },
    {
     "name": "stdout",
     "output_type": "stream",
     "text": [
      "---------------------\n",
      "GEN Loss: 1.043421 1.7435607\n",
      "Feature Matching Loss: 0.009616699 0.009472042\n",
      "RECON Loss: 0.032319915 0.021851579\n",
      "DIS Loss: 0.44080907 0.39336586\n"
     ]
    },
    {
     "name": "stderr",
     "output_type": "stream",
     "text": [
      "epoch #26|  9%|####                                              |ETA:  0:04:37\r"
     ]
    },
    {
     "name": "stdout",
     "output_type": "stream",
     "text": [
      "---------------------\n",
      "GEN Loss: 1.5514854 1.646575\n",
      "Feature Matching Loss: 0.009911697 0.011205377\n",
      "RECON Loss: 0.030999698 0.03073763\n",
      "DIS Loss: 0.49503666 0.29528314\n"
     ]
    },
    {
     "name": "stderr",
     "output_type": "stream",
     "text": [
      "epoch #26| 15%|#######                                           |ETA:  0:04:18\r"
     ]
    },
    {
     "name": "stdout",
     "output_type": "stream",
     "text": [
      "---------------------\n",
      "GEN Loss: 1.4854304 2.0066595\n",
      "Feature Matching Loss: 0.012109299 0.011587782\n",
      "RECON Loss: 0.031357545 0.023900159\n",
      "DIS Loss: 0.501832 0.33326462\n"
     ]
    },
    {
     "name": "stderr",
     "output_type": "stream",
     "text": [
      "epoch #26| 21%|##########                                        |ETA:  0:03:59\r"
     ]
    },
    {
     "name": "stdout",
     "output_type": "stream",
     "text": [
      "---------------------\n",
      "GEN Loss: 0.99884284 2.0062065\n",
      "Feature Matching Loss: 0.009912055 0.011064192\n",
      "RECON Loss: 0.030208385 0.023720214\n",
      "DIS Loss: 0.55406 0.41418332\n"
     ]
    },
    {
     "name": "stderr",
     "output_type": "stream",
     "text": [
      "epoch #26| 28%|##############                                    |ETA:  0:03:39\r"
     ]
    },
    {
     "name": "stdout",
     "output_type": "stream",
     "text": [
      "---------------------\n",
      "GEN Loss: 1.183644 2.3856764\n",
      "Feature Matching Loss: 0.011262012 0.011821799\n",
      "RECON Loss: 0.030678302 0.02595982\n",
      "DIS Loss: 0.42163482 0.5231419\n"
     ]
    },
    {
     "name": "stderr",
     "output_type": "stream",
     "text": [
      "epoch #26| 35%|#################                                 |ETA:  0:03:19\r"
     ]
    },
    {
     "name": "stdout",
     "output_type": "stream",
     "text": [
      "---------------------\n",
      "GEN Loss: 1.3738368 1.5405314\n",
      "Feature Matching Loss: 0.011547444 0.009939756\n",
      "RECON Loss: 0.03015527 0.022066118\n",
      "DIS Loss: 0.4658437 0.30601892\n"
     ]
    },
    {
     "name": "stderr",
     "output_type": "stream",
     "text": [
      "epoch #26| 41%|####################                              |ETA:  0:03:00\r"
     ]
    },
    {
     "name": "stdout",
     "output_type": "stream",
     "text": [
      "---------------------\n",
      "GEN Loss: 0.84564483 0.48805076\n",
      "Feature Matching Loss: 0.009057879 0.011094712\n",
      "RECON Loss: 0.029749453 0.022400657\n",
      "DIS Loss: 0.59206665 0.5854627\n"
     ]
    },
    {
     "name": "stderr",
     "output_type": "stream",
     "text": [
      "epoch #26| 47%|#######################                           |ETA:  0:02:40\r"
     ]
    },
    {
     "name": "stdout",
     "output_type": "stream",
     "text": [
      "---------------------\n",
      "GEN Loss: 0.3802523 1.1553912\n",
      "Feature Matching Loss: 0.011420947 0.0105243735\n",
      "RECON Loss: 0.030999482 0.02620838\n",
      "DIS Loss: 0.8024514 0.3592857\n"
     ]
    },
    {
     "name": "stderr",
     "output_type": "stream",
     "text": [
      "epoch #26| 54%|###########################                       |ETA:  0:02:20\r"
     ]
    },
    {
     "name": "stdout",
     "output_type": "stream",
     "text": [
      "---------------------\n",
      "GEN Loss: 1.1683514 1.5924282\n",
      "Feature Matching Loss: 0.011245079 0.009877581\n",
      "RECON Loss: 0.03050421 0.028240724\n",
      "DIS Loss: 0.42465627 0.36858827\n"
     ]
    },
    {
     "name": "stderr",
     "output_type": "stream",
     "text": [
      "epoch #26| 60%|##############################                    |ETA:  0:02:01\r"
     ]
    },
    {
     "name": "stdout",
     "output_type": "stream",
     "text": [
      "---------------------\n",
      "GEN Loss: 0.74149084 1.8557702\n",
      "Feature Matching Loss: 0.009979822 0.013171613\n",
      "RECON Loss: 0.02998967 0.024438957\n",
      "DIS Loss: 0.4704925 0.5545807\n"
     ]
    },
    {
     "name": "stderr",
     "output_type": "stream",
     "text": [
      "epoch #26| 67%|#################################                 |ETA:  0:01:41\r"
     ]
    },
    {
     "name": "stdout",
     "output_type": "stream",
     "text": [
      "---------------------\n",
      "GEN Loss: 1.1575392 0.904487\n",
      "Feature Matching Loss: 0.01398582 0.009055184\n",
      "RECON Loss: 0.027080357 0.024281183\n",
      "DIS Loss: 0.54113567 0.44107905\n"
     ]
    },
    {
     "name": "stderr",
     "output_type": "stream",
     "text": [
      "epoch #26| 73%|####################################              |ETA:  0:01:21\r"
     ]
    },
    {
     "name": "stdout",
     "output_type": "stream",
     "text": [
      "---------------------\n",
      "GEN Loss: 1.9813573 1.1937757\n",
      "Feature Matching Loss: 0.015443614 0.008814593\n",
      "RECON Loss: 0.030948585 0.025841242\n",
      "DIS Loss: 0.23309036 0.36529392\n"
     ]
    },
    {
     "name": "stderr",
     "output_type": "stream",
     "text": [
      "epoch #26| 79%|#######################################           |ETA:  0:01:02\r"
     ]
    },
    {
     "name": "stdout",
     "output_type": "stream",
     "text": [
      "---------------------\n",
      "GEN Loss: 1.747215 1.3872691\n",
      "Feature Matching Loss: 0.014631548 0.01098118\n",
      "RECON Loss: 0.029321646 0.026250565\n",
      "DIS Loss: 0.6988055 0.45801994\n"
     ]
    },
    {
     "name": "stderr",
     "output_type": "stream",
     "text": [
      "epoch #26| 86%|###########################################       |ETA:  0:00:41\r"
     ]
    },
    {
     "name": "stdout",
     "output_type": "stream",
     "text": [
      "---------------------\n",
      "GEN Loss: 1.0138915 1.225173\n",
      "Feature Matching Loss: 0.011097444 0.010333266\n",
      "RECON Loss: 0.0306495 0.02094113\n",
      "DIS Loss: 0.5909839 0.40125862\n"
     ]
    },
    {
     "name": "stderr",
     "output_type": "stream",
     "text": [
      "epoch #26| 92%|##############################################    |ETA:  0:00:21\r"
     ]
    },
    {
     "name": "stdout",
     "output_type": "stream",
     "text": [
      "---------------------\n",
      "GEN Loss: 1.1338599 1.9566278\n",
      "Feature Matching Loss: 0.012737855 0.009573608\n",
      "RECON Loss: 0.03366816 0.024686767\n",
      "DIS Loss: 0.3155613 0.31987017\n"
     ]
    },
    {
     "name": "stderr",
     "output_type": "stream",
     "text": [
      "epoch #26| 99%|################################################# |ETA:  0:00:02\r"
     ]
    },
    {
     "name": "stdout",
     "output_type": "stream",
     "text": [
      "---------------------\n",
      "GEN Loss: 1.8023098 1.2544646\n",
      "Feature Matching Loss: 0.010565546 0.011611819\n",
      "RECON Loss: 0.031552203 0.026172727\n",
      "DIS Loss: 0.4726593 0.29303694\n"
     ]
    },
    {
     "name": "stderr",
     "output_type": "stream",
     "text": [
      "epoch #27|  5%|##                                                |ETA:  0:04:49\r"
     ]
    },
    {
     "name": "stdout",
     "output_type": "stream",
     "text": [
      "---------------------\n",
      "GEN Loss: 1.6634533 1.327523\n",
      "Feature Matching Loss: 0.010553387 0.008811684\n",
      "RECON Loss: 0.031430397 0.02357616\n",
      "DIS Loss: 0.4310326 0.3274765\n"
     ]
    },
    {
     "name": "stderr",
     "output_type": "stream",
     "text": [
      "epoch #27| 11%|#####                                             |ETA:  0:04:28\r"
     ]
    },
    {
     "name": "stdout",
     "output_type": "stream",
     "text": [
      "---------------------\n",
      "GEN Loss: 1.1658936 2.5768495\n",
      "Feature Matching Loss: 0.014412259 0.011482715\n",
      "RECON Loss: 0.031020766 0.024855196\n",
      "DIS Loss: 0.4237974 0.2951221\n"
     ]
    },
    {
     "name": "stderr",
     "output_type": "stream",
     "text": [
      "epoch #27| 18%|#########                                         |ETA:  0:04:09\r"
     ]
    },
    {
     "name": "stdout",
     "output_type": "stream",
     "text": [
      "---------------------\n",
      "GEN Loss: 0.8098129 0.9876535\n",
      "Feature Matching Loss: 0.013535516 0.011254125\n",
      "RECON Loss: 0.030835623 0.023880856\n",
      "DIS Loss: 0.46807647 0.47523886\n"
     ]
    },
    {
     "name": "stderr",
     "output_type": "stream",
     "text": [
      "epoch #27| 25%|############                                      |ETA:  0:03:49\r"
     ]
    },
    {
     "name": "stdout",
     "output_type": "stream",
     "text": [
      "---------------------\n",
      "GEN Loss: 1.8591754 1.8241155\n",
      "Feature Matching Loss: 0.014527312 0.01104336\n",
      "RECON Loss: 0.035075616 0.025194438\n",
      "DIS Loss: 0.7917263 0.29510576\n"
     ]
    },
    {
     "name": "stderr",
     "output_type": "stream",
     "text": [
      "epoch #27| 31%|###############                                   |ETA:  0:03:30\r"
     ]
    },
    {
     "name": "stdout",
     "output_type": "stream",
     "text": [
      "---------------------\n",
      "GEN Loss: 1.0477383 1.3040254\n",
      "Feature Matching Loss: 0.0109452335 0.0098402705\n",
      "RECON Loss: 0.029474646 0.0251922\n",
      "DIS Loss: 0.37588987 0.28162995\n"
     ]
    },
    {
     "name": "stderr",
     "output_type": "stream",
     "text": [
      "epoch #27| 37%|##################                                |ETA:  0:03:10\r"
     ]
    },
    {
     "name": "stdout",
     "output_type": "stream",
     "text": [
      "---------------------\n",
      "GEN Loss: 1.9352244 1.3862116\n",
      "Feature Matching Loss: 0.011385721 0.009750325\n",
      "RECON Loss: 0.032354865 0.02362823\n",
      "DIS Loss: 0.7282673 0.41067392\n"
     ]
    },
    {
     "name": "stderr",
     "output_type": "stream",
     "text": [
      "epoch #27| 44%|######################                            |ETA:  0:02:50\r"
     ]
    },
    {
     "name": "stdout",
     "output_type": "stream",
     "text": [
      "---------------------\n",
      "GEN Loss: 1.2513621 0.8223627\n",
      "Feature Matching Loss: 0.010769826 0.009640803\n",
      "RECON Loss: 0.029897673 0.023342723\n",
      "DIS Loss: 0.531555 0.43568936\n"
     ]
    },
    {
     "name": "stderr",
     "output_type": "stream",
     "text": [
      "epoch #27| 50%|#########################                         |ETA:  0:02:31\r"
     ]
    },
    {
     "name": "stdout",
     "output_type": "stream",
     "text": [
      "---------------------\n",
      "GEN Loss: 1.4956758 1.6197408\n",
      "Feature Matching Loss: 0.012252057 0.011142584\n",
      "RECON Loss: 0.030052138 0.026904156\n",
      "DIS Loss: 0.32481512 0.2750431\n"
     ]
    },
    {
     "name": "stderr",
     "output_type": "stream",
     "text": [
      "epoch #27| 57%|############################                      |ETA:  0:02:11\r"
     ]
    },
    {
     "name": "stdout",
     "output_type": "stream",
     "text": [
      "---------------------\n",
      "GEN Loss: 1.3798299 1.1708062\n",
      "Feature Matching Loss: 0.010314937 0.009854007\n",
      "RECON Loss: 0.033437755 0.02327945\n",
      "DIS Loss: 0.45906594 0.38025543\n"
     ]
    },
    {
     "name": "stderr",
     "output_type": "stream",
     "text": [
      "epoch #27| 63%|###############################                   |ETA:  0:01:51\r"
     ]
    },
    {
     "name": "stdout",
     "output_type": "stream",
     "text": [
      "---------------------\n",
      "GEN Loss: 0.9011818 1.1742779\n",
      "Feature Matching Loss: 0.01103319 0.0099662095\n",
      "RECON Loss: 0.03173152 0.024278574\n",
      "DIS Loss: 0.5900143 0.36459747\n"
     ]
    },
    {
     "name": "stderr",
     "output_type": "stream",
     "text": [
      "epoch #27| 69%|##################################                |ETA:  0:01:32\r"
     ]
    },
    {
     "name": "stdout",
     "output_type": "stream",
     "text": [
      "---------------------\n",
      "GEN Loss: 1.90251 2.3024821\n",
      "Feature Matching Loss: 0.014357985 0.009848965\n",
      "RECON Loss: 0.03534292 0.027474664\n",
      "DIS Loss: 0.19210052 0.46354356\n"
     ]
    },
    {
     "name": "stderr",
     "output_type": "stream",
     "text": [
      "epoch #27| 76%|######################################            |ETA:  0:01:12\r"
     ]
    },
    {
     "name": "stdout",
     "output_type": "stream",
     "text": [
      "---------------------\n",
      "GEN Loss: 1.5162108 2.8064818\n",
      "Feature Matching Loss: 0.0132497195 0.010195702\n",
      "RECON Loss: 0.03146921 0.027041825\n",
      "DIS Loss: 0.67801 0.4855855\n"
     ]
    },
    {
     "name": "stderr",
     "output_type": "stream",
     "text": [
      "epoch #27| 82%|#########################################         |ETA:  0:00:52\r"
     ]
    },
    {
     "name": "stdout",
     "output_type": "stream",
     "text": [
      "---------------------\n",
      "GEN Loss: 1.357482 0.81362784\n",
      "Feature Matching Loss: 0.012152335 0.009638725\n",
      "RECON Loss: 0.033855643 0.023280904\n",
      "DIS Loss: 0.51841545 0.43267035\n"
     ]
    },
    {
     "name": "stderr",
     "output_type": "stream",
     "text": [
      "epoch #27| 89%|############################################      |ETA:  0:00:33\r"
     ]
    },
    {
     "name": "stdout",
     "output_type": "stream",
     "text": [
      "---------------------\n",
      "GEN Loss: 1.2875078 1.3083217\n",
      "Feature Matching Loss: 0.013900271 0.01124778\n",
      "RECON Loss: 0.033312198 0.023806898\n",
      "DIS Loss: 0.5575725 0.3723434\n"
     ]
    },
    {
     "name": "stderr",
     "output_type": "stream",
     "text": [
      "epoch #27| 95%|###############################################   |ETA:  0:00:13\r"
     ]
    },
    {
     "name": "stdout",
     "output_type": "stream",
     "text": [
      "---------------------\n",
      "GEN Loss: 1.1098013 2.8453214\n",
      "Feature Matching Loss: 0.012444336 0.009007579\n",
      "RECON Loss: 0.03722022 0.028120296\n",
      "DIS Loss: 0.5897726 0.44693905\n"
     ]
    },
    {
     "name": "stderr",
     "output_type": "stream",
     "text": [
      "epoch #28|  1%|                                                  |ETA:  0:04:58\r"
     ]
    },
    {
     "name": "stdout",
     "output_type": "stream",
     "text": [
      "---------------------\n",
      "GEN Loss: 1.8887885 2.9662156\n",
      "Feature Matching Loss: 0.011783485 0.010602056\n",
      "RECON Loss: 0.03252558 0.028002104\n",
      "DIS Loss: 0.5368381 0.4078706\n"
     ]
    },
    {
     "name": "stderr",
     "output_type": "stream",
     "text": [
      "epoch #28|  8%|####                                              |ETA:  0:04:39\r"
     ]
    },
    {
     "name": "stdout",
     "output_type": "stream",
     "text": [
      "---------------------\n",
      "GEN Loss: 0.87452614 2.2394083\n",
      "Feature Matching Loss: 0.009505695 0.008964885\n",
      "RECON Loss: 0.031194337 0.02441255\n",
      "DIS Loss: 0.57096773 0.25787395\n"
     ]
    },
    {
     "name": "stderr",
     "output_type": "stream",
     "text": [
      "epoch #28| 15%|#######                                           |ETA:  0:04:20\r"
     ]
    },
    {
     "name": "stdout",
     "output_type": "stream",
     "text": [
      "---------------------\n",
      "GEN Loss: 1.4665606 1.3157173\n",
      "Feature Matching Loss: 0.011457667 0.009284611\n",
      "RECON Loss: 0.034378476 0.02511142\n",
      "DIS Loss: 0.42250136 0.3810112\n"
     ]
    },
    {
     "name": "stderr",
     "output_type": "stream",
     "text": [
      "epoch #28| 21%|##########                                        |ETA:  0:04:01\r"
     ]
    },
    {
     "name": "stdout",
     "output_type": "stream",
     "text": [
      "---------------------\n",
      "GEN Loss: 2.488909 0.70399547\n",
      "Feature Matching Loss: 0.010311889 0.008744482\n",
      "RECON Loss: 0.028924948 0.025270848\n",
      "DIS Loss: 0.59245944 0.47850987\n"
     ]
    },
    {
     "name": "stderr",
     "output_type": "stream",
     "text": [
      "epoch #28| 27%|#############                                     |ETA:  0:03:41\r"
     ]
    },
    {
     "name": "stdout",
     "output_type": "stream",
     "text": [
      "---------------------\n",
      "GEN Loss: 1.310024 1.4338763\n",
      "Feature Matching Loss: 0.010877496 0.009572909\n",
      "RECON Loss: 0.03408392 0.028644338\n",
      "DIS Loss: 0.52174085 0.3042955\n"
     ]
    },
    {
     "name": "stderr",
     "output_type": "stream",
     "text": [
      "epoch #28| 34%|#################                                 |ETA:  0:03:25\r"
     ]
    },
    {
     "name": "stdout",
     "output_type": "stream",
     "text": [
      "---------------------\n",
      "GEN Loss: 1.1621304 2.0658007\n",
      "Feature Matching Loss: 0.010911973 0.010346106\n",
      "RECON Loss: 0.03327016 0.027015552\n",
      "DIS Loss: 0.4032477 0.41704857\n"
     ]
    },
    {
     "name": "stderr",
     "output_type": "stream",
     "text": [
      "epoch #28| 40%|####################                              |ETA:  0:03:04\r"
     ]
    },
    {
     "name": "stdout",
     "output_type": "stream",
     "text": [
      "---------------------\n",
      "GEN Loss: 0.96911216 3.088663\n",
      "Feature Matching Loss: 0.01379131 0.010232743\n",
      "RECON Loss: 0.03157595 0.024729028\n",
      "DIS Loss: 0.5575942 0.52709913\n"
     ]
    },
    {
     "name": "stderr",
     "output_type": "stream",
     "text": [
      "epoch #28| 47%|#######################                           |ETA:  0:02:43\r"
     ]
    },
    {
     "name": "stdout",
     "output_type": "stream",
     "text": [
      "---------------------\n",
      "GEN Loss: 1.3017157 2.6599095\n",
      "Feature Matching Loss: 0.014868082 0.009404107\n",
      "RECON Loss: 0.03538324 0.026482446\n",
      "DIS Loss: 0.37144867 0.48402268\n"
     ]
    },
    {
     "name": "stderr",
     "output_type": "stream",
     "text": [
      "epoch #28| 53%|##########################                        |ETA:  0:02:24\r"
     ]
    },
    {
     "name": "stdout",
     "output_type": "stream",
     "text": [
      "---------------------\n",
      "GEN Loss: 1.109858 2.5036378\n",
      "Feature Matching Loss: 0.00962654 0.008315607\n",
      "RECON Loss: 0.034668375 0.024340248\n",
      "DIS Loss: 0.34237814 0.41693264\n"
     ]
    },
    {
     "name": "stderr",
     "output_type": "stream",
     "text": [
      "epoch #28| 59%|#############################                     |ETA:  0:02:04\r"
     ]
    },
    {
     "name": "stdout",
     "output_type": "stream",
     "text": [
      "---------------------\n",
      "GEN Loss: 0.8508034 1.6883798\n",
      "Feature Matching Loss: 0.011986273 0.010333014\n",
      "RECON Loss: 0.030750996 0.023704633\n",
      "DIS Loss: 0.50946033 0.34018785\n"
     ]
    },
    {
     "name": "stderr",
     "output_type": "stream",
     "text": [
      "epoch #28| 66%|#################################                 |ETA:  0:01:43\r"
     ]
    },
    {
     "name": "stdout",
     "output_type": "stream",
     "text": [
      "---------------------\n",
      "GEN Loss: 1.8425463 1.8788383\n",
      "Feature Matching Loss: 0.009709654 0.009294257\n",
      "RECON Loss: 0.033909325 0.022867424\n",
      "DIS Loss: 0.7068306 0.36548668\n"
     ]
    },
    {
     "name": "stderr",
     "output_type": "stream",
     "text": [
      "epoch #28| 72%|####################################              |ETA:  0:01:24\r"
     ]
    },
    {
     "name": "stdout",
     "output_type": "stream",
     "text": [
      "---------------------\n",
      "GEN Loss: 1.3350848 1.6379822\n",
      "Feature Matching Loss: 0.011358477 0.010682839\n",
      "RECON Loss: 0.032888692 0.025159113\n",
      "DIS Loss: 0.4273942 0.34615207\n"
     ]
    },
    {
     "name": "stderr",
     "output_type": "stream",
     "text": [
      "epoch #28| 79%|#######################################           |ETA:  0:01:04\r"
     ]
    },
    {
     "name": "stdout",
     "output_type": "stream",
     "text": [
      "---------------------\n",
      "GEN Loss: 1.3793132 2.1976032\n",
      "Feature Matching Loss: 0.012315289 0.011322781\n",
      "RECON Loss: 0.03438602 0.026258996\n",
      "DIS Loss: 0.5049141 0.3761015\n"
     ]
    },
    {
     "name": "stderr",
     "output_type": "stream",
     "text": [
      "epoch #28| 85%|##########################################        |ETA:  0:00:44\r"
     ]
    },
    {
     "name": "stdout",
     "output_type": "stream",
     "text": [
      "---------------------\n",
      "GEN Loss: 1.9567101 1.656292\n",
      "Feature Matching Loss: 0.01085883 0.009760754\n",
      "RECON Loss: 0.031798724 0.02354808\n",
      "DIS Loss: 0.2525585 0.43399286\n"
     ]
    },
    {
     "name": "stderr",
     "output_type": "stream",
     "text": [
      "epoch #28| 91%|#############################################     |ETA:  0:00:24\r"
     ]
    },
    {
     "name": "stdout",
     "output_type": "stream",
     "text": [
      "---------------------\n",
      "GEN Loss: 1.1531818 2.048265\n",
      "Feature Matching Loss: 0.010257394 0.008860063\n",
      "RECON Loss: 0.029254781 0.026366927\n",
      "DIS Loss: 0.2943622 0.31827813\n"
     ]
    },
    {
     "name": "stderr",
     "output_type": "stream",
     "text": [
      "epoch #28| 98%|################################################# |ETA:  0:00:04\r"
     ]
    },
    {
     "name": "stdout",
     "output_type": "stream",
     "text": [
      "---------------------\n",
      "GEN Loss: 1.8471541 0.9188564\n",
      "Feature Matching Loss: 0.010574533 0.011334619\n",
      "RECON Loss: 0.036271613 0.027968457\n",
      "DIS Loss: 0.4115723 0.4064158\n"
     ]
    },
    {
     "name": "stderr",
     "output_type": "stream",
     "text": [
      "epoch #29|  5%|##                                                |ETA:  0:04:51\r"
     ]
    },
    {
     "name": "stdout",
     "output_type": "stream",
     "text": [
      "---------------------\n",
      "GEN Loss: 1.6557021 2.046677\n",
      "Feature Matching Loss: 0.008918951 0.010197269\n",
      "RECON Loss: 0.03150295 0.02417408\n",
      "DIS Loss: 0.45898768 0.36623242\n"
     ]
    },
    {
     "name": "stderr",
     "output_type": "stream",
     "text": [
      "epoch #29| 11%|#####                                             |ETA:  0:04:30\r"
     ]
    },
    {
     "name": "stdout",
     "output_type": "stream",
     "text": [
      "---------------------\n",
      "GEN Loss: 0.5589767 1.3677287\n",
      "Feature Matching Loss: 0.010779405 0.009125594\n",
      "RECON Loss: 0.03335054 0.027186507\n",
      "DIS Loss: 0.55426705 0.28395316\n"
     ]
    },
    {
     "name": "stderr",
     "output_type": "stream",
     "text": [
      "epoch #29| 17%|########                                          |ETA:  0:04:11\r"
     ]
    },
    {
     "name": "stdout",
     "output_type": "stream",
     "text": [
      "---------------------\n",
      "GEN Loss: 1.2506864 1.2073606\n",
      "Feature Matching Loss: 0.013226012 0.008102016\n",
      "RECON Loss: 0.03362314 0.024530277\n",
      "DIS Loss: 0.22646883 0.3725096\n"
     ]
    },
    {
     "name": "stderr",
     "output_type": "stream",
     "text": [
      "epoch #29| 24%|############                                      |ETA:  0:03:51\r"
     ]
    },
    {
     "name": "stdout",
     "output_type": "stream",
     "text": [
      "---------------------\n",
      "GEN Loss: 2.0710623 1.7801954\n",
      "Feature Matching Loss: 0.013201471 0.010997651\n",
      "RECON Loss: 0.034892995 0.025395228\n",
      "DIS Loss: 0.6601669 0.27450883\n"
     ]
    },
    {
     "name": "stderr",
     "output_type": "stream",
     "text": [
      "epoch #29| 30%|###############                                   |ETA:  0:03:32\r"
     ]
    },
    {
     "name": "stdout",
     "output_type": "stream",
     "text": [
      "---------------------\n",
      "GEN Loss: 1.0070328 2.1265109\n",
      "Feature Matching Loss: 0.011291986 0.009259408\n",
      "RECON Loss: 0.032823596 0.023459213\n",
      "DIS Loss: 0.577888 0.4017082\n"
     ]
    },
    {
     "name": "stderr",
     "output_type": "stream",
     "text": [
      "epoch #29| 37%|##################                                |ETA:  0:03:12\r"
     ]
    },
    {
     "name": "stdout",
     "output_type": "stream",
     "text": [
      "---------------------\n",
      "GEN Loss: 1.0277293 2.2534332\n",
      "Feature Matching Loss: 0.014615555 0.00924431\n",
      "RECON Loss: 0.035622522 0.024848545\n",
      "DIS Loss: 0.3767624 0.47568154\n"
     ]
    },
    {
     "name": "stderr",
     "output_type": "stream",
     "text": [
      "epoch #29| 43%|#####################                             |ETA:  0:02:52\r"
     ]
    },
    {
     "name": "stdout",
     "output_type": "stream",
     "text": [
      "---------------------\n",
      "GEN Loss: 1.3691187 2.8170218\n",
      "Feature Matching Loss: 0.013299062 0.008737133\n",
      "RECON Loss: 0.03493315 0.026556613\n",
      "DIS Loss: 0.2699262 0.37009597\n"
     ]
    },
    {
     "name": "stderr",
     "output_type": "stream",
     "text": [
      "epoch #29| 49%|########################                          |ETA:  0:02:33\r"
     ]
    },
    {
     "name": "stdout",
     "output_type": "stream",
     "text": [
      "---------------------\n",
      "GEN Loss: 2.4307857 0.9689094\n",
      "Feature Matching Loss: 0.0152809005 0.010432069\n",
      "RECON Loss: 0.032494873 0.024908436\n",
      "DIS Loss: 0.41615412 0.4350524\n"
     ]
    },
    {
     "name": "stderr",
     "output_type": "stream",
     "text": [
      "epoch #29| 56%|############################                      |ETA:  0:02:13\r"
     ]
    },
    {
     "name": "stdout",
     "output_type": "stream",
     "text": [
      "---------------------\n",
      "GEN Loss: 1.0243163 1.5696117\n",
      "Feature Matching Loss: 0.0154901855 0.010761598\n",
      "RECON Loss: 0.04279534 0.023103135\n",
      "DIS Loss: 0.3922688 0.30845016\n"
     ]
    },
    {
     "name": "stderr",
     "output_type": "stream",
     "text": [
      "epoch #29| 62%|###############################                   |ETA:  0:01:55\r"
     ]
    },
    {
     "name": "stdout",
     "output_type": "stream",
     "text": [
      "---------------------\n",
      "GEN Loss: 1.5966215 2.4212797\n",
      "Feature Matching Loss: 0.011640489 0.012616022\n",
      "RECON Loss: 0.038062856 0.028193286\n",
      "DIS Loss: 0.59112096 0.3340522\n"
     ]
    },
    {
     "name": "stderr",
     "output_type": "stream",
     "text": [
      "epoch #29| 69%|##################################                |ETA:  0:01:35\r"
     ]
    },
    {
     "name": "stdout",
     "output_type": "stream",
     "text": [
      "---------------------\n",
      "GEN Loss: 1.123983 1.3908806\n",
      "Feature Matching Loss: 0.013917123 0.011044181\n",
      "RECON Loss: 0.032341864 0.032103848\n",
      "DIS Loss: 0.6239549 0.2942297\n"
     ]
    },
    {
     "name": "stderr",
     "output_type": "stream",
     "text": [
      "epoch #29| 75%|#####################################             |ETA:  0:01:15\r"
     ]
    },
    {
     "name": "stdout",
     "output_type": "stream",
     "text": [
      "---------------------\n",
      "GEN Loss: 1.180302 1.4460325\n",
      "Feature Matching Loss: 0.011126004 0.014410464\n",
      "RECON Loss: 0.03213587 0.025684701\n",
      "DIS Loss: 0.5587925 0.30368218\n"
     ]
    },
    {
     "name": "stderr",
     "output_type": "stream",
     "text": [
      "epoch #29| 81%|########################################          |ETA:  0:00:55\r"
     ]
    },
    {
     "name": "stdout",
     "output_type": "stream",
     "text": [
      "---------------------\n",
      "GEN Loss: 1.1449969 2.1966693\n",
      "Feature Matching Loss: 0.0124806035 0.011062283\n",
      "RECON Loss: 0.03302544 0.023801863\n",
      "DIS Loss: 0.33644968 0.32281652\n"
     ]
    },
    {
     "name": "stderr",
     "output_type": "stream",
     "text": [
      "epoch #29| 88%|############################################      |ETA:  0:00:35\r"
     ]
    },
    {
     "name": "stdout",
     "output_type": "stream",
     "text": [
      "---------------------\n",
      "GEN Loss: 1.0011902 1.3067849\n",
      "Feature Matching Loss: 0.011624483 0.009251538\n",
      "RECON Loss: 0.03603329 0.026920276\n",
      "DIS Loss: 0.54267704 0.37224233\n"
     ]
    },
    {
     "name": "stderr",
     "output_type": "stream",
     "text": [
      "epoch #29| 94%|###############################################   |ETA:  0:00:15\r"
     ]
    },
    {
     "name": "stdout",
     "output_type": "stream",
     "text": [
      "---------------------\n",
      "GEN Loss: 0.9417391 1.7321647\n",
      "Feature Matching Loss: 0.011559507 0.010371044\n",
      "RECON Loss: 0.029345073 0.023704156\n",
      "DIS Loss: 0.31218588 0.38163283\n"
     ]
    },
    {
     "name": "stderr",
     "output_type": "stream",
     "text": [
      "epoch #30|  1%|                                                  |ETA:  0:05:02\r"
     ]
    },
    {
     "name": "stdout",
     "output_type": "stream",
     "text": [
      "---------------------\n",
      "GEN Loss: 1.3793892 0.89148945\n",
      "Feature Matching Loss: 0.008376168 0.009691696\n",
      "RECON Loss: 0.033436537 0.02674214\n",
      "DIS Loss: 0.47065854 0.41689306\n"
     ]
    },
    {
     "name": "stderr",
     "output_type": "stream",
     "text": [
      "epoch #30|  7%|###                                               |ETA:  0:04:42\r"
     ]
    },
    {
     "name": "stdout",
     "output_type": "stream",
     "text": [
      "---------------------\n",
      "GEN Loss: 0.73881006 0.57688296\n",
      "Feature Matching Loss: 0.009292057 0.010578005\n",
      "RECON Loss: 0.03159043 0.028114418\n",
      "DIS Loss: 0.58256876 0.5556436\n"
     ]
    },
    {
     "name": "stderr",
     "output_type": "stream",
     "text": [
      "epoch #30| 14%|#######                                           |ETA:  0:04:23\r"
     ]
    },
    {
     "name": "stdout",
     "output_type": "stream",
     "text": [
      "---------------------\n",
      "GEN Loss: 1.8559597 2.0264153\n",
      "Feature Matching Loss: 0.011840658 0.008463485\n",
      "RECON Loss: 0.036835447 0.023606978\n",
      "DIS Loss: 0.3350668 0.3747295\n"
     ]
    },
    {
     "name": "stderr",
     "output_type": "stream",
     "text": [
      "epoch #30| 20%|##########                                        |ETA:  0:04:03\r"
     ]
    },
    {
     "name": "stdout",
     "output_type": "stream",
     "text": [
      "---------------------\n",
      "GEN Loss: 0.86394644 1.8613694\n",
      "Feature Matching Loss: 0.012460933 0.010557759\n",
      "RECON Loss: 0.029945513 0.02834207\n",
      "DIS Loss: 0.7174897 0.31531918\n"
     ]
    },
    {
     "name": "stderr",
     "output_type": "stream",
     "text": [
      "epoch #30| 26%|#############                                     |ETA:  0:03:43\r"
     ]
    },
    {
     "name": "stdout",
     "output_type": "stream",
     "text": [
      "---------------------\n",
      "GEN Loss: 1.0405143 1.4314072\n",
      "Feature Matching Loss: 0.0100298 0.010534174\n",
      "RECON Loss: 0.034535673 0.027715445\n",
      "DIS Loss: 0.436758 0.39732257\n"
     ]
    },
    {
     "name": "stderr",
     "output_type": "stream",
     "text": [
      "epoch #30| 33%|################                                  |ETA:  0:03:23\r"
     ]
    },
    {
     "name": "stdout",
     "output_type": "stream",
     "text": [
      "---------------------\n",
      "GEN Loss: 1.6906245 0.653553\n",
      "Feature Matching Loss: 0.012605869 0.009282924\n",
      "RECON Loss: 0.03849326 0.028164616\n",
      "DIS Loss: 0.20742288 0.5344603\n"
     ]
    },
    {
     "name": "stderr",
     "output_type": "stream",
     "text": [
      "epoch #30| 39%|###################                               |ETA:  0:03:04\r"
     ]
    },
    {
     "name": "stdout",
     "output_type": "stream",
     "text": [
      "---------------------\n",
      "GEN Loss: 0.6664649 1.740658\n",
      "Feature Matching Loss: 0.012897907 0.008358642\n",
      "RECON Loss: 0.032111887 0.025088036\n",
      "DIS Loss: 0.5677788 0.2753055\n"
     ]
    },
    {
     "name": "stderr",
     "output_type": "stream",
     "text": [
      "epoch #30| 46%|#######################                           |ETA:  0:02:44\r"
     ]
    },
    {
     "name": "stdout",
     "output_type": "stream",
     "text": [
      "---------------------\n",
      "GEN Loss: 1.0866805 2.1906283\n",
      "Feature Matching Loss: 0.012582682 0.009502707\n",
      "RECON Loss: 0.031426575 0.024326487\n",
      "DIS Loss: 0.63575476 0.42783695\n"
     ]
    },
    {
     "name": "stderr",
     "output_type": "stream",
     "text": [
      "epoch #30| 52%|##########################                        |ETA:  0:02:24\r"
     ]
    },
    {
     "name": "stdout",
     "output_type": "stream",
     "text": [
      "---------------------\n",
      "GEN Loss: 1.2270935 2.004808\n",
      "Feature Matching Loss: 0.011092692 0.008884789\n",
      "RECON Loss: 0.034416687 0.026043134\n",
      "DIS Loss: 0.6335259 0.28199637\n"
     ]
    },
    {
     "name": "stderr",
     "output_type": "stream",
     "text": [
      "epoch #30| 58%|#############################                     |ETA:  0:02:05\r"
     ]
    },
    {
     "name": "stdout",
     "output_type": "stream",
     "text": [
      "---------------------\n",
      "GEN Loss: 2.068945 2.934483\n",
      "Feature Matching Loss: 0.011480482 0.0080374535\n",
      "RECON Loss: 0.034548353 0.02814578\n",
      "DIS Loss: 0.44601053 0.56980693\n"
     ]
    },
    {
     "name": "stderr",
     "output_type": "stream",
     "text": [
      "epoch #30| 65%|################################                  |ETA:  0:01:45\r"
     ]
    },
    {
     "name": "stdout",
     "output_type": "stream",
     "text": [
      "---------------------\n",
      "GEN Loss: 0.78830725 1.7882144\n",
      "Feature Matching Loss: 0.011899978 0.009260001\n",
      "RECON Loss: 0.034235243 0.02316548\n",
      "DIS Loss: 0.62170124 0.37247616\n"
     ]
    },
    {
     "name": "stderr",
     "output_type": "stream",
     "text": [
      "epoch #30| 72%|####################################              |ETA:  0:01:25\r"
     ]
    },
    {
     "name": "stdout",
     "output_type": "stream",
     "text": [
      "---------------------\n",
      "GEN Loss: 2.0618458 2.2343912\n",
      "Feature Matching Loss: 0.009120956 0.009632162\n",
      "RECON Loss: 0.032498267 0.027014382\n",
      "DIS Loss: 0.80109054 0.29776108\n"
     ]
    },
    {
     "name": "stderr",
     "output_type": "stream",
     "text": [
      "epoch #30| 78%|#######################################           |ETA:  0:01:06\r"
     ]
    },
    {
     "name": "stdout",
     "output_type": "stream",
     "text": [
      "---------------------\n",
      "GEN Loss: 1.0659173 2.2019303\n",
      "Feature Matching Loss: 0.013000803 0.010108444\n",
      "RECON Loss: 0.032491375 0.024675883\n",
      "DIS Loss: 0.51878744 0.35366556\n"
     ]
    },
    {
     "name": "stderr",
     "output_type": "stream",
     "text": [
      "epoch #30| 84%|##########################################        |ETA:  0:00:46\r"
     ]
    },
    {
     "name": "stdout",
     "output_type": "stream",
     "text": [
      "---------------------\n",
      "GEN Loss: 1.1555886 0.6606632\n",
      "Feature Matching Loss: 0.010337323 0.010287539\n",
      "RECON Loss: 0.033057794 0.02772853\n",
      "DIS Loss: 0.62745917 0.4940953\n"
     ]
    },
    {
     "name": "stderr",
     "output_type": "stream",
     "text": [
      "epoch #30| 91%|#############################################     |ETA:  0:00:27\r"
     ]
    },
    {
     "name": "stdout",
     "output_type": "stream",
     "text": [
      "---------------------\n",
      "GEN Loss: 1.221185 1.3026078\n",
      "Feature Matching Loss: 0.010901088 0.011084195\n",
      "RECON Loss: 0.040683854 0.031327773\n",
      "DIS Loss: 0.4071393 0.2932392\n"
     ]
    },
    {
     "name": "stderr",
     "output_type": "stream",
     "text": [
      "epoch #30| 97%|################################################  |ETA:  0:00:07\r"
     ]
    },
    {
     "name": "stdout",
     "output_type": "stream",
     "text": [
      "---------------------\n",
      "GEN Loss: 1.5503278 1.7448776\n",
      "Feature Matching Loss: 0.011789918 0.011615792\n",
      "RECON Loss: 0.032514434 0.025656238\n",
      "DIS Loss: 0.40823776 0.2876576\n"
     ]
    },
    {
     "name": "stderr",
     "output_type": "stream",
     "text": [
      "epoch #31|  4%|##                                                |ETA:  0:04:57\r"
     ]
    },
    {
     "name": "stdout",
     "output_type": "stream",
     "text": [
      "---------------------\n",
      "GEN Loss: 1.0671427 1.5307996\n",
      "Feature Matching Loss: 0.012423943 0.008030345\n",
      "RECON Loss: 0.031703424 0.028072089\n",
      "DIS Loss: 0.32039154 0.2814556\n"
     ]
    },
    {
     "name": "stderr",
     "output_type": "stream",
     "text": [
      "epoch #31| 10%|#####                                             |ETA:  0:04:36\r"
     ]
    },
    {
     "name": "stdout",
     "output_type": "stream",
     "text": [
      "---------------------\n",
      "GEN Loss: 1.796375 2.147964\n",
      "Feature Matching Loss: 0.01084308 0.009403077\n",
      "RECON Loss: 0.03830917 0.025497982\n",
      "DIS Loss: 0.21354367 0.38849887\n"
     ]
    },
    {
     "name": "stderr",
     "output_type": "stream",
     "text": [
      "epoch #31| 16%|########                                          |ETA:  0:04:15\r"
     ]
    },
    {
     "name": "stdout",
     "output_type": "stream",
     "text": [
      "---------------------\n",
      "GEN Loss: 1.9766402 1.8430712\n",
      "Feature Matching Loss: 0.011165008 0.009959717\n",
      "RECON Loss: 0.032952983 0.024629401\n",
      "DIS Loss: 0.35346037 0.39304104\n"
     ]
    },
    {
     "name": "stderr",
     "output_type": "stream",
     "text": [
      "epoch #31| 23%|###########                                       |ETA:  0:03:55\r"
     ]
    },
    {
     "name": "stdout",
     "output_type": "stream",
     "text": [
      "---------------------\n",
      "GEN Loss: 2.0162468 2.2319205\n",
      "Feature Matching Loss: 0.012895804 0.010573255\n",
      "RECON Loss: 0.03270117 0.023870336\n",
      "DIS Loss: 0.21509427 0.50999624\n"
     ]
    },
    {
     "name": "stderr",
     "output_type": "stream",
     "text": [
      "epoch #31| 29%|##############                                    |ETA:  0:03:36\r"
     ]
    },
    {
     "name": "stdout",
     "output_type": "stream",
     "text": [
      "---------------------\n",
      "GEN Loss: 1.2706089 1.7475305\n",
      "Feature Matching Loss: 0.012359547 0.008817944\n",
      "RECON Loss: 0.03155816 0.027004046\n",
      "DIS Loss: 0.496527 0.3166994\n"
     ]
    },
    {
     "name": "stderr",
     "output_type": "stream",
     "text": [
      "epoch #31| 36%|##################                                |ETA:  0:03:16\r"
     ]
    },
    {
     "name": "stdout",
     "output_type": "stream",
     "text": [
      "---------------------\n",
      "GEN Loss: 0.77365303 2.3773165\n",
      "Feature Matching Loss: 0.0114174085 0.008899791\n",
      "RECON Loss: 0.03221551 0.023255661\n",
      "DIS Loss: 0.656075 0.26156968\n"
     ]
    },
    {
     "name": "stderr",
     "output_type": "stream",
     "text": [
      "epoch #31| 42%|#####################                             |ETA:  0:02:55\r"
     ]
    },
    {
     "name": "stdout",
     "output_type": "stream",
     "text": [
      "---------------------\n",
      "GEN Loss: 2.1754026 2.6066916\n",
      "Feature Matching Loss: 0.009932956 0.009628206\n",
      "RECON Loss: 0.035014097 0.025148304\n",
      "DIS Loss: 0.71010077 0.52199745\n"
     ]
    },
    {
     "name": "stderr",
     "output_type": "stream",
     "text": [
      "epoch #31| 48%|########################                          |ETA:  0:02:36\r"
     ]
    },
    {
     "name": "stdout",
     "output_type": "stream",
     "text": [
      "---------------------\n",
      "GEN Loss: 1.0189993 2.164793\n",
      "Feature Matching Loss: 0.012931131 0.010804319\n",
      "RECON Loss: 0.033561137 0.025682801\n",
      "DIS Loss: 0.2965596 0.40975618\n"
     ]
    },
    {
     "name": "stderr",
     "output_type": "stream",
     "text": [
      "epoch #31| 55%|###########################                       |ETA:  0:02:16\r"
     ]
    },
    {
     "name": "stdout",
     "output_type": "stream",
     "text": [
      "---------------------\n",
      "GEN Loss: 1.724736 2.417975\n",
      "Feature Matching Loss: 0.013728483 0.010289738\n",
      "RECON Loss: 0.03697286 0.026814053\n",
      "DIS Loss: 0.34883532 0.3208052\n"
     ]
    },
    {
     "name": "stderr",
     "output_type": "stream",
     "text": [
      "epoch #31| 62%|###############################                   |ETA:  0:01:56\r"
     ]
    },
    {
     "name": "stdout",
     "output_type": "stream",
     "text": [
      "---------------------\n",
      "GEN Loss: 0.45628476 0.9203906\n",
      "Feature Matching Loss: 0.014013033 0.010320494\n",
      "RECON Loss: 0.029255614 0.025391757\n",
      "DIS Loss: 0.78908396 0.44488168\n"
     ]
    },
    {
     "name": "stderr",
     "output_type": "stream",
     "text": [
      "epoch #31| 68%|##################################                |ETA:  0:01:37\r"
     ]
    },
    {
     "name": "stdout",
     "output_type": "stream",
     "text": [
      "---------------------\n",
      "GEN Loss: 1.7421509 1.483779\n",
      "Feature Matching Loss: 0.013031235 0.010057482\n",
      "RECON Loss: 0.03092889 0.024669832\n",
      "DIS Loss: 0.49722558 0.27760616\n"
     ]
    },
    {
     "name": "stderr",
     "output_type": "stream",
     "text": [
      "epoch #31| 74%|#####################################             |ETA:  0:01:17\r"
     ]
    },
    {
     "name": "stdout",
     "output_type": "stream",
     "text": [
      "---------------------\n",
      "GEN Loss: 1.3123419 1.6399217\n",
      "Feature Matching Loss: 0.011703799 0.0101768505\n",
      "RECON Loss: 0.03308925 0.02485487\n",
      "DIS Loss: 0.3480782 0.26844224\n"
     ]
    },
    {
     "name": "stderr",
     "output_type": "stream",
     "text": [
      "epoch #31| 81%|########################################          |ETA:  0:00:57\r"
     ]
    },
    {
     "name": "stdout",
     "output_type": "stream",
     "text": [
      "---------------------\n",
      "GEN Loss: 0.98818517 1.8410604\n",
      "Feature Matching Loss: 0.012990012 0.009395728\n",
      "RECON Loss: 0.034474403 0.025600174\n",
      "DIS Loss: 0.33695674 0.33508253\n"
     ]
    },
    {
     "name": "stderr",
     "output_type": "stream",
     "text": [
      "epoch #31| 87%|###########################################       |ETA:  0:00:38\r"
     ]
    },
    {
     "name": "stdout",
     "output_type": "stream",
     "text": [
      "---------------------\n",
      "GEN Loss: 1.6053813 0.82688355\n",
      "Feature Matching Loss: 0.009839522 0.010495741\n",
      "RECON Loss: 0.03219138 0.02750205\n",
      "DIS Loss: 0.49809742 0.4056934\n"
     ]
    },
    {
     "name": "stderr",
     "output_type": "stream",
     "text": [
      "epoch #31| 94%|###############################################   |ETA:  0:00:18\r"
     ]
    },
    {
     "name": "stdout",
     "output_type": "stream",
     "text": [
      "---------------------\n",
      "GEN Loss: 1.1790202 1.547015\n",
      "Feature Matching Loss: 0.012266185 0.009612935\n",
      "RECON Loss: 0.037559237 0.02699385\n",
      "DIS Loss: 0.32776764 0.30090615\n"
     ]
    },
    {
     "name": "stderr",
     "output_type": "stream",
     "text": [
      "epoch #32|  0%|                                                  |ETA:  0:05:04\r"
     ]
    },
    {
     "name": "stdout",
     "output_type": "stream",
     "text": [
      "---------------------\n",
      "GEN Loss: 1.3841324 1.5218618\n",
      "Feature Matching Loss: 0.0118248435 0.010434998\n",
      "RECON Loss: 0.03637071 0.027610226\n",
      "DIS Loss: 0.21111545 0.26736194\n"
     ]
    },
    {
     "name": "stderr",
     "output_type": "stream",
     "text": [
      "epoch #32|  6%|###                                               |ETA:  0:04:45\r"
     ]
    },
    {
     "name": "stdout",
     "output_type": "stream",
     "text": [
      "---------------------\n",
      "GEN Loss: 1.6078572 1.8150991\n",
      "Feature Matching Loss: 0.010615915 0.009287796\n",
      "RECON Loss: 0.03294495 0.023985147\n",
      "DIS Loss: 0.17580363 0.3776221\n"
     ]
    },
    {
     "name": "stderr",
     "output_type": "stream",
     "text": [
      "epoch #32| 13%|######                                            |ETA:  0:04:27\r"
     ]
    },
    {
     "name": "stdout",
     "output_type": "stream",
     "text": [
      "---------------------\n",
      "GEN Loss: 0.86784184 1.8694723\n",
      "Feature Matching Loss: 0.008276841 0.008415859\n",
      "RECON Loss: 0.037534084 0.030161196\n",
      "DIS Loss: 0.50969636 0.22585313\n"
     ]
    },
    {
     "name": "stderr",
     "output_type": "stream",
     "text": [
      "epoch #32| 19%|#########                                         |ETA:  0:04:13\r"
     ]
    },
    {
     "name": "stdout",
     "output_type": "stream",
     "text": [
      "---------------------\n",
      "GEN Loss: 1.4775074 1.5823364\n",
      "Feature Matching Loss: 0.012086195 0.010629718\n",
      "RECON Loss: 0.031578988 0.028127877\n",
      "DIS Loss: 0.3556776 0.35707417\n"
     ]
    },
    {
     "name": "stderr",
     "output_type": "stream",
     "text": [
      "epoch #32| 26%|#############                                     |ETA:  0:03:51\r"
     ]
    },
    {
     "name": "stdout",
     "output_type": "stream",
     "text": [
      "---------------------\n",
      "GEN Loss: 0.636785 1.1950195\n",
      "Feature Matching Loss: 0.011006837 0.0099624\n",
      "RECON Loss: 0.03222646 0.025607074\n",
      "DIS Loss: 0.5175048 0.3303479\n"
     ]
    },
    {
     "name": "stderr",
     "output_type": "stream",
     "text": [
      "epoch #32| 32%|################                                  |ETA:  0:03:30\r"
     ]
    },
    {
     "name": "stdout",
     "output_type": "stream",
     "text": [
      "---------------------\n",
      "GEN Loss: 1.6296892 2.2361822\n",
      "Feature Matching Loss: 0.012360758 0.011497948\n",
      "RECON Loss: 0.0325308 0.026494598\n",
      "DIS Loss: 0.16745591 0.27655298\n"
     ]
    },
    {
     "name": "stderr",
     "output_type": "stream",
     "text": [
      "epoch #32| 38%|###################                               |ETA:  0:03:10\r"
     ]
    },
    {
     "name": "stdout",
     "output_type": "stream",
     "text": [
      "---------------------\n",
      "GEN Loss: 2.024534 0.99205637\n",
      "Feature Matching Loss: 0.012565805 0.010903705\n",
      "RECON Loss: 0.03445949 0.028019594\n",
      "DIS Loss: 0.22179708 0.44229698\n"
     ]
    },
    {
     "name": "stderr",
     "output_type": "stream",
     "text": [
      "epoch #32| 45%|######################                            |ETA:  0:02:49\r"
     ]
    },
    {
     "name": "stdout",
     "output_type": "stream",
     "text": [
      "---------------------\n",
      "GEN Loss: 0.8560471 1.5056863\n",
      "Feature Matching Loss: 0.012062743 0.008367595\n",
      "RECON Loss: 0.034900945 0.02616818\n",
      "DIS Loss: 0.36783034 0.39009172\n"
     ]
    },
    {
     "name": "stderr",
     "output_type": "stream",
     "text": [
      "epoch #32| 52%|##########################                        |ETA:  0:02:28\r"
     ]
    },
    {
     "name": "stdout",
     "output_type": "stream",
     "text": [
      "---------------------\n",
      "GEN Loss: 1.457726 1.7263438\n",
      "Feature Matching Loss: 0.0113093555 0.009750057\n",
      "RECON Loss: 0.033486042 0.024493769\n",
      "DIS Loss: 0.35543686 0.32530683\n"
     ]
    },
    {
     "name": "stderr",
     "output_type": "stream",
     "text": [
      "epoch #32| 58%|#############################                     |ETA:  0:02:09\r"
     ]
    },
    {
     "name": "stdout",
     "output_type": "stream",
     "text": [
      "---------------------\n",
      "GEN Loss: 2.087902 1.1172471\n",
      "Feature Matching Loss: 0.012095535 0.009384124\n",
      "RECON Loss: 0.03350838 0.0236919\n",
      "DIS Loss: 0.12200244 0.37271124\n"
     ]
    },
    {
     "name": "stderr",
     "output_type": "stream",
     "text": [
      "epoch #32| 64%|################################                  |ETA:  0:01:49\r"
     ]
    },
    {
     "name": "stdout",
     "output_type": "stream",
     "text": [
      "---------------------\n",
      "GEN Loss: 1.7399594 1.0244428\n",
      "Feature Matching Loss: 0.010368732 0.01039925\n",
      "RECON Loss: 0.037086133 0.026217064\n",
      "DIS Loss: 0.37945968 0.38026947\n"
     ]
    },
    {
     "name": "stderr",
     "output_type": "stream",
     "text": [
      "epoch #32| 71%|###################################               |ETA:  0:01:28\r"
     ]
    },
    {
     "name": "stdout",
     "output_type": "stream",
     "text": [
      "---------------------\n",
      "GEN Loss: 1.261229 1.6714061\n",
      "Feature Matching Loss: 0.010420252 0.0091871545\n",
      "RECON Loss: 0.03220466 0.024089271\n",
      "DIS Loss: 0.5171837 0.32471457\n"
     ]
    },
    {
     "name": "stderr",
     "output_type": "stream",
     "text": [
      "epoch #32| 77%|######################################            |ETA:  0:01:09\r"
     ]
    },
    {
     "name": "stdout",
     "output_type": "stream",
     "text": [
      "---------------------\n",
      "GEN Loss: 0.81706476 2.3809295\n",
      "Feature Matching Loss: 0.009544918 0.008238336\n",
      "RECON Loss: 0.03721695 0.024939345\n",
      "DIS Loss: 0.5218119 0.21634862\n"
     ]
    },
    {
     "name": "stderr",
     "output_type": "stream",
     "text": [
      "epoch #32| 84%|##########################################        |ETA:  0:00:49\r"
     ]
    },
    {
     "name": "stdout",
     "output_type": "stream",
     "text": [
      "---------------------\n",
      "GEN Loss: 1.3121073 1.2856573\n",
      "Feature Matching Loss: 0.010524254 0.00784222\n",
      "RECON Loss: 0.03647119 0.023898622\n",
      "DIS Loss: 0.23822612 0.34141403\n"
     ]
    },
    {
     "name": "stderr",
     "output_type": "stream",
     "text": [
      "epoch #32| 90%|#############################################     |ETA:  0:00:28\r"
     ]
    },
    {
     "name": "stdout",
     "output_type": "stream",
     "text": [
      "---------------------\n",
      "GEN Loss: 2.471537 3.1649551\n",
      "Feature Matching Loss: 0.012462549 0.012267599\n",
      "RECON Loss: 0.036488708 0.02746225\n",
      "DIS Loss: 0.65439403 0.47797912\n"
     ]
    },
    {
     "name": "stderr",
     "output_type": "stream",
     "text": [
      "epoch #32| 96%|################################################  |ETA:  0:00:09\r"
     ]
    },
    {
     "name": "stdout",
     "output_type": "stream",
     "text": [
      "---------------------\n",
      "GEN Loss: 0.7702019 2.49045\n",
      "Feature Matching Loss: 0.0115407305 0.00956762\n",
      "RECON Loss: 0.038095877 0.025003163\n",
      "DIS Loss: 0.4958099 0.397937\n"
     ]
    },
    {
     "name": "stderr",
     "output_type": "stream",
     "text": [
      "epoch #33|  3%|#                                                 |ETA:  0:04:56\r"
     ]
    },
    {
     "name": "stdout",
     "output_type": "stream",
     "text": [
      "---------------------\n",
      "GEN Loss: 2.1891317 3.3361487\n",
      "Feature Matching Loss: 0.009176482 0.010887051\n",
      "RECON Loss: 0.034384727 0.025438748\n",
      "DIS Loss: 0.12029223 0.5622337\n"
     ]
    },
    {
     "name": "stderr",
     "output_type": "stream",
     "text": [
      "epoch #33|  9%|####                                              |ETA:  0:04:36\r"
     ]
    },
    {
     "name": "stdout",
     "output_type": "stream",
     "text": [
      "---------------------\n",
      "GEN Loss: 1.282639 3.017468\n",
      "Feature Matching Loss: 0.011239599 0.012437365\n",
      "RECON Loss: 0.034973364 0.025203025\n",
      "DIS Loss: 0.35897702 0.22691882\n"
     ]
    },
    {
     "name": "stderr",
     "output_type": "stream",
     "text": [
      "epoch #33| 16%|########                                          |ETA:  0:04:16\r"
     ]
    },
    {
     "name": "stdout",
     "output_type": "stream",
     "text": [
      "---------------------\n",
      "GEN Loss: 0.7940767 2.0305016\n",
      "Feature Matching Loss: 0.012015692 0.008158266\n",
      "RECON Loss: 0.037478115 0.025436452\n",
      "DIS Loss: 0.45020247 0.3396445\n"
     ]
    },
    {
     "name": "stderr",
     "output_type": "stream",
     "text": [
      "epoch #33| 22%|###########                                       |ETA:  0:03:56\r"
     ]
    },
    {
     "name": "stdout",
     "output_type": "stream",
     "text": [
      "---------------------\n",
      "GEN Loss: 1.4385769 3.4003377\n",
      "Feature Matching Loss: 0.011419767 0.009648414\n",
      "RECON Loss: 0.03229175 0.027718684\n",
      "DIS Loss: 0.19609542 0.4359096\n"
     ]
    },
    {
     "name": "stderr",
     "output_type": "stream",
     "text": [
      "epoch #33| 28%|##############                                    |ETA:  0:03:37\r"
     ]
    },
    {
     "name": "stdout",
     "output_type": "stream",
     "text": [
      "---------------------\n",
      "GEN Loss: 2.1601157 1.2397265\n",
      "Feature Matching Loss: 0.011068808 0.009931503\n",
      "RECON Loss: 0.034176815 0.024903944\n",
      "DIS Loss: 0.72544867 0.3839217\n"
     ]
    },
    {
     "name": "stderr",
     "output_type": "stream",
     "text": [
      "epoch #33| 35%|#################                                 |ETA:  0:03:17\r"
     ]
    },
    {
     "name": "stdout",
     "output_type": "stream",
     "text": [
      "---------------------\n",
      "GEN Loss: 0.78218615 0.84719276\n",
      "Feature Matching Loss: 0.009428472 0.009226564\n",
      "RECON Loss: 0.034425747 0.026399525\n",
      "DIS Loss: 0.40245283 0.4574921\n"
     ]
    },
    {
     "name": "stderr",
     "output_type": "stream",
     "text": [
      "epoch #33| 41%|####################                              |ETA:  0:02:58\r"
     ]
    },
    {
     "name": "stdout",
     "output_type": "stream",
     "text": [
      "---------------------\n",
      "GEN Loss: 1.507014 1.5118363\n",
      "Feature Matching Loss: 0.011052822 0.010529916\n",
      "RECON Loss: 0.037785698 0.026194869\n",
      "DIS Loss: 0.55707586 0.3565334\n"
     ]
    },
    {
     "name": "stderr",
     "output_type": "stream",
     "text": [
      "epoch #33| 48%|########################                          |ETA:  0:02:40\r"
     ]
    },
    {
     "name": "stdout",
     "output_type": "stream",
     "text": [
      "---------------------\n",
      "GEN Loss: 1.3343344 1.9647111\n",
      "Feature Matching Loss: 0.009940326 0.009178894\n",
      "RECON Loss: 0.033361506 0.025915036\n",
      "DIS Loss: 0.197515 0.24843797\n"
     ]
    },
    {
     "name": "stderr",
     "output_type": "stream",
     "text": [
      "epoch #33| 54%|###########################                       |ETA:  0:02:20\r"
     ]
    },
    {
     "name": "stdout",
     "output_type": "stream",
     "text": [
      "---------------------\n",
      "GEN Loss: 1.1728888 2.1031337\n",
      "Feature Matching Loss: 0.009173577 0.00918433\n",
      "RECON Loss: 0.039204415 0.026729964\n",
      "DIS Loss: 0.34859586 0.35910338\n"
     ]
    },
    {
     "name": "stderr",
     "output_type": "stream",
     "text": [
      "epoch #33| 61%|##############################                    |ETA:  0:01:59\r"
     ]
    },
    {
     "name": "stdout",
     "output_type": "stream",
     "text": [
      "---------------------\n",
      "GEN Loss: 1.8232994 1.6966215\n",
      "Feature Matching Loss: 0.011928968 0.011272249\n",
      "RECON Loss: 0.037767094 0.023693485\n",
      "DIS Loss: 0.27830428 0.26657346\n"
     ]
    },
    {
     "name": "stderr",
     "output_type": "stream",
     "text": [
      "epoch #33| 67%|#################################                 |ETA:  0:01:40\r"
     ]
    },
    {
     "name": "stdout",
     "output_type": "stream",
     "text": [
      "---------------------\n",
      "GEN Loss: 1.5536706 1.01152\n",
      "Feature Matching Loss: 0.009127127 0.009254794\n",
      "RECON Loss: 0.03601919 0.025666058\n",
      "DIS Loss: 0.34936833 0.34419584\n"
     ]
    },
    {
     "name": "stderr",
     "output_type": "stream",
     "text": [
      "epoch #33| 74%|#####################################             |ETA:  0:01:20\r"
     ]
    },
    {
     "name": "stdout",
     "output_type": "stream",
     "text": [
      "---------------------\n",
      "GEN Loss: 1.2971944 1.1277492\n",
      "Feature Matching Loss: 0.011792166 0.010919238\n",
      "RECON Loss: 0.034899786 0.027663538\n",
      "DIS Loss: 0.73306394 0.35714608\n"
     ]
    },
    {
     "name": "stderr",
     "output_type": "stream",
     "text": [
      "epoch #33| 80%|########################################          |ETA:  0:01:00\r"
     ]
    },
    {
     "name": "stdout",
     "output_type": "stream",
     "text": [
      "---------------------\n",
      "GEN Loss: 2.078672 0.9760076\n",
      "Feature Matching Loss: 0.009947382 0.008379078\n",
      "RECON Loss: 0.03784385 0.025619438\n",
      "DIS Loss: 0.22653913 0.40943348\n"
     ]
    },
    {
     "name": "stderr",
     "output_type": "stream",
     "text": [
      "epoch #33| 86%|###########################################       |ETA:  0:00:40\r"
     ]
    },
    {
     "name": "stdout",
     "output_type": "stream",
     "text": [
      "---------------------\n",
      "GEN Loss: 2.259736 2.1584604\n",
      "Feature Matching Loss: 0.009994975 0.008980167\n",
      "RECON Loss: 0.031971753 0.022542581\n",
      "DIS Loss: 0.5882535 0.28468403\n"
     ]
    },
    {
     "name": "stderr",
     "output_type": "stream",
     "text": [
      "epoch #33| 93%|##############################################    |ETA:  0:00:20\r"
     ]
    },
    {
     "name": "stdout",
     "output_type": "stream",
     "text": [
      "---------------------\n",
      "GEN Loss: 0.9641485 2.3120747\n",
      "Feature Matching Loss: 0.00900041 0.010079829\n",
      "RECON Loss: 0.03755186 0.027976813\n",
      "DIS Loss: 0.5300511 0.29291672\n"
     ]
    },
    {
     "name": "stderr",
     "output_type": "stream",
     "text": [
      "epoch #33| 99%|################################################# |ETA:  0:00:00\r"
     ]
    },
    {
     "name": "stdout",
     "output_type": "stream",
     "text": [
      "---------------------\n",
      "GEN Loss: 1.7419066 2.9787226\n",
      "Feature Matching Loss: 0.01106398 0.008773833\n",
      "RECON Loss: 0.03378215 0.02498211\n",
      "DIS Loss: 0.52224684 0.5272431\n"
     ]
    },
    {
     "name": "stderr",
     "output_type": "stream",
     "text": [
      "epoch #34|  6%|###                                               |ETA:  0:04:45\r"
     ]
    },
    {
     "name": "stdout",
     "output_type": "stream",
     "text": [
      "---------------------\n",
      "GEN Loss: 2.0376496 2.321722\n",
      "Feature Matching Loss: 0.009476643 0.012113186\n",
      "RECON Loss: 0.03792307 0.023626402\n",
      "DIS Loss: 0.53055245 0.35286468\n"
     ]
    },
    {
     "name": "stderr",
     "output_type": "stream",
     "text": [
      "epoch #34| 12%|######                                            |ETA:  0:04:27\r"
     ]
    },
    {
     "name": "stdout",
     "output_type": "stream",
     "text": [
      "---------------------\n",
      "GEN Loss: 1.0701578 0.8069041\n",
      "Feature Matching Loss: 0.012332392 0.010856134\n",
      "RECON Loss: 0.035558593 0.02384376\n",
      "DIS Loss: 0.37000868 0.49973297\n"
     ]
    },
    {
     "name": "stderr",
     "output_type": "stream",
     "text": [
      "epoch #34| 18%|#########                                         |ETA:  0:04:08\r"
     ]
    },
    {
     "name": "stdout",
     "output_type": "stream",
     "text": [
      "---------------------\n",
      "GEN Loss: 1.2776914 1.514958\n",
      "Feature Matching Loss: 0.010275417 0.009330986\n",
      "RECON Loss: 0.032936975 0.023818368\n",
      "DIS Loss: 0.20737125 0.26049662\n"
     ]
    },
    {
     "name": "stderr",
     "output_type": "stream",
     "text": [
      "epoch #34| 25%|############                                      |ETA:  0:03:49\r"
     ]
    },
    {
     "name": "stdout",
     "output_type": "stream",
     "text": [
      "---------------------\n",
      "GEN Loss: 2.2363925 0.8487816\n",
      "Feature Matching Loss: 0.010763855 0.009531043\n",
      "RECON Loss: 0.035976667 0.024118975\n",
      "DIS Loss: 0.31103674 0.44514182\n"
     ]
    },
    {
     "name": "stderr",
     "output_type": "stream",
     "text": [
      "epoch #34| 32%|################                                  |ETA:  0:03:29\r"
     ]
    },
    {
     "name": "stdout",
     "output_type": "stream",
     "text": [
      "---------------------\n",
      "GEN Loss: 1.6301728 1.7560189\n",
      "Feature Matching Loss: 0.009169389 0.008797099\n",
      "RECON Loss: 0.040983353 0.025144977\n",
      "DIS Loss: 0.17567727 0.33087862\n"
     ]
    },
    {
     "name": "stderr",
     "output_type": "stream",
     "text": [
      "epoch #34| 38%|###################                               |ETA:  0:03:09\r"
     ]
    },
    {
     "name": "stdout",
     "output_type": "stream",
     "text": [
      "---------------------\n",
      "GEN Loss: 1.3006034 1.1044025\n",
      "Feature Matching Loss: 0.009873286 0.009026187\n",
      "RECON Loss: 0.033978105 0.025454298\n",
      "DIS Loss: 0.39618903 0.336917\n"
     ]
    },
    {
     "name": "stderr",
     "output_type": "stream",
     "text": [
      "epoch #34| 44%|######################                            |ETA:  0:02:49\r"
     ]
    },
    {
     "name": "stdout",
     "output_type": "stream",
     "text": [
      "---------------------\n",
      "GEN Loss: 2.871413 1.8582664\n",
      "Feature Matching Loss: 0.011104572 0.010278437\n",
      "RECON Loss: 0.03415789 0.025964761\n",
      "DIS Loss: 0.85874224 0.29979867\n"
     ]
    },
    {
     "name": "stderr",
     "output_type": "stream",
     "text": [
      "epoch #34| 51%|#########################                         |ETA:  0:02:29\r"
     ]
    },
    {
     "name": "stdout",
     "output_type": "stream",
     "text": [
      "---------------------\n",
      "GEN Loss: 2.4873471 1.9826334\n",
      "Feature Matching Loss: 0.011252323 0.011208488\n",
      "RECON Loss: 0.031958457 0.028885117\n",
      "DIS Loss: 0.55811083 0.27371794\n"
     ]
    },
    {
     "name": "stderr",
     "output_type": "stream",
     "text": [
      "epoch #34| 57%|############################                      |ETA:  0:02:10\r"
     ]
    },
    {
     "name": "stdout",
     "output_type": "stream",
     "text": [
      "---------------------\n",
      "GEN Loss: 0.68875027 2.4526584\n",
      "Feature Matching Loss: 0.010800207 0.011663495\n",
      "RECON Loss: 0.03195885 0.025455585\n",
      "DIS Loss: 0.52533114 0.40606555\n"
     ]
    },
    {
     "name": "stderr",
     "output_type": "stream",
     "text": [
      "epoch #34| 64%|################################                  |ETA:  0:01:50\r"
     ]
    },
    {
     "name": "stdout",
     "output_type": "stream",
     "text": [
      "---------------------\n",
      "GEN Loss: 1.5232103 2.6701784\n",
      "Feature Matching Loss: 0.009966029 0.009002963\n",
      "RECON Loss: 0.0338178 0.025020162\n",
      "DIS Loss: 0.17865574 0.3273711\n"
     ]
    },
    {
     "name": "stderr",
     "output_type": "stream",
     "text": [
      "epoch #34| 70%|###################################               |ETA:  0:01:31\r"
     ]
    },
    {
     "name": "stdout",
     "output_type": "stream",
     "text": [
      "---------------------\n",
      "GEN Loss: 0.8597758 1.6730307\n",
      "Feature Matching Loss: 0.009356084 0.0068400246\n",
      "RECON Loss: 0.034685086 0.025327915\n",
      "DIS Loss: 0.36544472 0.34932667\n"
     ]
    },
    {
     "name": "stderr",
     "output_type": "stream",
     "text": [
      "epoch #34| 76%|######################################            |ETA:  0:01:11\r"
     ]
    },
    {
     "name": "stdout",
     "output_type": "stream",
     "text": [
      "---------------------\n",
      "GEN Loss: 1.079108 2.6906688\n",
      "Feature Matching Loss: 0.01231434 0.009952974\n",
      "RECON Loss: 0.037243422 0.026717512\n",
      "DIS Loss: 0.41631606 0.34975561\n"
     ]
    },
    {
     "name": "stderr",
     "output_type": "stream",
     "text": [
      "epoch #34| 83%|#########################################         |ETA:  0:00:51\r"
     ]
    },
    {
     "name": "stdout",
     "output_type": "stream",
     "text": [
      "---------------------\n",
      "GEN Loss: 1.8151453 3.0312786\n",
      "Feature Matching Loss: 0.012522504 0.009598229\n",
      "RECON Loss: 0.03523704 0.02764085\n",
      "DIS Loss: 0.3876609 0.27566332\n"
     ]
    },
    {
     "name": "stderr",
     "output_type": "stream",
     "text": [
      "epoch #34| 89%|############################################      |ETA:  0:00:31\r"
     ]
    },
    {
     "name": "stdout",
     "output_type": "stream",
     "text": [
      "---------------------\n",
      "GEN Loss: 0.7591976 0.8685144\n",
      "Feature Matching Loss: 0.009673533 0.007877893\n",
      "RECON Loss: 0.03540711 0.026753848\n",
      "DIS Loss: 0.56907594 0.47193864\n"
     ]
    },
    {
     "name": "stderr",
     "output_type": "stream",
     "text": [
      "epoch #34| 96%|################################################  |ETA:  0:00:12\r"
     ]
    },
    {
     "name": "stdout",
     "output_type": "stream",
     "text": [
      "---------------------\n",
      "GEN Loss: 1.514853 1.8027658\n",
      "Feature Matching Loss: 0.00989229 0.011091985\n",
      "RECON Loss: 0.035111796 0.02728176\n",
      "DIS Loss: 0.43794632 0.2807443\n"
     ]
    },
    {
     "name": "stderr",
     "output_type": "stream",
     "text": [
      "epoch #35|  2%|#                                                 |ETA:  0:05:01\r"
     ]
    },
    {
     "name": "stdout",
     "output_type": "stream",
     "text": [
      "---------------------\n",
      "GEN Loss: 1.0468559 1.984022\n",
      "Feature Matching Loss: 0.013031321 0.011352129\n",
      "RECON Loss: 0.032578703 0.026956812\n",
      "DIS Loss: 0.3950421 0.25861317\n"
     ]
    },
    {
     "name": "stderr",
     "output_type": "stream",
     "text": [
      "epoch #35|  8%|####                                              |ETA:  0:04:39\r"
     ]
    },
    {
     "name": "stdout",
     "output_type": "stream",
     "text": [
      "---------------------\n",
      "GEN Loss: 1.3498313 1.8619373\n",
      "Feature Matching Loss: 0.009249879 0.010386713\n",
      "RECON Loss: 0.034197494 0.025079021\n",
      "DIS Loss: 0.43645197 0.31841117\n"
     ]
    },
    {
     "name": "stderr",
     "output_type": "stream",
     "text": [
      "epoch #35| 15%|#######                                           |ETA:  0:04:18\r"
     ]
    },
    {
     "name": "stdout",
     "output_type": "stream",
     "text": [
      "---------------------\n",
      "GEN Loss: 1.0702367 1.9238979\n",
      "Feature Matching Loss: 0.010377309 0.009901777\n",
      "RECON Loss: 0.034665707 0.02807352\n",
      "DIS Loss: 0.38443944 0.25709927\n"
     ]
    },
    {
     "name": "stderr",
     "output_type": "stream",
     "text": [
      "epoch #35| 21%|##########                                        |ETA:  0:03:59\r"
     ]
    },
    {
     "name": "stdout",
     "output_type": "stream",
     "text": [
      "---------------------\n",
      "GEN Loss: 2.508046 2.440474\n",
      "Feature Matching Loss: 0.011179781 0.008889342\n",
      "RECON Loss: 0.03382223 0.026123688\n",
      "DIS Loss: 0.534873 0.301721\n"
     ]
    },
    {
     "name": "stderr",
     "output_type": "stream",
     "text": [
      "epoch #35| 28%|##############                                    |ETA:  0:03:40\r"
     ]
    },
    {
     "name": "stdout",
     "output_type": "stream",
     "text": [
      "---------------------\n",
      "GEN Loss: 0.99949145 2.406241\n",
      "Feature Matching Loss: 0.009883667 0.0093405275\n",
      "RECON Loss: 0.043638106 0.023874216\n",
      "DIS Loss: 0.5583676 0.3005905\n"
     ]
    },
    {
     "name": "stderr",
     "output_type": "stream",
     "text": [
      "epoch #35| 34%|#################                                 |ETA:  0:03:19\r"
     ]
    },
    {
     "name": "stdout",
     "output_type": "stream",
     "text": [
      "---------------------\n",
      "GEN Loss: 1.0800486 1.5927243\n",
      "Feature Matching Loss: 0.010018122 0.008123274\n",
      "RECON Loss: 0.032070585 0.026132306\n",
      "DIS Loss: 0.3269968 0.29675484\n"
     ]
    },
    {
     "name": "stderr",
     "output_type": "stream",
     "text": [
      "epoch #35| 41%|####################                              |ETA:  0:02:59\r"
     ]
    },
    {
     "name": "stdout",
     "output_type": "stream",
     "text": [
      "---------------------\n",
      "GEN Loss: 1.0762836 2.1900735\n",
      "Feature Matching Loss: 0.009819755 0.008645598\n",
      "RECON Loss: 0.034321982 0.024986053\n",
      "DIS Loss: 0.2986091 0.22877437\n"
     ]
    },
    {
     "name": "stderr",
     "output_type": "stream",
     "text": [
      "epoch #35| 47%|#######################                           |ETA:  0:02:41\r"
     ]
    },
    {
     "name": "stdout",
     "output_type": "stream",
     "text": [
      "---------------------\n",
      "GEN Loss: 1.2847357 1.0765197\n",
      "Feature Matching Loss: 0.014064884 0.012002332\n",
      "RECON Loss: 0.033800717 0.02645439\n",
      "DIS Loss: 0.3664803 0.38582683\n"
     ]
    },
    {
     "name": "stderr",
     "output_type": "stream",
     "text": [
      "epoch #35| 53%|##########################                        |ETA:  0:02:20\r"
     ]
    },
    {
     "name": "stdout",
     "output_type": "stream",
     "text": [
      "---------------------\n",
      "GEN Loss: 1.4721339 1.4854798\n",
      "Feature Matching Loss: 0.009804332 0.009577151\n",
      "RECON Loss: 0.03388619 0.02373702\n",
      "DIS Loss: 0.28116542 0.3674509\n"
     ]
    },
    {
     "name": "stderr",
     "output_type": "stream",
     "text": [
      "epoch #35| 60%|##############################                    |ETA:  0:02:00\r"
     ]
    },
    {
     "name": "stdout",
     "output_type": "stream",
     "text": [
      "---------------------\n",
      "GEN Loss: 1.6295391 2.2139206\n",
      "Feature Matching Loss: 0.007911918 0.0079649305\n",
      "RECON Loss: 0.031134956 0.02523788\n",
      "DIS Loss: 0.37635422 0.22824936\n"
     ]
    },
    {
     "name": "stderr",
     "output_type": "stream",
     "text": [
      "epoch #35| 66%|#################################                 |ETA:  0:01:42\r"
     ]
    },
    {
     "name": "stdout",
     "output_type": "stream",
     "text": [
      "---------------------\n",
      "GEN Loss: 1.3663507 2.3198595\n",
      "Feature Matching Loss: 0.011276824 0.008656554\n",
      "RECON Loss: 0.037282757 0.026412578\n",
      "DIS Loss: 0.3052398 0.2466966\n"
     ]
    },
    {
     "name": "stderr",
     "output_type": "stream",
     "text": [
      "epoch #35| 73%|####################################              |ETA:  0:01:21\r"
     ]
    },
    {
     "name": "stdout",
     "output_type": "stream",
     "text": [
      "---------------------\n",
      "GEN Loss: 1.1933165 1.9956782\n",
      "Feature Matching Loss: 0.009482374 0.01022365\n",
      "RECON Loss: 0.033706527 0.024073979\n",
      "DIS Loss: 0.4542492 0.3035162\n"
     ]
    },
    {
     "name": "stderr",
     "output_type": "stream",
     "text": [
      "epoch #35| 79%|#######################################           |ETA:  0:01:01\r"
     ]
    },
    {
     "name": "stdout",
     "output_type": "stream",
     "text": [
      "---------------------\n",
      "GEN Loss: 1.3344443 1.682945\n",
      "Feature Matching Loss: 0.00982992 0.008938238\n",
      "RECON Loss: 0.03820893 0.025441581\n",
      "DIS Loss: 0.37438238 0.23596951\n"
     ]
    },
    {
     "name": "stderr",
     "output_type": "stream",
     "text": [
      "epoch #35| 85%|##########################################        |ETA:  0:00:42\r"
     ]
    },
    {
     "name": "stdout",
     "output_type": "stream",
     "text": [
      "---------------------\n",
      "GEN Loss: 1.5442445 2.356732\n",
      "Feature Matching Loss: 0.010962081 0.010062957\n",
      "RECON Loss: 0.033281844 0.027185874\n",
      "DIS Loss: 0.39369702 0.36915725\n"
     ]
    },
    {
     "name": "stderr",
     "output_type": "stream",
     "text": [
      "epoch #35| 92%|##############################################    |ETA:  0:00:22\r"
     ]
    },
    {
     "name": "stdout",
     "output_type": "stream",
     "text": [
      "---------------------\n",
      "GEN Loss: 1.2637639 2.3310537\n",
      "Feature Matching Loss: 0.012498348 0.011316775\n",
      "RECON Loss: 0.036496352 0.02974551\n",
      "DIS Loss: 0.45833805 0.29316512\n"
     ]
    },
    {
     "name": "stderr",
     "output_type": "stream",
     "text": [
      "epoch #35| 98%|################################################# |ETA:  0:00:03\r"
     ]
    },
    {
     "name": "stdout",
     "output_type": "stream",
     "text": [
      "---------------------\n",
      "GEN Loss: 2.127358 2.4739618\n",
      "Feature Matching Loss: 0.010901521 0.011837218\n",
      "RECON Loss: 0.036550432 0.026011547\n",
      "DIS Loss: 0.64954937 0.34911624\n"
     ]
    },
    {
     "name": "stderr",
     "output_type": "stream",
     "text": [
      "epoch #36|  5%|##                                                |ETA:  0:04:47\r"
     ]
    },
    {
     "name": "stdout",
     "output_type": "stream",
     "text": [
      "---------------------\n",
      "GEN Loss: 2.33669 1.8383117\n",
      "Feature Matching Loss: 0.012249022 0.012751956\n",
      "RECON Loss: 0.031445578 0.024248427\n",
      "DIS Loss: 0.81533796 0.34554362\n"
     ]
    },
    {
     "name": "stderr",
     "output_type": "stream",
     "text": [
      "epoch #36| 11%|#####                                             |ETA:  0:04:29\r"
     ]
    },
    {
     "name": "stdout",
     "output_type": "stream",
     "text": [
      "---------------------\n",
      "GEN Loss: 0.70683944 1.888139\n",
      "Feature Matching Loss: 0.0120113 0.010523785\n",
      "RECON Loss: 0.037910987 0.028431362\n",
      "DIS Loss: 0.4880402 0.23078087\n"
     ]
    },
    {
     "name": "stderr",
     "output_type": "stream",
     "text": [
      "epoch #36| 18%|#########                                         |ETA:  0:04:10\r"
     ]
    },
    {
     "name": "stdout",
     "output_type": "stream",
     "text": [
      "---------------------\n",
      "GEN Loss: 1.1213617 1.3395276\n",
      "Feature Matching Loss: 0.012229994 0.009772302\n",
      "RECON Loss: 0.03391513 0.027816115\n",
      "DIS Loss: 0.2949608 0.3062614\n"
     ]
    },
    {
     "name": "stderr",
     "output_type": "stream",
     "text": [
      "epoch #36| 24%|############                                      |ETA:  0:03:50\r"
     ]
    },
    {
     "name": "stdout",
     "output_type": "stream",
     "text": [
      "---------------------\n",
      "GEN Loss: 1.0395122 1.3722972\n",
      "Feature Matching Loss: 0.011287583 0.008286676\n",
      "RECON Loss: 0.03648527 0.029300505\n",
      "DIS Loss: 0.36619085 0.31193662\n"
     ]
    },
    {
     "name": "stderr",
     "output_type": "stream",
     "text": [
      "epoch #36| 31%|###############                                   |ETA:  0:03:30\r"
     ]
    },
    {
     "name": "stdout",
     "output_type": "stream",
     "text": [
      "---------------------\n",
      "GEN Loss: 1.5113008 3.0973735\n",
      "Feature Matching Loss: 0.0096826665 0.009629628\n",
      "RECON Loss: 0.033959072 0.028165998\n",
      "DIS Loss: 0.48538363 0.43665153\n"
     ]
    },
    {
     "name": "stderr",
     "output_type": "stream",
     "text": [
      "epoch #36| 37%|##################                                |ETA:  0:03:11\r"
     ]
    },
    {
     "name": "stdout",
     "output_type": "stream",
     "text": [
      "---------------------\n",
      "GEN Loss: 1.5450987 2.9763467\n",
      "Feature Matching Loss: 0.009415413 0.011957709\n",
      "RECON Loss: 0.032244682 0.027002603\n",
      "DIS Loss: 0.39576733 0.29754096\n"
     ]
    },
    {
     "name": "stderr",
     "output_type": "stream",
     "text": [
      "epoch #36| 43%|#####################                             |ETA:  0:02:51\r"
     ]
    },
    {
     "name": "stdout",
     "output_type": "stream",
     "text": [
      "---------------------\n",
      "GEN Loss: 1.4234133 0.7736931\n",
      "Feature Matching Loss: 0.0124781 0.010458095\n",
      "RECON Loss: 0.03854544 0.024646811\n",
      "DIS Loss: 0.39019042 0.44232446\n"
     ]
    },
    {
     "name": "stderr",
     "output_type": "stream",
     "text": [
      "epoch #36| 50%|#########################                         |ETA:  0:02:31\r"
     ]
    },
    {
     "name": "stdout",
     "output_type": "stream",
     "text": [
      "---------------------\n",
      "GEN Loss: 1.5609694 1.983046\n",
      "Feature Matching Loss: 0.01041051 0.008872035\n",
      "RECON Loss: 0.03337988 0.02577874\n",
      "DIS Loss: 0.5025619 0.24843623\n"
     ]
    },
    {
     "name": "stderr",
     "output_type": "stream",
     "text": [
      "epoch #36| 56%|############################                      |ETA:  0:02:12\r"
     ]
    },
    {
     "name": "stdout",
     "output_type": "stream",
     "text": [
      "---------------------\n",
      "GEN Loss: 2.25726 2.8998501\n",
      "Feature Matching Loss: 0.01290904 0.008127225\n",
      "RECON Loss: 0.03694975 0.027927956\n",
      "DIS Loss: 0.33580428 0.25459322\n"
     ]
    },
    {
     "name": "stderr",
     "output_type": "stream",
     "text": [
      "epoch #36| 63%|###############################                   |ETA:  0:01:52\r"
     ]
    },
    {
     "name": "stdout",
     "output_type": "stream",
     "text": [
      "---------------------\n",
      "GEN Loss: 1.4308393 1.7575026\n",
      "Feature Matching Loss: 0.009623787 0.00942225\n",
      "RECON Loss: 0.036214232 0.026065359\n",
      "DIS Loss: 0.59078324 0.2603075\n"
     ]
    },
    {
     "name": "stderr",
     "output_type": "stream",
     "text": [
      "epoch #36| 69%|##################################                |ETA:  0:01:32\r"
     ]
    },
    {
     "name": "stdout",
     "output_type": "stream",
     "text": [
      "---------------------\n",
      "GEN Loss: 1.3087431 2.518105\n",
      "Feature Matching Loss: 0.01105962 0.009595936\n",
      "RECON Loss: 0.033642013 0.027368227\n",
      "DIS Loss: 0.38577867 0.2627371\n"
     ]
    },
    {
     "name": "stderr",
     "output_type": "stream",
     "text": [
      "epoch #36| 75%|#####################################             |ETA:  0:01:13\r"
     ]
    },
    {
     "name": "stdout",
     "output_type": "stream",
     "text": [
      "---------------------\n",
      "GEN Loss: 1.6760921 3.3295183\n",
      "Feature Matching Loss: 0.009220773 0.009387398\n",
      "RECON Loss: 0.037604082 0.031833027\n",
      "DIS Loss: 0.24653442 0.38817275\n"
     ]
    },
    {
     "name": "stderr",
     "output_type": "stream",
     "text": [
      "epoch #36| 82%|#########################################         |ETA:  0:00:53\r"
     ]
    },
    {
     "name": "stdout",
     "output_type": "stream",
     "text": [
      "---------------------\n",
      "GEN Loss: 1.2918038 2.6405191\n",
      "Feature Matching Loss: 0.00975748 0.009240222\n",
      "RECON Loss: 0.031933602 0.0265609\n",
      "DIS Loss: 0.49090257 0.3536323\n"
     ]
    },
    {
     "name": "stderr",
     "output_type": "stream",
     "text": [
      "epoch #36| 89%|############################################      |ETA:  0:00:33\r"
     ]
    },
    {
     "name": "stdout",
     "output_type": "stream",
     "text": [
      "---------------------\n",
      "GEN Loss: 2.4612408 2.8920403\n",
      "Feature Matching Loss: 0.010953783 0.010215562\n",
      "RECON Loss: 0.04047228 0.02512598\n",
      "DIS Loss: 0.6922034 0.2297467\n"
     ]
    },
    {
     "name": "stderr",
     "output_type": "stream",
     "text": [
      "epoch #36| 95%|###############################################   |ETA:  0:00:14\r"
     ]
    },
    {
     "name": "stdout",
     "output_type": "stream",
     "text": [
      "---------------------\n",
      "GEN Loss: 1.2776282 1.1550736\n",
      "Feature Matching Loss: 0.011920095 0.00946312\n",
      "RECON Loss: 0.037332486 0.025934855\n",
      "DIS Loss: 0.30739868 0.34696913\n"
     ]
    },
    {
     "name": "stderr",
     "output_type": "stream",
     "text": [
      "epoch #37|  1%|                                                  |ETA:  0:05:03\r"
     ]
    },
    {
     "name": "stdout",
     "output_type": "stream",
     "text": [
      "---------------------\n",
      "GEN Loss: 1.5037434 2.4255538\n",
      "Feature Matching Loss: 0.010141564 0.009542161\n",
      "RECON Loss: 0.03758477 0.027592236\n",
      "DIS Loss: 0.31201637 0.22200513\n"
     ]
    },
    {
     "name": "stderr",
     "output_type": "stream",
     "text": [
      "epoch #37|  8%|####                                              |ETA:  0:04:41\r"
     ]
    },
    {
     "name": "stdout",
     "output_type": "stream",
     "text": [
      "---------------------\n",
      "GEN Loss: 1.7801456 4.1890182\n",
      "Feature Matching Loss: 0.010588509 0.008949161\n",
      "RECON Loss: 0.035440486 0.02588089\n",
      "DIS Loss: 0.41473863 0.6332291\n"
     ]
    },
    {
     "name": "stderr",
     "output_type": "stream",
     "text": [
      "epoch #37| 14%|#######                                           |ETA:  0:04:21\r"
     ]
    },
    {
     "name": "stdout",
     "output_type": "stream",
     "text": [
      "---------------------\n",
      "GEN Loss: 0.91132116 1.226891\n",
      "Feature Matching Loss: 0.009645778 0.009827925\n",
      "RECON Loss: 0.037550498 0.026057808\n",
      "DIS Loss: 0.45995113 0.33181137\n"
     ]
    },
    {
     "name": "stderr",
     "output_type": "stream",
     "text": [
      "epoch #37| 21%|##########                                        |ETA:  0:04:01\r"
     ]
    },
    {
     "name": "stdout",
     "output_type": "stream",
     "text": [
      "---------------------\n",
      "GEN Loss: 1.3608555 1.2107955\n",
      "Feature Matching Loss: 0.011417656 0.012173037\n",
      "RECON Loss: 0.03474719 0.025142252\n",
      "DIS Loss: 0.47131234 0.3183747\n"
     ]
    },
    {
     "name": "stderr",
     "output_type": "stream",
     "text": [
      "epoch #37| 27%|#############                                     |ETA:  0:03:42\r"
     ]
    },
    {
     "name": "stdout",
     "output_type": "stream",
     "text": [
      "---------------------\n",
      "GEN Loss: 1.8664539 3.1497042\n",
      "Feature Matching Loss: 0.010207215 0.010544661\n",
      "RECON Loss: 0.036576886 0.024452789\n",
      "DIS Loss: 0.12061646 0.23190016\n"
     ]
    },
    {
     "name": "stderr",
     "output_type": "stream",
     "text": [
      "epoch #37| 33%|################                                  |ETA:  0:03:26\r"
     ]
    },
    {
     "name": "stdout",
     "output_type": "stream",
     "text": [
      "---------------------\n",
      "GEN Loss: 1.373081 1.5563049\n",
      "Feature Matching Loss: 0.010730249 0.007616561\n",
      "RECON Loss: 0.041515797 0.028924257\n",
      "DIS Loss: 0.27451324 0.28612667\n"
     ]
    },
    {
     "name": "stderr",
     "output_type": "stream",
     "text": [
      "epoch #37| 40%|####################                              |ETA:  0:03:05\r"
     ]
    },
    {
     "name": "stdout",
     "output_type": "stream",
     "text": [
      "---------------------\n",
      "GEN Loss: 1.4643847 1.5193435\n",
      "Feature Matching Loss: 0.011116571 0.011736192\n",
      "RECON Loss: 0.033292077 0.028354818\n",
      "DIS Loss: 0.46326146 0.2709013\n"
     ]
    },
    {
     "name": "stderr",
     "output_type": "stream",
     "text": [
      "epoch #37| 46%|#######################                           |ETA:  0:02:44\r"
     ]
    },
    {
     "name": "stdout",
     "output_type": "stream",
     "text": [
      "---------------------\n",
      "GEN Loss: 1.4879591 2.2560728\n",
      "Feature Matching Loss: 0.012652729 0.010096364\n",
      "RECON Loss: 0.032001946 0.025504278\n",
      "DIS Loss: 0.20727545 0.3117742\n"
     ]
    },
    {
     "name": "stderr",
     "output_type": "stream",
     "text": [
      "epoch #37| 53%|##########################                        |ETA:  0:02:25\r"
     ]
    },
    {
     "name": "stdout",
     "output_type": "stream",
     "text": [
      "---------------------\n",
      "GEN Loss: 2.7122984 2.4024777\n",
      "Feature Matching Loss: 0.013320459 0.008992813\n",
      "RECON Loss: 0.034060255 0.027375152\n",
      "DIS Loss: 0.4844182 0.23789069\n"
     ]
    },
    {
     "name": "stderr",
     "output_type": "stream",
     "text": [
      "epoch #37| 59%|#############################                     |ETA:  0:02:04\r"
     ]
    },
    {
     "name": "stdout",
     "output_type": "stream",
     "text": [
      "---------------------\n",
      "GEN Loss: 1.8967906 0.8293023\n",
      "Feature Matching Loss: 0.013755109 0.010690878\n",
      "RECON Loss: 0.03714658 0.026869563\n",
      "DIS Loss: 0.1778733 0.4210605\n"
     ]
    },
    {
     "name": "stderr",
     "output_type": "stream",
     "text": [
      "epoch #37| 66%|#################################                 |ETA:  0:01:44\r"
     ]
    },
    {
     "name": "stdout",
     "output_type": "stream",
     "text": [
      "---------------------\n",
      "GEN Loss: 1.2573805 2.2193103\n",
      "Feature Matching Loss: 0.011562165 0.009461948\n",
      "RECON Loss: 0.032831483 0.026400946\n",
      "DIS Loss: 0.45949674 0.22189173\n"
     ]
    },
    {
     "name": "stderr",
     "output_type": "stream",
     "text": [
      "epoch #37| 72%|####################################              |ETA:  0:01:25\r"
     ]
    },
    {
     "name": "stdout",
     "output_type": "stream",
     "text": [
      "---------------------\n",
      "GEN Loss: 1.5722289 2.969091\n",
      "Feature Matching Loss: 0.010484141 0.009436937\n",
      "RECON Loss: 0.033525717 0.024924653\n",
      "DIS Loss: 0.3921919 0.3652568\n"
     ]
    },
    {
     "name": "stderr",
     "output_type": "stream",
     "text": [
      "epoch #37| 78%|#######################################           |ETA:  0:01:05\r"
     ]
    },
    {
     "name": "stdout",
     "output_type": "stream",
     "text": [
      "---------------------\n",
      "GEN Loss: 1.4725156 1.7695596\n",
      "Feature Matching Loss: 0.0089991875 0.0099630635\n",
      "RECON Loss: 0.032954354 0.02604038\n",
      "DIS Loss: 0.55523217 0.2253173\n"
     ]
    },
    {
     "name": "stderr",
     "output_type": "stream",
     "text": [
      "epoch #37| 85%|##########################################        |ETA:  0:00:44\r"
     ]
    },
    {
     "name": "stdout",
     "output_type": "stream",
     "text": [
      "---------------------\n",
      "GEN Loss: 0.6636057 2.5213482\n",
      "Feature Matching Loss: 0.008283725 0.009532814\n",
      "RECON Loss: 0.036754876 0.026919203\n",
      "DIS Loss: 0.58298695 0.3720488\n"
     ]
    },
    {
     "name": "stderr",
     "output_type": "stream",
     "text": [
      "epoch #37| 91%|#############################################     |ETA:  0:00:25\r"
     ]
    },
    {
     "name": "stdout",
     "output_type": "stream",
     "text": [
      "---------------------\n",
      "GEN Loss: 1.8565241 2.574304\n",
      "Feature Matching Loss: 0.009565471 0.012355659\n",
      "RECON Loss: 0.03139394 0.025546772\n",
      "DIS Loss: 0.576393 0.29116234\n"
     ]
    },
    {
     "name": "stderr",
     "output_type": "stream",
     "text": [
      "epoch #37| 98%|################################################# |ETA:  0:00:05\r"
     ]
    },
    {
     "name": "stdout",
     "output_type": "stream",
     "text": [
      "---------------------\n",
      "GEN Loss: 1.4452728 1.6325295\n",
      "Feature Matching Loss: 0.010622451 0.008479772\n",
      "RECON Loss: 0.03815287 0.024545884\n",
      "DIS Loss: 0.36790022 0.33203447\n"
     ]
    },
    {
     "name": "stderr",
     "output_type": "stream",
     "text": [
      "epoch #38|  4%|##                                                |ETA:  0:04:51\r"
     ]
    },
    {
     "name": "stdout",
     "output_type": "stream",
     "text": [
      "---------------------\n",
      "GEN Loss: 1.6594846 2.3238802\n",
      "Feature Matching Loss: 0.011645345 0.008032914\n",
      "RECON Loss: 0.033782076 0.028378256\n",
      "DIS Loss: 0.4880572 0.3228981\n"
     ]
    },
    {
     "name": "stderr",
     "output_type": "stream",
     "text": [
      "epoch #38| 11%|#####                                             |ETA:  0:04:34\r"
     ]
    },
    {
     "name": "stdout",
     "output_type": "stream",
     "text": [
      "---------------------\n",
      "GEN Loss: 1.1154051 1.604078\n",
      "Feature Matching Loss: 0.010377621 0.010531843\n",
      "RECON Loss: 0.03769278 0.024366869\n",
      "DIS Loss: 0.3953864 0.24357064\n"
     ]
    },
    {
     "name": "stderr",
     "output_type": "stream",
     "text": [
      "epoch #38| 17%|########                                          |ETA:  0:04:14\r"
     ]
    },
    {
     "name": "stdout",
     "output_type": "stream",
     "text": [
      "---------------------\n",
      "GEN Loss: 1.0606117 0.88026565\n",
      "Feature Matching Loss: 0.009138241 0.01019761\n",
      "RECON Loss: 0.037645366 0.028583191\n",
      "DIS Loss: 0.46394348 0.50841576\n"
     ]
    },
    {
     "name": "stderr",
     "output_type": "stream",
     "text": [
      "epoch #38| 23%|###########                                       |ETA:  0:03:54\r"
     ]
    },
    {
     "name": "stdout",
     "output_type": "stream",
     "text": [
      "---------------------\n",
      "GEN Loss: 1.7201848 2.663526\n",
      "Feature Matching Loss: 0.00900944 0.00934015\n",
      "RECON Loss: 0.034557518 0.029804928\n",
      "DIS Loss: 0.32938328 0.27730644\n"
     ]
    },
    {
     "name": "stderr",
     "output_type": "stream",
     "text": [
      "epoch #38| 30%|###############                                   |ETA:  0:03:34\r"
     ]
    },
    {
     "name": "stdout",
     "output_type": "stream",
     "text": [
      "---------------------\n",
      "GEN Loss: 1.1115993 2.9528866\n",
      "Feature Matching Loss: 0.010010002 0.009757789\n",
      "RECON Loss: 0.036862437 0.027820954\n",
      "DIS Loss: 0.39154714 0.29781067\n"
     ]
    },
    {
     "name": "stderr",
     "output_type": "stream",
     "text": [
      "epoch #38| 36%|##################                                |ETA:  0:03:14\r"
     ]
    },
    {
     "name": "stdout",
     "output_type": "stream",
     "text": [
      "---------------------\n",
      "GEN Loss: 1.4729812 1.8365906\n",
      "Feature Matching Loss: 0.008256879 0.008302614\n",
      "RECON Loss: 0.03644626 0.02367667\n",
      "DIS Loss: 0.3463471 0.3080662\n"
     ]
    },
    {
     "name": "stderr",
     "output_type": "stream",
     "text": [
      "epoch #38| 43%|#####################                             |ETA:  0:02:54\r"
     ]
    },
    {
     "name": "stdout",
     "output_type": "stream",
     "text": [
      "---------------------\n",
      "GEN Loss: 1.8129117 2.6933475\n",
      "Feature Matching Loss: 0.007987304 0.010003442\n",
      "RECON Loss: 0.03631121 0.024892643\n",
      "DIS Loss: 0.34099165 0.31444377\n"
     ]
    },
    {
     "name": "stderr",
     "output_type": "stream",
     "text": [
      "epoch #38| 49%|########################                          |ETA:  0:02:34\r"
     ]
    },
    {
     "name": "stdout",
     "output_type": "stream",
     "text": [
      "---------------------\n",
      "GEN Loss: 3.2344186 2.0273838\n",
      "Feature Matching Loss: 0.008439817 0.007776834\n",
      "RECON Loss: 0.037756998 0.026319226\n",
      "DIS Loss: 0.691021 0.30655065\n"
     ]
    },
    {
     "name": "stderr",
     "output_type": "stream",
     "text": [
      "epoch #38| 55%|###########################                       |ETA:  0:02:15\r"
     ]
    },
    {
     "name": "stdout",
     "output_type": "stream",
     "text": [
      "---------------------\n",
      "GEN Loss: 2.0489287 2.1607935\n",
      "Feature Matching Loss: 0.009404521 0.009260075\n",
      "RECON Loss: 0.03390388 0.027618533\n",
      "DIS Loss: 0.44939056 0.19050938\n"
     ]
    },
    {
     "name": "stderr",
     "output_type": "stream",
     "text": [
      "epoch #38| 62%|###############################                   |ETA:  0:01:56\r"
     ]
    },
    {
     "name": "stdout",
     "output_type": "stream",
     "text": [
      "---------------------\n",
      "GEN Loss: 1.7397444 2.358548\n",
      "Feature Matching Loss: 0.011476956 0.009723123\n",
      "RECON Loss: 0.03470226 0.02506408\n",
      "DIS Loss: 0.39092445 0.2394541\n"
     ]
    },
    {
     "name": "stderr",
     "output_type": "stream",
     "text": [
      "epoch #38| 68%|##################################                |ETA:  0:01:36\r"
     ]
    },
    {
     "name": "stdout",
     "output_type": "stream",
     "text": [
      "---------------------\n",
      "GEN Loss: 1.8696752 1.7688129\n",
      "Feature Matching Loss: 0.010703139 0.01024556\n",
      "RECON Loss: 0.034811977 0.025100568\n",
      "DIS Loss: 0.46829367 0.2627093\n"
     ]
    },
    {
     "name": "stderr",
     "output_type": "stream",
     "text": [
      "epoch #38| 75%|#####################################             |ETA:  0:01:15\r"
     ]
    },
    {
     "name": "stdout",
     "output_type": "stream",
     "text": [
      "---------------------\n",
      "GEN Loss: 0.7417357 1.336348\n",
      "Feature Matching Loss: 0.008955197 0.00854358\n",
      "RECON Loss: 0.036039267 0.022876283\n",
      "DIS Loss: 0.5125269 0.39476675\n"
     ]
    },
    {
     "name": "stderr",
     "output_type": "stream",
     "text": [
      "epoch #38| 81%|########################################          |ETA:  0:00:56\r"
     ]
    },
    {
     "name": "stdout",
     "output_type": "stream",
     "text": [
      "---------------------\n",
      "GEN Loss: 1.3790568 2.4053762\n",
      "Feature Matching Loss: 0.011663364 0.008500176\n",
      "RECON Loss: 0.03619682 0.027590007\n",
      "DIS Loss: 0.42893168 0.27538985\n"
     ]
    },
    {
     "name": "stderr",
     "output_type": "stream",
     "text": [
      "epoch #38| 88%|############################################      |ETA:  0:00:36\r"
     ]
    },
    {
     "name": "stdout",
     "output_type": "stream",
     "text": [
      "---------------------\n",
      "GEN Loss: 1.5560086 1.4419602\n",
      "Feature Matching Loss: 0.0090483185 0.008432534\n",
      "RECON Loss: 0.037809204 0.02498501\n",
      "DIS Loss: 0.17868201 0.31354555\n"
     ]
    },
    {
     "name": "stderr",
     "output_type": "stream",
     "text": [
      "epoch #38| 94%|###############################################   |ETA:  0:00:16\r"
     ]
    },
    {
     "name": "stdout",
     "output_type": "stream",
     "text": [
      "---------------------\n",
      "GEN Loss: 2.1060185 1.8784384\n",
      "Feature Matching Loss: 0.0109680835 0.010137117\n",
      "RECON Loss: 0.034734815 0.026041232\n",
      "DIS Loss: 0.12650697 0.27175906\n"
     ]
    },
    {
     "name": "stderr",
     "output_type": "stream",
     "text": [
      "epoch #39|  1%|                                                  |ETA:  0:05:09\r"
     ]
    },
    {
     "name": "stdout",
     "output_type": "stream",
     "text": [
      "---------------------\n",
      "GEN Loss: 1.4829066 2.7743206\n",
      "Feature Matching Loss: 0.0100566475 0.008364156\n",
      "RECON Loss: 0.036872372 0.025441894\n",
      "DIS Loss: 0.39360806 0.31180522\n"
     ]
    },
    {
     "name": "stderr",
     "output_type": "stream",
     "text": [
      "epoch #39|  7%|###                                               |ETA:  0:04:43\r"
     ]
    },
    {
     "name": "stdout",
     "output_type": "stream",
     "text": [
      "---------------------\n",
      "GEN Loss: 1.6704597 1.2200122\n",
      "Feature Matching Loss: 0.013526205 0.008220963\n",
      "RECON Loss: 0.039943438 0.028593479\n",
      "DIS Loss: 0.19919743 0.30500907\n"
     ]
    },
    {
     "name": "stderr",
     "output_type": "stream",
     "text": [
      "epoch #39| 13%|######                                            |ETA:  0:04:24\r"
     ]
    },
    {
     "name": "stdout",
     "output_type": "stream",
     "text": [
      "---------------------\n",
      "GEN Loss: 1.1268222 2.334173\n",
      "Feature Matching Loss: 0.00841479 0.011732133\n",
      "RECON Loss: 0.034231354 0.027139418\n",
      "DIS Loss: 0.44377792 0.2347945\n"
     ]
    },
    {
     "name": "stderr",
     "output_type": "stream",
     "text": [
      "epoch #39| 20%|##########                                        |ETA:  0:04:04\r"
     ]
    },
    {
     "name": "stdout",
     "output_type": "stream",
     "text": [
      "---------------------\n",
      "GEN Loss: 1.317245 1.6221168\n",
      "Feature Matching Loss: 0.011474358 0.009861048\n",
      "RECON Loss: 0.035719518 0.027579973\n",
      "DIS Loss: 0.5485758 0.35148314\n"
     ]
    },
    {
     "name": "stderr",
     "output_type": "stream",
     "text": [
      "epoch #39| 26%|#############                                     |ETA:  0:03:44\r"
     ]
    },
    {
     "name": "stdout",
     "output_type": "stream",
     "text": [
      "---------------------\n",
      "GEN Loss: 1.9709988 1.9561734\n",
      "Feature Matching Loss: 0.016410366 0.011025652\n",
      "RECON Loss: 0.038159132 0.027614756\n",
      "DIS Loss: 0.26620004 0.18449807\n"
     ]
    },
    {
     "name": "stderr",
     "output_type": "stream",
     "text": [
      "epoch #39| 33%|################                                  |ETA:  0:03:24\r"
     ]
    },
    {
     "name": "stdout",
     "output_type": "stream",
     "text": [
      "---------------------\n",
      "GEN Loss: 1.7219938 1.8003123\n",
      "Feature Matching Loss: 0.00986903 0.0100689195\n",
      "RECON Loss: 0.042760298 0.025406124\n",
      "DIS Loss: 0.23561594 0.26366168\n"
     ]
    },
    {
     "name": "stderr",
     "output_type": "stream",
     "text": [
      "epoch #39| 39%|###################                               |ETA:  0:03:04\r"
     ]
    },
    {
     "name": "stdout",
     "output_type": "stream",
     "text": [
      "---------------------\n",
      "GEN Loss: 1.5195298 2.88834\n",
      "Feature Matching Loss: 0.009943821 0.008592012\n",
      "RECON Loss: 0.038940687 0.02658204\n",
      "DIS Loss: 0.34775174 0.3815035\n"
     ]
    },
    {
     "name": "stderr",
     "output_type": "stream",
     "text": [
      "epoch #39| 45%|######################                            |ETA:  0:02:45\r"
     ]
    },
    {
     "name": "stdout",
     "output_type": "stream",
     "text": [
      "---------------------\n",
      "GEN Loss: 1.1986523 2.5987144\n",
      "Feature Matching Loss: 0.009679931 0.0091655245\n",
      "RECON Loss: 0.034584347 0.024397144\n",
      "DIS Loss: 0.39977765 0.2883425\n"
     ]
    },
    {
     "name": "stderr",
     "output_type": "stream",
     "text": [
      "epoch #39| 52%|##########################                        |ETA:  0:02:25\r"
     ]
    },
    {
     "name": "stdout",
     "output_type": "stream",
     "text": [
      "---------------------\n",
      "GEN Loss: 0.9684386 1.3527132\n",
      "Feature Matching Loss: 0.010430654 0.009809612\n",
      "RECON Loss: 0.034509674 0.02681902\n",
      "DIS Loss: 0.30934274 0.29520512\n"
     ]
    },
    {
     "name": "stderr",
     "output_type": "stream",
     "text": [
      "epoch #39| 58%|#############################                     |ETA:  0:02:05\r"
     ]
    },
    {
     "name": "stdout",
     "output_type": "stream",
     "text": [
      "---------------------\n",
      "GEN Loss: 1.3961192 2.6477199\n",
      "Feature Matching Loss: 0.010737225 0.010775039\n",
      "RECON Loss: 0.03909068 0.025895923\n",
      "DIS Loss: 0.4651448 0.24070677\n"
     ]
    },
    {
     "name": "stderr",
     "output_type": "stream",
     "text": [
      "epoch #39| 65%|################################                  |ETA:  0:01:46\r"
     ]
    },
    {
     "name": "stdout",
     "output_type": "stream",
     "text": [
      "---------------------\n",
      "GEN Loss: 2.6225677 1.6717417\n",
      "Feature Matching Loss: 0.010191262 0.009984244\n",
      "RECON Loss: 0.03859615 0.026360521\n",
      "DIS Loss: 0.22244751 0.22998255\n"
     ]
    },
    {
     "name": "stderr",
     "output_type": "stream",
     "text": [
      "epoch #39| 71%|###################################               |ETA:  0:01:26\r"
     ]
    },
    {
     "name": "stdout",
     "output_type": "stream",
     "text": [
      "---------------------\n",
      "GEN Loss: 1.4244518 2.7874293\n",
      "Feature Matching Loss: 0.01181186 0.010457275\n",
      "RECON Loss: 0.038891498 0.028882504\n",
      "DIS Loss: 0.44901332 0.18912163\n"
     ]
    },
    {
     "name": "stderr",
     "output_type": "stream",
     "text": [
      "epoch #39| 78%|#######################################           |ETA:  0:01:06\r"
     ]
    },
    {
     "name": "stdout",
     "output_type": "stream",
     "text": [
      "---------------------\n",
      "GEN Loss: 2.0152993 3.053261\n",
      "Feature Matching Loss: 0.007825321 0.010334852\n",
      "RECON Loss: 0.032988872 0.02533129\n",
      "DIS Loss: 0.49888456 0.3133638\n"
     ]
    },
    {
     "name": "stderr",
     "output_type": "stream",
     "text": [
      "epoch #39| 84%|##########################################        |ETA:  0:00:47\r"
     ]
    },
    {
     "name": "stdout",
     "output_type": "stream",
     "text": [
      "---------------------\n",
      "GEN Loss: 1.9413122 2.2219467\n",
      "Feature Matching Loss: 0.009456805 0.008198184\n",
      "RECON Loss: 0.0341184 0.024355376\n",
      "DIS Loss: 0.46613568 0.23271254\n"
     ]
    },
    {
     "name": "stderr",
     "output_type": "stream",
     "text": [
      "epoch #39| 90%|#############################################     |ETA:  0:00:28\r"
     ]
    },
    {
     "name": "stdout",
     "output_type": "stream",
     "text": [
      "---------------------\n",
      "GEN Loss: 1.2055635 0.4150118\n",
      "Feature Matching Loss: 0.007510142 0.008122915\n",
      "RECON Loss: 0.040107254 0.024881551\n",
      "DIS Loss: 0.3176825 0.75025034\n"
     ]
    },
    {
     "name": "stderr",
     "output_type": "stream",
     "text": [
      "epoch #39| 97%|################################################  |ETA:  0:00:07\r"
     ]
    },
    {
     "name": "stdout",
     "output_type": "stream",
     "text": [
      "---------------------\n",
      "GEN Loss: 1.4750099 1.5126023\n",
      "Feature Matching Loss: 0.009425551 0.011222875\n",
      "RECON Loss: 0.035704896 0.028212653\n",
      "DIS Loss: 0.30620396 0.2060922\n"
     ]
    },
    {
     "name": "stderr",
     "output_type": "stream",
     "text": [
      "epoch #40|  3%|#                                                 |ETA:  0:04:51\r"
     ]
    },
    {
     "name": "stdout",
     "output_type": "stream",
     "text": [
      "---------------------\n",
      "GEN Loss: 1.9654189 2.135274\n",
      "Feature Matching Loss: 0.009635426 0.010105139\n",
      "RECON Loss: 0.038809117 0.02654943\n",
      "DIS Loss: 0.38770828 0.18306443\n"
     ]
    },
    {
     "name": "stderr",
     "output_type": "stream",
     "text": [
      "epoch #40| 10%|#####                                             |ETA:  0:04:33\r"
     ]
    },
    {
     "name": "stdout",
     "output_type": "stream",
     "text": [
      "---------------------\n",
      "GEN Loss: 1.0605084 1.1446025\n",
      "Feature Matching Loss: 0.010341963 0.0101942215\n",
      "RECON Loss: 0.037283164 0.02346562\n",
      "DIS Loss: 0.40652466 0.42820317\n"
     ]
    },
    {
     "name": "stderr",
     "output_type": "stream",
     "text": [
      "epoch #40| 16%|########                                          |ETA:  0:04:15\r"
     ]
    },
    {
     "name": "stdout",
     "output_type": "stream",
     "text": [
      "---------------------\n",
      "GEN Loss: 1.3395802 1.8592074\n",
      "Feature Matching Loss: 0.01014035 0.010687564\n",
      "RECON Loss: 0.036516566 0.026411062\n",
      "DIS Loss: 0.3729822 0.3837281\n"
     ]
    },
    {
     "name": "stderr",
     "output_type": "stream",
     "text": [
      "epoch #40| 23%|###########                                       |ETA:  0:03:55\r"
     ]
    },
    {
     "name": "stdout",
     "output_type": "stream",
     "text": [
      "---------------------\n",
      "GEN Loss: 1.3819368 2.9162068\n",
      "Feature Matching Loss: 0.010274876 0.010576024\n",
      "RECON Loss: 0.035156302 0.029097304\n",
      "DIS Loss: 0.34921277 0.14670616\n"
     ]
    },
    {
     "name": "stderr",
     "output_type": "stream",
     "text": [
      "epoch #40| 29%|##############                                    |ETA:  0:03:35\r"
     ]
    },
    {
     "name": "stdout",
     "output_type": "stream",
     "text": [
      "---------------------\n",
      "GEN Loss: 1.5113671 1.0090642\n",
      "Feature Matching Loss: 0.0122070685 0.009589599\n",
      "RECON Loss: 0.031937595 0.027366117\n",
      "DIS Loss: 0.55919814 0.35691196\n"
     ]
    },
    {
     "name": "stderr",
     "output_type": "stream",
     "text": [
      "epoch #40| 35%|#################                                 |ETA:  0:03:16\r"
     ]
    },
    {
     "name": "stdout",
     "output_type": "stream",
     "text": [
      "---------------------\n",
      "GEN Loss: 1.4905965 2.2305975\n",
      "Feature Matching Loss: 0.010206134 0.010287479\n",
      "RECON Loss: 0.037587542 0.02867963\n",
      "DIS Loss: 0.31558764 0.16277543\n"
     ]
    },
    {
     "name": "stderr",
     "output_type": "stream",
     "text": [
      "epoch #40| 42%|#####################                             |ETA:  0:02:56\r"
     ]
    },
    {
     "name": "stdout",
     "output_type": "stream",
     "text": [
      "---------------------\n",
      "GEN Loss: 1.7504681 2.6550362\n",
      "Feature Matching Loss: 0.011841774 0.009351671\n",
      "RECON Loss: 0.036964677 0.02641695\n",
      "DIS Loss: 0.35588107 0.23719242\n"
     ]
    },
    {
     "name": "stderr",
     "output_type": "stream",
     "text": [
      "epoch #40| 48%|########################                          |ETA:  0:02:36\r"
     ]
    },
    {
     "name": "stdout",
     "output_type": "stream",
     "text": [
      "---------------------\n",
      "GEN Loss: 0.7649745 1.8091352\n",
      "Feature Matching Loss: 0.011966018 0.00991663\n",
      "RECON Loss: 0.034203496 0.026253268\n",
      "DIS Loss: 0.5605327 0.30251786\n"
     ]
    },
    {
     "name": "stderr",
     "output_type": "stream",
     "text": [
      "epoch #40| 55%|###########################                       |ETA:  0:02:17\r"
     ]
    },
    {
     "name": "stdout",
     "output_type": "stream",
     "text": [
      "---------------------\n",
      "GEN Loss: 1.6472212 2.482423\n",
      "Feature Matching Loss: 0.009173997 0.009986547\n",
      "RECON Loss: 0.035005867 0.026290208\n",
      "DIS Loss: 0.5831002 0.21003498\n"
     ]
    },
    {
     "name": "stderr",
     "output_type": "stream",
     "text": [
      "epoch #40| 61%|##############################                    |ETA:  0:01:57\r"
     ]
    },
    {
     "name": "stdout",
     "output_type": "stream",
     "text": [
      "---------------------\n",
      "GEN Loss: 1.4147449 2.5340667\n",
      "Feature Matching Loss: 0.014905833 0.01148151\n",
      "RECON Loss: 0.0361762 0.027829915\n",
      "DIS Loss: 0.33565623 0.27082348\n"
     ]
    },
    {
     "name": "stderr",
     "output_type": "stream",
     "text": [
      "epoch #40| 68%|##################################                |ETA:  0:01:37\r"
     ]
    },
    {
     "name": "stdout",
     "output_type": "stream",
     "text": [
      "---------------------\n",
      "GEN Loss: 1.1619005 2.0371637\n",
      "Feature Matching Loss: 0.009380426 0.0094495695\n",
      "RECON Loss: 0.03389703 0.02712409\n",
      "DIS Loss: 0.36696714 0.21940817\n"
     ]
    },
    {
     "name": "stderr",
     "output_type": "stream",
     "text": [
      "epoch #40| 74%|#####################################             |ETA:  0:01:18\r"
     ]
    },
    {
     "name": "stdout",
     "output_type": "stream",
     "text": [
      "---------------------\n",
      "GEN Loss: 1.156403 0.7161624\n",
      "Feature Matching Loss: 0.009078336 0.00859426\n",
      "RECON Loss: 0.036111414 0.025111973\n",
      "DIS Loss: 0.4576271 0.48762754\n"
     ]
    },
    {
     "name": "stderr",
     "output_type": "stream",
     "text": [
      "epoch #40| 80%|########################################          |ETA:  0:00:58\r"
     ]
    },
    {
     "name": "stdout",
     "output_type": "stream",
     "text": [
      "---------------------\n",
      "GEN Loss: 1.1982707 2.598827\n",
      "Feature Matching Loss: 0.008649338 0.009711253\n",
      "RECON Loss: 0.03473491 0.027238645\n",
      "DIS Loss: 0.48148736 0.17537057\n"
     ]
    },
    {
     "name": "stderr",
     "output_type": "stream",
     "text": [
      "epoch #40| 87%|###########################################       |ETA:  0:00:38\r"
     ]
    },
    {
     "name": "stdout",
     "output_type": "stream",
     "text": [
      "---------------------\n",
      "GEN Loss: 1.5443735 0.56047505\n",
      "Feature Matching Loss: 0.009588281 0.00853271\n",
      "RECON Loss: 0.03535445 0.025641918\n",
      "DIS Loss: 0.44707233 0.61558217\n"
     ]
    },
    {
     "name": "stderr",
     "output_type": "stream",
     "text": [
      "epoch #40| 93%|##############################################    |ETA:  0:00:19\r"
     ]
    },
    {
     "name": "stdout",
     "output_type": "stream",
     "text": [
      "---------------------\n",
      "GEN Loss: 1.4655079 1.7419615\n",
      "Feature Matching Loss: 0.019798499 0.008720801\n",
      "RECON Loss: 0.037882086 0.02775901\n",
      "DIS Loss: 0.3426213 0.25421014\n"
     ]
    },
    {
     "name": "stderr",
     "output_type": "stream",
     "text": [
      "epoch #41|  0%|                                                  |ETA:  0:05:33\r"
     ]
    },
    {
     "name": "stdout",
     "output_type": "stream",
     "text": [
      "---------------------\n",
      "GEN Loss: 0.80699337 1.9022698\n",
      "Feature Matching Loss: 0.009960728 0.00948159\n",
      "RECON Loss: 0.03800353 0.028207606\n",
      "DIS Loss: 0.4071641 0.17872444\n"
     ]
    },
    {
     "name": "stderr",
     "output_type": "stream",
     "text": [
      "epoch #41|  6%|###                                               |ETA:  0:04:45\r"
     ]
    },
    {
     "name": "stdout",
     "output_type": "stream",
     "text": [
      "---------------------\n",
      "GEN Loss: 1.4111454 2.0286908\n",
      "Feature Matching Loss: 0.008512359 0.0103368275\n",
      "RECON Loss: 0.036034267 0.025243534\n",
      "DIS Loss: 0.4143641 0.27608544\n"
     ]
    },
    {
     "name": "stderr",
     "output_type": "stream",
     "text": [
      "epoch #41| 13%|######                                            |ETA:  0:04:25\r"
     ]
    },
    {
     "name": "stdout",
     "output_type": "stream",
     "text": [
      "---------------------\n",
      "GEN Loss: 1.8375255 2.58464\n",
      "Feature Matching Loss: 0.010033577 0.009227959\n",
      "RECON Loss: 0.03644882 0.027035855\n",
      "DIS Loss: 0.2736609 0.14104635\n"
     ]
    },
    {
     "name": "stderr",
     "output_type": "stream",
     "text": [
      "epoch #41| 19%|#########                                         |ETA:  0:04:13\r"
     ]
    },
    {
     "name": "stdout",
     "output_type": "stream",
     "text": [
      "---------------------\n",
      "GEN Loss: 1.6562035 1.2842323\n",
      "Feature Matching Loss: 0.011084859 0.008225136\n",
      "RECON Loss: 0.03629827 0.027446643\n",
      "DIS Loss: 0.20474593 0.26151\n"
     ]
    },
    {
     "name": "stderr",
     "output_type": "stream",
     "text": [
      "epoch #41| 25%|############                                      |ETA:  0:03:51\r"
     ]
    },
    {
     "name": "stdout",
     "output_type": "stream",
     "text": [
      "---------------------\n",
      "GEN Loss: 0.582231 2.740353\n",
      "Feature Matching Loss: 0.009765967 0.009028406\n",
      "RECON Loss: 0.037290234 0.024861239\n",
      "DIS Loss: 0.5046496 0.27469605\n"
     ]
    },
    {
     "name": "stderr",
     "output_type": "stream",
     "text": [
      "epoch #41| 32%|################                                  |ETA:  0:03:30\r"
     ]
    },
    {
     "name": "stdout",
     "output_type": "stream",
     "text": [
      "---------------------\n",
      "GEN Loss: 2.8670635 1.1527815\n",
      "Feature Matching Loss: 0.009660735 0.012278669\n",
      "RECON Loss: 0.03659004 0.030369008\n",
      "DIS Loss: 0.85069865 0.30332962\n"
     ]
    },
    {
     "name": "stderr",
     "output_type": "stream",
     "text": [
      "epoch #41| 38%|###################                               |ETA:  0:03:10\r"
     ]
    },
    {
     "name": "stdout",
     "output_type": "stream",
     "text": [
      "---------------------\n",
      "GEN Loss: 2.2574446 2.201999\n",
      "Feature Matching Loss: 0.012343936 0.008373009\n",
      "RECON Loss: 0.038659725 0.029280467\n",
      "DIS Loss: 0.104635425 0.2813668\n"
     ]
    },
    {
     "name": "stderr",
     "output_type": "stream",
     "text": [
      "epoch #41| 45%|######################                            |ETA:  0:02:49\r"
     ]
    },
    {
     "name": "stdout",
     "output_type": "stream",
     "text": [
      "---------------------\n",
      "GEN Loss: 1.4656215 2.8051133\n",
      "Feature Matching Loss: 0.009209711 0.008280652\n",
      "RECON Loss: 0.03939746 0.027564472\n",
      "DIS Loss: 0.19919682 0.47315505\n"
     ]
    },
    {
     "name": "stderr",
     "output_type": "stream",
     "text": [
      "epoch #41| 51%|#########################                         |ETA:  0:02:29\r"
     ]
    },
    {
     "name": "stdout",
     "output_type": "stream",
     "text": [
      "---------------------\n",
      "GEN Loss: 0.68099225 1.2157035\n",
      "Feature Matching Loss: 0.013958886 0.0089231115\n",
      "RECON Loss: 0.03757126 0.024690079\n",
      "DIS Loss: 0.4625415 0.34198463\n"
     ]
    },
    {
     "name": "stderr",
     "output_type": "stream",
     "text": [
      "epoch #41| 57%|############################                      |ETA:  0:02:10\r"
     ]
    },
    {
     "name": "stdout",
     "output_type": "stream",
     "text": [
      "---------------------\n",
      "GEN Loss: 0.48236462 2.0215368\n",
      "Feature Matching Loss: 0.01179064 0.008577904\n",
      "RECON Loss: 0.03511754 0.026653202\n",
      "DIS Loss: 0.80166423 0.17274857\n"
     ]
    },
    {
     "name": "stderr",
     "output_type": "stream",
     "text": [
      "epoch #41| 64%|################################                  |ETA:  0:01:49\r"
     ]
    },
    {
     "name": "stdout",
     "output_type": "stream",
     "text": [
      "---------------------\n",
      "GEN Loss: 1.5260237 2.0852656\n",
      "Feature Matching Loss: 0.009143365 0.009738453\n",
      "RECON Loss: 0.035365373 0.022198945\n",
      "DIS Loss: 0.4961885 0.23373875\n"
     ]
    },
    {
     "name": "stderr",
     "output_type": "stream",
     "text": [
      "epoch #41| 71%|###################################               |ETA:  0:01:29\r"
     ]
    },
    {
     "name": "stdout",
     "output_type": "stream",
     "text": [
      "---------------------\n",
      "GEN Loss: 1.7852437 1.858715\n",
      "Feature Matching Loss: 0.010960754 0.009528008\n",
      "RECON Loss: 0.037167538 0.025171755\n",
      "DIS Loss: 0.41741967 0.2827921\n"
     ]
    },
    {
     "name": "stderr",
     "output_type": "stream",
     "text": [
      "epoch #41| 77%|######################################            |ETA:  0:01:10\r"
     ]
    },
    {
     "name": "stdout",
     "output_type": "stream",
     "text": [
      "---------------------\n",
      "GEN Loss: 2.0443559 2.397942\n",
      "Feature Matching Loss: 0.010397961 0.010600308\n",
      "RECON Loss: 0.03742686 0.026385834\n",
      "DIS Loss: 0.37916297 0.2570962\n"
     ]
    },
    {
     "name": "stderr",
     "output_type": "stream",
     "text": [
      "epoch #41| 83%|#########################################         |ETA:  0:00:49\r"
     ]
    },
    {
     "name": "stdout",
     "output_type": "stream",
     "text": [
      "---------------------\n",
      "GEN Loss: 1.4173151 2.5533037\n",
      "Feature Matching Loss: 0.007851869 0.011575988\n",
      "RECON Loss: 0.036429964 0.024779009\n",
      "DIS Loss: 0.6467913 0.343607\n"
     ]
    },
    {
     "name": "stderr",
     "output_type": "stream",
     "text": [
      "epoch #41| 90%|#############################################     |ETA:  0:00:29\r"
     ]
    },
    {
     "name": "stdout",
     "output_type": "stream",
     "text": [
      "---------------------\n",
      "GEN Loss: 0.86633 2.9694805\n",
      "Feature Matching Loss: 0.011115607 0.011218264\n",
      "RECON Loss: 0.03672273 0.025497785\n",
      "DIS Loss: 0.59101915 0.24593392\n"
     ]
    },
    {
     "name": "stderr",
     "output_type": "stream",
     "text": [
      "epoch #41| 96%|################################################  |ETA:  0:00:10\r"
     ]
    },
    {
     "name": "stdout",
     "output_type": "stream",
     "text": [
      "---------------------\n",
      "GEN Loss: 2.4859648 2.98878\n",
      "Feature Matching Loss: 0.011723204 0.010053449\n",
      "RECON Loss: 0.03720417 0.027532628\n",
      "DIS Loss: 0.33927393 0.1923824\n"
     ]
    },
    {
     "name": "stderr",
     "output_type": "stream",
     "text": [
      "epoch #42|  3%|#                                                 |ETA:  0:04:54\r"
     ]
    },
    {
     "name": "stdout",
     "output_type": "stream",
     "text": [
      "---------------------\n",
      "GEN Loss: 2.151514 0.8665477\n",
      "Feature Matching Loss: 0.009852583 0.0099377325\n",
      "RECON Loss: 0.03624063 0.024630101\n",
      "DIS Loss: 0.8357068 0.42132053\n"
     ]
    },
    {
     "name": "stderr",
     "output_type": "stream",
     "text": [
      "epoch #42|  9%|####                                              |ETA:  0:04:37\r"
     ]
    },
    {
     "name": "stdout",
     "output_type": "stream",
     "text": [
      "---------------------\n",
      "GEN Loss: 1.3863487 2.063485\n",
      "Feature Matching Loss: 0.012272216 0.010690708\n",
      "RECON Loss: 0.036337193 0.023266837\n",
      "DIS Loss: 0.36185828 0.21719468\n"
     ]
    },
    {
     "name": "stderr",
     "output_type": "stream",
     "text": [
      "epoch #42| 15%|#######                                           |ETA:  0:04:17\r"
     ]
    },
    {
     "name": "stdout",
     "output_type": "stream",
     "text": [
      "---------------------\n",
      "GEN Loss: 2.7202 2.0435097\n",
      "Feature Matching Loss: 0.009197083 0.009003459\n",
      "RECON Loss: 0.04337181 0.026123663\n",
      "DIS Loss: 0.2930937 0.17231312\n"
     ]
    },
    {
     "name": "stderr",
     "output_type": "stream",
     "text": [
      "epoch #42| 22%|###########                                       |ETA:  0:03:57\r"
     ]
    },
    {
     "name": "stdout",
     "output_type": "stream",
     "text": [
      "---------------------\n",
      "GEN Loss: 1.1121552 2.5346584\n",
      "Feature Matching Loss: 0.00995492 0.009717301\n",
      "RECON Loss: 0.03829411 0.026765056\n",
      "DIS Loss: 0.29570457 0.2157626\n"
     ]
    },
    {
     "name": "stderr",
     "output_type": "stream",
     "text": [
      "epoch #42| 28%|##############                                    |ETA:  0:03:37\r"
     ]
    },
    {
     "name": "stdout",
     "output_type": "stream",
     "text": [
      "---------------------\n",
      "GEN Loss: 1.6455315 2.3360825\n",
      "Feature Matching Loss: 0.0105666695 0.009081606\n",
      "RECON Loss: 0.04397683 0.023727179\n",
      "DIS Loss: 0.21101743 0.2748651\n"
     ]
    },
    {
     "name": "stderr",
     "output_type": "stream",
     "text": [
      "epoch #42| 35%|#################                                 |ETA:  0:03:18\r"
     ]
    },
    {
     "name": "stdout",
     "output_type": "stream",
     "text": [
      "---------------------\n",
      "GEN Loss: 0.4029631 1.7648141\n",
      "Feature Matching Loss: 0.0099885585 0.009723652\n",
      "RECON Loss: 0.038807433 0.026147166\n",
      "DIS Loss: 0.70615894 0.20730653\n"
     ]
    },
    {
     "name": "stderr",
     "output_type": "stream",
     "text": [
      "epoch #42| 41%|####################                              |ETA:  0:02:58\r"
     ]
    },
    {
     "name": "stdout",
     "output_type": "stream",
     "text": [
      "---------------------\n",
      "GEN Loss: 1.070035 1.3634679\n",
      "Feature Matching Loss: 0.008622685 0.01080171\n",
      "RECON Loss: 0.035355043 0.027723199\n",
      "DIS Loss: 0.4485203 0.33879024\n"
     ]
    },
    {
     "name": "stderr",
     "output_type": "stream",
     "text": [
      "epoch #42| 47%|#######################                           |ETA:  0:02:41\r"
     ]
    },
    {
     "name": "stdout",
     "output_type": "stream",
     "text": [
      "---------------------\n",
      "GEN Loss: 1.5369692 1.8019044\n",
      "Feature Matching Loss: 0.013149527 0.0107786795\n",
      "RECON Loss: 0.038132716 0.029061979\n",
      "DIS Loss: 0.3863855 0.23135123\n"
     ]
    },
    {
     "name": "stderr",
     "output_type": "stream",
     "text": [
      "epoch #42| 54%|###########################                       |ETA:  0:02:20\r"
     ]
    },
    {
     "name": "stdout",
     "output_type": "stream",
     "text": [
      "---------------------\n",
      "GEN Loss: 0.80307126 2.5969157\n",
      "Feature Matching Loss: 0.009600997 0.008912444\n",
      "RECON Loss: 0.036248375 0.0257629\n",
      "DIS Loss: 0.53257537 0.1996039\n"
     ]
    },
    {
     "name": "stderr",
     "output_type": "stream",
     "text": [
      "epoch #42| 61%|##############################                    |ETA:  0:02:00\r"
     ]
    },
    {
     "name": "stdout",
     "output_type": "stream",
     "text": [
      "---------------------\n",
      "GEN Loss: 0.8092766 0.8400068\n",
      "Feature Matching Loss: 0.0095073115 0.008676795\n",
      "RECON Loss: 0.03638005 0.025271485\n",
      "DIS Loss: 0.44816008 0.46796507\n"
     ]
    },
    {
     "name": "stderr",
     "output_type": "stream",
     "text": [
      "epoch #42| 67%|#################################                 |ETA:  0:01:41\r"
     ]
    },
    {
     "name": "stdout",
     "output_type": "stream",
     "text": [
      "---------------------\n",
      "GEN Loss: 1.9901431 4.1602497\n",
      "Feature Matching Loss: 0.00951761 0.010643355\n",
      "RECON Loss: 0.036017608 0.029974071\n",
      "DIS Loss: 0.5121813 0.24926452\n"
     ]
    },
    {
     "name": "stderr",
     "output_type": "stream",
     "text": [
      "epoch #42| 73%|####################################              |ETA:  0:01:20\r"
     ]
    },
    {
     "name": "stdout",
     "output_type": "stream",
     "text": [
      "---------------------\n",
      "GEN Loss: 1.9337876 3.0082011\n",
      "Feature Matching Loss: 0.010936026 0.00788771\n",
      "RECON Loss: 0.032511707 0.027660234\n",
      "DIS Loss: 0.33144584 0.23415111\n"
     ]
    },
    {
     "name": "stderr",
     "output_type": "stream",
     "text": [
      "epoch #42| 80%|########################################          |ETA:  0:01:00\r"
     ]
    },
    {
     "name": "stdout",
     "output_type": "stream",
     "text": [
      "---------------------\n",
      "GEN Loss: 1.4112233 0.9476508\n",
      "Feature Matching Loss: 0.011166063 0.007950429\n",
      "RECON Loss: 0.035223696 0.02595452\n",
      "DIS Loss: 0.41657746 0.38504875\n"
     ]
    },
    {
     "name": "stderr",
     "output_type": "stream",
     "text": [
      "epoch #42| 86%|###########################################       |ETA:  0:00:41\r"
     ]
    },
    {
     "name": "stdout",
     "output_type": "stream",
     "text": [
      "---------------------\n",
      "GEN Loss: 1.5197103 3.0015712\n",
      "Feature Matching Loss: 0.008744437 0.008511007\n",
      "RECON Loss: 0.033579756 0.02555433\n",
      "DIS Loss: 0.41677833 0.25592226\n"
     ]
    },
    {
     "name": "stderr",
     "output_type": "stream",
     "text": [
      "epoch #42| 93%|##############################################    |ETA:  0:00:21\r"
     ]
    },
    {
     "name": "stdout",
     "output_type": "stream",
     "text": [
      "---------------------\n",
      "GEN Loss: 0.9959309 2.7208724\n",
      "Feature Matching Loss: 0.010542662 0.009512203\n",
      "RECON Loss: 0.037554253 0.02595446\n",
      "DIS Loss: 0.36947626 0.1846281\n"
     ]
    },
    {
     "name": "stderr",
     "output_type": "stream",
     "text": [
      "epoch #42| 99%|################################################# |ETA:  0:00:01\r"
     ]
    },
    {
     "name": "stdout",
     "output_type": "stream",
     "text": [
      "---------------------\n",
      "GEN Loss: 1.3505449 2.0569754\n",
      "Feature Matching Loss: 0.009603437 0.010632239\n",
      "RECON Loss: 0.035223078 0.024506144\n",
      "DIS Loss: 0.28124896 0.18926364\n"
     ]
    },
    {
     "name": "stderr",
     "output_type": "stream",
     "text": [
      "epoch #43|  5%|##                                                |ETA:  0:04:46\r"
     ]
    },
    {
     "name": "stdout",
     "output_type": "stream",
     "text": [
      "---------------------\n",
      "GEN Loss: 2.9695344 3.7602415\n",
      "Feature Matching Loss: 0.008505235 0.008706147\n",
      "RECON Loss: 0.034557763 0.027093016\n",
      "DIS Loss: 0.713584 0.32168382\n"
     ]
    },
    {
     "name": "stderr",
     "output_type": "stream",
     "text": [
      "epoch #43| 12%|######                                            |ETA:  0:04:27\r"
     ]
    },
    {
     "name": "stdout",
     "output_type": "stream",
     "text": [
      "---------------------\n",
      "GEN Loss: 1.5671175 2.5430627\n",
      "Feature Matching Loss: 0.009097232 0.009591377\n",
      "RECON Loss: 0.034967616 0.026384326\n",
      "DIS Loss: 0.5531455 0.18509267\n"
     ]
    },
    {
     "name": "stderr",
     "output_type": "stream",
     "text": [
      "epoch #43| 18%|#########                                         |ETA:  0:04:08\r"
     ]
    },
    {
     "name": "stdout",
     "output_type": "stream",
     "text": [
      "---------------------\n",
      "GEN Loss: 2.4223099 1.4001844\n",
      "Feature Matching Loss: 0.009541652 0.009233549\n",
      "RECON Loss: 0.038911555 0.028601527\n",
      "DIS Loss: 0.62428796 0.23551093\n"
     ]
    },
    {
     "name": "stderr",
     "output_type": "stream",
     "text": [
      "epoch #43| 25%|############                                      |ETA:  0:03:49\r"
     ]
    },
    {
     "name": "stdout",
     "output_type": "stream",
     "text": [
      "---------------------\n",
      "GEN Loss: 1.0139369 1.8507262\n",
      "Feature Matching Loss: 0.0096335495 0.009140193\n",
      "RECON Loss: 0.035324 0.024697676\n",
      "DIS Loss: 0.41355684 0.23284695\n"
     ]
    },
    {
     "name": "stderr",
     "output_type": "stream",
     "text": [
      "epoch #43| 31%|###############                                   |ETA:  0:03:29\r"
     ]
    },
    {
     "name": "stdout",
     "output_type": "stream",
     "text": [
      "---------------------\n",
      "GEN Loss: 2.5910912 2.5609522\n",
      "Feature Matching Loss: 0.012331396 0.0104994\n",
      "RECON Loss: 0.03360012 0.025005547\n",
      "DIS Loss: 0.2107285 0.20770192\n"
     ]
    },
    {
     "name": "stderr",
     "output_type": "stream",
     "text": [
      "epoch #43| 38%|###################                               |ETA:  0:03:09\r"
     ]
    },
    {
     "name": "stdout",
     "output_type": "stream",
     "text": [
      "---------------------\n",
      "GEN Loss: 1.2965665 2.5856688\n",
      "Feature Matching Loss: 0.009538886 0.0088288\n",
      "RECON Loss: 0.036015466 0.026364384\n",
      "DIS Loss: 0.20634933 0.2402687\n"
     ]
    },
    {
     "name": "stderr",
     "output_type": "stream",
     "text": [
      "epoch #43| 44%|######################                            |ETA:  0:02:50\r"
     ]
    },
    {
     "name": "stdout",
     "output_type": "stream",
     "text": [
      "---------------------\n",
      "GEN Loss: 2.393879 1.8746344\n",
      "Feature Matching Loss: 0.011226227 0.0083646625\n",
      "RECON Loss: 0.03834644 0.026142081\n",
      "DIS Loss: 0.51736677 0.28259534\n"
     ]
    },
    {
     "name": "stderr",
     "output_type": "stream",
     "text": [
      "epoch #43| 50%|#########################                         |ETA:  0:02:30\r"
     ]
    },
    {
     "name": "stdout",
     "output_type": "stream",
     "text": [
      "---------------------\n",
      "GEN Loss: 2.2435758 1.4760246\n",
      "Feature Matching Loss: 0.010207361 0.00920297\n",
      "RECON Loss: 0.036226835 0.023606317\n",
      "DIS Loss: 0.095646575 0.27339914\n"
     ]
    },
    {
     "name": "stderr",
     "output_type": "stream",
     "text": [
      "epoch #43| 57%|############################                      |ETA:  0:02:10\r"
     ]
    },
    {
     "name": "stdout",
     "output_type": "stream",
     "text": [
      "---------------------\n",
      "GEN Loss: 1.7866926 1.8512992\n",
      "Feature Matching Loss: 0.008475501 0.009369783\n",
      "RECON Loss: 0.035716567 0.024474785\n",
      "DIS Loss: 0.15310962 0.2190223\n"
     ]
    },
    {
     "name": "stderr",
     "output_type": "stream",
     "text": [
      "epoch #43| 63%|###############################                   |ETA:  0:01:51\r"
     ]
    },
    {
     "name": "stdout",
     "output_type": "stream",
     "text": [
      "---------------------\n",
      "GEN Loss: 2.0399475 2.1799235\n",
      "Feature Matching Loss: 0.00998101 0.007974432\n",
      "RECON Loss: 0.03536051 0.028515236\n",
      "DIS Loss: 0.6340953 0.14563608\n"
     ]
    },
    {
     "name": "stderr",
     "output_type": "stream",
     "text": [
      "epoch #43| 70%|###################################               |ETA:  0:01:31\r"
     ]
    },
    {
     "name": "stdout",
     "output_type": "stream",
     "text": [
      "---------------------\n",
      "GEN Loss: 2.5717106 2.70583\n",
      "Feature Matching Loss: 0.012156526 0.008767254\n",
      "RECON Loss: 0.035651382 0.026947817\n",
      "DIS Loss: 0.8236819 0.13863221\n"
     ]
    },
    {
     "name": "stderr",
     "output_type": "stream",
     "text": [
      "epoch #43| 76%|######################################            |ETA:  0:01:12\r"
     ]
    },
    {
     "name": "stdout",
     "output_type": "stream",
     "text": [
      "---------------------\n",
      "GEN Loss: 2.661306 2.8769848\n",
      "Feature Matching Loss: 0.0114355385 0.008587511\n",
      "RECON Loss: 0.040152326 0.024167717\n",
      "DIS Loss: 0.5018858 0.52509564\n"
     ]
    },
    {
     "name": "stderr",
     "output_type": "stream",
     "text": [
      "epoch #43| 83%|#########################################         |ETA:  0:00:52\r"
     ]
    },
    {
     "name": "stdout",
     "output_type": "stream",
     "text": [
      "---------------------\n",
      "GEN Loss: 1.6842277 1.4026289\n",
      "Feature Matching Loss: 0.008623201 0.008313911\n",
      "RECON Loss: 0.036701005 0.024527522\n",
      "DIS Loss: 0.4524603 0.25902268\n"
     ]
    },
    {
     "name": "stderr",
     "output_type": "stream",
     "text": [
      "epoch #43| 89%|############################################      |ETA:  0:00:32\r"
     ]
    },
    {
     "name": "stdout",
     "output_type": "stream",
     "text": [
      "---------------------\n",
      "GEN Loss: 1.2704982 1.9056835\n",
      "Feature Matching Loss: 0.00991881 0.009211866\n",
      "RECON Loss: 0.04144203 0.02499748\n",
      "DIS Loss: 0.31644496 0.22261214\n"
     ]
    },
    {
     "name": "stderr",
     "output_type": "stream",
     "text": [
      "epoch #43| 95%|###############################################   |ETA:  0:00:13\r"
     ]
    },
    {
     "name": "stdout",
     "output_type": "stream",
     "text": [
      "---------------------\n",
      "GEN Loss: 2.1300669 2.4620476\n",
      "Feature Matching Loss: 0.008721562 0.009076481\n",
      "RECON Loss: 0.036104497 0.029349482\n",
      "DIS Loss: 0.56217897 0.17755152\n"
     ]
    },
    {
     "name": "stderr",
     "output_type": "stream",
     "text": [
      "epoch #44|  2%|#                                                 |ETA:  0:04:56\r"
     ]
    },
    {
     "name": "stdout",
     "output_type": "stream",
     "text": [
      "---------------------\n",
      "GEN Loss: 0.9096097 1.4799875\n",
      "Feature Matching Loss: 0.008909948 0.009816182\n",
      "RECON Loss: 0.035411537 0.02893801\n",
      "DIS Loss: 0.72714436 0.33611047\n"
     ]
    },
    {
     "name": "stderr",
     "output_type": "stream",
     "text": [
      "epoch #44|  8%|####                                              |ETA:  0:04:40\r"
     ]
    },
    {
     "name": "stdout",
     "output_type": "stream",
     "text": [
      "---------------------\n",
      "GEN Loss: 1.3608665 2.4825442\n",
      "Feature Matching Loss: 0.008218879 0.0077240625\n",
      "RECON Loss: 0.034761343 0.027930627\n",
      "DIS Loss: 0.23736747 0.17362955\n"
     ]
    },
    {
     "name": "stderr",
     "output_type": "stream",
     "text": [
      "epoch #44| 15%|#######                                           |ETA:  0:04:20\r"
     ]
    },
    {
     "name": "stdout",
     "output_type": "stream",
     "text": [
      "---------------------\n",
      "GEN Loss: 1.6371406 2.3998604\n",
      "Feature Matching Loss: 0.010043869 0.010128268\n",
      "RECON Loss: 0.036103357 0.026567275\n",
      "DIS Loss: 0.20289434 0.29074383\n"
     ]
    },
    {
     "name": "stderr",
     "output_type": "stream",
     "text": [
      "epoch #44| 21%|##########                                        |ETA:  0:04:00\r"
     ]
    },
    {
     "name": "stdout",
     "output_type": "stream",
     "text": [
      "---------------------\n",
      "GEN Loss: 2.519381 3.1700664\n",
      "Feature Matching Loss: 0.00980646 0.0073654894\n",
      "RECON Loss: 0.03248475 0.02508684\n",
      "DIS Loss: 0.36803848 0.19112144\n"
     ]
    },
    {
     "name": "stderr",
     "output_type": "stream",
     "text": [
      "epoch #44| 28%|##############                                    |ETA:  0:03:40\r"
     ]
    },
    {
     "name": "stdout",
     "output_type": "stream",
     "text": [
      "---------------------\n",
      "GEN Loss: 1.9145011 2.2635703\n",
      "Feature Matching Loss: 0.008373436 0.010711977\n",
      "RECON Loss: 0.035670105 0.025242709\n",
      "DIS Loss: 0.49270853 0.2563092\n"
     ]
    },
    {
     "name": "stderr",
     "output_type": "stream",
     "text": [
      "epoch #44| 34%|#################                                 |ETA:  0:03:21\r"
     ]
    },
    {
     "name": "stdout",
     "output_type": "stream",
     "text": [
      "---------------------\n",
      "GEN Loss: 0.8816633 2.5343318\n",
      "Feature Matching Loss: 0.0114027625 0.012596963\n",
      "RECON Loss: 0.041105326 0.024974445\n",
      "DIS Loss: 0.58601195 0.25861347\n"
     ]
    },
    {
     "name": "stderr",
     "output_type": "stream",
     "text": [
      "epoch #44| 40%|####################                              |ETA:  0:03:01\r"
     ]
    },
    {
     "name": "stdout",
     "output_type": "stream",
     "text": [
      "---------------------\n",
      "GEN Loss: 1.4867923 1.3526363\n",
      "Feature Matching Loss: 0.011341987 0.011623947\n",
      "RECON Loss: 0.03571865 0.03006542\n",
      "DIS Loss: 0.4574769 0.25178906\n"
     ]
    },
    {
     "name": "stderr",
     "output_type": "stream",
     "text": [
      "epoch #44| 47%|#######################                           |ETA:  0:02:41\r"
     ]
    },
    {
     "name": "stdout",
     "output_type": "stream",
     "text": [
      "---------------------\n",
      "GEN Loss: 1.989364 2.970207\n",
      "Feature Matching Loss: 0.009486705 0.009515078\n",
      "RECON Loss: 0.034518708 0.031496897\n",
      "DIS Loss: 0.31070253 0.27336484\n"
     ]
    },
    {
     "name": "stderr",
     "output_type": "stream",
     "text": [
      "epoch #44| 53%|##########################                        |ETA:  0:02:22\r"
     ]
    },
    {
     "name": "stdout",
     "output_type": "stream",
     "text": [
      "---------------------\n",
      "GEN Loss: 1.2788011 1.0089444\n",
      "Feature Matching Loss: 0.0088266 0.008910997\n",
      "RECON Loss: 0.03873995 0.026578004\n",
      "DIS Loss: 0.57229793 0.38963073\n"
     ]
    },
    {
     "name": "stderr",
     "output_type": "stream",
     "text": [
      "epoch #44| 60%|##############################                    |ETA:  0:02:02\r"
     ]
    },
    {
     "name": "stdout",
     "output_type": "stream",
     "text": [
      "---------------------\n",
      "GEN Loss: 1.3409121 1.2467017\n",
      "Feature Matching Loss: 0.00857711 0.009765732\n",
      "RECON Loss: 0.03696097 0.027260074\n",
      "DIS Loss: 0.5663533 0.3264392\n"
     ]
    },
    {
     "name": "stderr",
     "output_type": "stream",
     "text": [
      "epoch #44| 66%|#################################                 |ETA:  0:01:42\r"
     ]
    },
    {
     "name": "stdout",
     "output_type": "stream",
     "text": [
      "---------------------\n",
      "GEN Loss: 1.1108538 2.2643204\n",
      "Feature Matching Loss: 0.010497725 0.010384664\n",
      "RECON Loss: 0.040978592 0.025136404\n",
      "DIS Loss: 0.25772646 0.18821198\n"
     ]
    },
    {
     "name": "stderr",
     "output_type": "stream",
     "text": [
      "epoch #44| 72%|####################################              |ETA:  0:01:23\r"
     ]
    },
    {
     "name": "stdout",
     "output_type": "stream",
     "text": [
      "---------------------\n",
      "GEN Loss: 0.87214994 1.5645165\n",
      "Feature Matching Loss: 0.011432878 0.010199187\n",
      "RECON Loss: 0.040486626 0.028706526\n",
      "DIS Loss: 0.34681982 0.2460616\n"
     ]
    },
    {
     "name": "stderr",
     "output_type": "stream",
     "text": [
      "epoch #44| 79%|#######################################           |ETA:  0:01:03\r"
     ]
    },
    {
     "name": "stdout",
     "output_type": "stream",
     "text": [
      "---------------------\n",
      "GEN Loss: 2.3796844 2.822679\n",
      "Feature Matching Loss: 0.008964006 0.007921683\n",
      "RECON Loss: 0.035926234 0.027807726\n",
      "DIS Loss: 0.42278254 0.27093974\n"
     ]
    },
    {
     "name": "stderr",
     "output_type": "stream",
     "text": [
      "epoch #44| 85%|##########################################        |ETA:  0:00:42\r"
     ]
    },
    {
     "name": "stdout",
     "output_type": "stream",
     "text": [
      "---------------------\n",
      "GEN Loss: 1.3198425 3.0609636\n",
      "Feature Matching Loss: 0.011311034 0.008936873\n",
      "RECON Loss: 0.032858074 0.026097395\n",
      "DIS Loss: 0.31483436 0.1855242\n"
     ]
    },
    {
     "name": "stderr",
     "output_type": "stream",
     "text": [
      "epoch #44| 92%|##############################################    |ETA:  0:00:24\r"
     ]
    },
    {
     "name": "stdout",
     "output_type": "stream",
     "text": [
      "---------------------\n",
      "GEN Loss: 0.6212361 0.8683017\n",
      "Feature Matching Loss: 0.008652288 0.008682709\n",
      "RECON Loss: 0.036544014 0.026043609\n",
      "DIS Loss: 0.57159257 0.45776308\n"
     ]
    },
    {
     "name": "stderr",
     "output_type": "stream",
     "text": [
      "epoch #44| 98%|################################################# |ETA:  0:00:03\r"
     ]
    },
    {
     "name": "stdout",
     "output_type": "stream",
     "text": [
      "---------------------\n",
      "GEN Loss: 1.9558666 3.2176473\n",
      "Feature Matching Loss: 0.013390534 0.0077921543\n",
      "RECON Loss: 0.039989993 0.024739847\n",
      "DIS Loss: 0.22835636 0.25860438\n"
     ]
    },
    {
     "name": "stderr",
     "output_type": "stream",
     "text": [
      "epoch #45|  5%|##                                                |ETA:  0:04:48\r"
     ]
    },
    {
     "name": "stdout",
     "output_type": "stream",
     "text": [
      "---------------------\n",
      "GEN Loss: 1.5227312 4.2158194\n",
      "Feature Matching Loss: 0.011904165 0.009664536\n",
      "RECON Loss: 0.037145 0.027349612\n",
      "DIS Loss: 0.47159612 0.3990504\n"
     ]
    },
    {
     "name": "stderr",
     "output_type": "stream",
     "text": [
      "epoch #45| 11%|#####                                             |ETA:  0:04:30\r"
     ]
    },
    {
     "name": "stdout",
     "output_type": "stream",
     "text": [
      "---------------------\n",
      "GEN Loss: 2.248337 1.6766407\n",
      "Feature Matching Loss: 0.010250016 0.0096164625\n",
      "RECON Loss: 0.038539737 0.028989805\n",
      "DIS Loss: 0.2261653 0.25906283\n"
     ]
    },
    {
     "name": "stderr",
     "output_type": "stream",
     "text": [
      "epoch #45| 18%|#########                                         |ETA:  0:04:10\r"
     ]
    },
    {
     "name": "stdout",
     "output_type": "stream",
     "text": [
      "---------------------\n",
      "GEN Loss: 2.3579977 2.6610575\n",
      "Feature Matching Loss: 0.013161575 0.0101683205\n",
      "RECON Loss: 0.040492598 0.025451748\n",
      "DIS Loss: 0.07899803 0.21031722\n"
     ]
    },
    {
     "name": "stderr",
     "output_type": "stream",
     "text": [
      "epoch #45| 24%|############                                      |ETA:  0:03:51\r"
     ]
    },
    {
     "name": "stdout",
     "output_type": "stream",
     "text": [
      "---------------------\n",
      "GEN Loss: 1.4969108 2.6741452\n",
      "Feature Matching Loss: 0.012778629 0.008939417\n",
      "RECON Loss: 0.03653338 0.027522536\n",
      "DIS Loss: 0.5140021 0.15801415\n"
     ]
    },
    {
     "name": "stderr",
     "output_type": "stream",
     "text": [
      "epoch #45| 30%|###############                                   |ETA:  0:03:31\r"
     ]
    },
    {
     "name": "stdout",
     "output_type": "stream",
     "text": [
      "---------------------\n",
      "GEN Loss: 1.3601539 3.4944878\n",
      "Feature Matching Loss: 0.014636856 0.008041833\n",
      "RECON Loss: 0.042575423 0.026948512\n",
      "DIS Loss: 0.1971938 0.26451436\n"
     ]
    },
    {
     "name": "stderr",
     "output_type": "stream",
     "text": [
      "epoch #45| 37%|##################                                |ETA:  0:03:11\r"
     ]
    },
    {
     "name": "stdout",
     "output_type": "stream",
     "text": [
      "---------------------\n",
      "GEN Loss: 3.002901 2.0688064\n",
      "Feature Matching Loss: 0.009384083 0.0077097006\n",
      "RECON Loss: 0.0387539 0.027264072\n",
      "DIS Loss: 0.61027145 0.17884815\n"
     ]
    },
    {
     "name": "stderr",
     "output_type": "stream",
     "text": [
      "epoch #45| 43%|#####################                             |ETA:  0:02:52\r"
     ]
    },
    {
     "name": "stdout",
     "output_type": "stream",
     "text": [
      "---------------------\n",
      "GEN Loss: 2.0396883 2.5393066\n",
      "Feature Matching Loss: 0.011130545 0.010964007\n",
      "RECON Loss: 0.03938628 0.02637005\n",
      "DIS Loss: 0.46687806 0.21821222\n"
     ]
    },
    {
     "name": "stderr",
     "output_type": "stream",
     "text": [
      "epoch #45| 50%|#########################                         |ETA:  0:02:32\r"
     ]
    },
    {
     "name": "stdout",
     "output_type": "stream",
     "text": [
      "---------------------\n",
      "GEN Loss: 3.4331946 2.4308147\n",
      "Feature Matching Loss: 0.009999817 0.008943998\n",
      "RECON Loss: 0.037018105 0.026645297\n",
      "DIS Loss: 0.40066093 0.23375224\n"
     ]
    },
    {
     "name": "stderr",
     "output_type": "stream",
     "text": [
      "epoch #45| 56%|############################                      |ETA:  0:02:12\r"
     ]
    },
    {
     "name": "stdout",
     "output_type": "stream",
     "text": [
      "---------------------\n",
      "GEN Loss: 0.9506468 2.0386977\n",
      "Feature Matching Loss: 0.012010783 0.011477999\n",
      "RECON Loss: 0.04206312 0.027799686\n",
      "DIS Loss: 0.40604937 0.26203823\n"
     ]
    },
    {
     "name": "stderr",
     "output_type": "stream",
     "text": [
      "epoch #45| 62%|###############################                   |ETA:  0:01:53\r"
     ]
    },
    {
     "name": "stdout",
     "output_type": "stream",
     "text": [
      "---------------------\n",
      "GEN Loss: 2.7843184 2.3978496\n",
      "Feature Matching Loss: 0.012788118 0.0099434145\n",
      "RECON Loss: 0.03734446 0.027708827\n",
      "DIS Loss: 0.05927552 0.22361262\n"
     ]
    },
    {
     "name": "stderr",
     "output_type": "stream",
     "text": [
      "epoch #45| 69%|##################################                |ETA:  0:01:33\r"
     ]
    },
    {
     "name": "stdout",
     "output_type": "stream",
     "text": [
      "---------------------\n",
      "GEN Loss: 1.5543059 1.5566049\n",
      "Feature Matching Loss: 0.009680962 0.007906593\n",
      "RECON Loss: 0.03617641 0.027403772\n",
      "DIS Loss: 0.15889764 0.33653343\n"
     ]
    },
    {
     "name": "stderr",
     "output_type": "stream",
     "text": [
      "epoch #45| 75%|#####################################             |ETA:  0:01:13\r"
     ]
    },
    {
     "name": "stdout",
     "output_type": "stream",
     "text": [
      "---------------------\n",
      "GEN Loss: 2.9891622 3.0595222\n",
      "Feature Matching Loss: 0.010386857 0.010032872\n",
      "RECON Loss: 0.03646231 0.02856811\n",
      "DIS Loss: 0.30374905 0.34773046\n"
     ]
    },
    {
     "name": "stderr",
     "output_type": "stream",
     "text": [
      "epoch #45| 82%|#########################################         |ETA:  0:00:54\r"
     ]
    },
    {
     "name": "stdout",
     "output_type": "stream",
     "text": [
      "---------------------\n",
      "GEN Loss: 1.4390905 2.210507\n",
      "Feature Matching Loss: 0.009647098 0.011576032\n",
      "RECON Loss: 0.03948963 0.02338911\n",
      "DIS Loss: 0.1908041 0.2503964\n"
     ]
    },
    {
     "name": "stderr",
     "output_type": "stream",
     "text": [
      "epoch #45| 88%|############################################      |ETA:  0:00:34\r"
     ]
    },
    {
     "name": "stdout",
     "output_type": "stream",
     "text": [
      "---------------------\n",
      "GEN Loss: 1.5733638 2.9964745\n",
      "Feature Matching Loss: 0.010931508 0.012531028\n",
      "RECON Loss: 0.035901144 0.02784893\n",
      "DIS Loss: 0.43874457 0.26955938\n"
     ]
    },
    {
     "name": "stderr",
     "output_type": "stream",
     "text": [
      "epoch #45| 95%|###############################################   |ETA:  0:00:14\r"
     ]
    },
    {
     "name": "stdout",
     "output_type": "stream",
     "text": [
      "---------------------\n",
      "GEN Loss: 0.757383 3.0251322\n",
      "Feature Matching Loss: 0.009842656 0.012151621\n",
      "RECON Loss: 0.035480622 0.025759289\n",
      "DIS Loss: 0.5053164 0.16549835\n"
     ]
    },
    {
     "name": "stderr",
     "output_type": "stream",
     "text": [
      "epoch #46|  1%|                                                  |ETA:  0:04:57\r"
     ]
    },
    {
     "name": "stdout",
     "output_type": "stream",
     "text": [
      "---------------------\n",
      "GEN Loss: 3.0764751 2.7619135\n",
      "Feature Matching Loss: 0.0096606165 0.0088200625\n",
      "RECON Loss: 0.038890712 0.026443997\n",
      "DIS Loss: 0.2128197 0.13770887\n"
     ]
    },
    {
     "name": "stderr",
     "output_type": "stream",
     "text": [
      "epoch #46|  8%|####                                              |ETA:  0:04:41\r"
     ]
    },
    {
     "name": "stdout",
     "output_type": "stream",
     "text": [
      "---------------------\n",
      "GEN Loss: 1.0468607 1.7195067\n",
      "Feature Matching Loss: 0.00806071 0.0116408225\n",
      "RECON Loss: 0.03708433 0.027707497\n",
      "DIS Loss: 0.442896 0.1948055\n"
     ]
    },
    {
     "name": "stderr",
     "output_type": "stream",
     "text": [
      "epoch #46| 14%|#######                                           |ETA:  0:04:22\r"
     ]
    },
    {
     "name": "stdout",
     "output_type": "stream",
     "text": [
      "---------------------\n",
      "GEN Loss: 1.9842 2.7678888\n",
      "Feature Matching Loss: 0.00908605 0.009311374\n",
      "RECON Loss: 0.03813717 0.028488731\n",
      "DIS Loss: 0.19327758 0.20079577\n"
     ]
    },
    {
     "name": "stderr",
     "output_type": "stream",
     "text": [
      "epoch #46| 20%|##########                                        |ETA:  0:04:02\r"
     ]
    },
    {
     "name": "stdout",
     "output_type": "stream",
     "text": [
      "---------------------\n",
      "GEN Loss: 1.9854958 4.5958595\n",
      "Feature Matching Loss: 0.01033348 0.008286675\n",
      "RECON Loss: 0.036811594 0.02863203\n",
      "DIS Loss: 0.33270898 0.38515157\n"
     ]
    },
    {
     "name": "stderr",
     "output_type": "stream",
     "text": [
      "epoch #46| 26%|#############                                     |ETA:  0:03:43\r"
     ]
    },
    {
     "name": "stdout",
     "output_type": "stream",
     "text": [
      "---------------------\n",
      "GEN Loss: 1.597904 2.0247142\n",
      "Feature Matching Loss: 0.009207094 0.010746173\n",
      "RECON Loss: 0.039921694 0.025766822\n",
      "DIS Loss: 0.55476415 0.19753632\n"
     ]
    },
    {
     "name": "stderr",
     "output_type": "stream",
     "text": [
      "epoch #46| 33%|################                                  |ETA:  0:03:26\r"
     ]
    },
    {
     "name": "stdout",
     "output_type": "stream",
     "text": [
      "---------------------\n",
      "GEN Loss: 1.1240304 1.8435545\n",
      "Feature Matching Loss: 0.010229347 0.010249219\n",
      "RECON Loss: 0.037209466 0.028610045\n",
      "DIS Loss: 0.27499306 0.2216941\n"
     ]
    },
    {
     "name": "stderr",
     "output_type": "stream",
     "text": [
      "epoch #46| 40%|####################                              |ETA:  0:03:05\r"
     ]
    },
    {
     "name": "stdout",
     "output_type": "stream",
     "text": [
      "---------------------\n",
      "GEN Loss: 1.2075619 1.7552204\n",
      "Feature Matching Loss: 0.01021284 0.01082355\n",
      "RECON Loss: 0.03484461 0.031154504\n",
      "DIS Loss: 0.3482048 0.25018814\n"
     ]
    },
    {
     "name": "stderr",
     "output_type": "stream",
     "text": [
      "epoch #46| 46%|#######################                           |ETA:  0:02:45\r"
     ]
    },
    {
     "name": "stdout",
     "output_type": "stream",
     "text": [
      "---------------------\n",
      "GEN Loss: 1.6028432 2.7454612\n",
      "Feature Matching Loss: 0.010616669 0.013307346\n",
      "RECON Loss: 0.037026435 0.029214567\n",
      "DIS Loss: 0.36126444 0.21056935\n"
     ]
    },
    {
     "name": "stderr",
     "output_type": "stream",
     "text": [
      "epoch #46| 52%|##########################                        |ETA:  0:02:25\r"
     ]
    },
    {
     "name": "stdout",
     "output_type": "stream",
     "text": [
      "---------------------\n",
      "GEN Loss: 0.86795974 5.109289\n",
      "Feature Matching Loss: 0.009695129 0.011011129\n",
      "RECON Loss: 0.038170114 0.023597507\n",
      "DIS Loss: 0.4166754 0.89387184\n"
     ]
    },
    {
     "name": "stderr",
     "output_type": "stream",
     "text": [
      "epoch #46| 59%|#############################                     |ETA:  0:02:05\r"
     ]
    },
    {
     "name": "stdout",
     "output_type": "stream",
     "text": [
      "---------------------\n",
      "GEN Loss: 2.98946 2.4709704\n",
      "Feature Matching Loss: 0.0097745815 0.009416669\n",
      "RECON Loss: 0.034452394 0.026479155\n",
      "DIS Loss: 0.10185461 0.09950557\n"
     ]
    },
    {
     "name": "stderr",
     "output_type": "stream",
     "text": [
      "epoch #46| 65%|################################                  |ETA:  0:01:45\r"
     ]
    },
    {
     "name": "stdout",
     "output_type": "stream",
     "text": [
      "---------------------\n",
      "GEN Loss: 0.773725 1.9396722\n",
      "Feature Matching Loss: 0.008660898 0.009214969\n",
      "RECON Loss: 0.037436232 0.02574262\n",
      "DIS Loss: 0.518696 0.20482503\n"
     ]
    },
    {
     "name": "stderr",
     "output_type": "stream",
     "text": [
      "epoch #46| 72%|####################################              |ETA:  0:01:26\r"
     ]
    },
    {
     "name": "stdout",
     "output_type": "stream",
     "text": [
      "---------------------\n",
      "GEN Loss: 2.4730082 2.2855048\n",
      "Feature Matching Loss: 0.008761523 0.009394309\n",
      "RECON Loss: 0.037211787 0.02769812\n",
      "DIS Loss: 0.4568359 0.16361526\n"
     ]
    },
    {
     "name": "stderr",
     "output_type": "stream",
     "text": [
      "epoch #46| 78%|#######################################           |ETA:  0:01:05\r"
     ]
    },
    {
     "name": "stdout",
     "output_type": "stream",
     "text": [
      "---------------------\n",
      "GEN Loss: 2.0997772 3.1908488\n",
      "Feature Matching Loss: 0.008598455 0.009111727\n",
      "RECON Loss: 0.038136665 0.029572546\n",
      "DIS Loss: 0.38022995 0.24347402\n"
     ]
    },
    {
     "name": "stderr",
     "output_type": "stream",
     "text": [
      "epoch #46| 85%|##########################################        |ETA:  0:00:45\r"
     ]
    },
    {
     "name": "stdout",
     "output_type": "stream",
     "text": [
      "---------------------\n",
      "GEN Loss: 1.8335278 3.82527\n",
      "Feature Matching Loss: 0.009954878 0.012137282\n",
      "RECON Loss: 0.038560804 0.025401985\n",
      "DIS Loss: 0.40284154 0.29538876\n"
     ]
    },
    {
     "name": "stderr",
     "output_type": "stream",
     "text": [
      "epoch #46| 91%|#############################################     |ETA:  0:00:26\r"
     ]
    },
    {
     "name": "stdout",
     "output_type": "stream",
     "text": [
      "---------------------\n",
      "GEN Loss: 0.92071265 1.3529408\n",
      "Feature Matching Loss: 0.010413906 0.008521548\n",
      "RECON Loss: 0.0418324 0.0269254\n",
      "DIS Loss: 0.4356207 0.27492046\n"
     ]
    },
    {
     "name": "stderr",
     "output_type": "stream",
     "text": [
      "epoch #46| 97%|################################################  |ETA:  0:00:06\r"
     ]
    },
    {
     "name": "stdout",
     "output_type": "stream",
     "text": [
      "---------------------\n",
      "GEN Loss: 2.1504092 3.1619587\n",
      "Feature Matching Loss: 0.011218136 0.009487373\n",
      "RECON Loss: 0.03803796 0.02600986\n",
      "DIS Loss: 0.4487901 0.16288817\n"
     ]
    },
    {
     "name": "stderr",
     "output_type": "stream",
     "text": [
      "epoch #47|  4%|##                                                |ETA:  0:04:50\r"
     ]
    },
    {
     "name": "stdout",
     "output_type": "stream",
     "text": [
      "---------------------\n",
      "GEN Loss: 1.761045 2.181803\n",
      "Feature Matching Loss: 0.010026256 0.008839856\n",
      "RECON Loss: 0.03443858 0.02684589\n",
      "DIS Loss: 0.13715844 0.1650245\n"
     ]
    },
    {
     "name": "stderr",
     "output_type": "stream",
     "text": [
      "epoch #47| 10%|#####                                             |ETA:  0:04:31\r"
     ]
    },
    {
     "name": "stdout",
     "output_type": "stream",
     "text": [
      "---------------------\n",
      "GEN Loss: 2.8731303 2.26398\n",
      "Feature Matching Loss: 0.009536823 0.011769709\n",
      "RECON Loss: 0.0419264 0.02577909\n",
      "DIS Loss: 0.31877887 0.18469162\n"
     ]
    },
    {
     "name": "stderr",
     "output_type": "stream",
     "text": [
      "epoch #47| 17%|########                                          |ETA:  0:04:12\r"
     ]
    },
    {
     "name": "stdout",
     "output_type": "stream",
     "text": [
      "---------------------\n",
      "GEN Loss: 0.968611 3.945895\n",
      "Feature Matching Loss: 0.009794908 0.009570353\n",
      "RECON Loss: 0.036011185 0.03061851\n",
      "DIS Loss: 0.32765827 0.2744478\n"
     ]
    },
    {
     "name": "stderr",
     "output_type": "stream",
     "text": [
      "epoch #47| 23%|###########                                       |ETA:  0:03:53\r"
     ]
    },
    {
     "name": "stdout",
     "output_type": "stream",
     "text": [
      "---------------------\n",
      "GEN Loss: 2.3537683 4.719284\n",
      "Feature Matching Loss: 0.010675106 0.010594773\n",
      "RECON Loss: 0.0418061 0.030187093\n",
      "DIS Loss: 0.10163588 0.52914596\n"
     ]
    },
    {
     "name": "stderr",
     "output_type": "stream",
     "text": [
      "epoch #47| 30%|###############                                   |ETA:  0:03:33\r"
     ]
    },
    {
     "name": "stdout",
     "output_type": "stream",
     "text": [
      "---------------------\n",
      "GEN Loss: 2.2137988 2.756073\n",
      "Feature Matching Loss: 0.007262675 0.008448038\n",
      "RECON Loss: 0.03514262 0.027597858\n",
      "DIS Loss: 0.41682938 0.13727714\n"
     ]
    },
    {
     "name": "stderr",
     "output_type": "stream",
     "text": [
      "epoch #47| 36%|##################                                |ETA:  0:03:13\r"
     ]
    },
    {
     "name": "stdout",
     "output_type": "stream",
     "text": [
      "---------------------\n",
      "GEN Loss: 1.3827045 2.3795073\n",
      "Feature Matching Loss: 0.009892367 0.009639945\n",
      "RECON Loss: 0.034083206 0.024476288\n",
      "DIS Loss: 0.55170095 0.3058527\n"
     ]
    },
    {
     "name": "stderr",
     "output_type": "stream",
     "text": [
      "epoch #47| 42%|#####################                             |ETA:  0:02:54\r"
     ]
    },
    {
     "name": "stdout",
     "output_type": "stream",
     "text": [
      "---------------------\n",
      "GEN Loss: 1.8377229 2.998278\n",
      "Feature Matching Loss: 0.0102849305 0.007822709\n",
      "RECON Loss: 0.040636294 0.026269538\n",
      "DIS Loss: 0.21910247 0.28693146\n"
     ]
    },
    {
     "name": "stderr",
     "output_type": "stream",
     "text": [
      "epoch #47| 49%|########################                          |ETA:  0:02:34\r"
     ]
    },
    {
     "name": "stdout",
     "output_type": "stream",
     "text": [
      "---------------------\n",
      "GEN Loss: 1.8347301 1.4695739\n",
      "Feature Matching Loss: 0.0113116745 0.010366946\n",
      "RECON Loss: 0.034738034 0.028535252\n",
      "DIS Loss: 0.3715751 0.28998998\n"
     ]
    },
    {
     "name": "stderr",
     "output_type": "stream",
     "text": [
      "epoch #47| 55%|###########################                       |ETA:  0:02:16\r"
     ]
    },
    {
     "name": "stdout",
     "output_type": "stream",
     "text": [
      "---------------------\n",
      "GEN Loss: 1.827408 2.9502358\n",
      "Feature Matching Loss: 0.009253075 0.009391906\n",
      "RECON Loss: 0.037514947 0.027376292\n",
      "DIS Loss: 0.4409182 0.14613098\n"
     ]
    },
    {
     "name": "stderr",
     "output_type": "stream",
     "text": [
      "epoch #47| 62%|###############################                   |ETA:  0:01:57\r"
     ]
    },
    {
     "name": "stdout",
     "output_type": "stream",
     "text": [
      "---------------------\n",
      "GEN Loss: 1.073473 1.9639306\n",
      "Feature Matching Loss: 0.01064508 0.009121996\n",
      "RECON Loss: 0.034887694 0.025465442\n",
      "DIS Loss: 0.30324206 0.37523085\n"
     ]
    },
    {
     "name": "stderr",
     "output_type": "stream",
     "text": [
      "epoch #47| 68%|##################################                |ETA:  0:01:36\r"
     ]
    },
    {
     "name": "stdout",
     "output_type": "stream",
     "text": [
      "---------------------\n",
      "GEN Loss: 1.0689654 1.7384262\n",
      "Feature Matching Loss: 0.010329876 0.0076783253\n",
      "RECON Loss: 0.040242266 0.02943615\n",
      "DIS Loss: 0.5446317 0.24763405\n"
     ]
    },
    {
     "name": "stderr",
     "output_type": "stream",
     "text": [
      "epoch #47| 75%|#####################################             |ETA:  0:01:16\r"
     ]
    },
    {
     "name": "stdout",
     "output_type": "stream",
     "text": [
      "---------------------\n",
      "GEN Loss: 2.7658997 1.4795223\n",
      "Feature Matching Loss: 0.009861837 0.008749539\n",
      "RECON Loss: 0.038195487 0.03152215\n",
      "DIS Loss: 0.547799 0.25960568\n"
     ]
    },
    {
     "name": "stderr",
     "output_type": "stream",
     "text": [
      "epoch #47| 81%|########################################          |ETA:  0:00:57\r"
     ]
    },
    {
     "name": "stdout",
     "output_type": "stream",
     "text": [
      "---------------------\n",
      "GEN Loss: 1.4408016 2.7998478\n",
      "Feature Matching Loss: 0.009509613 0.010142096\n",
      "RECON Loss: 0.041086584 0.03005976\n",
      "DIS Loss: 0.44337237 0.22384205\n"
     ]
    },
    {
     "name": "stderr",
     "output_type": "stream",
     "text": [
      "epoch #47| 87%|###########################################       |ETA:  0:00:37\r"
     ]
    },
    {
     "name": "stdout",
     "output_type": "stream",
     "text": [
      "---------------------\n",
      "GEN Loss: 1.7483637 3.36092\n",
      "Feature Matching Loss: 0.009736992 0.008329655\n",
      "RECON Loss: 0.037965283 0.028200604\n",
      "DIS Loss: 0.24162209 0.40658742\n"
     ]
    },
    {
     "name": "stderr",
     "output_type": "stream",
     "text": [
      "epoch #47| 94%|###############################################   |ETA:  0:00:17\r"
     ]
    },
    {
     "name": "stdout",
     "output_type": "stream",
     "text": [
      "---------------------\n",
      "GEN Loss: 1.9835696 3.0453258\n",
      "Feature Matching Loss: 0.013211063 0.009743406\n",
      "RECON Loss: 0.044974715 0.02585479\n",
      "DIS Loss: 0.17272174 0.21241486\n"
     ]
    },
    {
     "name": "stderr",
     "output_type": "stream",
     "text": [
      "epoch #48|  0%|                                                  |ETA:  0:05:04\r"
     ]
    },
    {
     "name": "stdout",
     "output_type": "stream",
     "text": [
      "---------------------\n",
      "GEN Loss: 1.7962933 3.0883117\n",
      "Feature Matching Loss: 0.011318342 0.008338989\n",
      "RECON Loss: 0.03848058 0.025534695\n",
      "DIS Loss: 0.14113212 0.2739442\n"
     ]
    },
    {
     "name": "stderr",
     "output_type": "stream",
     "text": [
      "epoch #48|  7%|###                                               |ETA:  0:04:44\r"
     ]
    },
    {
     "name": "stdout",
     "output_type": "stream",
     "text": [
      "---------------------\n",
      "GEN Loss: 1.5429122 1.9728377\n",
      "Feature Matching Loss: 0.009518523 0.009464575\n",
      "RECON Loss: 0.040040612 0.029904282\n",
      "DIS Loss: 0.42739856 0.2049641\n"
     ]
    },
    {
     "name": "stderr",
     "output_type": "stream",
     "text": [
      "epoch #48| 13%|######                                            |ETA:  0:04:24\r"
     ]
    },
    {
     "name": "stdout",
     "output_type": "stream",
     "text": [
      "---------------------\n",
      "GEN Loss: 1.8615698 1.8747492\n",
      "Feature Matching Loss: 0.007364729 0.011853505\n",
      "RECON Loss: 0.038371492 0.028347775\n",
      "DIS Loss: 0.35733694 0.21460994\n"
     ]
    },
    {
     "name": "stderr",
     "output_type": "stream",
     "text": [
      "epoch #48| 20%|##########                                        |ETA:  0:04:04\r"
     ]
    },
    {
     "name": "stdout",
     "output_type": "stream",
     "text": [
      "---------------------\n",
      "GEN Loss: 1.8445375 2.0135722\n",
      "Feature Matching Loss: 0.010907576 0.010291477\n",
      "RECON Loss: 0.034271028 0.02852208\n",
      "DIS Loss: 0.40919214 0.18196554\n"
     ]
    },
    {
     "name": "stderr",
     "output_type": "stream",
     "text": [
      "epoch #48| 26%|#############                                     |ETA:  0:03:44\r"
     ]
    },
    {
     "name": "stdout",
     "output_type": "stream",
     "text": [
      "---------------------\n",
      "GEN Loss: 2.2690125 6.248496\n",
      "Feature Matching Loss: 0.00969984 0.010733094\n",
      "RECON Loss: 0.037070386 0.03120438\n",
      "DIS Loss: 0.40886816 0.53070784\n"
     ]
    },
    {
     "name": "stderr",
     "output_type": "stream",
     "text": [
      "epoch #48| 32%|################                                  |ETA:  0:03:25\r"
     ]
    },
    {
     "name": "stdout",
     "output_type": "stream",
     "text": [
      "---------------------\n",
      "GEN Loss: 0.10442287 2.3981557\n",
      "Feature Matching Loss: 0.010973199 0.010638574\n",
      "RECON Loss: 0.03502906 0.02917899\n",
      "DIS Loss: 1.5165865 0.18176273\n"
     ]
    },
    {
     "name": "stderr",
     "output_type": "stream",
     "text": [
      "epoch #48| 39%|###################                               |ETA:  0:03:05\r"
     ]
    },
    {
     "name": "stdout",
     "output_type": "stream",
     "text": [
      "---------------------\n",
      "GEN Loss: 1.3659046 1.8233783\n",
      "Feature Matching Loss: 0.0104115 0.00942239\n",
      "RECON Loss: 0.03747521 0.027744627\n",
      "DIS Loss: 0.5015589 0.180214\n"
     ]
    },
    {
     "name": "stderr",
     "output_type": "stream",
     "text": [
      "epoch #48| 45%|######################                            |ETA:  0:02:45\r"
     ]
    },
    {
     "name": "stdout",
     "output_type": "stream",
     "text": [
      "---------------------\n",
      "GEN Loss: 0.98767465 1.985815\n",
      "Feature Matching Loss: 0.010984289 0.011040697\n",
      "RECON Loss: 0.039285686 0.028837329\n",
      "DIS Loss: 0.43658465 0.25408673\n"
     ]
    },
    {
     "name": "stderr",
     "output_type": "stream",
     "text": [
      "epoch #48| 52%|##########################                        |ETA:  0:02:26\r"
     ]
    },
    {
     "name": "stdout",
     "output_type": "stream",
     "text": [
      "---------------------\n",
      "GEN Loss: 1.2375338 2.4418\n",
      "Feature Matching Loss: 0.009703178 0.0095693935\n",
      "RECON Loss: 0.033191245 0.029505486\n",
      "DIS Loss: 0.40193266 0.13259132\n"
     ]
    },
    {
     "name": "stderr",
     "output_type": "stream",
     "text": [
      "epoch #48| 58%|#############################                     |ETA:  0:02:06\r"
     ]
    },
    {
     "name": "stdout",
     "output_type": "stream",
     "text": [
      "---------------------\n",
      "GEN Loss: 1.0053504 3.1048706\n",
      "Feature Matching Loss: 0.01086832 0.007024978\n",
      "RECON Loss: 0.036009204 0.029765941\n",
      "DIS Loss: 0.33784214 0.32815927\n"
     ]
    },
    {
     "name": "stderr",
     "output_type": "stream",
     "text": [
      "epoch #48| 65%|################################                  |ETA:  0:01:46\r"
     ]
    },
    {
     "name": "stdout",
     "output_type": "stream",
     "text": [
      "---------------------\n",
      "GEN Loss: 2.053739 4.097755\n",
      "Feature Matching Loss: 0.010909494 0.009888175\n",
      "RECON Loss: 0.03653966 0.027828416\n",
      "DIS Loss: 0.4260528 0.38056332\n"
     ]
    },
    {
     "name": "stderr",
     "output_type": "stream",
     "text": [
      "epoch #48| 71%|###################################               |ETA:  0:01:27\r"
     ]
    },
    {
     "name": "stdout",
     "output_type": "stream",
     "text": [
      "---------------------\n",
      "GEN Loss: 2.543554 2.650631\n",
      "Feature Matching Loss: 0.010193346 0.011056094\n",
      "RECON Loss: 0.036573235 0.029425852\n",
      "DIS Loss: 0.10155237 0.10014683\n"
     ]
    },
    {
     "name": "stderr",
     "output_type": "stream",
     "text": [
      "epoch #48| 77%|######################################            |ETA:  0:01:07\r"
     ]
    },
    {
     "name": "stdout",
     "output_type": "stream",
     "text": [
      "---------------------\n",
      "GEN Loss: 1.0710819 2.276645\n",
      "Feature Matching Loss: 0.009841313 0.0125740785\n",
      "RECON Loss: 0.037724108 0.029356113\n",
      "DIS Loss: 0.34751046 0.17710386\n"
     ]
    },
    {
     "name": "stderr",
     "output_type": "stream",
     "text": [
      "epoch #48| 84%|##########################################        |ETA:  0:00:48\r"
     ]
    },
    {
     "name": "stdout",
     "output_type": "stream",
     "text": [
      "---------------------\n",
      "GEN Loss: 1.75692 2.3853493\n",
      "Feature Matching Loss: 0.009678669 0.011607289\n",
      "RECON Loss: 0.036035296 0.026320167\n",
      "DIS Loss: 0.3798718 0.21334821\n"
     ]
    },
    {
     "name": "stderr",
     "output_type": "stream",
     "text": [
      "epoch #48| 90%|#############################################     |ETA:  0:00:28\r"
     ]
    },
    {
     "name": "stdout",
     "output_type": "stream",
     "text": [
      "---------------------\n",
      "GEN Loss: 1.5566807 3.6247387\n",
      "Feature Matching Loss: 0.009480979 0.010915047\n",
      "RECON Loss: 0.04084689 0.027907005\n",
      "DIS Loss: 0.37109298 0.1642267\n"
     ]
    },
    {
     "name": "stderr",
     "output_type": "stream",
     "text": [
      "epoch #48| 97%|################################################  |ETA:  0:00:08\r"
     ]
    },
    {
     "name": "stdout",
     "output_type": "stream",
     "text": [
      "---------------------\n",
      "GEN Loss: 0.98027897 2.053523\n",
      "Feature Matching Loss: 0.009845044 0.012389029\n",
      "RECON Loss: 0.039894506 0.028949484\n",
      "DIS Loss: 0.31878412 0.2718343\n"
     ]
    },
    {
     "name": "stderr",
     "output_type": "stream",
     "text": [
      "epoch #49|  3%|#                                                 |ETA:  0:04:54\r"
     ]
    },
    {
     "name": "stdout",
     "output_type": "stream",
     "text": [
      "---------------------\n",
      "GEN Loss: 1.1575173 1.6031992\n",
      "Feature Matching Loss: 0.008354422 0.008018471\n",
      "RECON Loss: 0.03525022 0.02523449\n",
      "DIS Loss: 0.26873723 0.2609827\n"
     ]
    },
    {
     "name": "stderr",
     "output_type": "stream",
     "text": [
      "epoch #49| 10%|#####                                             |ETA:  0:04:36\r"
     ]
    },
    {
     "name": "stdout",
     "output_type": "stream",
     "text": [
      "---------------------\n",
      "GEN Loss: 2.4355044 2.3394692\n",
      "Feature Matching Loss: 0.010617123 0.008570356\n",
      "RECON Loss: 0.036108773 0.029577436\n",
      "DIS Loss: 0.47856385 0.1640521\n"
     ]
    },
    {
     "name": "stderr",
     "output_type": "stream",
     "text": [
      "epoch #49| 16%|########                                          |ETA:  0:04:15\r"
     ]
    },
    {
     "name": "stdout",
     "output_type": "stream",
     "text": [
      "---------------------\n",
      "GEN Loss: 0.84819186 1.0271907\n",
      "Feature Matching Loss: 0.012356848 0.00872478\n",
      "RECON Loss: 0.038191985 0.029477185\n",
      "DIS Loss: 0.38833344 0.34958166\n"
     ]
    },
    {
     "name": "stderr",
     "output_type": "stream",
     "text": [
      "epoch #49| 22%|###########                                       |ETA:  0:03:56\r"
     ]
    },
    {
     "name": "stdout",
     "output_type": "stream",
     "text": [
      "---------------------\n",
      "GEN Loss: 1.62619 3.6712403\n",
      "Feature Matching Loss: 0.008247598 0.00856993\n",
      "RECON Loss: 0.033964682 0.027690655\n",
      "DIS Loss: 0.28477508 0.25514072\n"
     ]
    },
    {
     "name": "stderr",
     "output_type": "stream",
     "text": [
      "epoch #49| 29%|##############                                    |ETA:  0:03:36\r"
     ]
    },
    {
     "name": "stdout",
     "output_type": "stream",
     "text": [
      "---------------------\n",
      "GEN Loss: 1.8319212 3.2224646\n",
      "Feature Matching Loss: 0.010254462 0.009614777\n",
      "RECON Loss: 0.03884359 0.028404608\n",
      "DIS Loss: 0.40504634 0.39392352\n"
     ]
    },
    {
     "name": "stderr",
     "output_type": "stream",
     "text": [
      "epoch #49| 35%|#################                                 |ETA:  0:03:16\r"
     ]
    },
    {
     "name": "stdout",
     "output_type": "stream",
     "text": [
      "---------------------\n",
      "GEN Loss: 1.2265944 3.2326312\n",
      "Feature Matching Loss: 0.011531763 0.012161415\n",
      "RECON Loss: 0.036920603 0.026908098\n",
      "DIS Loss: 0.52649164 0.25095874\n"
     ]
    },
    {
     "name": "stderr",
     "output_type": "stream",
     "text": [
      "epoch #49| 42%|#####################                             |ETA:  0:02:57\r"
     ]
    },
    {
     "name": "stdout",
     "output_type": "stream",
     "text": [
      "---------------------\n",
      "GEN Loss: 1.6333462 2.8292296\n",
      "Feature Matching Loss: 0.010981859 0.010277148\n",
      "RECON Loss: 0.057662357 0.028232476\n",
      "DIS Loss: 0.39261752 0.22466849\n"
     ]
    },
    {
     "name": "stderr",
     "output_type": "stream",
     "text": [
      "epoch #49| 48%|########################                          |ETA:  0:02:37\r"
     ]
    },
    {
     "name": "stdout",
     "output_type": "stream",
     "text": [
      "---------------------\n",
      "GEN Loss: 1.8655632 1.770639\n",
      "Feature Matching Loss: 0.0081628505 0.009362183\n",
      "RECON Loss: 0.035336513 0.026122263\n",
      "DIS Loss: 0.47278664 0.23432702\n"
     ]
    },
    {
     "name": "stderr",
     "output_type": "stream",
     "text": [
      "epoch #49| 55%|###########################                       |ETA:  0:02:17\r"
     ]
    },
    {
     "name": "stdout",
     "output_type": "stream",
     "text": [
      "---------------------\n",
      "GEN Loss: 1.2562245 1.9992814\n",
      "Feature Matching Loss: 0.008860998 0.010154819\n",
      "RECON Loss: 0.03559422 0.02801921\n",
      "DIS Loss: 0.38745743 0.2603302\n"
     ]
    },
    {
     "name": "stderr",
     "output_type": "stream",
     "text": [
      "epoch #49| 61%|##############################                    |ETA:  0:01:58\r"
     ]
    },
    {
     "name": "stdout",
     "output_type": "stream",
     "text": [
      "---------------------\n",
      "GEN Loss: 2.2166734 3.6694198\n",
      "Feature Matching Loss: 0.008998186 0.009243878\n",
      "RECON Loss: 0.037261713 0.027145408\n",
      "DIS Loss: 0.38547885 0.17390448\n"
     ]
    },
    {
     "name": "stderr",
     "output_type": "stream",
     "text": [
      "epoch #49| 67%|#################################                 |ETA:  0:01:38\r"
     ]
    },
    {
     "name": "stdout",
     "output_type": "stream",
     "text": [
      "---------------------\n",
      "GEN Loss: 1.8475981 2.872808\n",
      "Feature Matching Loss: 0.010681761 0.0088924095\n",
      "RECON Loss: 0.03749453 0.028535381\n",
      "DIS Loss: 0.34981176 0.17170691\n"
     ]
    },
    {
     "name": "stderr",
     "output_type": "stream",
     "text": [
      "epoch #49| 74%|#####################################             |ETA:  0:01:18\r"
     ]
    },
    {
     "name": "stdout",
     "output_type": "stream",
     "text": [
      "---------------------\n",
      "GEN Loss: 1.5144689 2.7526574\n",
      "Feature Matching Loss: 0.009638187 0.008649385\n",
      "RECON Loss: 0.03747549 0.025727654\n",
      "DIS Loss: 0.26537254 0.21072014\n"
     ]
    },
    {
     "name": "stderr",
     "output_type": "stream",
     "text": [
      "epoch #49| 80%|########################################          |ETA:  0:00:59\r"
     ]
    },
    {
     "name": "stdout",
     "output_type": "stream",
     "text": [
      "---------------------\n",
      "GEN Loss: 1.320905 2.8759775\n",
      "Feature Matching Loss: 0.010459285 0.008379679\n",
      "RECON Loss: 0.037992958 0.025818711\n",
      "DIS Loss: 0.43279266 0.26935247\n"
     ]
    },
    {
     "name": "stderr",
     "output_type": "stream",
     "text": [
      "epoch #49| 87%|###########################################       |ETA:  0:00:39\r"
     ]
    },
    {
     "name": "stdout",
     "output_type": "stream",
     "text": [
      "---------------------\n",
      "GEN Loss: 0.7609939 2.1359432\n",
      "Feature Matching Loss: 0.00964787 0.00820012\n",
      "RECON Loss: 0.042426992 0.026181662\n",
      "DIS Loss: 0.48117375 0.35713696\n"
     ]
    },
    {
     "name": "stderr",
     "output_type": "stream",
     "text": [
      "epoch #49| 93%|##############################################    |ETA:  0:00:19\r"
     ]
    },
    {
     "name": "stdout",
     "output_type": "stream",
     "text": [
      "---------------------\n",
      "GEN Loss: 1.6610024 1.2445916\n",
      "Feature Matching Loss: 0.013530852 0.010167123\n",
      "RECON Loss: 0.0393683 0.028957376\n",
      "DIS Loss: 0.5540294 0.30261484\n"
     ]
    },
    {
     "name": "stderr",
     "output_type": "stream",
     "text": [
      "epoch #50|  0%|                                                 |ETA:  --:--:--\r"
     ]
    },
    {
     "name": "stdout",
     "output_type": "stream",
     "text": [
      "---------------------\n",
      "GEN Loss: 1.5799232 2.0390034\n",
      "Feature Matching Loss: 0.008651014 0.011274502\n",
      "RECON Loss: 0.039234 0.028805107\n",
      "DIS Loss: 0.5309372 0.1793796\n"
     ]
    },
    {
     "name": "stderr",
     "output_type": "stream",
     "text": [
      "epoch #50|  6%|###                                               |ETA:  0:04:49\r"
     ]
    },
    {
     "name": "stdout",
     "output_type": "stream",
     "text": [
      "---------------------\n",
      "GEN Loss: 2.6613388 2.9253073\n",
      "Feature Matching Loss: 0.010639087 0.008913469\n",
      "RECON Loss: 0.04267605 0.028575242\n",
      "DIS Loss: 0.4485647 0.4360898\n"
     ]
    },
    {
     "name": "stderr",
     "output_type": "stream",
     "text": [
      "epoch #50| 12%|######                                            |ETA:  0:04:28\r"
     ]
    },
    {
     "name": "stdout",
     "output_type": "stream",
     "text": [
      "---------------------\n",
      "GEN Loss: 0.8805704 2.8503118\n",
      "Feature Matching Loss: 0.008633911 0.010812323\n",
      "RECON Loss: 0.03378981 0.02714631\n",
      "DIS Loss: 0.67434037 0.281803\n"
     ]
    },
    {
     "name": "stderr",
     "output_type": "stream",
     "text": [
      "epoch #50| 16%|########                                          |ETA:  0:04:25\r"
     ]
    }
   ],
   "source": [
    "cuda = True\n",
    "task_name = 'handbags2shoes'\n",
    "\n",
    "epoch_size = 5000\n",
    "batch_size = 64\n",
    "\n",
    "result_path = os.path.join('./results/', task_name)\n",
    "model_path = os.path.join('./models/', task_name)\n",
    "\n",
    "data_style_A, data_style_B, test_style_A, test_style_B = get_data()\n",
    "test_A = read_images( test_style_A, 'B')\n",
    "test_B = read_images( test_style_B, 'B')\n",
    "\n",
    "\n",
    "test_A = Variable( torch.FloatTensor( test_A ), volatile=True )\n",
    "test_B = Variable( torch.FloatTensor( test_B ), volatile=True )\n",
    "\n",
    "if not os.path.exists(result_path):\n",
    "    os.makedirs(result_path)\n",
    "if not os.path.exists(model_path):\n",
    "    os.makedirs(model_path)\n",
    "\n",
    "generator_A = Generator()\n",
    "generator_B = Generator()\n",
    "discriminator_A = Discriminator()\n",
    "discriminator_B = Discriminator()\n",
    "\n",
    "if cuda:\n",
    "    test_A = test_A.cuda()\n",
    "    test_B = test_B.cuda()\n",
    "    generator_A = generator_A.cuda()\n",
    "    generator_B = generator_B.cuda()\n",
    "    discriminator_A = discriminator_A.cuda()\n",
    "    discriminator_B = discriminator_B.cuda()\n",
    "    \n",
    "data_size = min( len(data_style_A), len(data_style_B) )\n",
    "n_batches = ( data_size // batch_size )\n",
    "\n",
    "recon_criterion = nn.MSELoss()\n",
    "gan_criterion = nn.BCELoss()\n",
    "feat_criterion = nn.HingeEmbeddingLoss()\n",
    "\n",
    "gen_params = chain(generator_A.parameters(), generator_B.parameters())\n",
    "dis_params = chain(discriminator_A.parameters(), discriminator_B.parameters())\n",
    "\n",
    "optim_gen = optim.Adam( gen_params, lr=0.0002, betas=(0.5,0.999), weight_decay=0.00001)\n",
    "optim_dis = optim.Adam( dis_params, lr=0.0002, betas=(0.5,0.999), weight_decay=0.00001)\n",
    "\n",
    "iters = 0\n",
    "\n",
    "gen_loss_total = []\n",
    "dis_loss_total = []\n",
    "\n",
    "for epoch in range(epoch_size):\n",
    "    \n",
    "    data_style_A, data_style_B = shuffle_data( data_style_A, data_style_B)\n",
    "\n",
    "    widgets = ['epoch #%d|' % epoch, Percentage(), Bar(), ETA()]\n",
    "    pbar = ProgressBar(maxval=n_batches, widgets=widgets)\n",
    "    pbar.start()\n",
    "\n",
    "    for i in range(n_batches):\n",
    "\n",
    "        pbar.update(i)\n",
    "\n",
    "        generator_A.zero_grad()\n",
    "        generator_B.zero_grad()\n",
    "        discriminator_A.zero_grad()\n",
    "        discriminator_B.zero_grad()\n",
    "\n",
    "        A_path = data_style_A[ i * batch_size: (i+1) * batch_size ]\n",
    "        B_path = data_style_B[ i * batch_size: (i+1) * batch_size ]\n",
    "\n",
    "        \n",
    "        A = read_images( A_path, 'B', 64 )\n",
    "        B = read_images( B_path, 'B',  64 )\n",
    "\n",
    "        A = Variable( torch.FloatTensor( A ) )\n",
    "        B = Variable( torch.FloatTensor( B ) )\n",
    "\n",
    "        if cuda:\n",
    "            A = A.cuda()\n",
    "            B = B.cuda()\n",
    "\n",
    "        AB = generator_B(A)\n",
    "        BA = generator_A(B)\n",
    "\n",
    "        ABA = generator_A(AB)\n",
    "        BAB = generator_B(BA)\n",
    "\n",
    "        # Reconstruction Loss\n",
    "        recon_loss_A = recon_criterion( ABA, A )\n",
    "        recon_loss_B = recon_criterion( BAB, B )\n",
    "\n",
    "        # Real/Fake GAN Loss (A)\n",
    "        A_dis_real, A_feats_real = discriminator_A( A )\n",
    "        A_dis_fake, A_feats_fake = discriminator_A( BA )\n",
    "\n",
    "        dis_loss_A, gen_loss_A = get_gan_loss( A_dis_real, A_dis_fake, gan_criterion, cuda )\n",
    "        fm_loss_A = get_fm_loss(A_feats_real, A_feats_fake, feat_criterion)\n",
    "\n",
    "        # Real/Fake GAN Loss (B)\n",
    "        B_dis_real, B_feats_real = discriminator_B( B )\n",
    "        B_dis_fake, B_feats_fake = discriminator_B( AB )\n",
    "\n",
    "        dis_loss_B, gen_loss_B = get_gan_loss( B_dis_real, B_dis_fake, gan_criterion, cuda )\n",
    "        fm_loss_B = get_fm_loss( B_feats_real, B_feats_fake, feat_criterion )\n",
    "\n",
    "        # Total Loss\n",
    "\n",
    "        if iters < 1000:\n",
    "            rate = 0.5\n",
    "        else:\n",
    "            rate = 0.5\n",
    "\n",
    "        gen_loss_A_total = (gen_loss_B*0.1 + fm_loss_B*0.9) * (1.-rate) + recon_loss_A * rate\n",
    "        gen_loss_B_total = (gen_loss_A*0.1 + fm_loss_A*0.9) * (1.-rate) + recon_loss_B * rate\n",
    "\n",
    "        gen_loss = gen_loss_A_total + gen_loss_B_total\n",
    "        dis_loss = dis_loss_A + dis_loss_B\n",
    "\n",
    "        if iters % 3 == 0:\n",
    "            dis_loss.backward()\n",
    "            optim_dis.step()\n",
    "        else:\n",
    "            gen_loss.backward()\n",
    "            optim_gen.step()\n",
    "\n",
    "        if iters % 50 == 0:\n",
    "            print (\"---------------------\")\n",
    "            print (\"GEN Loss:\", as_np(gen_loss_A.mean()), as_np(gen_loss_B.mean()))\n",
    "            print (\"Feature Matching Loss:\", as_np(fm_loss_A.mean()), as_np(fm_loss_B.mean()))\n",
    "            print (\"RECON Loss:\", as_np(recon_loss_A.mean()), as_np(recon_loss_B.mean()))\n",
    "            print (\"DIS Loss:\", as_np(dis_loss_A.mean()), as_np(dis_loss_B.mean()))\n",
    "\n",
    "        if iters % 1000 == 0:\n",
    "            AB = generator_B( test_A )\n",
    "            BA = generator_A( test_B )\n",
    "            ABA = generator_A( AB )\n",
    "            BAB = generator_B( BA )\n",
    "\n",
    "            n_testset = min( test_A.size()[0], test_B.size()[0] )\n",
    "\n",
    "            subdir_path = os.path.join( result_path, str(iters / 1000) )\n",
    "\n",
    "            if os.path.exists( subdir_path ):\n",
    "                pass\n",
    "            else:\n",
    "                os.makedirs( subdir_path )\n",
    "\n",
    "            for im_idx in range( n_testset ):\n",
    "                A_val = test_A[im_idx].cpu().data.numpy().transpose(1,2,0) * 255.\n",
    "                B_val = test_B[im_idx].cpu().data.numpy().transpose(1,2,0) * 255.\n",
    "                BA_val = BA[im_idx].cpu().data.numpy().transpose(1,2,0)* 255.\n",
    "                ABA_val = ABA[im_idx].cpu().data.numpy().transpose(1,2,0)* 255.\n",
    "                AB_val = AB[im_idx].cpu().data.numpy().transpose(1,2,0)* 255.\n",
    "                BAB_val = BAB[im_idx].cpu().data.numpy().transpose(1,2,0)* 255.\n",
    "\n",
    "                filename_prefix = os.path.join (subdir_path, str(1))\n",
    "                scipy.misc.imsave( filename_prefix + '.A.jpg', A_val.astype(np.uint8)[:,:,::-1])\n",
    "                scipy.misc.imsave( filename_prefix + '.B.jpg', B_val.astype(np.uint8)[:,:,::-1])\n",
    "                scipy.misc.imsave( filename_prefix + '.BA.jpg', BA_val.astype(np.uint8)[:,:,::-1])\n",
    "                scipy.misc.imsave( filename_prefix + '.AB.jpg', AB_val.astype(np.uint8)[:,:,::-1])\n",
    "                scipy.misc.imsave( filename_prefix + '.ABA.jpg', ABA_val.astype(np.uint8)[:,:,::-1])\n",
    "                scipy.misc.imsave( filename_prefix + '.BAB.jpg', BAB_val.astype(np.uint8)[:,:,::-1])\n",
    "\n",
    "        if iters % 10000 == 0:\n",
    "            torch.save( generator_A, os.path.join(model_path, 'model_gen_A-' + str( iters / 10000 )))\n",
    "            torch.save( generator_B, os.path.join(model_path, 'model_gen_B-' + str( iters / 10000 )))\n",
    "            torch.save( discriminator_A, os.path.join(model_path, 'model_dis_A-' + str( iters / 10000 )))\n",
    "            torch.save( discriminator_B, os.path.join(model_path, 'model_dis_B-' + str( iters / 10000 )))\n",
    "\n",
    "        iters += 1"
   ]
  },
  {
   "cell_type": "code",
   "execution_count": 13,
   "metadata": {},
   "outputs": [
    {
     "data": {
      "text/plain": [
       "10000"
      ]
     },
     "execution_count": 13,
     "metadata": {},
     "output_type": "execute_result"
    }
   ],
   "source": [
    "torch._C._cuda_getDriverVersion()"
   ]
  },
  {
   "cell_type": "code",
   "execution_count": 14,
   "metadata": {},
   "outputs": [
    {
     "name": "stdout",
     "output_type": "stream",
     "text": [
      "nvcc: NVIDIA (R) Cuda compiler driver\r\n",
      "Copyright (c) 2005-2018 NVIDIA Corporation\r\n",
      "Built on Sat_Aug_25_21:08:01_CDT_2018\r\n",
      "Cuda compilation tools, release 10.0, V10.0.130\r\n"
     ]
    }
   ],
   "source": [
    "!nvcc --version"
   ]
  },
  {
   "cell_type": "code",
   "execution_count": 19,
   "metadata": {},
   "outputs": [
    {
     "data": {
      "text/plain": [
       "True"
      ]
     },
     "execution_count": 19,
     "metadata": {},
     "output_type": "execute_result"
    }
   ],
   "source": [
    "cuda"
   ]
  },
  {
   "cell_type": "code",
   "execution_count": null,
   "metadata": {},
   "outputs": [],
   "source": []
  }
 ],
 "metadata": {
  "kernelspec": {
   "display_name": "Python (tengpu)",
   "language": "python",
   "name": "tengpu"
  },
  "language_info": {
   "codemirror_mode": {
    "name": "ipython",
    "version": 3
   },
   "file_extension": ".py",
   "mimetype": "text/x-python",
   "name": "python",
   "nbconvert_exporter": "python",
   "pygments_lexer": "ipython3",
   "version": "3.6.9"
  }
 },
 "nbformat": 4,
 "nbformat_minor": 2
}
